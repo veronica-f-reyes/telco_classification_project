{
 "cells": [
  {
   "cell_type": "markdown",
   "id": "6898bd32",
   "metadata": {},
   "source": [
    "# Telco Classification Project\n",
    "\n",
    "***"
   ]
  },
  {
   "cell_type": "markdown",
   "id": "f2dbd666",
   "metadata": {},
   "source": [
    "# Project Planning"
   ]
  },
  {
   "cell_type": "markdown",
   "id": "0dc69cda",
   "metadata": {},
   "source": [
    "Customers at the telecommunications company, Telco, are churning.  The goal of this project is to determine why \n",
    "customers are churning by developing machine learning classification models to predict customer churn based on the customer data available. The models will be created using Python, Pandas, Matplot, Seaborn, and Scikit-Learn libraries. "
   ]
  },
  {
   "cell_type": "markdown",
   "id": "c14baa5a",
   "metadata": {},
   "source": [
    "### Business & Technical Goals\n",
    "\n",
    "- Find drivers for customer churn at Telco. Why are customers churning?\n",
    "\n",
    "\n",
    "- Construct a Machine Learning classification model that accurately predicts customer churn.\n",
    "\n",
    "***"
   ]
  },
  {
   "cell_type": "markdown",
   "id": "f277135e",
   "metadata": {},
   "source": [
    "This dataset contains a total of 7,043 customers and 21 attributes, coming from personal characteristics, services signatures, and contract details. Out of the entries, 5,174 are active customers and 1,869 are churned, which demonstrates that the dataset is highly unbalanced. The target variable for this assessment is going to be the featureChurn.\n",
    "The main goal is to develop a machine learning model capable to predict customer churn based on the customer’s data available. I will use mainly Python, Pandas, and Scikit-Learn libraries for this implementation. "
   ]
  },
  {
   "cell_type": "markdown",
   "id": "cd59d145",
   "metadata": {},
   "source": [
    "\n",
    "# Project Planning\n",
    "***\n",
    "\n",
    "#### Project Specs for Project Planning\n",
    "\n",
    "- Describe the project and goals.  V\n",
    "\n",
    "- Task out how you will work through the pipeline in as much detail as you need to keep on track.  \n",
    "\n",
    "- Include a data dictionary to provide context for and explain your data.\n",
    "\n",
    "- Clearly state your starting hypotheses (and add the testing of these to your task list).\n",
    "\n",
    "\n",
    "\n",
    "\n",
    "#### EXAMPLE FROM IRIS NOTEBOOK:\n",
    "\n",
    "- Create README.md with data dictionary, project and business goals, come up with initial hypotheses.\n",
    "- Acquire data from the Codeup Database and create a function to automate this process. Save the function in an acquire.py file to import into the Final Report Notebook.\n",
    "- Clean and prepare data for the first iteration through the pipeline, MVP preparation. Create a function to automate the process, store the function in a prepare.py module, and prepare data in Final Report Notebook by importing and using the funtion.\n",
    "- Clearly define two hypotheses, set an alpha, run the statistical tests needed, reject or fail to reject the Null Hypothesis, and document findings and takeaways.\n",
    "- Establish a baseline accuracy and document well.\n",
    "- Train three different classification models.\n",
    "- Evaluate models on train and validate datasets.\n",
    "- Choose the model with that performs the best and evaluate that single model on the test dataset.\n",
    "- Create csv file with the measurement id, the probability of the target values, and the model's prediction for each observation in my test dataset.\n",
    "- Document conclusions, takeaways, and next steps in the Final Report Notebook.\n",
    "\n",
    "# Executive Summary - Conclusions & Next Steps\n",
    "\n",
    "- I found that all of the classification models I created, LogisticRegression, DecisionTree, RandomForest, and KNeighbors predicted the species of Iris equally well using the features sepal_width, sepal_length, petal_length, petal_width.\n",
    "- I chose my DecisionTree model as my best model with a 90% accuracy rate for predicting my target value, species. This model outperformed my baseline score of 33% accuracy, so it has value.\n",
    "- Some initial exploration and statistical testing revealed that engineering some new features like petal area or sepal area might help my models predict with even more accuracy, and with more time, I would like to test this hypothesis."
   ]
  },
  {
   "cell_type": "code",
   "execution_count": null,
   "id": "0c87938e",
   "metadata": {},
   "outputs": [],
   "source": []
  },
  {
   "cell_type": "code",
   "execution_count": null,
   "id": "97a15427",
   "metadata": {},
   "outputs": [],
   "source": []
  },
  {
   "cell_type": "code",
   "execution_count": null,
   "id": "02512167",
   "metadata": {},
   "outputs": [],
   "source": []
  },
  {
   "cell_type": "code",
   "execution_count": null,
   "id": "859a8c56",
   "metadata": {},
   "outputs": [],
   "source": []
  },
  {
   "cell_type": "code",
   "execution_count": null,
   "id": "01d94419",
   "metadata": {},
   "outputs": [],
   "source": []
  },
  {
   "cell_type": "code",
   "execution_count": null,
   "id": "236eeff5",
   "metadata": {},
   "outputs": [],
   "source": []
  },
  {
   "cell_type": "code",
   "execution_count": null,
   "id": "af976ed9",
   "metadata": {},
   "outputs": [],
   "source": []
  },
  {
   "cell_type": "code",
   "execution_count": null,
   "id": "2a99628e",
   "metadata": {},
   "outputs": [],
   "source": []
  },
  {
   "cell_type": "code",
   "execution_count": null,
   "id": "1efd532c",
   "metadata": {},
   "outputs": [],
   "source": []
  },
  {
   "cell_type": "code",
   "execution_count": null,
   "id": "e44356b0",
   "metadata": {},
   "outputs": [],
   "source": []
  }
 ],
 "metadata": {
  "kernelspec": {
   "display_name": "Python 3",
   "language": "python",
   "name": "python3"
  },
  "language_info": {
   "codemirror_mode": {
    "name": "ipython",
    "version": 3
   },
   "file_extension": ".py",
   "mimetype": "text/x-python",
   "name": "python",
   "nbconvert_exporter": "python",
   "pygments_lexer": "ipython3",
   "version": "3.8.8"
  }
 },
 "nbformat": 4,
 "nbformat_minor": 5
}
