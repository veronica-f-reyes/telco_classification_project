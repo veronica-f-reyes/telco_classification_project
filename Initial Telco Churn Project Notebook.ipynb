{
 "cells": [
  {
   "cell_type": "markdown",
   "id": "90ca5c8e",
   "metadata": {},
   "source": [
    "# Telco Classification Project\n",
    "\n",
    "***"
   ]
  },
  {
   "cell_type": "markdown",
   "id": "dbc1ac4f",
   "metadata": {},
   "source": [
    "![Image](https://media.istockphoto.com/photos/smart-city-and-communication-network-concept-5g-lpwa-wireless-picture-id1180561984?k=20&m=1180561984&s=612x612&w=0&h=fgykY629-eJA6KLFoKRQ4BcRkQnxdnHHLGwmre0diu4=)"
   ]
  },
  {
   "cell_type": "markdown",
   "id": "114eff4c",
   "metadata": {},
   "source": [
    "# Project Planning"
   ]
  },
  {
   "cell_type": "markdown",
   "id": "3508c6e5",
   "metadata": {},
   "source": [
    "<span style='background :skyblue' >PLAN </span>-> Acquire -> Prepare -> Explore -> Model & Evaluate -> Deliver"
   ]
  },
  {
   "cell_type": "markdown",
   "id": "9c1a56a8",
   "metadata": {},
   "source": [
    " Customers at the telecommunications company, Telco, are churning.  The goal of this project is to determine why customers are churning by developing machine learning classification models to predict customer churn based on the customer data available. The models will be created using Python, Pandas, Matplot, Seaborn, and Scikit-Learn libraries."
   ]
  },
  {
   "cell_type": "markdown",
   "id": "7c1d5987",
   "metadata": {},
   "source": [
    "### Business Goals\n",
    "\n",
    "- Find drivers for customer churn at Telco. \n",
    "\n",
    "\n",
    "- Construct a Machine Learning classification model that accurately predicts customer churn.\n",
    "\n",
    "***"
   ]
  },
  {
   "cell_type": "markdown",
   "id": "479f9206",
   "metadata": {},
   "source": [
    "# Executive Summary\n",
    "- Findings Include:\n",
    "\n",
    "    -The name of model was the best model for prediction my target value, churn, because:\n",
    "there is an accuracy of % on the train set and % on the validate set\n",
    "this model outperformed my baseline score of %\n",
    "not overfit\n",
    "\n",
    "- Next Steps to Explore Further\n",
    "I would run more models and change the hyperparameters on several different versions\n",
    "I would send a survey to customers who churn to get more insight directly from the customer\n",
    "\n",
    "\n"
   ]
  },
  {
   "cell_type": "markdown",
   "id": "f096baa8",
   "metadata": {},
   "source": [
    "# Questions to Consider Upon Getting Started:"
   ]
  },
  {
   "cell_type": "markdown",
   "id": "9dfd4e53",
   "metadata": {},
   "source": [
    "So customers are churning and we don't know why.  "
   ]
  },
  {
   "cell_type": "markdown",
   "id": "cb81177e",
   "metadata": {},
   "source": [
    "- Are there clear groupings where a customer is more likely to churn?\n",
    "\n",
    "- What if you consider contract type?\n",
    "- Is there a tenure value at which month-to-month customers are most likely to churn? 1-year contract customers? 2-year contract customers?\n",
    "\n",
    "Thoughts on what could be going on? (Be sure to state these thoughts not as facts but as untested hypotheses until you test them!). \n",
    "\n",
    "You might want to plot the rate of churn on a line chart where x is the tenure and y is the rate of churn (customers churned/total customers).\n",
    "Are there features that indicate a higher likelihood for customer churn?\n",
    "\n",
    "- How influential are internet service type, phone service type, online security and backup services, senior citizen status, paying more than x% of customers with the same services, etc.?\n",
    "- Is there a price threshold for specific services beyond which the likelihood of churn increases?\n",
    "\n",
    "- If so, what is that point and for which service(s)?\n",
    "- If we looked at churn rate for month-to-month customers after the 12th month and that of 1-year contract customers after the 12th month, are those rates comparable?"
   ]
  },
  {
   "cell_type": "markdown",
   "id": "c420ae5f",
   "metadata": {},
   "source": [
    "Clearly state your starting hypotheses (and add the testing of these to your task list)."
   ]
  },
  {
   "cell_type": "markdown",
   "id": "171202a9",
   "metadata": {},
   "source": [
    "### From the previous Telco churn project, I discovered that many month-to-month customers who churn are not on automatic payment plans.\n",
    "\n",
    "To follow up:\n",
    "\n",
    "- Are customers on automatic payment plans churning more than customers not on automatic payment types?\n",
    "- Is there one payment type that is more likely to churn?  \n",
    "- Does contract type, whether month-to-month or yearly, affect the churn by payment type?\n",
    "- Who are the customers on automatic payments? Senior citizens, singles, couples, persons with dependents?\n",
    "- What services do they subscribe to?\n",
    "- Do they have more than one type of service?\n",
    "- How much do they pay compared to those not on automatic payments? Are they charged more?\n",
    "- What is the tenure at which month-to-month customers not on automatic payments churn?  How does this compare to 1-year and 2-year contract non-automatic payment customers?\n",
    "- Are there more 1-year or 2-year contract non-automatic payment type customers than month-to-month customers?\n",
    "\n",
    "\n",
    "\n"
   ]
  },
  {
   "cell_type": "markdown",
   "id": "bf8f9d99",
   "metadata": {},
   "source": [
    "### Initial Hypothesis: \n",
    "\n",
    "- Customers on automatic payment plans churn less than customers on non-automatic payment plans\n",
    "\n",
    "### Alternative Hypothesis:\n",
    "\n",
    "- Customers on automatic payment plans churn the same amount or more than customers on non-automatic payment plans\n",
    "\n",
    "\n",
    "Another Possible Hypothesis to Explore: \n",
    "- Customers who use electronic checks are more likely to churn than those that do not use electronic checks\n",
    "\n",
    "\n"
   ]
  },
  {
   "cell_type": "markdown",
   "id": "87acb5eb",
   "metadata": {},
   "source": [
    "# Data Acquisition\n",
    "\n",
    "Plan -><span style='background :skyblue' > ACQUIRE </span>-> Prepare -> Explore -> Model & Evaluate -> Deliver"
   ]
  },
  {
   "cell_type": "code",
   "execution_count": 1,
   "id": "4cde72ce",
   "metadata": {},
   "outputs": [],
   "source": [
    "#import libraries\n",
    "import numpy as np\n",
    "import pandas as pd\n",
    "\n",
    "import matplotlib.pyplot as plt\n",
    "import seaborn as sns\n",
    "\n",
    "# https://seaborn.pydata.org/tutorial/color_palettes.html\n",
    "# https://matplotlib.org/2.0.2/examples/color/colormaps_reference.html\n",
    "\n",
    "# set seaborn color palette\n",
    "sns.color_palette(\"crest\")\n",
    "pal = sns.set_palette('crest')\n",
    "\n",
    "# import models\n",
    "from sklearn.tree import DecisionTreeClassifier, plot_tree, export_text\n",
    "from sklearn.metrics import classification_report, confusion_matrix, recall_score\n",
    "from sklearn.ensemble import RandomForestClassifier\n",
    "from sklearn.neighbors import KNeighborsClassifier\n",
    "from sklearn.linear_model import LogisticRegression\n",
    "from sklearn.model_selection import train_test_split\n",
    "from sklearn.metrics import classification_report\n",
    "from sklearn.metrics import confusion_matrix\n",
    "\n",
    "import sklearn.feature_selection as feat_select\n",
    "import scipy.stats as stats\n",
    "from sklearn.preprocessing import LabelEncoder, normalize\n",
    "\n",
    "# ignore warnings\n",
    "import warnings\n",
    "warnings.filterwarnings(\"ignore\")\n",
    "\n",
    "#import custom functions\n",
    "import acquire\n",
    "import prepare\n",
    "import explore"
   ]
  },
  {
   "cell_type": "code",
   "execution_count": 2,
   "id": "92808786",
   "metadata": {},
   "outputs": [],
   "source": [
    "# Acquire data from SQL Telco Churn database using custom function\n",
    "df = acquire.get_telco_data()"
   ]
  },
  {
   "cell_type": "code",
   "execution_count": 3,
   "id": "11532c38",
   "metadata": {},
   "outputs": [
    {
     "data": {
      "text/plain": [
       "(28172, 28)"
      ]
     },
     "execution_count": 3,
     "metadata": {},
     "output_type": "execute_result"
    }
   ],
   "source": [
    "# Take an initial look at the data acquired\n",
    "df.shape"
   ]
  },
  {
   "cell_type": "code",
   "execution_count": null,
   "id": "7a22e6a9",
   "metadata": {},
   "outputs": [],
   "source": [
    "df.head()"
   ]
  },
  {
   "cell_type": "code",
   "execution_count": null,
   "id": "a6fbd1f8",
   "metadata": {},
   "outputs": [],
   "source": [
    "\n",
    "df.info() "
   ]
  },
  {
   "cell_type": "code",
   "execution_count": null,
   "id": "99be3702",
   "metadata": {},
   "outputs": [],
   "source": [
    "df.describe()"
   ]
  },
  {
   "cell_type": "code",
   "execution_count": null,
   "id": "a33e7689",
   "metadata": {},
   "outputs": [],
   "source": [
    "#Check for nulls\n",
    "df.isna().sum()"
   ]
  },
  {
   "cell_type": "code",
   "execution_count": null,
   "id": "a8f7d573",
   "metadata": {},
   "outputs": [],
   "source": [
    "# Check out distributions of numeric columns.\n",
    "\n",
    "num_cols = df.columns[[df[col].dtype == 'int64' for col in df.columns]]\n",
    "for col in num_cols:\n",
    "    plt.hist(df[col])\n",
    "    plt.title(col)\n",
    "    plt.show()"
   ]
  },
  {
   "cell_type": "code",
   "execution_count": null,
   "id": "25ec260a",
   "metadata": {},
   "outputs": [],
   "source": [
    "# Use .describe with object columns.\n",
    "\n",
    "obj_cols = df.columns[[df[col].dtype == 'O' for col in df.columns]]\n",
    "for col in obj_cols:\n",
    "    print(df[col].value_counts())\n",
    "    print(df[col].value_counts(normalize=True, dropna=False))\n",
    "    print('----------------------')"
   ]
  },
  {
   "cell_type": "code",
   "execution_count": null,
   "id": "21f9683f",
   "metadata": {},
   "outputs": [],
   "source": [
    "# total churn counts\n",
    "df.churn.value_counts()"
   ]
  },
  {
   "cell_type": "code",
   "execution_count": null,
   "id": "f75fb465",
   "metadata": {},
   "outputs": [],
   "source": [
    "df.payment_type.value_counts()"
   ]
  },
  {
   "cell_type": "code",
   "execution_count": null,
   "id": "c4c64c3c",
   "metadata": {},
   "outputs": [],
   "source": [
    "# Find columns with missing values and the total of missing values.\n",
    "\n",
    "missing = df.isnull().sum()\n",
    "missing[missing > 0]"
   ]
  },
  {
   "cell_type": "markdown",
   "id": "88d2b5d4",
   "metadata": {},
   "source": [
    "***"
   ]
  },
  {
   "cell_type": "markdown",
   "id": "f8146a89",
   "metadata": {},
   "source": [
    "# Data Preparation\n",
    "\n",
    "Plan -> Acquire -><span style='background :skyblue' > PREPARE </span>-> Explore -> Model & Evaluate -> Deliver\n",
    "***\n",
    "\n",
    "### The prepare.py Modules Used to Prepare the Data:\n",
    "\n",
    "- Stores functions that are needed to prepare the data\n",
    "\n",
    "- Contains the functions to split the data into train/validate/test.\n",
    "\n",
    "- Handles missing or null values\n",
    "\n",
    "- Encodes variables as needed by converting string columns to numbers by creating dummy variables or encoding\n",
    "\n",
    "- Creates new features to facilitate comparison\n",
    "\n",
    "### In Your Notebook\n",
    "\n",
    "Explore missing values and document takeaways/action plans for handling them.\n",
    "\n",
    "Is 'missing' equivalent to 0 (or some other constant value) in the specific case of this variable?\n",
    "\n",
    "Should you replace the missing values with a value it is most likely to represent, like mean/median/mode?\n",
    "\n",
    "Should you remove the variable (column) altogether because of the percentage of missing data?\n",
    "\n",
    "Should you remove individual observations (rows) with a missing value for that variable?\n",
    "\n",
    "Explore data types and adapt types or data values as needed to have numeric represenations of each attribute.\n",
    "\n",
    "Create any new features you want to use in your model. Some ideas you might want to explore after securing a MVP:\n",
    "\n",
    "Create a new feature that represents tenure in years.\n",
    "\n",
    "Create single variables for or find other methods to merge variables representing the information from the following columns:\n",
    "\n",
    "phone_service and multiple_lines\n",
    "dependents and partner\n",
    "streaming_tv & streaming_movies\n",
    "online_security & online_backup\n",
    "Import your prepare function from your prepare.py module and use it to prepare your data in your notebook.\n",
    "\n"
   ]
  },
  {
   "cell_type": "code",
   "execution_count": null,
   "id": "784a7c0e",
   "metadata": {},
   "outputs": [],
   "source": [
    "df.head()"
   ]
  },
  {
   "cell_type": "code",
   "execution_count": null,
   "id": "2e13004a",
   "metadata": {},
   "outputs": [],
   "source": [
    "df['total_charges'] = pd.to_numeric(df['total_charges'], errors='coerce')\n",
    "print('number of nulls', df.isna().sum())"
   ]
  },
  {
   "cell_type": "code",
   "execution_count": null,
   "id": "2d8586ee",
   "metadata": {},
   "outputs": [],
   "source": [
    "missing = df.isnull().sum()\n",
    "print('-----')\n",
    "print(missing[missing > 0])"
   ]
  },
  {
   "cell_type": "code",
   "execution_count": null,
   "id": "4fa80719",
   "metadata": {},
   "outputs": [],
   "source": [
    "# Seeing that we have 44 nulls in total charges, NEED TO DECIDE WHAT TO DO WITH THEM"
   ]
  },
  {
   "cell_type": "code",
   "execution_count": null,
   "id": "bd71c616",
   "metadata": {},
   "outputs": [],
   "source": [
    "#Create a mask to look at only customers with total charges equal to null\n",
    "total_charges_null = df.total_charges.isnull()\n",
    "total_charges_null"
   ]
  },
  {
   "cell_type": "code",
   "execution_count": null,
   "id": "a227f5a6",
   "metadata": {},
   "outputs": [],
   "source": [
    "#Look at the data where total_charges is null to determine how to clean these null values"
   ]
  },
  {
   "cell_type": "code",
   "execution_count": null,
   "id": "9eb53909",
   "metadata": {},
   "outputs": [],
   "source": [
    "df[total_charges_null].describe()"
   ]
  },
  {
   "cell_type": "code",
   "execution_count": null,
   "id": "5d360aff",
   "metadata": {},
   "outputs": [],
   "source": [
    "df[total_charges_null].shape"
   ]
  },
  {
   "cell_type": "code",
   "execution_count": null,
   "id": "1306b832",
   "metadata": {},
   "outputs": [],
   "source": [
    "df[total_charges_null].monthly_charges"
   ]
  },
  {
   "cell_type": "code",
   "execution_count": null,
   "id": "891af07e",
   "metadata": {},
   "outputs": [],
   "source": [
    "#While total_charges is null, monthly_charges have values.  Let's look at how long of a tenure these customers have."
   ]
  },
  {
   "cell_type": "code",
   "execution_count": null,
   "id": "3ba7a2e8",
   "metadata": {},
   "outputs": [],
   "source": [
    "df[total_charges_null].tenure.mean()"
   ]
  },
  {
   "cell_type": "code",
   "execution_count": null,
   "id": "1d06ffe2",
   "metadata": {},
   "outputs": [],
   "source": [
    "#All are new customers and don't have even one month with the company."
   ]
  },
  {
   "cell_type": "code",
   "execution_count": null,
   "id": "0f66b03c",
   "metadata": {},
   "outputs": [],
   "source": [
    "#Create a mask to look at customers with one month of tenure to look at their monthly and total charges\n",
    "tenure_one = df['tenure'] == 1\n",
    "tenure_one"
   ]
  },
  {
   "cell_type": "code",
   "execution_count": null,
   "id": "a8732c5c",
   "metadata": {},
   "outputs": [],
   "source": [
    "df[tenure_one].total_charges"
   ]
  },
  {
   "cell_type": "code",
   "execution_count": null,
   "id": "59fc5a3b",
   "metadata": {},
   "outputs": [],
   "source": [
    "df[tenure_one].monthly_charges"
   ]
  },
  {
   "cell_type": "code",
   "execution_count": null,
   "id": "dd742018",
   "metadata": {},
   "outputs": [],
   "source": [
    "#Since customers with one month of tenure have total charges equal to their monthly charges, this implies that \n",
    "#customers with 0 tenure just haven't been charged yet because they are new customers.  \n",
    "#Thus, I am going to set the total charge value for customers with null values to 0. \n"
   ]
  },
  {
   "cell_type": "markdown",
   "id": "ca342df3",
   "metadata": {},
   "source": [
    "### Prepare Data"
   ]
  },
  {
   "cell_type": "code",
   "execution_count": null,
   "id": "0103ceda",
   "metadata": {},
   "outputs": [],
   "source": [
    "#Create two dataframes to explore the data: One raw, not encoded, and the other dataframe encoded with dummies"
   ]
  },
  {
   "cell_type": "code",
   "execution_count": 4,
   "id": "921525bd",
   "metadata": {},
   "outputs": [],
   "source": [
    "# Prepare raw Telco data by removing ID number columns, removing any duplicates, and cleaning up null values\n",
    "df_raw = prepare.prep_telco_raw(df)"
   ]
  },
  {
   "cell_type": "code",
   "execution_count": 5,
   "id": "bab22014",
   "metadata": {
    "scrolled": false
   },
   "outputs": [],
   "source": [
    "# Prepare Encoded  Telco data by removing ID number columns, removing any duplicates, encoding and creating dummies\n",
    "df_encoded = prepare.prep_telco_encoded(df)"
   ]
  },
  {
   "cell_type": "code",
   "execution_count": 6,
   "id": "9508a874",
   "metadata": {},
   "outputs": [
    {
     "data": {
      "text/plain": [
       "(28084, 24)"
      ]
     },
     "execution_count": 6,
     "metadata": {},
     "output_type": "execute_result"
    }
   ],
   "source": [
    "df_raw.shape"
   ]
  },
  {
   "cell_type": "code",
   "execution_count": 7,
   "id": "0218bb02",
   "metadata": {},
   "outputs": [
    {
     "name": "stdout",
     "output_type": "stream",
     "text": [
      "<class 'pandas.core.frame.DataFrame'>\n",
      "Int64Index: 28084 entries, 0 to 28171\n",
      "Data columns (total 24 columns):\n",
      " #   Column                    Non-Null Count  Dtype  \n",
      "---  ------                    --------------  -----  \n",
      " 0   gender                    28084 non-null  object \n",
      " 1   senior_citizen            28084 non-null  int64  \n",
      " 2   partner                   28084 non-null  object \n",
      " 3   dependents                28084 non-null  object \n",
      " 4   tenure                    28084 non-null  int64  \n",
      " 5   phone_service             28084 non-null  object \n",
      " 6   multiple_lines            28084 non-null  object \n",
      " 7   internet_service_type_id  28084 non-null  int64  \n",
      " 8   online_security           28084 non-null  object \n",
      " 9   online_backup             28084 non-null  object \n",
      " 10  device_protection         28084 non-null  object \n",
      " 11  tech_support              28084 non-null  object \n",
      " 12  streaming_tv              28084 non-null  object \n",
      " 13  streaming_movies          28084 non-null  object \n",
      " 14  contract_type_id          28084 non-null  int64  \n",
      " 15  paperless_billing         28084 non-null  object \n",
      " 16  payment_type_id           28084 non-null  int64  \n",
      " 17  monthly_charges           28084 non-null  float64\n",
      " 18  total_charges             28084 non-null  object \n",
      " 19  churn                     28084 non-null  object \n",
      " 20  contract_type             28084 non-null  object \n",
      " 21  internet_service_type     28084 non-null  object \n",
      " 22  payment_type              28084 non-null  object \n",
      " 23  automatic_pmt             28084 non-null  int64  \n",
      "dtypes: float64(1), int64(6), object(17)\n",
      "memory usage: 5.4+ MB\n"
     ]
    }
   ],
   "source": [
    "df_raw.info()"
   ]
  },
  {
   "cell_type": "code",
   "execution_count": null,
   "id": "8e4ca7b5",
   "metadata": {},
   "outputs": [],
   "source": [
    "df_raw.head()"
   ]
  },
  {
   "cell_type": "code",
   "execution_count": null,
   "id": "cb044268",
   "metadata": {},
   "outputs": [],
   "source": [
    "df_raw.describe()"
   ]
  },
  {
   "cell_type": "code",
   "execution_count": 8,
   "id": "ffd2fdba",
   "metadata": {},
   "outputs": [
    {
     "data": {
      "text/plain": [
       "(28084, 52)"
      ]
     },
     "execution_count": 8,
     "metadata": {},
     "output_type": "execute_result"
    }
   ],
   "source": [
    "df_encoded.shape"
   ]
  },
  {
   "cell_type": "code",
   "execution_count": null,
   "id": "eb3f57ad",
   "metadata": {},
   "outputs": [],
   "source": [
    "df_encoded.info()"
   ]
  },
  {
   "cell_type": "code",
   "execution_count": null,
   "id": "b813e176",
   "metadata": {},
   "outputs": [],
   "source": [
    "df_encoded.head()"
   ]
  },
  {
   "cell_type": "code",
   "execution_count": null,
   "id": "e2f3adfd",
   "metadata": {},
   "outputs": [],
   "source": [
    "df_encoded.describe()"
   ]
  },
  {
   "cell_type": "code",
   "execution_count": 9,
   "id": "5001707f",
   "metadata": {},
   "outputs": [],
   "source": [
    "# Split the data to ready for exploration, modeling, and testing\n",
    "# Using the prepare custom library, take in a DataFrame and return train, validate, and test DataFrames; \n",
    "# Stratify on churn\n",
    "\n",
    "train_raw, validate_raw, test_raw = prepare.split_data(df_raw)"
   ]
  },
  {
   "cell_type": "code",
   "execution_count": 10,
   "id": "fd6c8ed2",
   "metadata": {},
   "outputs": [
    {
     "name": "stdout",
     "output_type": "stream",
     "text": [
      "train_raw shape: (15726, 24)\n",
      "validate_raw shape: (6741, 24)\n",
      "test_raw shape: (5617, 24)\n"
     ]
    }
   ],
   "source": [
    "print(f'train_raw shape: {train_raw.shape}')\n",
    "print(f'validate_raw shape: {validate_raw.shape}')\n",
    "print(f'test_raw shape: {test_raw.shape}')"
   ]
  },
  {
   "cell_type": "code",
   "execution_count": null,
   "id": "c8a2e2f2",
   "metadata": {},
   "outputs": [],
   "source": [
    "train_raw.head()"
   ]
  },
  {
   "cell_type": "code",
   "execution_count": null,
   "id": "ccc14c27",
   "metadata": {},
   "outputs": [],
   "source": [
    "train_raw.info()"
   ]
  },
  {
   "cell_type": "code",
   "execution_count": null,
   "id": "4edca237",
   "metadata": {},
   "outputs": [],
   "source": [
    "train_raw.columns"
   ]
  },
  {
   "cell_type": "code",
   "execution_count": 11,
   "id": "cab11eeb",
   "metadata": {},
   "outputs": [],
   "source": [
    "# Split the data to ready for exploration, modeling, and testing\n",
    "# Using the prepare custom library, take in a DataFrame and return train, validate, and test DataFrames; \n",
    "# Stratify on churn\n",
    "\n",
    "train_encoded, validate_encoded, test_encoded = prepare.split_data(df_encoded)"
   ]
  },
  {
   "cell_type": "code",
   "execution_count": 12,
   "id": "d110d520",
   "metadata": {},
   "outputs": [
    {
     "name": "stdout",
     "output_type": "stream",
     "text": [
      "train_encoded, shape: (15726, 52)\n",
      "validate_encoded, shape: (6741, 52)\n",
      "test_encoded, shape: (5617, 52)\n"
     ]
    }
   ],
   "source": [
    "print(f'train_encoded, shape: {train_encoded.shape}')\n",
    "print(f'validate_encoded, shape: {validate_encoded.shape}')\n",
    "print(f'test_encoded, shape: {test_encoded.shape}')"
   ]
  },
  {
   "cell_type": "code",
   "execution_count": 13,
   "id": "15f5053e",
   "metadata": {},
   "outputs": [
    {
     "data": {
      "text/html": [
       "<div>\n",
       "<style scoped>\n",
       "    .dataframe tbody tr th:only-of-type {\n",
       "        vertical-align: middle;\n",
       "    }\n",
       "\n",
       "    .dataframe tbody tr th {\n",
       "        vertical-align: top;\n",
       "    }\n",
       "\n",
       "    .dataframe thead th {\n",
       "        text-align: right;\n",
       "    }\n",
       "</style>\n",
       "<table border=\"1\" class=\"dataframe\">\n",
       "  <thead>\n",
       "    <tr style=\"text-align: right;\">\n",
       "      <th></th>\n",
       "      <th>gender</th>\n",
       "      <th>senior_citizen</th>\n",
       "      <th>partner</th>\n",
       "      <th>dependents</th>\n",
       "      <th>tenure</th>\n",
       "      <th>phone_service</th>\n",
       "      <th>paperless_billing</th>\n",
       "      <th>monthly_charges</th>\n",
       "      <th>total_charges</th>\n",
       "      <th>churn</th>\n",
       "      <th>...</th>\n",
       "      <th>contract_type_one_yr</th>\n",
       "      <th>contract_type_two_yr</th>\n",
       "      <th>internet_service_type_DSL</th>\n",
       "      <th>internet_service_type_Fiber optic</th>\n",
       "      <th>internet_service_type_None</th>\n",
       "      <th>payment_type_bank_transfer_auto</th>\n",
       "      <th>payment_type_credit_card_auto</th>\n",
       "      <th>payment_type_e_check</th>\n",
       "      <th>payment_type_mailed_check</th>\n",
       "      <th>automatic_pmt</th>\n",
       "    </tr>\n",
       "  </thead>\n",
       "  <tbody>\n",
       "    <tr>\n",
       "      <th>24440</th>\n",
       "      <td>1</td>\n",
       "      <td>0</td>\n",
       "      <td>0</td>\n",
       "      <td>0</td>\n",
       "      <td>4</td>\n",
       "      <td>0</td>\n",
       "      <td>1</td>\n",
       "      <td>29.65</td>\n",
       "      <td>118.5</td>\n",
       "      <td>1</td>\n",
       "      <td>...</td>\n",
       "      <td>0</td>\n",
       "      <td>0</td>\n",
       "      <td>1</td>\n",
       "      <td>0</td>\n",
       "      <td>0</td>\n",
       "      <td>0</td>\n",
       "      <td>1</td>\n",
       "      <td>0</td>\n",
       "      <td>0</td>\n",
       "      <td>1</td>\n",
       "    </tr>\n",
       "    <tr>\n",
       "      <th>20315</th>\n",
       "      <td>0</td>\n",
       "      <td>0</td>\n",
       "      <td>1</td>\n",
       "      <td>1</td>\n",
       "      <td>40</td>\n",
       "      <td>1</td>\n",
       "      <td>1</td>\n",
       "      <td>71.35</td>\n",
       "      <td>2847.2</td>\n",
       "      <td>0</td>\n",
       "      <td>...</td>\n",
       "      <td>0</td>\n",
       "      <td>0</td>\n",
       "      <td>1</td>\n",
       "      <td>0</td>\n",
       "      <td>0</td>\n",
       "      <td>0</td>\n",
       "      <td>0</td>\n",
       "      <td>1</td>\n",
       "      <td>0</td>\n",
       "      <td>0</td>\n",
       "    </tr>\n",
       "    <tr>\n",
       "      <th>22126</th>\n",
       "      <td>1</td>\n",
       "      <td>0</td>\n",
       "      <td>0</td>\n",
       "      <td>0</td>\n",
       "      <td>6</td>\n",
       "      <td>1</td>\n",
       "      <td>0</td>\n",
       "      <td>20.15</td>\n",
       "      <td>130.5</td>\n",
       "      <td>0</td>\n",
       "      <td>...</td>\n",
       "      <td>0</td>\n",
       "      <td>0</td>\n",
       "      <td>0</td>\n",
       "      <td>0</td>\n",
       "      <td>1</td>\n",
       "      <td>0</td>\n",
       "      <td>0</td>\n",
       "      <td>0</td>\n",
       "      <td>1</td>\n",
       "      <td>0</td>\n",
       "    </tr>\n",
       "    <tr>\n",
       "      <th>22803</th>\n",
       "      <td>1</td>\n",
       "      <td>0</td>\n",
       "      <td>1</td>\n",
       "      <td>0</td>\n",
       "      <td>50</td>\n",
       "      <td>1</td>\n",
       "      <td>1</td>\n",
       "      <td>103.95</td>\n",
       "      <td>5231.3</td>\n",
       "      <td>0</td>\n",
       "      <td>...</td>\n",
       "      <td>1</td>\n",
       "      <td>0</td>\n",
       "      <td>0</td>\n",
       "      <td>1</td>\n",
       "      <td>0</td>\n",
       "      <td>0</td>\n",
       "      <td>0</td>\n",
       "      <td>1</td>\n",
       "      <td>0</td>\n",
       "      <td>0</td>\n",
       "    </tr>\n",
       "    <tr>\n",
       "      <th>7861</th>\n",
       "      <td>1</td>\n",
       "      <td>1</td>\n",
       "      <td>1</td>\n",
       "      <td>0</td>\n",
       "      <td>41</td>\n",
       "      <td>1</td>\n",
       "      <td>1</td>\n",
       "      <td>99.80</td>\n",
       "      <td>4259.3</td>\n",
       "      <td>1</td>\n",
       "      <td>...</td>\n",
       "      <td>0</td>\n",
       "      <td>0</td>\n",
       "      <td>0</td>\n",
       "      <td>1</td>\n",
       "      <td>0</td>\n",
       "      <td>1</td>\n",
       "      <td>0</td>\n",
       "      <td>0</td>\n",
       "      <td>0</td>\n",
       "      <td>1</td>\n",
       "    </tr>\n",
       "  </tbody>\n",
       "</table>\n",
       "<p>5 rows × 52 columns</p>\n",
       "</div>"
      ],
      "text/plain": [
       "       gender  senior_citizen  partner  dependents  tenure  phone_service  \\\n",
       "24440       1               0        0           0       4              0   \n",
       "20315       0               0        1           1      40              1   \n",
       "22126       1               0        0           0       6              1   \n",
       "22803       1               0        1           0      50              1   \n",
       "7861        1               1        1           0      41              1   \n",
       "\n",
       "       paperless_billing  monthly_charges total_charges  churn  ...  \\\n",
       "24440                  1            29.65         118.5      1  ...   \n",
       "20315                  1            71.35        2847.2      0  ...   \n",
       "22126                  0            20.15         130.5      0  ...   \n",
       "22803                  1           103.95        5231.3      0  ...   \n",
       "7861                   1            99.80        4259.3      1  ...   \n",
       "\n",
       "       contract_type_one_yr  contract_type_two_yr  internet_service_type_DSL  \\\n",
       "24440                     0                     0                          1   \n",
       "20315                     0                     0                          1   \n",
       "22126                     0                     0                          0   \n",
       "22803                     1                     0                          0   \n",
       "7861                      0                     0                          0   \n",
       "\n",
       "       internet_service_type_Fiber optic  internet_service_type_None  \\\n",
       "24440                                  0                           0   \n",
       "20315                                  0                           0   \n",
       "22126                                  0                           1   \n",
       "22803                                  1                           0   \n",
       "7861                                   1                           0   \n",
       "\n",
       "       payment_type_bank_transfer_auto  payment_type_credit_card_auto  \\\n",
       "24440                                0                              1   \n",
       "20315                                0                              0   \n",
       "22126                                0                              0   \n",
       "22803                                0                              0   \n",
       "7861                                 1                              0   \n",
       "\n",
       "       payment_type_e_check payment_type_mailed_check  automatic_pmt  \n",
       "24440                     0                         0              1  \n",
       "20315                     1                         0              0  \n",
       "22126                     0                         1              0  \n",
       "22803                     1                         0              0  \n",
       "7861                      0                         0              1  \n",
       "\n",
       "[5 rows x 52 columns]"
      ]
     },
     "execution_count": 13,
     "metadata": {},
     "output_type": "execute_result"
    }
   ],
   "source": [
    "train_encoded.head()"
   ]
  },
  {
   "cell_type": "markdown",
   "id": "7844d6e9",
   "metadata": {},
   "source": [
    "### Takeaways\n",
    "\n",
    "- Removed duplicate index column created when acquired\n",
    "- Removed customer_id since it is not helpful\n",
    "- Removed duplicate ID columns created when tables were joined\n",
    "\n",
    "- Created a dataframe keeping the string values for a raw analysis\n",
    "- Created a dataframe converting all string values to numeric to use for further exploration modeling\n",
    "- Encoded all columns containing strings for: 'partner','dependents','phone_service','multiple_lines','paperless_billing','churn','gender'\n",
    "\n",
    "- Created dummy variables for: 'multiple_lines','online_security','online_backup','device_protection','tech_support','streaming_tv','streaming_movies',\n",
    "'contract_type','internet_service_type','payment_type'\n",
    "\n",
    "- Converted total_charges column to a float type and filled in all null values with a 0 after determining\n",
    "    that they are new customers with a tenure of 0 who haven't been charged yet.\n",
    "\n",
    "- Feature engineering: \n",
    "    - Created new columns to filter by automatic payment and month-to-month churned customers\n",
    "        - 'automatic_pmt' for 'payment_type_Bank transfer (automatic)' and'payment_type_Credit card (automatic)' types \n",
    "\n",
    "***"
   ]
  },
  {
   "cell_type": "markdown",
   "id": "c1b46b03",
   "metadata": {},
   "source": [
    "# Data Exploration & Analysis\n",
    "\n",
    "Plan -> Acquire -> Prepare -> <span style='background :skyblue' >EXPLORE </span>-> Model & Evaluate -> Deliver"
   ]
  },
  {
   "cell_type": "markdown",
   "id": "f5e58998",
   "metadata": {},
   "source": [
    "In Your Notebook\n",
    "\n",
    "Answer key questions, your initial hypotheses from , and figure out the drivers of churn. You are required to run at least 2 statistical tests in your data exploration. Make sure you document your hypotheses, set your alpha before running the tests, and document your findings well.\n",
    "\n",
    "Create visualizations and run statistical tests that work toward discovering variable relationships (independent with independent and independent with dependent). The goal is to identify features that are related to churn (your target), identify any data integrity issues, and understand 'how the data works'. If there appears to be some sort of interaction or correlation, assume there is no causal relationship and brainstorm (and document) ideas on reasons there could be correlation.\n",
    "\n",
    "For example: We may find that all who have online services also have device protection. In that case, we don't need both of those.\n",
    "\n",
    "Summarize your conclusions, provide clear answers to your specific questions, and summarize any takeaways/action plan from the work above.\n",
    "Below are some questions you might decide to explore in this stage:\n",
    "\n",
    "If a group is identified by tenure, is there a cohort or cohorts who have a higher rate of churn than other cohorts?\n",
    "\n",
    "For Example: You might plot the rate of churn on a line chart where x is the tenure and y is the rate of churn (customers churned/total customers)\n",
    "\n",
    "Are there features that indicate a higher propensity to churn?\n",
    "\n",
    "For Example: type of internet service, type of phone service, online security and backup, senior citizens, paying more than x% of customers with the same services, etc.\n",
    "\n",
    "Is there a price threshold for specific services where the likelihood of churn increases once price for those services goes past that point? If so, what is that point for what service(s)?\n",
    "\n",
    "If we looked at churn rate for month-to-month customers after the 12th month and that of 1-year contract customers after the 12th month, are those rates comparable?\n",
    "\n",
    "Controlling for services (phone_id, internet_service_type_id, online_security_backup, device_protection, tech_support, and contract_type_id), is the mean monthly_charges of those who have churned significantly different from that of those who have not churned? (Use a t-test to answer this.)\n",
    "\n",
    "How much of monthly_charges can be explained by internet_service_type?\n",
    "\n",
    "Hint: Run a correlation test. State your hypotheses and document your findings clearly.\n",
    "\n",
    "How much of monthly_charges can be explained by internet_service_type + phone_service_type (0, 1, or multiple lines)."
   ]
  },
  {
   "cell_type": "markdown",
   "id": "a758c330",
   "metadata": {},
   "source": [
    "Questions:  \n",
    "    \n",
    "    - Are customers on automatic payment plans less likely to churn than customers not on automatic payments?\n",
    "    \n",
    "    - What services do non-automatic payment plan customers subscribe to? What type of service?\n",
    "    \n",
    "    - Do they have more than one service?\n",
    "     \n",
    "    - Do they pay more than those on automatic payment plans?\n",
    "    \n",
    "    - What is the tenure of non-automatic vs automatic payment plans?\n",
    "    \n",
    "    - Is there price where we see non-automatic payment plan customer churn?  What is that price, if so?\n",
    "    \n",
    "    \n",
    "Null Hypothesis:\n",
    "\n",
    "\n",
    "- Customers on automatic payment plans churn less than customers on non-automatic payment plans\n",
    "\n",
    "Alternative Hypothesis:\n",
    "\n",
    "- Customers on automatic payment plans churn the same amount or more than customers on non-automatic payment plans"
   ]
  },
  {
   "cell_type": "markdown",
   "id": "32af32fd",
   "metadata": {},
   "source": [
    "### Explore "
   ]
  },
  {
   "cell_type": "code",
   "execution_count": 14,
   "id": "15d396c4",
   "metadata": {},
   "outputs": [
    {
     "data": {
      "text/html": [
       "<div>\n",
       "<style scoped>\n",
       "    .dataframe tbody tr th:only-of-type {\n",
       "        vertical-align: middle;\n",
       "    }\n",
       "\n",
       "    .dataframe tbody tr th {\n",
       "        vertical-align: top;\n",
       "    }\n",
       "\n",
       "    .dataframe thead th {\n",
       "        text-align: right;\n",
       "    }\n",
       "</style>\n",
       "<table border=\"1\" class=\"dataframe\">\n",
       "  <thead>\n",
       "    <tr style=\"text-align: right;\">\n",
       "      <th></th>\n",
       "      <th>senior_citizen</th>\n",
       "      <th>tenure</th>\n",
       "      <th>internet_service_type_id</th>\n",
       "      <th>contract_type_id</th>\n",
       "      <th>payment_type_id</th>\n",
       "      <th>monthly_charges</th>\n",
       "      <th>automatic_pmt</th>\n",
       "    </tr>\n",
       "  </thead>\n",
       "  <tbody>\n",
       "    <tr>\n",
       "      <th>senior_citizen</th>\n",
       "      <td>1.000000</td>\n",
       "      <td>0.021219</td>\n",
       "      <td>-0.031170</td>\n",
       "      <td>-0.135234</td>\n",
       "      <td>-0.088172</td>\n",
       "      <td>0.214296</td>\n",
       "      <td>-0.004836</td>\n",
       "    </tr>\n",
       "    <tr>\n",
       "      <th>tenure</th>\n",
       "      <td>0.021219</td>\n",
       "      <td>1.000000</td>\n",
       "      <td>-0.022792</td>\n",
       "      <td>0.673565</td>\n",
       "      <td>0.337252</td>\n",
       "      <td>0.243299</td>\n",
       "      <td>-0.000929</td>\n",
       "    </tr>\n",
       "    <tr>\n",
       "      <th>internet_service_type_id</th>\n",
       "      <td>-0.031170</td>\n",
       "      <td>-0.022792</td>\n",
       "      <td>1.000000</td>\n",
       "      <td>0.107612</td>\n",
       "      <td>0.014586</td>\n",
       "      <td>-0.323954</td>\n",
       "      <td>0.007231</td>\n",
       "    </tr>\n",
       "    <tr>\n",
       "      <th>contract_type_id</th>\n",
       "      <td>-0.135234</td>\n",
       "      <td>0.673565</td>\n",
       "      <td>0.107612</td>\n",
       "      <td>1.000000</td>\n",
       "      <td>0.353594</td>\n",
       "      <td>-0.077142</td>\n",
       "      <td>0.003510</td>\n",
       "    </tr>\n",
       "    <tr>\n",
       "      <th>payment_type_id</th>\n",
       "      <td>-0.088172</td>\n",
       "      <td>0.337252</td>\n",
       "      <td>0.014586</td>\n",
       "      <td>0.353594</td>\n",
       "      <td>1.000000</td>\n",
       "      <td>-0.073548</td>\n",
       "      <td>0.010200</td>\n",
       "    </tr>\n",
       "    <tr>\n",
       "      <th>monthly_charges</th>\n",
       "      <td>0.214296</td>\n",
       "      <td>0.243299</td>\n",
       "      <td>-0.323954</td>\n",
       "      <td>-0.077142</td>\n",
       "      <td>-0.073548</td>\n",
       "      <td>1.000000</td>\n",
       "      <td>-0.006013</td>\n",
       "    </tr>\n",
       "    <tr>\n",
       "      <th>automatic_pmt</th>\n",
       "      <td>-0.004836</td>\n",
       "      <td>-0.000929</td>\n",
       "      <td>0.007231</td>\n",
       "      <td>0.003510</td>\n",
       "      <td>0.010200</td>\n",
       "      <td>-0.006013</td>\n",
       "      <td>1.000000</td>\n",
       "    </tr>\n",
       "  </tbody>\n",
       "</table>\n",
       "</div>"
      ],
      "text/plain": [
       "                          senior_citizen    tenure  internet_service_type_id  \\\n",
       "senior_citizen                  1.000000  0.021219                 -0.031170   \n",
       "tenure                          0.021219  1.000000                 -0.022792   \n",
       "internet_service_type_id       -0.031170 -0.022792                  1.000000   \n",
       "contract_type_id               -0.135234  0.673565                  0.107612   \n",
       "payment_type_id                -0.088172  0.337252                  0.014586   \n",
       "monthly_charges                 0.214296  0.243299                 -0.323954   \n",
       "automatic_pmt                  -0.004836 -0.000929                  0.007231   \n",
       "\n",
       "                          contract_type_id  payment_type_id  monthly_charges  \\\n",
       "senior_citizen                   -0.135234        -0.088172         0.214296   \n",
       "tenure                            0.673565         0.337252         0.243299   \n",
       "internet_service_type_id          0.107612         0.014586        -0.323954   \n",
       "contract_type_id                  1.000000         0.353594        -0.077142   \n",
       "payment_type_id                   0.353594         1.000000        -0.073548   \n",
       "monthly_charges                  -0.077142        -0.073548         1.000000   \n",
       "automatic_pmt                     0.003510         0.010200        -0.006013   \n",
       "\n",
       "                          automatic_pmt  \n",
       "senior_citizen                -0.004836  \n",
       "tenure                        -0.000929  \n",
       "internet_service_type_id       0.007231  \n",
       "contract_type_id               0.003510  \n",
       "payment_type_id                0.010200  \n",
       "monthly_charges               -0.006013  \n",
       "automatic_pmt                  1.000000  "
      ]
     },
     "execution_count": 14,
     "metadata": {},
     "output_type": "execute_result"
    }
   ],
   "source": [
    "#find correlation\n",
    "telco_correlation = train_raw.corr()\n",
    "telco_correlation\n",
    "#this shows that senior_citizen and monthly_charges have the highest pos corr with churn"
   ]
  },
  {
   "cell_type": "code",
   "execution_count": 15,
   "id": "45b40ac6",
   "metadata": {},
   "outputs": [
    {
     "data": {
      "text/html": [
       "<div>\n",
       "<style scoped>\n",
       "    .dataframe tbody tr th:only-of-type {\n",
       "        vertical-align: middle;\n",
       "    }\n",
       "\n",
       "    .dataframe tbody tr th {\n",
       "        vertical-align: top;\n",
       "    }\n",
       "\n",
       "    .dataframe thead th {\n",
       "        text-align: right;\n",
       "    }\n",
       "</style>\n",
       "<table border=\"1\" class=\"dataframe\">\n",
       "  <thead>\n",
       "    <tr style=\"text-align: right;\">\n",
       "      <th></th>\n",
       "      <th>gender</th>\n",
       "      <th>senior_citizen</th>\n",
       "      <th>partner</th>\n",
       "      <th>dependents</th>\n",
       "      <th>tenure</th>\n",
       "      <th>phone_service</th>\n",
       "      <th>paperless_billing</th>\n",
       "      <th>monthly_charges</th>\n",
       "      <th>churn</th>\n",
       "      <th>gender</th>\n",
       "      <th>...</th>\n",
       "      <th>contract_type_one_yr</th>\n",
       "      <th>contract_type_two_yr</th>\n",
       "      <th>internet_service_type_DSL</th>\n",
       "      <th>internet_service_type_Fiber optic</th>\n",
       "      <th>internet_service_type_None</th>\n",
       "      <th>payment_type_bank_transfer_auto</th>\n",
       "      <th>payment_type_credit_card_auto</th>\n",
       "      <th>payment_type_e_check</th>\n",
       "      <th>payment_type_mailed_check</th>\n",
       "      <th>automatic_pmt</th>\n",
       "    </tr>\n",
       "  </thead>\n",
       "  <tbody>\n",
       "    <tr>\n",
       "      <th>gender</th>\n",
       "      <td>1.000000</td>\n",
       "      <td>-0.003792</td>\n",
       "      <td>-0.001752</td>\n",
       "      <td>0.014590</td>\n",
       "      <td>0.010864</td>\n",
       "      <td>-0.015909</td>\n",
       "      <td>-0.013345</td>\n",
       "      <td>-0.014810</td>\n",
       "      <td>-0.012770</td>\n",
       "      <td>1.000000</td>\n",
       "      <td>...</td>\n",
       "      <td>0.009490</td>\n",
       "      <td>0.000036</td>\n",
       "      <td>0.015081</td>\n",
       "      <td>-0.014170</td>\n",
       "      <td>-0.000302</td>\n",
       "      <td>0.010252</td>\n",
       "      <td>-0.003755</td>\n",
       "      <td>-0.008885</td>\n",
       "      <td>0.002358</td>\n",
       "      <td>0.005668</td>\n",
       "    </tr>\n",
       "    <tr>\n",
       "      <th>senior_citizen</th>\n",
       "      <td>-0.003792</td>\n",
       "      <td>1.000000</td>\n",
       "      <td>0.009010</td>\n",
       "      <td>-0.212444</td>\n",
       "      <td>0.021219</td>\n",
       "      <td>0.005420</td>\n",
       "      <td>0.152171</td>\n",
       "      <td>0.214296</td>\n",
       "      <td>0.147642</td>\n",
       "      <td>-0.003792</td>\n",
       "      <td>...</td>\n",
       "      <td>-0.046933</td>\n",
       "      <td>-0.109641</td>\n",
       "      <td>-0.106446</td>\n",
       "      <td>0.249812</td>\n",
       "      <td>-0.178735</td>\n",
       "      <td>-0.003396</td>\n",
       "      <td>-0.002164</td>\n",
       "      <td>0.009687</td>\n",
       "      <td>-0.004135</td>\n",
       "      <td>-0.004836</td>\n",
       "    </tr>\n",
       "    <tr>\n",
       "      <th>partner</th>\n",
       "      <td>-0.001752</td>\n",
       "      <td>0.009010</td>\n",
       "      <td>1.000000</td>\n",
       "      <td>0.450208</td>\n",
       "      <td>0.376255</td>\n",
       "      <td>0.019535</td>\n",
       "      <td>-0.010171</td>\n",
       "      <td>0.091855</td>\n",
       "      <td>-0.144393</td>\n",
       "      <td>-0.001752</td>\n",
       "      <td>...</td>\n",
       "      <td>0.071876</td>\n",
       "      <td>0.254046</td>\n",
       "      <td>-0.007078</td>\n",
       "      <td>-0.002269</td>\n",
       "      <td>0.010912</td>\n",
       "      <td>-0.003847</td>\n",
       "      <td>0.001233</td>\n",
       "      <td>-0.003167</td>\n",
       "      <td>0.005844</td>\n",
       "      <td>-0.002280</td>\n",
       "    </tr>\n",
       "    <tr>\n",
       "      <th>dependents</th>\n",
       "      <td>0.014590</td>\n",
       "      <td>-0.212444</td>\n",
       "      <td>0.450208</td>\n",
       "      <td>1.000000</td>\n",
       "      <td>0.152598</td>\n",
       "      <td>-0.001352</td>\n",
       "      <td>-0.109362</td>\n",
       "      <td>-0.115769</td>\n",
       "      <td>-0.153367</td>\n",
       "      <td>0.014590</td>\n",
       "      <td>...</td>\n",
       "      <td>0.060337</td>\n",
       "      <td>0.204167</td>\n",
       "      <td>0.047192</td>\n",
       "      <td>-0.163462</td>\n",
       "      <td>0.142886</td>\n",
       "      <td>0.000552</td>\n",
       "      <td>-0.000303</td>\n",
       "      <td>-0.003629</td>\n",
       "      <td>0.003405</td>\n",
       "      <td>0.000217</td>\n",
       "    </tr>\n",
       "    <tr>\n",
       "      <th>tenure</th>\n",
       "      <td>0.010864</td>\n",
       "      <td>0.021219</td>\n",
       "      <td>0.376255</td>\n",
       "      <td>0.152598</td>\n",
       "      <td>1.000000</td>\n",
       "      <td>0.007683</td>\n",
       "      <td>0.011764</td>\n",
       "      <td>0.243299</td>\n",
       "      <td>-0.350880</td>\n",
       "      <td>0.010864</td>\n",
       "      <td>...</td>\n",
       "      <td>0.206717</td>\n",
       "      <td>0.558946</td>\n",
       "      <td>0.009171</td>\n",
       "      <td>0.016271</td>\n",
       "      <td>-0.030236</td>\n",
       "      <td>-0.001254</td>\n",
       "      <td>0.000187</td>\n",
       "      <td>-0.008816</td>\n",
       "      <td>0.009967</td>\n",
       "      <td>-0.000929</td>\n",
       "    </tr>\n",
       "    <tr>\n",
       "      <th>phone_service</th>\n",
       "      <td>-0.015909</td>\n",
       "      <td>0.005420</td>\n",
       "      <td>0.019535</td>\n",
       "      <td>-0.001352</td>\n",
       "      <td>0.007683</td>\n",
       "      <td>1.000000</td>\n",
       "      <td>0.023002</td>\n",
       "      <td>0.246737</td>\n",
       "      <td>0.014746</td>\n",
       "      <td>-0.015909</td>\n",
       "      <td>...</td>\n",
       "      <td>-0.012825</td>\n",
       "      <td>0.006585</td>\n",
       "      <td>-0.451963</td>\n",
       "      <td>0.290324</td>\n",
       "      <td>0.171287</td>\n",
       "      <td>-0.007634</td>\n",
       "      <td>0.008388</td>\n",
       "      <td>0.007017</td>\n",
       "      <td>-0.007810</td>\n",
       "      <td>0.000634</td>\n",
       "    </tr>\n",
       "    <tr>\n",
       "      <th>paperless_billing</th>\n",
       "      <td>-0.013345</td>\n",
       "      <td>0.152171</td>\n",
       "      <td>-0.010171</td>\n",
       "      <td>-0.109362</td>\n",
       "      <td>0.011764</td>\n",
       "      <td>0.023002</td>\n",
       "      <td>1.000000</td>\n",
       "      <td>0.352324</td>\n",
       "      <td>0.188817</td>\n",
       "      <td>-0.013345</td>\n",
       "      <td>...</td>\n",
       "      <td>-0.054433</td>\n",
       "      <td>-0.143175</td>\n",
       "      <td>-0.069604</td>\n",
       "      <td>0.330986</td>\n",
       "      <td>-0.319288</td>\n",
       "      <td>-0.002890</td>\n",
       "      <td>-0.004509</td>\n",
       "      <td>0.011411</td>\n",
       "      <td>-0.004016</td>\n",
       "      <td>-0.006431</td>\n",
       "    </tr>\n",
       "    <tr>\n",
       "      <th>monthly_charges</th>\n",
       "      <td>-0.014810</td>\n",
       "      <td>0.214296</td>\n",
       "      <td>0.091855</td>\n",
       "      <td>-0.115769</td>\n",
       "      <td>0.243299</td>\n",
       "      <td>0.246737</td>\n",
       "      <td>0.352324</td>\n",
       "      <td>1.000000</td>\n",
       "      <td>0.193019</td>\n",
       "      <td>-0.014810</td>\n",
       "      <td>...</td>\n",
       "      <td>0.012169</td>\n",
       "      <td>-0.081053</td>\n",
       "      <td>-0.159163</td>\n",
       "      <td>0.784952</td>\n",
       "      <td>-0.764031</td>\n",
       "      <td>-0.005703</td>\n",
       "      <td>-0.001205</td>\n",
       "      <td>0.009589</td>\n",
       "      <td>-0.002666</td>\n",
       "      <td>-0.006013</td>\n",
       "    </tr>\n",
       "    <tr>\n",
       "      <th>churn</th>\n",
       "      <td>-0.012770</td>\n",
       "      <td>0.147642</td>\n",
       "      <td>-0.144393</td>\n",
       "      <td>-0.153367</td>\n",
       "      <td>-0.350880</td>\n",
       "      <td>0.014746</td>\n",
       "      <td>0.188817</td>\n",
       "      <td>0.193019</td>\n",
       "      <td>1.000000</td>\n",
       "      <td>-0.012770</td>\n",
       "      <td>...</td>\n",
       "      <td>-0.182474</td>\n",
       "      <td>-0.302177</td>\n",
       "      <td>-0.120733</td>\n",
       "      <td>0.306088</td>\n",
       "      <td>-0.230191</td>\n",
       "      <td>-0.002673</td>\n",
       "      <td>0.003647</td>\n",
       "      <td>0.006542</td>\n",
       "      <td>-0.007568</td>\n",
       "      <td>0.000838</td>\n",
       "    </tr>\n",
       "    <tr>\n",
       "      <th>gender</th>\n",
       "      <td>1.000000</td>\n",
       "      <td>-0.003792</td>\n",
       "      <td>-0.001752</td>\n",
       "      <td>0.014590</td>\n",
       "      <td>0.010864</td>\n",
       "      <td>-0.015909</td>\n",
       "      <td>-0.013345</td>\n",
       "      <td>-0.014810</td>\n",
       "      <td>-0.012770</td>\n",
       "      <td>1.000000</td>\n",
       "      <td>...</td>\n",
       "      <td>0.009490</td>\n",
       "      <td>0.000036</td>\n",
       "      <td>0.015081</td>\n",
       "      <td>-0.014170</td>\n",
       "      <td>-0.000302</td>\n",
       "      <td>0.010252</td>\n",
       "      <td>-0.003755</td>\n",
       "      <td>-0.008885</td>\n",
       "      <td>0.002358</td>\n",
       "      <td>0.005668</td>\n",
       "    </tr>\n",
       "    <tr>\n",
       "      <th>senior_citizen</th>\n",
       "      <td>-0.003792</td>\n",
       "      <td>1.000000</td>\n",
       "      <td>0.009010</td>\n",
       "      <td>-0.212444</td>\n",
       "      <td>0.021219</td>\n",
       "      <td>0.005420</td>\n",
       "      <td>0.152171</td>\n",
       "      <td>0.214296</td>\n",
       "      <td>0.147642</td>\n",
       "      <td>-0.003792</td>\n",
       "      <td>...</td>\n",
       "      <td>-0.046933</td>\n",
       "      <td>-0.109641</td>\n",
       "      <td>-0.106446</td>\n",
       "      <td>0.249812</td>\n",
       "      <td>-0.178735</td>\n",
       "      <td>-0.003396</td>\n",
       "      <td>-0.002164</td>\n",
       "      <td>0.009687</td>\n",
       "      <td>-0.004135</td>\n",
       "      <td>-0.004836</td>\n",
       "    </tr>\n",
       "    <tr>\n",
       "      <th>partner</th>\n",
       "      <td>-0.001752</td>\n",
       "      <td>0.009010</td>\n",
       "      <td>1.000000</td>\n",
       "      <td>0.450208</td>\n",
       "      <td>0.376255</td>\n",
       "      <td>0.019535</td>\n",
       "      <td>-0.010171</td>\n",
       "      <td>0.091855</td>\n",
       "      <td>-0.144393</td>\n",
       "      <td>-0.001752</td>\n",
       "      <td>...</td>\n",
       "      <td>0.071876</td>\n",
       "      <td>0.254046</td>\n",
       "      <td>-0.007078</td>\n",
       "      <td>-0.002269</td>\n",
       "      <td>0.010912</td>\n",
       "      <td>-0.003847</td>\n",
       "      <td>0.001233</td>\n",
       "      <td>-0.003167</td>\n",
       "      <td>0.005844</td>\n",
       "      <td>-0.002280</td>\n",
       "    </tr>\n",
       "    <tr>\n",
       "      <th>dependents</th>\n",
       "      <td>0.014590</td>\n",
       "      <td>-0.212444</td>\n",
       "      <td>0.450208</td>\n",
       "      <td>1.000000</td>\n",
       "      <td>0.152598</td>\n",
       "      <td>-0.001352</td>\n",
       "      <td>-0.109362</td>\n",
       "      <td>-0.115769</td>\n",
       "      <td>-0.153367</td>\n",
       "      <td>0.014590</td>\n",
       "      <td>...</td>\n",
       "      <td>0.060337</td>\n",
       "      <td>0.204167</td>\n",
       "      <td>0.047192</td>\n",
       "      <td>-0.163462</td>\n",
       "      <td>0.142886</td>\n",
       "      <td>0.000552</td>\n",
       "      <td>-0.000303</td>\n",
       "      <td>-0.003629</td>\n",
       "      <td>0.003405</td>\n",
       "      <td>0.000217</td>\n",
       "    </tr>\n",
       "    <tr>\n",
       "      <th>tenure</th>\n",
       "      <td>0.010864</td>\n",
       "      <td>0.021219</td>\n",
       "      <td>0.376255</td>\n",
       "      <td>0.152598</td>\n",
       "      <td>1.000000</td>\n",
       "      <td>0.007683</td>\n",
       "      <td>0.011764</td>\n",
       "      <td>0.243299</td>\n",
       "      <td>-0.350880</td>\n",
       "      <td>0.010864</td>\n",
       "      <td>...</td>\n",
       "      <td>0.206717</td>\n",
       "      <td>0.558946</td>\n",
       "      <td>0.009171</td>\n",
       "      <td>0.016271</td>\n",
       "      <td>-0.030236</td>\n",
       "      <td>-0.001254</td>\n",
       "      <td>0.000187</td>\n",
       "      <td>-0.008816</td>\n",
       "      <td>0.009967</td>\n",
       "      <td>-0.000929</td>\n",
       "    </tr>\n",
       "    <tr>\n",
       "      <th>phone_service</th>\n",
       "      <td>-0.015909</td>\n",
       "      <td>0.005420</td>\n",
       "      <td>0.019535</td>\n",
       "      <td>-0.001352</td>\n",
       "      <td>0.007683</td>\n",
       "      <td>1.000000</td>\n",
       "      <td>0.023002</td>\n",
       "      <td>0.246737</td>\n",
       "      <td>0.014746</td>\n",
       "      <td>-0.015909</td>\n",
       "      <td>...</td>\n",
       "      <td>-0.012825</td>\n",
       "      <td>0.006585</td>\n",
       "      <td>-0.451963</td>\n",
       "      <td>0.290324</td>\n",
       "      <td>0.171287</td>\n",
       "      <td>-0.007634</td>\n",
       "      <td>0.008388</td>\n",
       "      <td>0.007017</td>\n",
       "      <td>-0.007810</td>\n",
       "      <td>0.000634</td>\n",
       "    </tr>\n",
       "    <tr>\n",
       "      <th>paperless_billing</th>\n",
       "      <td>-0.013345</td>\n",
       "      <td>0.152171</td>\n",
       "      <td>-0.010171</td>\n",
       "      <td>-0.109362</td>\n",
       "      <td>0.011764</td>\n",
       "      <td>0.023002</td>\n",
       "      <td>1.000000</td>\n",
       "      <td>0.352324</td>\n",
       "      <td>0.188817</td>\n",
       "      <td>-0.013345</td>\n",
       "      <td>...</td>\n",
       "      <td>-0.054433</td>\n",
       "      <td>-0.143175</td>\n",
       "      <td>-0.069604</td>\n",
       "      <td>0.330986</td>\n",
       "      <td>-0.319288</td>\n",
       "      <td>-0.002890</td>\n",
       "      <td>-0.004509</td>\n",
       "      <td>0.011411</td>\n",
       "      <td>-0.004016</td>\n",
       "      <td>-0.006431</td>\n",
       "    </tr>\n",
       "    <tr>\n",
       "      <th>monthly_charges</th>\n",
       "      <td>-0.014810</td>\n",
       "      <td>0.214296</td>\n",
       "      <td>0.091855</td>\n",
       "      <td>-0.115769</td>\n",
       "      <td>0.243299</td>\n",
       "      <td>0.246737</td>\n",
       "      <td>0.352324</td>\n",
       "      <td>1.000000</td>\n",
       "      <td>0.193019</td>\n",
       "      <td>-0.014810</td>\n",
       "      <td>...</td>\n",
       "      <td>0.012169</td>\n",
       "      <td>-0.081053</td>\n",
       "      <td>-0.159163</td>\n",
       "      <td>0.784952</td>\n",
       "      <td>-0.764031</td>\n",
       "      <td>-0.005703</td>\n",
       "      <td>-0.001205</td>\n",
       "      <td>0.009589</td>\n",
       "      <td>-0.002666</td>\n",
       "      <td>-0.006013</td>\n",
       "    </tr>\n",
       "    <tr>\n",
       "      <th>churn</th>\n",
       "      <td>-0.012770</td>\n",
       "      <td>0.147642</td>\n",
       "      <td>-0.144393</td>\n",
       "      <td>-0.153367</td>\n",
       "      <td>-0.350880</td>\n",
       "      <td>0.014746</td>\n",
       "      <td>0.188817</td>\n",
       "      <td>0.193019</td>\n",
       "      <td>1.000000</td>\n",
       "      <td>-0.012770</td>\n",
       "      <td>...</td>\n",
       "      <td>-0.182474</td>\n",
       "      <td>-0.302177</td>\n",
       "      <td>-0.120733</td>\n",
       "      <td>0.306088</td>\n",
       "      <td>-0.230191</td>\n",
       "      <td>-0.002673</td>\n",
       "      <td>0.003647</td>\n",
       "      <td>0.006542</td>\n",
       "      <td>-0.007568</td>\n",
       "      <td>0.000838</td>\n",
       "    </tr>\n",
       "    <tr>\n",
       "      <th>multiple_lines_No</th>\n",
       "      <td>0.001111</td>\n",
       "      <td>-0.130910</td>\n",
       "      <td>-0.126773</td>\n",
       "      <td>0.026689</td>\n",
       "      <td>-0.325899</td>\n",
       "      <td>0.311836</td>\n",
       "      <td>-0.148392</td>\n",
       "      <td>-0.333410</td>\n",
       "      <td>-0.031303</td>\n",
       "      <td>0.001111</td>\n",
       "      <td>...</td>\n",
       "      <td>-0.010221</td>\n",
       "      <td>-0.105510</td>\n",
       "      <td>-0.069190</td>\n",
       "      <td>-0.182845</td>\n",
       "      <td>0.300667</td>\n",
       "      <td>0.001397</td>\n",
       "      <td>0.004368</td>\n",
       "      <td>-0.000084</td>\n",
       "      <td>-0.005745</td>\n",
       "      <td>0.005009</td>\n",
       "    </tr>\n",
       "    <tr>\n",
       "      <th>multiple_lines_No phone service</th>\n",
       "      <td>0.015909</td>\n",
       "      <td>-0.005420</td>\n",
       "      <td>-0.019535</td>\n",
       "      <td>0.001352</td>\n",
       "      <td>-0.007683</td>\n",
       "      <td>-1.000000</td>\n",
       "      <td>-0.023002</td>\n",
       "      <td>-0.246737</td>\n",
       "      <td>-0.014746</td>\n",
       "      <td>0.015909</td>\n",
       "      <td>...</td>\n",
       "      <td>0.012825</td>\n",
       "      <td>-0.006585</td>\n",
       "      <td>0.451963</td>\n",
       "      <td>-0.290324</td>\n",
       "      <td>-0.171287</td>\n",
       "      <td>0.007634</td>\n",
       "      <td>-0.008388</td>\n",
       "      <td>-0.007017</td>\n",
       "      <td>0.007810</td>\n",
       "      <td>-0.000634</td>\n",
       "    </tr>\n",
       "    <tr>\n",
       "      <th>multiple_lines_Yes</th>\n",
       "      <td>-0.010618</td>\n",
       "      <td>0.135423</td>\n",
       "      <td>0.139671</td>\n",
       "      <td>-0.027756</td>\n",
       "      <td>0.333668</td>\n",
       "      <td>0.281991</td>\n",
       "      <td>0.163571</td>\n",
       "      <td>0.483937</td>\n",
       "      <td>0.040411</td>\n",
       "      <td>-0.010618</td>\n",
       "      <td>...</td>\n",
       "      <td>0.002666</td>\n",
       "      <td>0.110471</td>\n",
       "      <td>-0.199898</td>\n",
       "      <td>0.357918</td>\n",
       "      <td>-0.201368</td>\n",
       "      <td>-0.005968</td>\n",
       "      <td>0.000596</td>\n",
       "      <td>0.004273</td>\n",
       "      <td>0.001140</td>\n",
       "      <td>-0.004680</td>\n",
       "    </tr>\n",
       "    <tr>\n",
       "      <th>online_security_No</th>\n",
       "      <td>0.013237</td>\n",
       "      <td>0.177477</td>\n",
       "      <td>-0.129615</td>\n",
       "      <td>-0.181046</td>\n",
       "      <td>-0.263540</td>\n",
       "      <td>-0.053949</td>\n",
       "      <td>0.268443</td>\n",
       "      <td>0.359232</td>\n",
       "      <td>0.339180</td>\n",
       "      <td>0.013237</td>\n",
       "      <td>...</td>\n",
       "      <td>-0.125060</td>\n",
       "      <td>-0.353977</td>\n",
       "      <td>0.030584</td>\n",
       "      <td>0.403910</td>\n",
       "      <td>-0.523020</td>\n",
       "      <td>0.000314</td>\n",
       "      <td>-0.004093</td>\n",
       "      <td>0.008371</td>\n",
       "      <td>-0.004620</td>\n",
       "      <td>-0.003280</td>\n",
       "    </tr>\n",
       "    <tr>\n",
       "      <th>online_security_No internet service</th>\n",
       "      <td>-0.000302</td>\n",
       "      <td>-0.178735</td>\n",
       "      <td>0.010912</td>\n",
       "      <td>0.142886</td>\n",
       "      <td>-0.030236</td>\n",
       "      <td>0.171287</td>\n",
       "      <td>-0.319288</td>\n",
       "      <td>-0.764031</td>\n",
       "      <td>-0.230191</td>\n",
       "      <td>-0.000302</td>\n",
       "      <td>...</td>\n",
       "      <td>0.027893</td>\n",
       "      <td>0.230087</td>\n",
       "      <td>-0.378984</td>\n",
       "      <td>-0.465784</td>\n",
       "      <td>1.000000</td>\n",
       "      <td>0.005463</td>\n",
       "      <td>0.004836</td>\n",
       "      <td>-0.009707</td>\n",
       "      <td>-0.000639</td>\n",
       "      <td>0.008955</td>\n",
       "    </tr>\n",
       "    <tr>\n",
       "      <th>online_security_Yes</th>\n",
       "      <td>-0.014378</td>\n",
       "      <td>-0.033739</td>\n",
       "      <td>0.133543</td>\n",
       "      <td>0.070328</td>\n",
       "      <td>0.319253</td>\n",
       "      <td>-0.096219</td>\n",
       "      <td>-0.006476</td>\n",
       "      <td>0.297916</td>\n",
       "      <td>-0.165891</td>\n",
       "      <td>-0.014378</td>\n",
       "      <td>...</td>\n",
       "      <td>0.113043</td>\n",
       "      <td>0.182366</td>\n",
       "      <td>0.311170</td>\n",
       "      <td>-0.023062</td>\n",
       "      <td>-0.331434</td>\n",
       "      <td>-0.005321</td>\n",
       "      <td>0.000129</td>\n",
       "      <td>-0.000430</td>\n",
       "      <td>0.005696</td>\n",
       "      <td>-0.004522</td>\n",
       "    </tr>\n",
       "    <tr>\n",
       "      <th>online_backup_No</th>\n",
       "      <td>0.008017</td>\n",
       "      <td>0.082238</td>\n",
       "      <td>-0.143114</td>\n",
       "      <td>-0.136445</td>\n",
       "      <td>-0.317972</td>\n",
       "      <td>-0.094577</td>\n",
       "      <td>0.149408</td>\n",
       "      <td>0.206157</td>\n",
       "      <td>0.272405</td>\n",
       "      <td>0.008017</td>\n",
       "      <td>...</td>\n",
       "      <td>-0.107781</td>\n",
       "      <td>-0.293979</td>\n",
       "      <td>0.164989</td>\n",
       "      <td>0.225852</td>\n",
       "      <td>-0.463207</td>\n",
       "      <td>-0.004847</td>\n",
       "      <td>-0.001715</td>\n",
       "      <td>0.009740</td>\n",
       "      <td>-0.003172</td>\n",
       "      <td>-0.005710</td>\n",
       "    </tr>\n",
       "    <tr>\n",
       "      <th>online_backup_No internet service</th>\n",
       "      <td>-0.000302</td>\n",
       "      <td>-0.178735</td>\n",
       "      <td>0.010912</td>\n",
       "      <td>0.142886</td>\n",
       "      <td>-0.030236</td>\n",
       "      <td>0.171287</td>\n",
       "      <td>-0.319288</td>\n",
       "      <td>-0.764031</td>\n",
       "      <td>-0.230191</td>\n",
       "      <td>-0.000302</td>\n",
       "      <td>...</td>\n",
       "      <td>0.027893</td>\n",
       "      <td>0.230087</td>\n",
       "      <td>-0.378984</td>\n",
       "      <td>-0.465784</td>\n",
       "      <td>1.000000</td>\n",
       "      <td>0.005463</td>\n",
       "      <td>0.004836</td>\n",
       "      <td>-0.009707</td>\n",
       "      <td>-0.000639</td>\n",
       "      <td>0.008955</td>\n",
       "    </tr>\n",
       "    <tr>\n",
       "      <th>online_backup_Yes</th>\n",
       "      <td>-0.008101</td>\n",
       "      <td>0.068727</td>\n",
       "      <td>0.139851</td>\n",
       "      <td>0.018809</td>\n",
       "      <td>0.357817</td>\n",
       "      <td>-0.049417</td>\n",
       "      <td>0.120163</td>\n",
       "      <td>0.445431</td>\n",
       "      <td>-0.085157</td>\n",
       "      <td>-0.008101</td>\n",
       "      <td>...</td>\n",
       "      <td>0.088315</td>\n",
       "      <td>0.107751</td>\n",
       "      <td>0.155516</td>\n",
       "      <td>0.167064</td>\n",
       "      <td>-0.381285</td>\n",
       "      <td>0.000334</td>\n",
       "      <td>-0.002392</td>\n",
       "      <td>-0.001769</td>\n",
       "      <td>0.003861</td>\n",
       "      <td>-0.001785</td>\n",
       "    </tr>\n",
       "    <tr>\n",
       "      <th>device_protection_No</th>\n",
       "      <td>0.004686</td>\n",
       "      <td>0.095603</td>\n",
       "      <td>-0.152873</td>\n",
       "      <td>-0.127037</td>\n",
       "      <td>-0.311950</td>\n",
       "      <td>-0.072090</td>\n",
       "      <td>0.174785</td>\n",
       "      <td>0.170937</td>\n",
       "      <td>0.251936</td>\n",
       "      <td>0.004686</td>\n",
       "      <td>...</td>\n",
       "      <td>-0.125329</td>\n",
       "      <td>-0.338856</td>\n",
       "      <td>0.171657</td>\n",
       "      <td>0.219376</td>\n",
       "      <td>-0.463087</td>\n",
       "      <td>-0.008230</td>\n",
       "      <td>0.001091</td>\n",
       "      <td>0.008409</td>\n",
       "      <td>-0.001236</td>\n",
       "      <td>-0.006220</td>\n",
       "    </tr>\n",
       "    <tr>\n",
       "      <th>device_protection_No internet service</th>\n",
       "      <td>-0.000302</td>\n",
       "      <td>-0.178735</td>\n",
       "      <td>0.010912</td>\n",
       "      <td>0.142886</td>\n",
       "      <td>-0.030236</td>\n",
       "      <td>0.171287</td>\n",
       "      <td>-0.319288</td>\n",
       "      <td>-0.764031</td>\n",
       "      <td>-0.230191</td>\n",
       "      <td>-0.000302</td>\n",
       "      <td>...</td>\n",
       "      <td>0.027893</td>\n",
       "      <td>0.230087</td>\n",
       "      <td>-0.378984</td>\n",
       "      <td>-0.465784</td>\n",
       "      <td>1.000000</td>\n",
       "      <td>0.005463</td>\n",
       "      <td>0.004836</td>\n",
       "      <td>-0.009707</td>\n",
       "      <td>-0.000639</td>\n",
       "      <td>0.008955</td>\n",
       "    </tr>\n",
       "    <tr>\n",
       "      <th>device_protection_Yes</th>\n",
       "      <td>-0.004627</td>\n",
       "      <td>0.054784</td>\n",
       "      <td>0.150012</td>\n",
       "      <td>0.008989</td>\n",
       "      <td>0.351495</td>\n",
       "      <td>-0.072868</td>\n",
       "      <td>0.093690</td>\n",
       "      <td>0.482132</td>\n",
       "      <td>-0.063792</td>\n",
       "      <td>-0.004627</td>\n",
       "      <td>...</td>\n",
       "      <td>0.106607</td>\n",
       "      <td>0.154538</td>\n",
       "      <td>0.148552</td>\n",
       "      <td>0.173811</td>\n",
       "      <td>-0.381392</td>\n",
       "      <td>0.003862</td>\n",
       "      <td>-0.005318</td>\n",
       "      <td>-0.000380</td>\n",
       "      <td>0.001842</td>\n",
       "      <td>-0.001254</td>\n",
       "    </tr>\n",
       "    <tr>\n",
       "      <th>tech_support_No</th>\n",
       "      <td>-0.000321</td>\n",
       "      <td>0.204263</td>\n",
       "      <td>-0.115341</td>\n",
       "      <td>-0.167787</td>\n",
       "      <td>-0.269017</td>\n",
       "      <td>-0.052233</td>\n",
       "      <td>0.231254</td>\n",
       "      <td>0.318794</td>\n",
       "      <td>0.341500</td>\n",
       "      <td>-0.000321</td>\n",
       "      <td>...</td>\n",
       "      <td>-0.112766</td>\n",
       "      <td>-0.403466</td>\n",
       "      <td>0.027235</td>\n",
       "      <td>0.402564</td>\n",
       "      <td>-0.517528</td>\n",
       "      <td>-0.006377</td>\n",
       "      <td>-0.001487</td>\n",
       "      <td>0.009471</td>\n",
       "      <td>-0.001580</td>\n",
       "      <td>-0.006844</td>\n",
       "    </tr>\n",
       "    <tr>\n",
       "      <th>tech_support_No internet service</th>\n",
       "      <td>-0.000302</td>\n",
       "      <td>-0.178735</td>\n",
       "      <td>0.010912</td>\n",
       "      <td>0.142886</td>\n",
       "      <td>-0.030236</td>\n",
       "      <td>0.171287</td>\n",
       "      <td>-0.319288</td>\n",
       "      <td>-0.764031</td>\n",
       "      <td>-0.230191</td>\n",
       "      <td>-0.000302</td>\n",
       "      <td>...</td>\n",
       "      <td>0.027893</td>\n",
       "      <td>0.230087</td>\n",
       "      <td>-0.378984</td>\n",
       "      <td>-0.465784</td>\n",
       "      <td>1.000000</td>\n",
       "      <td>0.005463</td>\n",
       "      <td>0.004836</td>\n",
       "      <td>-0.009707</td>\n",
       "      <td>-0.000639</td>\n",
       "      <td>0.008955</td>\n",
       "    </tr>\n",
       "    <tr>\n",
       "      <th>tech_support_Yes</th>\n",
       "      <td>0.000627</td>\n",
       "      <td>-0.063028</td>\n",
       "      <td>0.117093</td>\n",
       "      <td>0.055332</td>\n",
       "      <td>0.323524</td>\n",
       "      <td>-0.097590</td>\n",
       "      <td>0.034523</td>\n",
       "      <td>0.340845</td>\n",
       "      <td>-0.167514</td>\n",
       "      <td>0.000627</td>\n",
       "      <td>...</td>\n",
       "      <td>0.098883</td>\n",
       "      <td>0.235824</td>\n",
       "      <td>0.313168</td>\n",
       "      <td>-0.021419</td>\n",
       "      <td>-0.335726</td>\n",
       "      <td>0.002074</td>\n",
       "      <td>-0.002742</td>\n",
       "      <td>-0.001638</td>\n",
       "      <td>0.002318</td>\n",
       "      <td>-0.000574</td>\n",
       "    </tr>\n",
       "    <tr>\n",
       "      <th>streaming_tv_No</th>\n",
       "      <td>0.007610</td>\n",
       "      <td>0.050926</td>\n",
       "      <td>-0.135512</td>\n",
       "      <td>-0.102815</td>\n",
       "      <td>-0.256115</td>\n",
       "      <td>-0.114737</td>\n",
       "      <td>0.047812</td>\n",
       "      <td>0.017302</td>\n",
       "      <td>0.131099</td>\n",
       "      <td>0.007610</td>\n",
       "      <td>...</td>\n",
       "      <td>-0.092169</td>\n",
       "      <td>-0.260377</td>\n",
       "      <td>0.293706</td>\n",
       "      <td>0.071923</td>\n",
       "      <td>-0.425962</td>\n",
       "      <td>-0.005535</td>\n",
       "      <td>-0.006717</td>\n",
       "      <td>0.013833</td>\n",
       "      <td>-0.001546</td>\n",
       "      <td>-0.010651</td>\n",
       "    </tr>\n",
       "    <tr>\n",
       "      <th>streaming_tv_No internet service</th>\n",
       "      <td>-0.000302</td>\n",
       "      <td>-0.178735</td>\n",
       "      <td>0.010912</td>\n",
       "      <td>0.142886</td>\n",
       "      <td>-0.030236</td>\n",
       "      <td>0.171287</td>\n",
       "      <td>-0.319288</td>\n",
       "      <td>-0.764031</td>\n",
       "      <td>-0.230191</td>\n",
       "      <td>-0.000302</td>\n",
       "      <td>...</td>\n",
       "      <td>0.027893</td>\n",
       "      <td>0.230087</td>\n",
       "      <td>-0.378984</td>\n",
       "      <td>-0.465784</td>\n",
       "      <td>1.000000</td>\n",
       "      <td>0.005463</td>\n",
       "      <td>0.004836</td>\n",
       "      <td>-0.009707</td>\n",
       "      <td>-0.000639</td>\n",
       "      <td>0.008955</td>\n",
       "    </tr>\n",
       "    <tr>\n",
       "      <th>streaming_tv_Yes</th>\n",
       "      <td>-0.007393</td>\n",
       "      <td>0.099741</td>\n",
       "      <td>0.126970</td>\n",
       "      <td>-0.017324</td>\n",
       "      <td>0.282915</td>\n",
       "      <td>-0.029324</td>\n",
       "      <td>0.221550</td>\n",
       "      <td>0.627740</td>\n",
       "      <td>0.062618</td>\n",
       "      <td>-0.007393</td>\n",
       "      <td>...</td>\n",
       "      <td>0.069074</td>\n",
       "      <td>0.067388</td>\n",
       "      <td>0.024842</td>\n",
       "      <td>0.321017</td>\n",
       "      <td>-0.416301</td>\n",
       "      <td>0.000950</td>\n",
       "      <td>0.002667</td>\n",
       "      <td>-0.005706</td>\n",
       "      <td>0.002093</td>\n",
       "      <td>0.003142</td>\n",
       "    </tr>\n",
       "    <tr>\n",
       "      <th>streaming_movies_No</th>\n",
       "      <td>0.014437</td>\n",
       "      <td>0.032703</td>\n",
       "      <td>-0.128003</td>\n",
       "      <td>-0.085693</td>\n",
       "      <td>-0.261957</td>\n",
       "      <td>-0.110442</td>\n",
       "      <td>0.060274</td>\n",
       "      <td>0.018209</td>\n",
       "      <td>0.139180</td>\n",
       "      <td>0.014437</td>\n",
       "      <td>...</td>\n",
       "      <td>-0.096012</td>\n",
       "      <td>-0.265823</td>\n",
       "      <td>0.281948</td>\n",
       "      <td>0.079898</td>\n",
       "      <td>-0.422015</td>\n",
       "      <td>-0.003814</td>\n",
       "      <td>0.000656</td>\n",
       "      <td>0.008296</td>\n",
       "      <td>-0.005157</td>\n",
       "      <td>-0.002752</td>\n",
       "    </tr>\n",
       "    <tr>\n",
       "      <th>streaming_movies_No internet service</th>\n",
       "      <td>-0.000302</td>\n",
       "      <td>-0.178735</td>\n",
       "      <td>0.010912</td>\n",
       "      <td>0.142886</td>\n",
       "      <td>-0.030236</td>\n",
       "      <td>0.171287</td>\n",
       "      <td>-0.319288</td>\n",
       "      <td>-0.764031</td>\n",
       "      <td>-0.230191</td>\n",
       "      <td>-0.000302</td>\n",
       "      <td>...</td>\n",
       "      <td>0.027893</td>\n",
       "      <td>0.230087</td>\n",
       "      <td>-0.378984</td>\n",
       "      <td>-0.465784</td>\n",
       "      <td>1.000000</td>\n",
       "      <td>0.005463</td>\n",
       "      <td>0.004836</td>\n",
       "      <td>-0.009707</td>\n",
       "      <td>-0.000639</td>\n",
       "      <td>0.008955</td>\n",
       "    </tr>\n",
       "    <tr>\n",
       "      <th>streaming_movies_Yes</th>\n",
       "      <td>-0.014196</td>\n",
       "      <td>0.117873</td>\n",
       "      <td>0.118926</td>\n",
       "      <td>-0.034627</td>\n",
       "      <td>0.287676</td>\n",
       "      <td>-0.033786</td>\n",
       "      <td>0.208710</td>\n",
       "      <td>0.625562</td>\n",
       "      <td>0.054656</td>\n",
       "      <td>-0.014196</td>\n",
       "      <td>...</td>\n",
       "      <td>0.072598</td>\n",
       "      <td>0.072191</td>\n",
       "      <td>0.037133</td>\n",
       "      <td>0.312508</td>\n",
       "      <td>-0.420217</td>\n",
       "      <td>-0.000785</td>\n",
       "      <td>-0.004731</td>\n",
       "      <td>-0.000124</td>\n",
       "      <td>0.005701</td>\n",
       "      <td>-0.004791</td>\n",
       "    </tr>\n",
       "    <tr>\n",
       "      <th>contract_type_m_to_m</th>\n",
       "      <td>-0.007779</td>\n",
       "      <td>0.132473</td>\n",
       "      <td>-0.276849</td>\n",
       "      <td>-0.224593</td>\n",
       "      <td>-0.648777</td>\n",
       "      <td>0.004816</td>\n",
       "      <td>0.167395</td>\n",
       "      <td>0.059671</td>\n",
       "      <td>0.408479</td>\n",
       "      <td>-0.007779</td>\n",
       "      <td>...</td>\n",
       "      <td>-0.568980</td>\n",
       "      <td>-0.623530</td>\n",
       "      <td>-0.063221</td>\n",
       "      <td>0.242956</td>\n",
       "      <td>-0.220365</td>\n",
       "      <td>-0.003126</td>\n",
       "      <td>0.000685</td>\n",
       "      <td>0.006594</td>\n",
       "      <td>-0.004169</td>\n",
       "      <td>-0.002128</td>\n",
       "    </tr>\n",
       "    <tr>\n",
       "      <th>contract_type_one_yr</th>\n",
       "      <td>0.009490</td>\n",
       "      <td>-0.046933</td>\n",
       "      <td>0.071876</td>\n",
       "      <td>0.060337</td>\n",
       "      <td>0.206717</td>\n",
       "      <td>-0.012825</td>\n",
       "      <td>-0.054433</td>\n",
       "      <td>0.012169</td>\n",
       "      <td>-0.182474</td>\n",
       "      <td>0.009490</td>\n",
       "      <td>...</td>\n",
       "      <td>1.000000</td>\n",
       "      <td>-0.288138</td>\n",
       "      <td>0.054160</td>\n",
       "      <td>-0.074890</td>\n",
       "      <td>0.027893</td>\n",
       "      <td>0.001030</td>\n",
       "      <td>-0.003329</td>\n",
       "      <td>-0.000068</td>\n",
       "      <td>0.002388</td>\n",
       "      <td>-0.001993</td>\n",
       "    </tr>\n",
       "    <tr>\n",
       "      <th>contract_type_two_yr</th>\n",
       "      <td>0.000036</td>\n",
       "      <td>-0.109641</td>\n",
       "      <td>0.254046</td>\n",
       "      <td>0.204167</td>\n",
       "      <td>0.558946</td>\n",
       "      <td>0.006585</td>\n",
       "      <td>-0.143175</td>\n",
       "      <td>-0.081053</td>\n",
       "      <td>-0.302177</td>\n",
       "      <td>0.000036</td>\n",
       "      <td>...</td>\n",
       "      <td>-0.288138</td>\n",
       "      <td>1.000000</td>\n",
       "      <td>0.022128</td>\n",
       "      <td>-0.211713</td>\n",
       "      <td>0.230087</td>\n",
       "      <td>0.002661</td>\n",
       "      <td>0.002367</td>\n",
       "      <td>-0.007614</td>\n",
       "      <td>0.002585</td>\n",
       "      <td>0.004372</td>\n",
       "    </tr>\n",
       "    <tr>\n",
       "      <th>internet_service_type_DSL</th>\n",
       "      <td>0.015081</td>\n",
       "      <td>-0.106446</td>\n",
       "      <td>-0.007078</td>\n",
       "      <td>0.047192</td>\n",
       "      <td>0.009171</td>\n",
       "      <td>-0.451963</td>\n",
       "      <td>-0.069604</td>\n",
       "      <td>-0.159163</td>\n",
       "      <td>-0.120733</td>\n",
       "      <td>0.015081</td>\n",
       "      <td>...</td>\n",
       "      <td>0.054160</td>\n",
       "      <td>0.022128</td>\n",
       "      <td>1.000000</td>\n",
       "      <td>-0.642363</td>\n",
       "      <td>-0.378984</td>\n",
       "      <td>0.000620</td>\n",
       "      <td>-0.004610</td>\n",
       "      <td>-0.006491</td>\n",
       "      <td>0.010571</td>\n",
       "      <td>-0.003462</td>\n",
       "    </tr>\n",
       "    <tr>\n",
       "      <th>internet_service_type_Fiber optic</th>\n",
       "      <td>-0.014170</td>\n",
       "      <td>0.249812</td>\n",
       "      <td>-0.002269</td>\n",
       "      <td>-0.163462</td>\n",
       "      <td>0.016271</td>\n",
       "      <td>0.290324</td>\n",
       "      <td>0.330986</td>\n",
       "      <td>0.784952</td>\n",
       "      <td>0.306088</td>\n",
       "      <td>-0.014170</td>\n",
       "      <td>...</td>\n",
       "      <td>-0.074890</td>\n",
       "      <td>-0.211713</td>\n",
       "      <td>-0.642363</td>\n",
       "      <td>1.000000</td>\n",
       "      <td>-0.465784</td>\n",
       "      <td>-0.005117</td>\n",
       "      <td>0.000404</td>\n",
       "      <td>0.014246</td>\n",
       "      <td>-0.009579</td>\n",
       "      <td>-0.004106</td>\n",
       "    </tr>\n",
       "    <tr>\n",
       "      <th>internet_service_type_None</th>\n",
       "      <td>-0.000302</td>\n",
       "      <td>-0.178735</td>\n",
       "      <td>0.010912</td>\n",
       "      <td>0.142886</td>\n",
       "      <td>-0.030236</td>\n",
       "      <td>0.171287</td>\n",
       "      <td>-0.319288</td>\n",
       "      <td>-0.764031</td>\n",
       "      <td>-0.230191</td>\n",
       "      <td>-0.000302</td>\n",
       "      <td>...</td>\n",
       "      <td>0.027893</td>\n",
       "      <td>0.230087</td>\n",
       "      <td>-0.378984</td>\n",
       "      <td>-0.465784</td>\n",
       "      <td>1.000000</td>\n",
       "      <td>0.005463</td>\n",
       "      <td>0.004836</td>\n",
       "      <td>-0.009707</td>\n",
       "      <td>-0.000639</td>\n",
       "      <td>0.008955</td>\n",
       "    </tr>\n",
       "    <tr>\n",
       "      <th>payment_type_bank_transfer_auto</th>\n",
       "      <td>0.010252</td>\n",
       "      <td>-0.003396</td>\n",
       "      <td>-0.003847</td>\n",
       "      <td>0.000552</td>\n",
       "      <td>-0.001254</td>\n",
       "      <td>-0.007634</td>\n",
       "      <td>-0.002890</td>\n",
       "      <td>-0.005703</td>\n",
       "      <td>-0.002673</td>\n",
       "      <td>0.010252</td>\n",
       "      <td>...</td>\n",
       "      <td>0.001030</td>\n",
       "      <td>0.002661</td>\n",
       "      <td>0.000620</td>\n",
       "      <td>-0.005117</td>\n",
       "      <td>0.005463</td>\n",
       "      <td>1.000000</td>\n",
       "      <td>-0.338607</td>\n",
       "      <td>-0.336950</td>\n",
       "      <td>-0.331806</td>\n",
       "      <td>0.576899</td>\n",
       "    </tr>\n",
       "    <tr>\n",
       "      <th>payment_type_credit_card_auto</th>\n",
       "      <td>-0.003755</td>\n",
       "      <td>-0.002164</td>\n",
       "      <td>0.001233</td>\n",
       "      <td>-0.000303</td>\n",
       "      <td>0.000187</td>\n",
       "      <td>0.008388</td>\n",
       "      <td>-0.004509</td>\n",
       "      <td>-0.001205</td>\n",
       "      <td>0.003647</td>\n",
       "      <td>-0.003755</td>\n",
       "      <td>...</td>\n",
       "      <td>-0.003329</td>\n",
       "      <td>0.002367</td>\n",
       "      <td>-0.004610</td>\n",
       "      <td>0.000404</td>\n",
       "      <td>0.004836</td>\n",
       "      <td>-0.338607</td>\n",
       "      <td>1.000000</td>\n",
       "      <td>-0.334803</td>\n",
       "      <td>-0.329691</td>\n",
       "      <td>0.573222</td>\n",
       "    </tr>\n",
       "    <tr>\n",
       "      <th>payment_type_e_check</th>\n",
       "      <td>-0.008885</td>\n",
       "      <td>0.009687</td>\n",
       "      <td>-0.003167</td>\n",
       "      <td>-0.003629</td>\n",
       "      <td>-0.008816</td>\n",
       "      <td>0.007017</td>\n",
       "      <td>0.011411</td>\n",
       "      <td>0.009589</td>\n",
       "      <td>0.006542</td>\n",
       "      <td>-0.008885</td>\n",
       "      <td>...</td>\n",
       "      <td>-0.000068</td>\n",
       "      <td>-0.007614</td>\n",
       "      <td>-0.006491</td>\n",
       "      <td>0.014246</td>\n",
       "      <td>-0.009707</td>\n",
       "      <td>-0.336950</td>\n",
       "      <td>-0.334803</td>\n",
       "      <td>1.000000</td>\n",
       "      <td>-0.328078</td>\n",
       "      <td>-0.584071</td>\n",
       "    </tr>\n",
       "    <tr>\n",
       "      <th>payment_type_mailed_check</th>\n",
       "      <td>0.002358</td>\n",
       "      <td>-0.004135</td>\n",
       "      <td>0.005844</td>\n",
       "      <td>0.003405</td>\n",
       "      <td>0.009967</td>\n",
       "      <td>-0.007810</td>\n",
       "      <td>-0.004016</td>\n",
       "      <td>-0.002666</td>\n",
       "      <td>-0.007568</td>\n",
       "      <td>0.002358</td>\n",
       "      <td>...</td>\n",
       "      <td>0.002388</td>\n",
       "      <td>0.002585</td>\n",
       "      <td>0.010571</td>\n",
       "      <td>-0.009579</td>\n",
       "      <td>-0.000639</td>\n",
       "      <td>-0.331806</td>\n",
       "      <td>-0.329691</td>\n",
       "      <td>-0.328078</td>\n",
       "      <td>1.000000</td>\n",
       "      <td>-0.575155</td>\n",
       "    </tr>\n",
       "    <tr>\n",
       "      <th>automatic_pmt</th>\n",
       "      <td>0.005668</td>\n",
       "      <td>-0.004836</td>\n",
       "      <td>-0.002280</td>\n",
       "      <td>0.000217</td>\n",
       "      <td>-0.000929</td>\n",
       "      <td>0.000634</td>\n",
       "      <td>-0.006431</td>\n",
       "      <td>-0.006013</td>\n",
       "      <td>0.000838</td>\n",
       "      <td>0.005668</td>\n",
       "      <td>...</td>\n",
       "      <td>-0.001993</td>\n",
       "      <td>0.004372</td>\n",
       "      <td>-0.003462</td>\n",
       "      <td>-0.004106</td>\n",
       "      <td>0.008955</td>\n",
       "      <td>0.576899</td>\n",
       "      <td>0.573222</td>\n",
       "      <td>-0.584071</td>\n",
       "      <td>-0.575155</td>\n",
       "      <td>1.000000</td>\n",
       "    </tr>\n",
       "  </tbody>\n",
       "</table>\n",
       "<p>50 rows × 50 columns</p>\n",
       "</div>"
      ],
      "text/plain": [
       "                                         gender  senior_citizen   partner  \\\n",
       "gender                                 1.000000       -0.003792 -0.001752   \n",
       "senior_citizen                        -0.003792        1.000000  0.009010   \n",
       "partner                               -0.001752        0.009010  1.000000   \n",
       "dependents                             0.014590       -0.212444  0.450208   \n",
       "tenure                                 0.010864        0.021219  0.376255   \n",
       "phone_service                         -0.015909        0.005420  0.019535   \n",
       "paperless_billing                     -0.013345        0.152171 -0.010171   \n",
       "monthly_charges                       -0.014810        0.214296  0.091855   \n",
       "churn                                 -0.012770        0.147642 -0.144393   \n",
       "gender                                 1.000000       -0.003792 -0.001752   \n",
       "senior_citizen                        -0.003792        1.000000  0.009010   \n",
       "partner                               -0.001752        0.009010  1.000000   \n",
       "dependents                             0.014590       -0.212444  0.450208   \n",
       "tenure                                 0.010864        0.021219  0.376255   \n",
       "phone_service                         -0.015909        0.005420  0.019535   \n",
       "paperless_billing                     -0.013345        0.152171 -0.010171   \n",
       "monthly_charges                       -0.014810        0.214296  0.091855   \n",
       "churn                                 -0.012770        0.147642 -0.144393   \n",
       "multiple_lines_No                      0.001111       -0.130910 -0.126773   \n",
       "multiple_lines_No phone service        0.015909       -0.005420 -0.019535   \n",
       "multiple_lines_Yes                    -0.010618        0.135423  0.139671   \n",
       "online_security_No                     0.013237        0.177477 -0.129615   \n",
       "online_security_No internet service   -0.000302       -0.178735  0.010912   \n",
       "online_security_Yes                   -0.014378       -0.033739  0.133543   \n",
       "online_backup_No                       0.008017        0.082238 -0.143114   \n",
       "online_backup_No internet service     -0.000302       -0.178735  0.010912   \n",
       "online_backup_Yes                     -0.008101        0.068727  0.139851   \n",
       "device_protection_No                   0.004686        0.095603 -0.152873   \n",
       "device_protection_No internet service -0.000302       -0.178735  0.010912   \n",
       "device_protection_Yes                 -0.004627        0.054784  0.150012   \n",
       "tech_support_No                       -0.000321        0.204263 -0.115341   \n",
       "tech_support_No internet service      -0.000302       -0.178735  0.010912   \n",
       "tech_support_Yes                       0.000627       -0.063028  0.117093   \n",
       "streaming_tv_No                        0.007610        0.050926 -0.135512   \n",
       "streaming_tv_No internet service      -0.000302       -0.178735  0.010912   \n",
       "streaming_tv_Yes                      -0.007393        0.099741  0.126970   \n",
       "streaming_movies_No                    0.014437        0.032703 -0.128003   \n",
       "streaming_movies_No internet service  -0.000302       -0.178735  0.010912   \n",
       "streaming_movies_Yes                  -0.014196        0.117873  0.118926   \n",
       "contract_type_m_to_m                  -0.007779        0.132473 -0.276849   \n",
       "contract_type_one_yr                   0.009490       -0.046933  0.071876   \n",
       "contract_type_two_yr                   0.000036       -0.109641  0.254046   \n",
       "internet_service_type_DSL              0.015081       -0.106446 -0.007078   \n",
       "internet_service_type_Fiber optic     -0.014170        0.249812 -0.002269   \n",
       "internet_service_type_None            -0.000302       -0.178735  0.010912   \n",
       "payment_type_bank_transfer_auto        0.010252       -0.003396 -0.003847   \n",
       "payment_type_credit_card_auto         -0.003755       -0.002164  0.001233   \n",
       "payment_type_e_check                  -0.008885        0.009687 -0.003167   \n",
       "payment_type_mailed_check              0.002358       -0.004135  0.005844   \n",
       "automatic_pmt                          0.005668       -0.004836 -0.002280   \n",
       "\n",
       "                                       dependents    tenure  phone_service  \\\n",
       "gender                                   0.014590  0.010864      -0.015909   \n",
       "senior_citizen                          -0.212444  0.021219       0.005420   \n",
       "partner                                  0.450208  0.376255       0.019535   \n",
       "dependents                               1.000000  0.152598      -0.001352   \n",
       "tenure                                   0.152598  1.000000       0.007683   \n",
       "phone_service                           -0.001352  0.007683       1.000000   \n",
       "paperless_billing                       -0.109362  0.011764       0.023002   \n",
       "monthly_charges                         -0.115769  0.243299       0.246737   \n",
       "churn                                   -0.153367 -0.350880       0.014746   \n",
       "gender                                   0.014590  0.010864      -0.015909   \n",
       "senior_citizen                          -0.212444  0.021219       0.005420   \n",
       "partner                                  0.450208  0.376255       0.019535   \n",
       "dependents                               1.000000  0.152598      -0.001352   \n",
       "tenure                                   0.152598  1.000000       0.007683   \n",
       "phone_service                           -0.001352  0.007683       1.000000   \n",
       "paperless_billing                       -0.109362  0.011764       0.023002   \n",
       "monthly_charges                         -0.115769  0.243299       0.246737   \n",
       "churn                                   -0.153367 -0.350880       0.014746   \n",
       "multiple_lines_No                        0.026689 -0.325899       0.311836   \n",
       "multiple_lines_No phone service          0.001352 -0.007683      -1.000000   \n",
       "multiple_lines_Yes                      -0.027756  0.333668       0.281991   \n",
       "online_security_No                      -0.181046 -0.263540      -0.053949   \n",
       "online_security_No internet service      0.142886 -0.030236       0.171287   \n",
       "online_security_Yes                      0.070328  0.319253      -0.096219   \n",
       "online_backup_No                        -0.136445 -0.317972      -0.094577   \n",
       "online_backup_No internet service        0.142886 -0.030236       0.171287   \n",
       "online_backup_Yes                        0.018809  0.357817      -0.049417   \n",
       "device_protection_No                    -0.127037 -0.311950      -0.072090   \n",
       "device_protection_No internet service    0.142886 -0.030236       0.171287   \n",
       "device_protection_Yes                    0.008989  0.351495      -0.072868   \n",
       "tech_support_No                         -0.167787 -0.269017      -0.052233   \n",
       "tech_support_No internet service         0.142886 -0.030236       0.171287   \n",
       "tech_support_Yes                         0.055332  0.323524      -0.097590   \n",
       "streaming_tv_No                         -0.102815 -0.256115      -0.114737   \n",
       "streaming_tv_No internet service         0.142886 -0.030236       0.171287   \n",
       "streaming_tv_Yes                        -0.017324  0.282915      -0.029324   \n",
       "streaming_movies_No                     -0.085693 -0.261957      -0.110442   \n",
       "streaming_movies_No internet service     0.142886 -0.030236       0.171287   \n",
       "streaming_movies_Yes                    -0.034627  0.287676      -0.033786   \n",
       "contract_type_m_to_m                    -0.224593 -0.648777       0.004816   \n",
       "contract_type_one_yr                     0.060337  0.206717      -0.012825   \n",
       "contract_type_two_yr                     0.204167  0.558946       0.006585   \n",
       "internet_service_type_DSL                0.047192  0.009171      -0.451963   \n",
       "internet_service_type_Fiber optic       -0.163462  0.016271       0.290324   \n",
       "internet_service_type_None               0.142886 -0.030236       0.171287   \n",
       "payment_type_bank_transfer_auto          0.000552 -0.001254      -0.007634   \n",
       "payment_type_credit_card_auto           -0.000303  0.000187       0.008388   \n",
       "payment_type_e_check                    -0.003629 -0.008816       0.007017   \n",
       "payment_type_mailed_check                0.003405  0.009967      -0.007810   \n",
       "automatic_pmt                            0.000217 -0.000929       0.000634   \n",
       "\n",
       "                                       paperless_billing  monthly_charges  \\\n",
       "gender                                         -0.013345        -0.014810   \n",
       "senior_citizen                                  0.152171         0.214296   \n",
       "partner                                        -0.010171         0.091855   \n",
       "dependents                                     -0.109362        -0.115769   \n",
       "tenure                                          0.011764         0.243299   \n",
       "phone_service                                   0.023002         0.246737   \n",
       "paperless_billing                               1.000000         0.352324   \n",
       "monthly_charges                                 0.352324         1.000000   \n",
       "churn                                           0.188817         0.193019   \n",
       "gender                                         -0.013345        -0.014810   \n",
       "senior_citizen                                  0.152171         0.214296   \n",
       "partner                                        -0.010171         0.091855   \n",
       "dependents                                     -0.109362        -0.115769   \n",
       "tenure                                          0.011764         0.243299   \n",
       "phone_service                                   0.023002         0.246737   \n",
       "paperless_billing                               1.000000         0.352324   \n",
       "monthly_charges                                 0.352324         1.000000   \n",
       "churn                                           0.188817         0.193019   \n",
       "multiple_lines_No                              -0.148392        -0.333410   \n",
       "multiple_lines_No phone service                -0.023002        -0.246737   \n",
       "multiple_lines_Yes                              0.163571         0.483937   \n",
       "online_security_No                              0.268443         0.359232   \n",
       "online_security_No internet service            -0.319288        -0.764031   \n",
       "online_security_Yes                            -0.006476         0.297916   \n",
       "online_backup_No                                0.149408         0.206157   \n",
       "online_backup_No internet service              -0.319288        -0.764031   \n",
       "online_backup_Yes                               0.120163         0.445431   \n",
       "device_protection_No                            0.174785         0.170937   \n",
       "device_protection_No internet service          -0.319288        -0.764031   \n",
       "device_protection_Yes                           0.093690         0.482132   \n",
       "tech_support_No                                 0.231254         0.318794   \n",
       "tech_support_No internet service               -0.319288        -0.764031   \n",
       "tech_support_Yes                                0.034523         0.340845   \n",
       "streaming_tv_No                                 0.047812         0.017302   \n",
       "streaming_tv_No internet service               -0.319288        -0.764031   \n",
       "streaming_tv_Yes                                0.221550         0.627740   \n",
       "streaming_movies_No                             0.060274         0.018209   \n",
       "streaming_movies_No internet service           -0.319288        -0.764031   \n",
       "streaming_movies_Yes                            0.208710         0.625562   \n",
       "contract_type_m_to_m                            0.167395         0.059671   \n",
       "contract_type_one_yr                           -0.054433         0.012169   \n",
       "contract_type_two_yr                           -0.143175        -0.081053   \n",
       "internet_service_type_DSL                      -0.069604        -0.159163   \n",
       "internet_service_type_Fiber optic               0.330986         0.784952   \n",
       "internet_service_type_None                     -0.319288        -0.764031   \n",
       "payment_type_bank_transfer_auto                -0.002890        -0.005703   \n",
       "payment_type_credit_card_auto                  -0.004509        -0.001205   \n",
       "payment_type_e_check                            0.011411         0.009589   \n",
       "payment_type_mailed_check                      -0.004016        -0.002666   \n",
       "automatic_pmt                                  -0.006431        -0.006013   \n",
       "\n",
       "                                          churn    gender  ...  \\\n",
       "gender                                -0.012770  1.000000  ...   \n",
       "senior_citizen                         0.147642 -0.003792  ...   \n",
       "partner                               -0.144393 -0.001752  ...   \n",
       "dependents                            -0.153367  0.014590  ...   \n",
       "tenure                                -0.350880  0.010864  ...   \n",
       "phone_service                          0.014746 -0.015909  ...   \n",
       "paperless_billing                      0.188817 -0.013345  ...   \n",
       "monthly_charges                        0.193019 -0.014810  ...   \n",
       "churn                                  1.000000 -0.012770  ...   \n",
       "gender                                -0.012770  1.000000  ...   \n",
       "senior_citizen                         0.147642 -0.003792  ...   \n",
       "partner                               -0.144393 -0.001752  ...   \n",
       "dependents                            -0.153367  0.014590  ...   \n",
       "tenure                                -0.350880  0.010864  ...   \n",
       "phone_service                          0.014746 -0.015909  ...   \n",
       "paperless_billing                      0.188817 -0.013345  ...   \n",
       "monthly_charges                        0.193019 -0.014810  ...   \n",
       "churn                                  1.000000 -0.012770  ...   \n",
       "multiple_lines_No                     -0.031303  0.001111  ...   \n",
       "multiple_lines_No phone service       -0.014746  0.015909  ...   \n",
       "multiple_lines_Yes                     0.040411 -0.010618  ...   \n",
       "online_security_No                     0.339180  0.013237  ...   \n",
       "online_security_No internet service   -0.230191 -0.000302  ...   \n",
       "online_security_Yes                   -0.165891 -0.014378  ...   \n",
       "online_backup_No                       0.272405  0.008017  ...   \n",
       "online_backup_No internet service     -0.230191 -0.000302  ...   \n",
       "online_backup_Yes                     -0.085157 -0.008101  ...   \n",
       "device_protection_No                   0.251936  0.004686  ...   \n",
       "device_protection_No internet service -0.230191 -0.000302  ...   \n",
       "device_protection_Yes                 -0.063792 -0.004627  ...   \n",
       "tech_support_No                        0.341500 -0.000321  ...   \n",
       "tech_support_No internet service      -0.230191 -0.000302  ...   \n",
       "tech_support_Yes                      -0.167514  0.000627  ...   \n",
       "streaming_tv_No                        0.131099  0.007610  ...   \n",
       "streaming_tv_No internet service      -0.230191 -0.000302  ...   \n",
       "streaming_tv_Yes                       0.062618 -0.007393  ...   \n",
       "streaming_movies_No                    0.139180  0.014437  ...   \n",
       "streaming_movies_No internet service  -0.230191 -0.000302  ...   \n",
       "streaming_movies_Yes                   0.054656 -0.014196  ...   \n",
       "contract_type_m_to_m                   0.408479 -0.007779  ...   \n",
       "contract_type_one_yr                  -0.182474  0.009490  ...   \n",
       "contract_type_two_yr                  -0.302177  0.000036  ...   \n",
       "internet_service_type_DSL             -0.120733  0.015081  ...   \n",
       "internet_service_type_Fiber optic      0.306088 -0.014170  ...   \n",
       "internet_service_type_None            -0.230191 -0.000302  ...   \n",
       "payment_type_bank_transfer_auto       -0.002673  0.010252  ...   \n",
       "payment_type_credit_card_auto          0.003647 -0.003755  ...   \n",
       "payment_type_e_check                   0.006542 -0.008885  ...   \n",
       "payment_type_mailed_check             -0.007568  0.002358  ...   \n",
       "automatic_pmt                          0.000838  0.005668  ...   \n",
       "\n",
       "                                       contract_type_one_yr  \\\n",
       "gender                                             0.009490   \n",
       "senior_citizen                                    -0.046933   \n",
       "partner                                            0.071876   \n",
       "dependents                                         0.060337   \n",
       "tenure                                             0.206717   \n",
       "phone_service                                     -0.012825   \n",
       "paperless_billing                                 -0.054433   \n",
       "monthly_charges                                    0.012169   \n",
       "churn                                             -0.182474   \n",
       "gender                                             0.009490   \n",
       "senior_citizen                                    -0.046933   \n",
       "partner                                            0.071876   \n",
       "dependents                                         0.060337   \n",
       "tenure                                             0.206717   \n",
       "phone_service                                     -0.012825   \n",
       "paperless_billing                                 -0.054433   \n",
       "monthly_charges                                    0.012169   \n",
       "churn                                             -0.182474   \n",
       "multiple_lines_No                                 -0.010221   \n",
       "multiple_lines_No phone service                    0.012825   \n",
       "multiple_lines_Yes                                 0.002666   \n",
       "online_security_No                                -0.125060   \n",
       "online_security_No internet service                0.027893   \n",
       "online_security_Yes                                0.113043   \n",
       "online_backup_No                                  -0.107781   \n",
       "online_backup_No internet service                  0.027893   \n",
       "online_backup_Yes                                  0.088315   \n",
       "device_protection_No                              -0.125329   \n",
       "device_protection_No internet service              0.027893   \n",
       "device_protection_Yes                              0.106607   \n",
       "tech_support_No                                   -0.112766   \n",
       "tech_support_No internet service                   0.027893   \n",
       "tech_support_Yes                                   0.098883   \n",
       "streaming_tv_No                                   -0.092169   \n",
       "streaming_tv_No internet service                   0.027893   \n",
       "streaming_tv_Yes                                   0.069074   \n",
       "streaming_movies_No                               -0.096012   \n",
       "streaming_movies_No internet service               0.027893   \n",
       "streaming_movies_Yes                               0.072598   \n",
       "contract_type_m_to_m                              -0.568980   \n",
       "contract_type_one_yr                               1.000000   \n",
       "contract_type_two_yr                              -0.288138   \n",
       "internet_service_type_DSL                          0.054160   \n",
       "internet_service_type_Fiber optic                 -0.074890   \n",
       "internet_service_type_None                         0.027893   \n",
       "payment_type_bank_transfer_auto                    0.001030   \n",
       "payment_type_credit_card_auto                     -0.003329   \n",
       "payment_type_e_check                              -0.000068   \n",
       "payment_type_mailed_check                          0.002388   \n",
       "automatic_pmt                                     -0.001993   \n",
       "\n",
       "                                       contract_type_two_yr  \\\n",
       "gender                                             0.000036   \n",
       "senior_citizen                                    -0.109641   \n",
       "partner                                            0.254046   \n",
       "dependents                                         0.204167   \n",
       "tenure                                             0.558946   \n",
       "phone_service                                      0.006585   \n",
       "paperless_billing                                 -0.143175   \n",
       "monthly_charges                                   -0.081053   \n",
       "churn                                             -0.302177   \n",
       "gender                                             0.000036   \n",
       "senior_citizen                                    -0.109641   \n",
       "partner                                            0.254046   \n",
       "dependents                                         0.204167   \n",
       "tenure                                             0.558946   \n",
       "phone_service                                      0.006585   \n",
       "paperless_billing                                 -0.143175   \n",
       "monthly_charges                                   -0.081053   \n",
       "churn                                             -0.302177   \n",
       "multiple_lines_No                                 -0.105510   \n",
       "multiple_lines_No phone service                   -0.006585   \n",
       "multiple_lines_Yes                                 0.110471   \n",
       "online_security_No                                -0.353977   \n",
       "online_security_No internet service                0.230087   \n",
       "online_security_Yes                                0.182366   \n",
       "online_backup_No                                  -0.293979   \n",
       "online_backup_No internet service                  0.230087   \n",
       "online_backup_Yes                                  0.107751   \n",
       "device_protection_No                              -0.338856   \n",
       "device_protection_No internet service              0.230087   \n",
       "device_protection_Yes                              0.154538   \n",
       "tech_support_No                                   -0.403466   \n",
       "tech_support_No internet service                   0.230087   \n",
       "tech_support_Yes                                   0.235824   \n",
       "streaming_tv_No                                   -0.260377   \n",
       "streaming_tv_No internet service                   0.230087   \n",
       "streaming_tv_Yes                                   0.067388   \n",
       "streaming_movies_No                               -0.265823   \n",
       "streaming_movies_No internet service               0.230087   \n",
       "streaming_movies_Yes                               0.072191   \n",
       "contract_type_m_to_m                              -0.623530   \n",
       "contract_type_one_yr                              -0.288138   \n",
       "contract_type_two_yr                               1.000000   \n",
       "internet_service_type_DSL                          0.022128   \n",
       "internet_service_type_Fiber optic                 -0.211713   \n",
       "internet_service_type_None                         0.230087   \n",
       "payment_type_bank_transfer_auto                    0.002661   \n",
       "payment_type_credit_card_auto                      0.002367   \n",
       "payment_type_e_check                              -0.007614   \n",
       "payment_type_mailed_check                          0.002585   \n",
       "automatic_pmt                                      0.004372   \n",
       "\n",
       "                                       internet_service_type_DSL  \\\n",
       "gender                                                  0.015081   \n",
       "senior_citizen                                         -0.106446   \n",
       "partner                                                -0.007078   \n",
       "dependents                                              0.047192   \n",
       "tenure                                                  0.009171   \n",
       "phone_service                                          -0.451963   \n",
       "paperless_billing                                      -0.069604   \n",
       "monthly_charges                                        -0.159163   \n",
       "churn                                                  -0.120733   \n",
       "gender                                                  0.015081   \n",
       "senior_citizen                                         -0.106446   \n",
       "partner                                                -0.007078   \n",
       "dependents                                              0.047192   \n",
       "tenure                                                  0.009171   \n",
       "phone_service                                          -0.451963   \n",
       "paperless_billing                                      -0.069604   \n",
       "monthly_charges                                        -0.159163   \n",
       "churn                                                  -0.120733   \n",
       "multiple_lines_No                                      -0.069190   \n",
       "multiple_lines_No phone service                         0.451963   \n",
       "multiple_lines_Yes                                     -0.199898   \n",
       "online_security_No                                      0.030584   \n",
       "online_security_No internet service                    -0.378984   \n",
       "online_security_Yes                                     0.311170   \n",
       "online_backup_No                                        0.164989   \n",
       "online_backup_No internet service                      -0.378984   \n",
       "online_backup_Yes                                       0.155516   \n",
       "device_protection_No                                    0.171657   \n",
       "device_protection_No internet service                  -0.378984   \n",
       "device_protection_Yes                                   0.148552   \n",
       "tech_support_No                                         0.027235   \n",
       "tech_support_No internet service                       -0.378984   \n",
       "tech_support_Yes                                        0.313168   \n",
       "streaming_tv_No                                         0.293706   \n",
       "streaming_tv_No internet service                       -0.378984   \n",
       "streaming_tv_Yes                                        0.024842   \n",
       "streaming_movies_No                                     0.281948   \n",
       "streaming_movies_No internet service                   -0.378984   \n",
       "streaming_movies_Yes                                    0.037133   \n",
       "contract_type_m_to_m                                   -0.063221   \n",
       "contract_type_one_yr                                    0.054160   \n",
       "contract_type_two_yr                                    0.022128   \n",
       "internet_service_type_DSL                               1.000000   \n",
       "internet_service_type_Fiber optic                      -0.642363   \n",
       "internet_service_type_None                             -0.378984   \n",
       "payment_type_bank_transfer_auto                         0.000620   \n",
       "payment_type_credit_card_auto                          -0.004610   \n",
       "payment_type_e_check                                   -0.006491   \n",
       "payment_type_mailed_check                               0.010571   \n",
       "automatic_pmt                                          -0.003462   \n",
       "\n",
       "                                       internet_service_type_Fiber optic  \\\n",
       "gender                                                         -0.014170   \n",
       "senior_citizen                                                  0.249812   \n",
       "partner                                                        -0.002269   \n",
       "dependents                                                     -0.163462   \n",
       "tenure                                                          0.016271   \n",
       "phone_service                                                   0.290324   \n",
       "paperless_billing                                               0.330986   \n",
       "monthly_charges                                                 0.784952   \n",
       "churn                                                           0.306088   \n",
       "gender                                                         -0.014170   \n",
       "senior_citizen                                                  0.249812   \n",
       "partner                                                        -0.002269   \n",
       "dependents                                                     -0.163462   \n",
       "tenure                                                          0.016271   \n",
       "phone_service                                                   0.290324   \n",
       "paperless_billing                                               0.330986   \n",
       "monthly_charges                                                 0.784952   \n",
       "churn                                                           0.306088   \n",
       "multiple_lines_No                                              -0.182845   \n",
       "multiple_lines_No phone service                                -0.290324   \n",
       "multiple_lines_Yes                                              0.357918   \n",
       "online_security_No                                              0.403910   \n",
       "online_security_No internet service                            -0.465784   \n",
       "online_security_Yes                                            -0.023062   \n",
       "online_backup_No                                                0.225852   \n",
       "online_backup_No internet service                              -0.465784   \n",
       "online_backup_Yes                                               0.167064   \n",
       "device_protection_No                                            0.219376   \n",
       "device_protection_No internet service                          -0.465784   \n",
       "device_protection_Yes                                           0.173811   \n",
       "tech_support_No                                                 0.402564   \n",
       "tech_support_No internet service                               -0.465784   \n",
       "tech_support_Yes                                               -0.021419   \n",
       "streaming_tv_No                                                 0.071923   \n",
       "streaming_tv_No internet service                               -0.465784   \n",
       "streaming_tv_Yes                                                0.321017   \n",
       "streaming_movies_No                                             0.079898   \n",
       "streaming_movies_No internet service                           -0.465784   \n",
       "streaming_movies_Yes                                            0.312508   \n",
       "contract_type_m_to_m                                            0.242956   \n",
       "contract_type_one_yr                                           -0.074890   \n",
       "contract_type_two_yr                                           -0.211713   \n",
       "internet_service_type_DSL                                      -0.642363   \n",
       "internet_service_type_Fiber optic                               1.000000   \n",
       "internet_service_type_None                                     -0.465784   \n",
       "payment_type_bank_transfer_auto                                -0.005117   \n",
       "payment_type_credit_card_auto                                   0.000404   \n",
       "payment_type_e_check                                            0.014246   \n",
       "payment_type_mailed_check                                      -0.009579   \n",
       "automatic_pmt                                                  -0.004106   \n",
       "\n",
       "                                       internet_service_type_None  \\\n",
       "gender                                                  -0.000302   \n",
       "senior_citizen                                          -0.178735   \n",
       "partner                                                  0.010912   \n",
       "dependents                                               0.142886   \n",
       "tenure                                                  -0.030236   \n",
       "phone_service                                            0.171287   \n",
       "paperless_billing                                       -0.319288   \n",
       "monthly_charges                                         -0.764031   \n",
       "churn                                                   -0.230191   \n",
       "gender                                                  -0.000302   \n",
       "senior_citizen                                          -0.178735   \n",
       "partner                                                  0.010912   \n",
       "dependents                                               0.142886   \n",
       "tenure                                                  -0.030236   \n",
       "phone_service                                            0.171287   \n",
       "paperless_billing                                       -0.319288   \n",
       "monthly_charges                                         -0.764031   \n",
       "churn                                                   -0.230191   \n",
       "multiple_lines_No                                        0.300667   \n",
       "multiple_lines_No phone service                         -0.171287   \n",
       "multiple_lines_Yes                                      -0.201368   \n",
       "online_security_No                                      -0.523020   \n",
       "online_security_No internet service                      1.000000   \n",
       "online_security_Yes                                     -0.331434   \n",
       "online_backup_No                                        -0.463207   \n",
       "online_backup_No internet service                        1.000000   \n",
       "online_backup_Yes                                       -0.381285   \n",
       "device_protection_No                                    -0.463087   \n",
       "device_protection_No internet service                    1.000000   \n",
       "device_protection_Yes                                   -0.381392   \n",
       "tech_support_No                                         -0.517528   \n",
       "tech_support_No internet service                         1.000000   \n",
       "tech_support_Yes                                        -0.335726   \n",
       "streaming_tv_No                                         -0.425962   \n",
       "streaming_tv_No internet service                         1.000000   \n",
       "streaming_tv_Yes                                        -0.416301   \n",
       "streaming_movies_No                                     -0.422015   \n",
       "streaming_movies_No internet service                     1.000000   \n",
       "streaming_movies_Yes                                    -0.420217   \n",
       "contract_type_m_to_m                                    -0.220365   \n",
       "contract_type_one_yr                                     0.027893   \n",
       "contract_type_two_yr                                     0.230087   \n",
       "internet_service_type_DSL                               -0.378984   \n",
       "internet_service_type_Fiber optic                       -0.465784   \n",
       "internet_service_type_None                               1.000000   \n",
       "payment_type_bank_transfer_auto                          0.005463   \n",
       "payment_type_credit_card_auto                            0.004836   \n",
       "payment_type_e_check                                    -0.009707   \n",
       "payment_type_mailed_check                               -0.000639   \n",
       "automatic_pmt                                            0.008955   \n",
       "\n",
       "                                       payment_type_bank_transfer_auto  \\\n",
       "gender                                                        0.010252   \n",
       "senior_citizen                                               -0.003396   \n",
       "partner                                                      -0.003847   \n",
       "dependents                                                    0.000552   \n",
       "tenure                                                       -0.001254   \n",
       "phone_service                                                -0.007634   \n",
       "paperless_billing                                            -0.002890   \n",
       "monthly_charges                                              -0.005703   \n",
       "churn                                                        -0.002673   \n",
       "gender                                                        0.010252   \n",
       "senior_citizen                                               -0.003396   \n",
       "partner                                                      -0.003847   \n",
       "dependents                                                    0.000552   \n",
       "tenure                                                       -0.001254   \n",
       "phone_service                                                -0.007634   \n",
       "paperless_billing                                            -0.002890   \n",
       "monthly_charges                                              -0.005703   \n",
       "churn                                                        -0.002673   \n",
       "multiple_lines_No                                             0.001397   \n",
       "multiple_lines_No phone service                               0.007634   \n",
       "multiple_lines_Yes                                           -0.005968   \n",
       "online_security_No                                            0.000314   \n",
       "online_security_No internet service                           0.005463   \n",
       "online_security_Yes                                          -0.005321   \n",
       "online_backup_No                                             -0.004847   \n",
       "online_backup_No internet service                             0.005463   \n",
       "online_backup_Yes                                             0.000334   \n",
       "device_protection_No                                         -0.008230   \n",
       "device_protection_No internet service                         0.005463   \n",
       "device_protection_Yes                                         0.003862   \n",
       "tech_support_No                                              -0.006377   \n",
       "tech_support_No internet service                              0.005463   \n",
       "tech_support_Yes                                              0.002074   \n",
       "streaming_tv_No                                              -0.005535   \n",
       "streaming_tv_No internet service                              0.005463   \n",
       "streaming_tv_Yes                                              0.000950   \n",
       "streaming_movies_No                                          -0.003814   \n",
       "streaming_movies_No internet service                          0.005463   \n",
       "streaming_movies_Yes                                         -0.000785   \n",
       "contract_type_m_to_m                                         -0.003126   \n",
       "contract_type_one_yr                                          0.001030   \n",
       "contract_type_two_yr                                          0.002661   \n",
       "internet_service_type_DSL                                     0.000620   \n",
       "internet_service_type_Fiber optic                            -0.005117   \n",
       "internet_service_type_None                                    0.005463   \n",
       "payment_type_bank_transfer_auto                               1.000000   \n",
       "payment_type_credit_card_auto                                -0.338607   \n",
       "payment_type_e_check                                         -0.336950   \n",
       "payment_type_mailed_check                                    -0.331806   \n",
       "automatic_pmt                                                 0.576899   \n",
       "\n",
       "                                       payment_type_credit_card_auto  \\\n",
       "gender                                                     -0.003755   \n",
       "senior_citizen                                             -0.002164   \n",
       "partner                                                     0.001233   \n",
       "dependents                                                 -0.000303   \n",
       "tenure                                                      0.000187   \n",
       "phone_service                                               0.008388   \n",
       "paperless_billing                                          -0.004509   \n",
       "monthly_charges                                            -0.001205   \n",
       "churn                                                       0.003647   \n",
       "gender                                                     -0.003755   \n",
       "senior_citizen                                             -0.002164   \n",
       "partner                                                     0.001233   \n",
       "dependents                                                 -0.000303   \n",
       "tenure                                                      0.000187   \n",
       "phone_service                                               0.008388   \n",
       "paperless_billing                                          -0.004509   \n",
       "monthly_charges                                            -0.001205   \n",
       "churn                                                       0.003647   \n",
       "multiple_lines_No                                           0.004368   \n",
       "multiple_lines_No phone service                            -0.008388   \n",
       "multiple_lines_Yes                                          0.000596   \n",
       "online_security_No                                         -0.004093   \n",
       "online_security_No internet service                         0.004836   \n",
       "online_security_Yes                                         0.000129   \n",
       "online_backup_No                                           -0.001715   \n",
       "online_backup_No internet service                           0.004836   \n",
       "online_backup_Yes                                          -0.002392   \n",
       "device_protection_No                                        0.001091   \n",
       "device_protection_No internet service                       0.004836   \n",
       "device_protection_Yes                                      -0.005318   \n",
       "tech_support_No                                            -0.001487   \n",
       "tech_support_No internet service                            0.004836   \n",
       "tech_support_Yes                                           -0.002742   \n",
       "streaming_tv_No                                            -0.006717   \n",
       "streaming_tv_No internet service                            0.004836   \n",
       "streaming_tv_Yes                                            0.002667   \n",
       "streaming_movies_No                                         0.000656   \n",
       "streaming_movies_No internet service                        0.004836   \n",
       "streaming_movies_Yes                                       -0.004731   \n",
       "contract_type_m_to_m                                        0.000685   \n",
       "contract_type_one_yr                                       -0.003329   \n",
       "contract_type_two_yr                                        0.002367   \n",
       "internet_service_type_DSL                                  -0.004610   \n",
       "internet_service_type_Fiber optic                           0.000404   \n",
       "internet_service_type_None                                  0.004836   \n",
       "payment_type_bank_transfer_auto                            -0.338607   \n",
       "payment_type_credit_card_auto                               1.000000   \n",
       "payment_type_e_check                                       -0.334803   \n",
       "payment_type_mailed_check                                  -0.329691   \n",
       "automatic_pmt                                               0.573222   \n",
       "\n",
       "                                       payment_type_e_check  \\\n",
       "gender                                            -0.008885   \n",
       "senior_citizen                                     0.009687   \n",
       "partner                                           -0.003167   \n",
       "dependents                                        -0.003629   \n",
       "tenure                                            -0.008816   \n",
       "phone_service                                      0.007017   \n",
       "paperless_billing                                  0.011411   \n",
       "monthly_charges                                    0.009589   \n",
       "churn                                              0.006542   \n",
       "gender                                            -0.008885   \n",
       "senior_citizen                                     0.009687   \n",
       "partner                                           -0.003167   \n",
       "dependents                                        -0.003629   \n",
       "tenure                                            -0.008816   \n",
       "phone_service                                      0.007017   \n",
       "paperless_billing                                  0.011411   \n",
       "monthly_charges                                    0.009589   \n",
       "churn                                              0.006542   \n",
       "multiple_lines_No                                 -0.000084   \n",
       "multiple_lines_No phone service                   -0.007017   \n",
       "multiple_lines_Yes                                 0.004273   \n",
       "online_security_No                                 0.008371   \n",
       "online_security_No internet service               -0.009707   \n",
       "online_security_Yes                               -0.000430   \n",
       "online_backup_No                                   0.009740   \n",
       "online_backup_No internet service                 -0.009707   \n",
       "online_backup_Yes                                 -0.001769   \n",
       "device_protection_No                               0.008409   \n",
       "device_protection_No internet service             -0.009707   \n",
       "device_protection_Yes                             -0.000380   \n",
       "tech_support_No                                    0.009471   \n",
       "tech_support_No internet service                  -0.009707   \n",
       "tech_support_Yes                                  -0.001638   \n",
       "streaming_tv_No                                    0.013833   \n",
       "streaming_tv_No internet service                  -0.009707   \n",
       "streaming_tv_Yes                                  -0.005706   \n",
       "streaming_movies_No                                0.008296   \n",
       "streaming_movies_No internet service              -0.009707   \n",
       "streaming_movies_Yes                              -0.000124   \n",
       "contract_type_m_to_m                               0.006594   \n",
       "contract_type_one_yr                              -0.000068   \n",
       "contract_type_two_yr                              -0.007614   \n",
       "internet_service_type_DSL                         -0.006491   \n",
       "internet_service_type_Fiber optic                  0.014246   \n",
       "internet_service_type_None                        -0.009707   \n",
       "payment_type_bank_transfer_auto                   -0.336950   \n",
       "payment_type_credit_card_auto                     -0.334803   \n",
       "payment_type_e_check                               1.000000   \n",
       "payment_type_mailed_check                         -0.328078   \n",
       "automatic_pmt                                     -0.584071   \n",
       "\n",
       "                                       payment_type_mailed_check  \\\n",
       "gender                                                  0.002358   \n",
       "senior_citizen                                         -0.004135   \n",
       "partner                                                 0.005844   \n",
       "dependents                                              0.003405   \n",
       "tenure                                                  0.009967   \n",
       "phone_service                                          -0.007810   \n",
       "paperless_billing                                      -0.004016   \n",
       "monthly_charges                                        -0.002666   \n",
       "churn                                                  -0.007568   \n",
       "gender                                                  0.002358   \n",
       "senior_citizen                                         -0.004135   \n",
       "partner                                                 0.005844   \n",
       "dependents                                              0.003405   \n",
       "tenure                                                  0.009967   \n",
       "phone_service                                          -0.007810   \n",
       "paperless_billing                                      -0.004016   \n",
       "monthly_charges                                        -0.002666   \n",
       "churn                                                  -0.007568   \n",
       "multiple_lines_No                                      -0.005745   \n",
       "multiple_lines_No phone service                         0.007810   \n",
       "multiple_lines_Yes                                      0.001140   \n",
       "online_security_No                                     -0.004620   \n",
       "online_security_No internet service                    -0.000639   \n",
       "online_security_Yes                                     0.005696   \n",
       "online_backup_No                                       -0.003172   \n",
       "online_backup_No internet service                      -0.000639   \n",
       "online_backup_Yes                                       0.003861   \n",
       "device_protection_No                                   -0.001236   \n",
       "device_protection_No internet service                  -0.000639   \n",
       "device_protection_Yes                                   0.001842   \n",
       "tech_support_No                                        -0.001580   \n",
       "tech_support_No internet service                       -0.000639   \n",
       "tech_support_Yes                                        0.002318   \n",
       "streaming_tv_No                                        -0.001546   \n",
       "streaming_tv_No internet service                       -0.000639   \n",
       "streaming_tv_Yes                                        0.002093   \n",
       "streaming_movies_No                                    -0.005157   \n",
       "streaming_movies_No internet service                   -0.000639   \n",
       "streaming_movies_Yes                                    0.005701   \n",
       "contract_type_m_to_m                                   -0.004169   \n",
       "contract_type_one_yr                                    0.002388   \n",
       "contract_type_two_yr                                    0.002585   \n",
       "internet_service_type_DSL                               0.010571   \n",
       "internet_service_type_Fiber optic                      -0.009579   \n",
       "internet_service_type_None                             -0.000639   \n",
       "payment_type_bank_transfer_auto                        -0.331806   \n",
       "payment_type_credit_card_auto                          -0.329691   \n",
       "payment_type_e_check                                   -0.328078   \n",
       "payment_type_mailed_check                               1.000000   \n",
       "automatic_pmt                                          -0.575155   \n",
       "\n",
       "                                       automatic_pmt  \n",
       "gender                                      0.005668  \n",
       "senior_citizen                             -0.004836  \n",
       "partner                                    -0.002280  \n",
       "dependents                                  0.000217  \n",
       "tenure                                     -0.000929  \n",
       "phone_service                               0.000634  \n",
       "paperless_billing                          -0.006431  \n",
       "monthly_charges                            -0.006013  \n",
       "churn                                       0.000838  \n",
       "gender                                      0.005668  \n",
       "senior_citizen                             -0.004836  \n",
       "partner                                    -0.002280  \n",
       "dependents                                  0.000217  \n",
       "tenure                                     -0.000929  \n",
       "phone_service                               0.000634  \n",
       "paperless_billing                          -0.006431  \n",
       "monthly_charges                            -0.006013  \n",
       "churn                                       0.000838  \n",
       "multiple_lines_No                           0.005009  \n",
       "multiple_lines_No phone service            -0.000634  \n",
       "multiple_lines_Yes                         -0.004680  \n",
       "online_security_No                         -0.003280  \n",
       "online_security_No internet service         0.008955  \n",
       "online_security_Yes                        -0.004522  \n",
       "online_backup_No                           -0.005710  \n",
       "online_backup_No internet service           0.008955  \n",
       "online_backup_Yes                          -0.001785  \n",
       "device_protection_No                       -0.006220  \n",
       "device_protection_No internet service       0.008955  \n",
       "device_protection_Yes                      -0.001254  \n",
       "tech_support_No                            -0.006844  \n",
       "tech_support_No internet service            0.008955  \n",
       "tech_support_Yes                           -0.000574  \n",
       "streaming_tv_No                            -0.010651  \n",
       "streaming_tv_No internet service            0.008955  \n",
       "streaming_tv_Yes                            0.003142  \n",
       "streaming_movies_No                        -0.002752  \n",
       "streaming_movies_No internet service        0.008955  \n",
       "streaming_movies_Yes                       -0.004791  \n",
       "contract_type_m_to_m                       -0.002128  \n",
       "contract_type_one_yr                       -0.001993  \n",
       "contract_type_two_yr                        0.004372  \n",
       "internet_service_type_DSL                  -0.003462  \n",
       "internet_service_type_Fiber optic          -0.004106  \n",
       "internet_service_type_None                  0.008955  \n",
       "payment_type_bank_transfer_auto             0.576899  \n",
       "payment_type_credit_card_auto               0.573222  \n",
       "payment_type_e_check                       -0.584071  \n",
       "payment_type_mailed_check                  -0.575155  \n",
       "automatic_pmt                               1.000000  \n",
       "\n",
       "[50 rows x 50 columns]"
      ]
     },
     "execution_count": 15,
     "metadata": {},
     "output_type": "execute_result"
    }
   ],
   "source": [
    "#find correlation\n",
    "telco_correlation_encoded = train_encoded.corr()\n",
    "telco_correlation_encoded\n"
   ]
  },
  {
   "cell_type": "code",
   "execution_count": 32,
   "id": "8cc47662",
   "metadata": {},
   "outputs": [
    {
     "data": {
      "text/html": [
       "<div>\n",
       "<style scoped>\n",
       "    .dataframe tbody tr th:only-of-type {\n",
       "        vertical-align: middle;\n",
       "    }\n",
       "\n",
       "    .dataframe tbody tr th {\n",
       "        vertical-align: top;\n",
       "    }\n",
       "\n",
       "    .dataframe thead th {\n",
       "        text-align: right;\n",
       "    }\n",
       "</style>\n",
       "<table border=\"1\" class=\"dataframe\">\n",
       "  <thead>\n",
       "    <tr style=\"text-align: right;\">\n",
       "      <th></th>\n",
       "      <th>senior_citizen</th>\n",
       "      <th>tenure</th>\n",
       "      <th>internet_service_type_id</th>\n",
       "      <th>contract_type_id</th>\n",
       "      <th>payment_type_id</th>\n",
       "      <th>monthly_charges</th>\n",
       "      <th>automatic_pmt</th>\n",
       "    </tr>\n",
       "  </thead>\n",
       "  <tbody>\n",
       "    <tr>\n",
       "      <th>senior_citizen</th>\n",
       "      <td>1.000000</td>\n",
       "      <td>0.021219</td>\n",
       "      <td>-0.031170</td>\n",
       "      <td>-0.135234</td>\n",
       "      <td>-0.088172</td>\n",
       "      <td>0.214296</td>\n",
       "      <td>-0.004836</td>\n",
       "    </tr>\n",
       "    <tr>\n",
       "      <th>tenure</th>\n",
       "      <td>0.021219</td>\n",
       "      <td>1.000000</td>\n",
       "      <td>-0.022792</td>\n",
       "      <td>0.673565</td>\n",
       "      <td>0.337252</td>\n",
       "      <td>0.243299</td>\n",
       "      <td>-0.000929</td>\n",
       "    </tr>\n",
       "    <tr>\n",
       "      <th>internet_service_type_id</th>\n",
       "      <td>-0.031170</td>\n",
       "      <td>-0.022792</td>\n",
       "      <td>1.000000</td>\n",
       "      <td>0.107612</td>\n",
       "      <td>0.014586</td>\n",
       "      <td>-0.323954</td>\n",
       "      <td>0.007231</td>\n",
       "    </tr>\n",
       "    <tr>\n",
       "      <th>contract_type_id</th>\n",
       "      <td>-0.135234</td>\n",
       "      <td>0.673565</td>\n",
       "      <td>0.107612</td>\n",
       "      <td>1.000000</td>\n",
       "      <td>0.353594</td>\n",
       "      <td>-0.077142</td>\n",
       "      <td>0.003510</td>\n",
       "    </tr>\n",
       "    <tr>\n",
       "      <th>payment_type_id</th>\n",
       "      <td>-0.088172</td>\n",
       "      <td>0.337252</td>\n",
       "      <td>0.014586</td>\n",
       "      <td>0.353594</td>\n",
       "      <td>1.000000</td>\n",
       "      <td>-0.073548</td>\n",
       "      <td>0.010200</td>\n",
       "    </tr>\n",
       "    <tr>\n",
       "      <th>monthly_charges</th>\n",
       "      <td>0.214296</td>\n",
       "      <td>0.243299</td>\n",
       "      <td>-0.323954</td>\n",
       "      <td>-0.077142</td>\n",
       "      <td>-0.073548</td>\n",
       "      <td>1.000000</td>\n",
       "      <td>-0.006013</td>\n",
       "    </tr>\n",
       "    <tr>\n",
       "      <th>automatic_pmt</th>\n",
       "      <td>-0.004836</td>\n",
       "      <td>-0.000929</td>\n",
       "      <td>0.007231</td>\n",
       "      <td>0.003510</td>\n",
       "      <td>0.010200</td>\n",
       "      <td>-0.006013</td>\n",
       "      <td>1.000000</td>\n",
       "    </tr>\n",
       "  </tbody>\n",
       "</table>\n",
       "</div>"
      ],
      "text/plain": [
       "                          senior_citizen    tenure  internet_service_type_id  \\\n",
       "senior_citizen                  1.000000  0.021219                 -0.031170   \n",
       "tenure                          0.021219  1.000000                 -0.022792   \n",
       "internet_service_type_id       -0.031170 -0.022792                  1.000000   \n",
       "contract_type_id               -0.135234  0.673565                  0.107612   \n",
       "payment_type_id                -0.088172  0.337252                  0.014586   \n",
       "monthly_charges                 0.214296  0.243299                 -0.323954   \n",
       "automatic_pmt                  -0.004836 -0.000929                  0.007231   \n",
       "\n",
       "                          contract_type_id  payment_type_id  monthly_charges  \\\n",
       "senior_citizen                   -0.135234        -0.088172         0.214296   \n",
       "tenure                            0.673565         0.337252         0.243299   \n",
       "internet_service_type_id          0.107612         0.014586        -0.323954   \n",
       "contract_type_id                  1.000000         0.353594        -0.077142   \n",
       "payment_type_id                   0.353594         1.000000        -0.073548   \n",
       "monthly_charges                  -0.077142        -0.073548         1.000000   \n",
       "automatic_pmt                     0.003510         0.010200        -0.006013   \n",
       "\n",
       "                          automatic_pmt  \n",
       "senior_citizen                -0.004836  \n",
       "tenure                        -0.000929  \n",
       "internet_service_type_id       0.007231  \n",
       "contract_type_id               0.003510  \n",
       "payment_type_id                0.010200  \n",
       "monthly_charges               -0.006013  \n",
       "automatic_pmt                  1.000000  "
      ]
     },
     "execution_count": 32,
     "metadata": {},
     "output_type": "execute_result"
    }
   ],
   "source": [
    "telco_correlation_raw = train_raw.corr()\n",
    "telco_correlation_raw"
   ]
  },
  {
   "cell_type": "code",
   "execution_count": 33,
   "id": "f710f9ca",
   "metadata": {},
   "outputs": [
    {
     "ename": "KeyError",
     "evalue": "'churn'",
     "output_type": "error",
     "traceback": [
      "\u001b[0;31m---------------------------------------------------------------------------\u001b[0m",
      "\u001b[0;31mKeyError\u001b[0m                                  Traceback (most recent call last)",
      "\u001b[0;32m/opt/homebrew/anaconda3/lib/python3.8/site-packages/pandas/core/indexes/base.py\u001b[0m in \u001b[0;36mget_loc\u001b[0;34m(self, key, method, tolerance)\u001b[0m\n\u001b[1;32m   3079\u001b[0m             \u001b[0;32mtry\u001b[0m\u001b[0;34m:\u001b[0m\u001b[0;34m\u001b[0m\u001b[0;34m\u001b[0m\u001b[0m\n\u001b[0;32m-> 3080\u001b[0;31m                 \u001b[0;32mreturn\u001b[0m \u001b[0mself\u001b[0m\u001b[0;34m.\u001b[0m\u001b[0m_engine\u001b[0m\u001b[0;34m.\u001b[0m\u001b[0mget_loc\u001b[0m\u001b[0;34m(\u001b[0m\u001b[0mcasted_key\u001b[0m\u001b[0;34m)\u001b[0m\u001b[0;34m\u001b[0m\u001b[0;34m\u001b[0m\u001b[0m\n\u001b[0m\u001b[1;32m   3081\u001b[0m             \u001b[0;32mexcept\u001b[0m \u001b[0mKeyError\u001b[0m \u001b[0;32mas\u001b[0m \u001b[0merr\u001b[0m\u001b[0;34m:\u001b[0m\u001b[0;34m\u001b[0m\u001b[0;34m\u001b[0m\u001b[0m\n",
      "\u001b[0;32mpandas/_libs/index.pyx\u001b[0m in \u001b[0;36mpandas._libs.index.IndexEngine.get_loc\u001b[0;34m()\u001b[0m\n",
      "\u001b[0;32mpandas/_libs/index.pyx\u001b[0m in \u001b[0;36mpandas._libs.index.IndexEngine.get_loc\u001b[0;34m()\u001b[0m\n",
      "\u001b[0;32mpandas/_libs/hashtable_class_helper.pxi\u001b[0m in \u001b[0;36mpandas._libs.hashtable.PyObjectHashTable.get_item\u001b[0;34m()\u001b[0m\n",
      "\u001b[0;32mpandas/_libs/hashtable_class_helper.pxi\u001b[0m in \u001b[0;36mpandas._libs.hashtable.PyObjectHashTable.get_item\u001b[0;34m()\u001b[0m\n",
      "\u001b[0;31mKeyError\u001b[0m: 'churn'",
      "\nThe above exception was the direct cause of the following exception:\n",
      "\u001b[0;31mKeyError\u001b[0m                                  Traceback (most recent call last)",
      "\u001b[0;32m<ipython-input-33-a8e65951f0eb>\u001b[0m in \u001b[0;36m<module>\u001b[0;34m\u001b[0m\n\u001b[1;32m      1\u001b[0m \u001b[0;31m#this gives the all the correlation with JUST churn\u001b[0m\u001b[0;34m\u001b[0m\u001b[0;34m\u001b[0m\u001b[0;34m\u001b[0m\u001b[0m\n\u001b[0;32m----> 2\u001b[0;31m \u001b[0mtelco_corr_churn\u001b[0m \u001b[0;34m=\u001b[0m \u001b[0mtelco_correlation_raw\u001b[0m\u001b[0;34m[\u001b[0m\u001b[0;34m'churn'\u001b[0m\u001b[0;34m]\u001b[0m\u001b[0;34m.\u001b[0m\u001b[0msort_values\u001b[0m\u001b[0;34m(\u001b[0m\u001b[0mascending\u001b[0m\u001b[0;34m=\u001b[0m\u001b[0;32mFalse\u001b[0m\u001b[0;34m)\u001b[0m\u001b[0;34m\u001b[0m\u001b[0;34m\u001b[0m\u001b[0m\n\u001b[0m\u001b[1;32m      3\u001b[0m \u001b[0mtelco_corr_churn\u001b[0m\u001b[0;34m\u001b[0m\u001b[0;34m\u001b[0m\u001b[0m\n",
      "\u001b[0;32m/opt/homebrew/anaconda3/lib/python3.8/site-packages/pandas/core/frame.py\u001b[0m in \u001b[0;36m__getitem__\u001b[0;34m(self, key)\u001b[0m\n\u001b[1;32m   3022\u001b[0m             \u001b[0;32mif\u001b[0m \u001b[0mself\u001b[0m\u001b[0;34m.\u001b[0m\u001b[0mcolumns\u001b[0m\u001b[0;34m.\u001b[0m\u001b[0mnlevels\u001b[0m \u001b[0;34m>\u001b[0m \u001b[0;36m1\u001b[0m\u001b[0;34m:\u001b[0m\u001b[0;34m\u001b[0m\u001b[0;34m\u001b[0m\u001b[0m\n\u001b[1;32m   3023\u001b[0m                 \u001b[0;32mreturn\u001b[0m \u001b[0mself\u001b[0m\u001b[0;34m.\u001b[0m\u001b[0m_getitem_multilevel\u001b[0m\u001b[0;34m(\u001b[0m\u001b[0mkey\u001b[0m\u001b[0;34m)\u001b[0m\u001b[0;34m\u001b[0m\u001b[0;34m\u001b[0m\u001b[0m\n\u001b[0;32m-> 3024\u001b[0;31m             \u001b[0mindexer\u001b[0m \u001b[0;34m=\u001b[0m \u001b[0mself\u001b[0m\u001b[0;34m.\u001b[0m\u001b[0mcolumns\u001b[0m\u001b[0;34m.\u001b[0m\u001b[0mget_loc\u001b[0m\u001b[0;34m(\u001b[0m\u001b[0mkey\u001b[0m\u001b[0;34m)\u001b[0m\u001b[0;34m\u001b[0m\u001b[0;34m\u001b[0m\u001b[0m\n\u001b[0m\u001b[1;32m   3025\u001b[0m             \u001b[0;32mif\u001b[0m \u001b[0mis_integer\u001b[0m\u001b[0;34m(\u001b[0m\u001b[0mindexer\u001b[0m\u001b[0;34m)\u001b[0m\u001b[0;34m:\u001b[0m\u001b[0;34m\u001b[0m\u001b[0;34m\u001b[0m\u001b[0m\n\u001b[1;32m   3026\u001b[0m                 \u001b[0mindexer\u001b[0m \u001b[0;34m=\u001b[0m \u001b[0;34m[\u001b[0m\u001b[0mindexer\u001b[0m\u001b[0;34m]\u001b[0m\u001b[0;34m\u001b[0m\u001b[0;34m\u001b[0m\u001b[0m\n",
      "\u001b[0;32m/opt/homebrew/anaconda3/lib/python3.8/site-packages/pandas/core/indexes/base.py\u001b[0m in \u001b[0;36mget_loc\u001b[0;34m(self, key, method, tolerance)\u001b[0m\n\u001b[1;32m   3080\u001b[0m                 \u001b[0;32mreturn\u001b[0m \u001b[0mself\u001b[0m\u001b[0;34m.\u001b[0m\u001b[0m_engine\u001b[0m\u001b[0;34m.\u001b[0m\u001b[0mget_loc\u001b[0m\u001b[0;34m(\u001b[0m\u001b[0mcasted_key\u001b[0m\u001b[0;34m)\u001b[0m\u001b[0;34m\u001b[0m\u001b[0;34m\u001b[0m\u001b[0m\n\u001b[1;32m   3081\u001b[0m             \u001b[0;32mexcept\u001b[0m \u001b[0mKeyError\u001b[0m \u001b[0;32mas\u001b[0m \u001b[0merr\u001b[0m\u001b[0;34m:\u001b[0m\u001b[0;34m\u001b[0m\u001b[0;34m\u001b[0m\u001b[0m\n\u001b[0;32m-> 3082\u001b[0;31m                 \u001b[0;32mraise\u001b[0m \u001b[0mKeyError\u001b[0m\u001b[0;34m(\u001b[0m\u001b[0mkey\u001b[0m\u001b[0;34m)\u001b[0m \u001b[0;32mfrom\u001b[0m \u001b[0merr\u001b[0m\u001b[0;34m\u001b[0m\u001b[0;34m\u001b[0m\u001b[0m\n\u001b[0m\u001b[1;32m   3083\u001b[0m \u001b[0;34m\u001b[0m\u001b[0m\n\u001b[1;32m   3084\u001b[0m         \u001b[0;32mif\u001b[0m \u001b[0mtolerance\u001b[0m \u001b[0;32mis\u001b[0m \u001b[0;32mnot\u001b[0m \u001b[0;32mNone\u001b[0m\u001b[0;34m:\u001b[0m\u001b[0;34m\u001b[0m\u001b[0;34m\u001b[0m\u001b[0m\n",
      "\u001b[0;31mKeyError\u001b[0m: 'churn'"
     ]
    }
   ],
   "source": [
    "#this gives the all the correlation with JUST churn\n",
    "telco_corr_churn = telco_correlation_raw['churn'].sort_values(ascending=False)\n",
    "telco_corr_churn\n"
   ]
  },
  {
   "cell_type": "code",
   "execution_count": 17,
   "id": "3fbd1202",
   "metadata": {},
   "outputs": [
    {
     "data": {
      "image/png": "[encoded data removed]",
      "text/plain": [
       "<Figure size 1152x648 with 2 Axes>"
      ]
     },
     "metadata": {
      "needs_background": "light"
     },
     "output_type": "display_data"
    }
   ],
   "source": [
    "#heatmap to show correlation of all data\n",
    "plt.figure(figsize=(16,9))\n",
    "\n",
    "sns.heatmap(train_raw.corr(), cmap='YlGnBu', center=0, annot=True)\n",
    "\n",
    "plt.title('Correlation of Telco Data')\n",
    "\n",
    "plt.show()"
   ]
  },
  {
   "cell_type": "code",
   "execution_count": null,
   "id": "bbd361e1",
   "metadata": {},
   "outputs": [],
   "source": []
  },
  {
   "cell_type": "markdown",
   "id": "de93a208",
   "metadata": {},
   "source": [
    "# Find the appropriate statistical test to use"
   ]
  },
  {
   "cell_type": "code",
   "execution_count": 34,
   "id": "f7f5a7d7",
   "metadata": {},
   "outputs": [],
   "source": [
    "#Set our alpha\n",
    "alpha = 0.05"
   ]
  },
  {
   "cell_type": "markdown",
   "id": "0d044931",
   "metadata": {},
   "source": [
    "### Check for independence amongst churn and automatic payment plan customers"
   ]
  },
  {
   "cell_type": "markdown",
   "id": "b1544c0a",
   "metadata": {},
   "source": [
    "#### Looking at the two following variables: churn (discrete/categorical) and automatic payment types (discrete/categorical)\n",
    "- Since they are 2 discrete/categorical variables,  $\\chi^2$ testing"
   ]
  },
  {
   "cell_type": "code",
   "execution_count": 41,
   "id": "137c96b8",
   "metadata": {},
   "outputs": [],
   "source": [
    "null_hypothesis1 = \"Customers who churn are independent of whether they are on automatic payments\"\n"
   ]
  },
  {
   "cell_type": "code",
   "execution_count": 42,
   "id": "25ba0285",
   "metadata": {},
   "outputs": [
    {
     "data": {
      "text/html": [
       "<div>\n",
       "<style scoped>\n",
       "    .dataframe tbody tr th:only-of-type {\n",
       "        vertical-align: middle;\n",
       "    }\n",
       "\n",
       "    .dataframe tbody tr th {\n",
       "        vertical-align: top;\n",
       "    }\n",
       "\n",
       "    .dataframe thead th {\n",
       "        text-align: right;\n",
       "    }\n",
       "</style>\n",
       "<table border=\"1\" class=\"dataframe\">\n",
       "  <thead>\n",
       "    <tr style=\"text-align: right;\">\n",
       "      <th>automatic_pmt</th>\n",
       "      <th>0</th>\n",
       "      <th>1</th>\n",
       "    </tr>\n",
       "    <tr>\n",
       "      <th>churn</th>\n",
       "      <th></th>\n",
       "      <th></th>\n",
       "    </tr>\n",
       "  </thead>\n",
       "  <tbody>\n",
       "    <tr>\n",
       "      <th>No</th>\n",
       "      <td>5718</td>\n",
       "      <td>5849</td>\n",
       "    </tr>\n",
       "    <tr>\n",
       "      <th>Yes</th>\n",
       "      <td>2052</td>\n",
       "      <td>2107</td>\n",
       "    </tr>\n",
       "  </tbody>\n",
       "</table>\n",
       "</div>"
      ],
      "text/plain": [
       "automatic_pmt     0     1\n",
       "churn                    \n",
       "No             5718  5849\n",
       "Yes            2052  2107"
      ]
     },
     "execution_count": 42,
     "metadata": {},
     "output_type": "execute_result"
    }
   ],
   "source": [
    "observed = pd.crosstab(train_raw.churn, train_raw.automatic_pmt)\n",
    "observed"
   ]
  },
  {
   "cell_type": "code",
   "execution_count": 43,
   "id": "13e5e716",
   "metadata": {},
   "outputs": [],
   "source": [
    "# use stats.chi2_contingency test \n",
    "chi2, p, degf, expected = stats.chi2_contingency(observed)"
   ]
  },
  {
   "cell_type": "code",
   "execution_count": 39,
   "id": "b46908d4",
   "metadata": {},
   "outputs": [
    {
     "name": "stdout",
     "output_type": "stream",
     "text": [
      "Observed\n",
      "\n",
      "[[5718 5849]\n",
      " [2052 2107]]\n",
      "---\n",
      "Expected\n",
      "\n",
      "[[5715 5851]\n",
      " [2054 2104]]\n",
      "---\n",
      "\n",
      "chi^2 = 0.0076\n",
      "p     = 0.9307\n"
     ]
    }
   ],
   "source": [
    "print('Observed\\n')\n",
    "print(observed.values)\n",
    "print('---\\nExpected\\n')\n",
    "print(expected.astype(int))\n",
    "print('---\\n')\n",
    "print(f'chi^2 = {chi2:.4f}')\n",
    "print(f'p     = {p:.4f}')"
   ]
  },
  {
   "cell_type": "code",
   "execution_count": 45,
   "id": "cf1f4992",
   "metadata": {},
   "outputs": [
    {
     "name": "stdout",
     "output_type": "stream",
     "text": [
      "We fail to reject the null hypothesis\n"
     ]
    }
   ],
   "source": [
    "if p < alpha:\n",
    "    print(\"We reject the hypothesis that\", null_hypothesis1)\n",
    "else:\n",
    "    print(\"We fail to reject the null hypothesis\")"
   ]
  },
  {
   "cell_type": "markdown",
   "id": "de8ad601",
   "metadata": {},
   "source": [
    "### Check for independence amongst churn and payment type"
   ]
  },
  {
   "cell_type": "markdown",
   "id": "9faa3eac",
   "metadata": {},
   "source": [
    "#### Looking at the two following variables: churn (discrete/categorical) and payment type (discrete/categorical)\n",
    "- Since they are 2 discrete/categorical variables,  $\\chi^2$ testing"
   ]
  },
  {
   "cell_type": "code",
   "execution_count": 62,
   "id": "72f70034",
   "metadata": {},
   "outputs": [],
   "source": [
    "null_hypothesis2 = \"Customers who churn are independent of which payment plan they use\""
   ]
  },
  {
   "cell_type": "code",
   "execution_count": 63,
   "id": "e0616a58",
   "metadata": {},
   "outputs": [
    {
     "data": {
      "text/html": [
       "<div>\n",
       "<style scoped>\n",
       "    .dataframe tbody tr th:only-of-type {\n",
       "        vertical-align: middle;\n",
       "    }\n",
       "\n",
       "    .dataframe tbody tr th {\n",
       "        vertical-align: top;\n",
       "    }\n",
       "\n",
       "    .dataframe thead th {\n",
       "        text-align: right;\n",
       "    }\n",
       "</style>\n",
       "<table border=\"1\" class=\"dataframe\">\n",
       "  <thead>\n",
       "    <tr style=\"text-align: right;\">\n",
       "      <th>payment_type_id</th>\n",
       "      <th>1</th>\n",
       "      <th>2</th>\n",
       "      <th>3</th>\n",
       "      <th>4</th>\n",
       "    </tr>\n",
       "    <tr>\n",
       "      <th>churn</th>\n",
       "      <th></th>\n",
       "      <th></th>\n",
       "      <th></th>\n",
       "      <th></th>\n",
       "    </tr>\n",
       "  </thead>\n",
       "  <tbody>\n",
       "    <tr>\n",
       "      <th>No</th>\n",
       "      <td>2891</td>\n",
       "      <td>2899</td>\n",
       "      <td>2892</td>\n",
       "      <td>2885</td>\n",
       "    </tr>\n",
       "    <tr>\n",
       "      <th>Yes</th>\n",
       "      <td>2362</td>\n",
       "      <td>677</td>\n",
       "      <td>597</td>\n",
       "      <td>523</td>\n",
       "    </tr>\n",
       "  </tbody>\n",
       "</table>\n",
       "</div>"
      ],
      "text/plain": [
       "payment_type_id     1     2     3     4\n",
       "churn                                  \n",
       "No               2891  2899  2892  2885\n",
       "Yes              2362   677   597   523"
      ]
     },
     "execution_count": 63,
     "metadata": {},
     "output_type": "execute_result"
    }
   ],
   "source": [
    "observed = pd.crosstab(train_raw.churn, train_raw.payment_type_id)\n",
    "observed"
   ]
  },
  {
   "cell_type": "code",
   "execution_count": 64,
   "id": "f5d0dde8",
   "metadata": {},
   "outputs": [],
   "source": [
    "# use stats.chi2_contingency test \n",
    "chi2, p, degf, expected = stats.chi2_contingency(observed)"
   ]
  },
  {
   "cell_type": "code",
   "execution_count": 65,
   "id": "0f1fa438",
   "metadata": {},
   "outputs": [
    {
     "name": "stdout",
     "output_type": "stream",
     "text": [
      "Observed\n",
      "\n",
      "[[2891 2899 2892 2885]\n",
      " [2362  677  597  523]]\n",
      "---\n",
      "Expected\n",
      "\n",
      "[[3863 2630 2566 2506]\n",
      " [1389  945  922  901]]\n",
      "---\n",
      "\n",
      "chi^2 = 1402.0542\n",
      "p     = 0.0000\n"
     ]
    }
   ],
   "source": [
    "print('Observed\\n')\n",
    "print(observed.values)\n",
    "print('---\\nExpected\\n')\n",
    "print(expected.astype(int))\n",
    "print('---\\n')\n",
    "print(f'chi^2 = {chi2:.4f}')\n",
    "print(f'p     = {p:.4f}')"
   ]
  },
  {
   "cell_type": "code",
   "execution_count": 66,
   "id": "1b29b2e0",
   "metadata": {},
   "outputs": [
    {
     "name": "stdout",
     "output_type": "stream",
     "text": [
      "We reject the hypothesis that Customers who churn are independent of which payment plan they use\n"
     ]
    }
   ],
   "source": [
    "if p < alpha:\n",
    "    print(\"We reject the hypothesis that\", null_hypothesis2)\n",
    "else:\n",
    "    print(\"We fail to reject the null hypothesis\")"
   ]
  },
  {
   "cell_type": "markdown",
   "id": "908de257",
   "metadata": {},
   "source": [
    "### Check for independence amongst churn and e-check customers"
   ]
  },
  {
   "cell_type": "markdown",
   "id": "6ab682c4",
   "metadata": {},
   "source": [
    "#### Looking at the two following variables: churn (discrete/categorical) and payment type (discrete/categorical)\n",
    "- Since they are 2 discrete/categorical variables,  $\\chi^2$ testing"
   ]
  },
  {
   "cell_type": "code",
   "execution_count": 67,
   "id": "9a4a8271",
   "metadata": {},
   "outputs": [],
   "source": [
    "null_hypothesis3 = \"Customers who churn are independent of whether they use e-checks\""
   ]
  },
  {
   "cell_type": "code",
   "execution_count": 81,
   "id": "4b01e5f5",
   "metadata": {},
   "outputs": [
    {
     "data": {
      "text/plain": [
       "(15726, 52)"
      ]
     },
     "execution_count": 81,
     "metadata": {},
     "output_type": "execute_result"
    }
   ],
   "source": [
    "train_encoded.shape"
   ]
  },
  {
   "cell_type": "code",
   "execution_count": 83,
   "id": "61460058",
   "metadata": {},
   "outputs": [
    {
     "data": {
      "text/plain": [
       "24440    0\n",
       "20315    1\n",
       "22126    0\n",
       "22803    1\n",
       "7861     0\n",
       "        ..\n",
       "12049    0\n",
       "14847    1\n",
       "28008    0\n",
       "2349     0\n",
       "27725    0\n",
       "Name: payment_type_e_check, Length: 15726, dtype: uint8"
      ]
     },
     "execution_count": 83,
     "metadata": {},
     "output_type": "execute_result"
    }
   ],
   "source": [
    "train_encoded.payment_type_e_check"
   ]
  },
  {
   "cell_type": "code",
   "execution_count": 93,
   "id": "4222ae98",
   "metadata": {},
   "outputs": [
    {
     "data": {
      "text/html": [
       "<div>\n",
       "<style scoped>\n",
       "    .dataframe tbody tr th:only-of-type {\n",
       "        vertical-align: middle;\n",
       "    }\n",
       "\n",
       "    .dataframe tbody tr th {\n",
       "        vertical-align: top;\n",
       "    }\n",
       "\n",
       "    .dataframe thead th {\n",
       "        text-align: right;\n",
       "    }\n",
       "</style>\n",
       "<table border=\"1\" class=\"dataframe\">\n",
       "  <thead>\n",
       "    <tr style=\"text-align: right;\">\n",
       "      <th>payment_type</th>\n",
       "      <th>False</th>\n",
       "      <th>True</th>\n",
       "    </tr>\n",
       "    <tr>\n",
       "      <th>churn</th>\n",
       "      <th></th>\n",
       "      <th></th>\n",
       "    </tr>\n",
       "  </thead>\n",
       "  <tbody>\n",
       "    <tr>\n",
       "      <th>No</th>\n",
       "      <td>8666</td>\n",
       "      <td>2901</td>\n",
       "    </tr>\n",
       "    <tr>\n",
       "      <th>Yes</th>\n",
       "      <td>3101</td>\n",
       "      <td>1058</td>\n",
       "    </tr>\n",
       "  </tbody>\n",
       "</table>\n",
       "</div>"
      ],
      "text/plain": [
       "payment_type  False  True \n",
       "churn                     \n",
       "No             8666   2901\n",
       "Yes            3101   1058"
      ]
     },
     "execution_count": 93,
     "metadata": {},
     "output_type": "execute_result"
    }
   ],
   "source": [
    "observed = pd.crosstab(train_raw.churn, train_raw.payment_type == 'Credit card (automatic)')\n",
    "observed"
   ]
  },
  {
   "cell_type": "code",
   "execution_count": 95,
   "id": "46d61dfa",
   "metadata": {},
   "outputs": [
    {
     "data": {
      "text/html": [
       "<div>\n",
       "<style scoped>\n",
       "    .dataframe tbody tr th:only-of-type {\n",
       "        vertical-align: middle;\n",
       "    }\n",
       "\n",
       "    .dataframe tbody tr th {\n",
       "        vertical-align: top;\n",
       "    }\n",
       "\n",
       "    .dataframe thead th {\n",
       "        text-align: right;\n",
       "    }\n",
       "</style>\n",
       "<table border=\"1\" class=\"dataframe\">\n",
       "  <thead>\n",
       "    <tr style=\"text-align: right;\">\n",
       "      <th>payment_type</th>\n",
       "      <th>False</th>\n",
       "      <th>True</th>\n",
       "    </tr>\n",
       "    <tr>\n",
       "      <th>churn</th>\n",
       "      <th></th>\n",
       "      <th></th>\n",
       "    </tr>\n",
       "  </thead>\n",
       "  <tbody>\n",
       "    <tr>\n",
       "      <th>No</th>\n",
       "      <td>8619</td>\n",
       "      <td>2948</td>\n",
       "    </tr>\n",
       "    <tr>\n",
       "      <th>Yes</th>\n",
       "      <td>3110</td>\n",
       "      <td>1049</td>\n",
       "    </tr>\n",
       "  </tbody>\n",
       "</table>\n",
       "</div>"
      ],
      "text/plain": [
       "payment_type  False  True \n",
       "churn                     \n",
       "No             8619   2948\n",
       "Yes            3110   1049"
      ]
     },
     "execution_count": 95,
     "metadata": {},
     "output_type": "execute_result"
    }
   ],
   "source": [
    "observed1 = pd.crosstab(train_raw.churn, train_raw.payment_type == 'Bank transfer (automatic)')\n",
    "observed1"
   ]
  },
  {
   "cell_type": "code",
   "execution_count": 96,
   "id": "dabb79cc",
   "metadata": {},
   "outputs": [
    {
     "data": {
      "text/html": [
       "<div>\n",
       "<style scoped>\n",
       "    .dataframe tbody tr th:only-of-type {\n",
       "        vertical-align: middle;\n",
       "    }\n",
       "\n",
       "    .dataframe tbody tr th {\n",
       "        vertical-align: top;\n",
       "    }\n",
       "\n",
       "    .dataframe thead th {\n",
       "        text-align: right;\n",
       "    }\n",
       "</style>\n",
       "<table border=\"1\" class=\"dataframe\">\n",
       "  <thead>\n",
       "    <tr style=\"text-align: right;\">\n",
       "      <th>payment_type</th>\n",
       "      <th>False</th>\n",
       "      <th>True</th>\n",
       "    </tr>\n",
       "    <tr>\n",
       "      <th>churn</th>\n",
       "      <th></th>\n",
       "      <th></th>\n",
       "    </tr>\n",
       "  </thead>\n",
       "  <tbody>\n",
       "    <tr>\n",
       "      <th>No</th>\n",
       "      <td>8720</td>\n",
       "      <td>2847</td>\n",
       "    </tr>\n",
       "    <tr>\n",
       "      <th>Yes</th>\n",
       "      <td>3166</td>\n",
       "      <td>993</td>\n",
       "    </tr>\n",
       "  </tbody>\n",
       "</table>\n",
       "</div>"
      ],
      "text/plain": [
       "payment_type  False  True \n",
       "churn                     \n",
       "No             8720   2847\n",
       "Yes            3166    993"
      ]
     },
     "execution_count": 96,
     "metadata": {},
     "output_type": "execute_result"
    }
   ],
   "source": [
    "observed2 = pd.crosstab(train_raw.churn, train_raw.payment_type == 'Mailed check')\n",
    "observed2"
   ]
  },
  {
   "cell_type": "code",
   "execution_count": 98,
   "id": "be5fe652",
   "metadata": {},
   "outputs": [
    {
     "data": {
      "text/html": [
       "<div>\n",
       "<style scoped>\n",
       "    .dataframe tbody tr th:only-of-type {\n",
       "        vertical-align: middle;\n",
       "    }\n",
       "\n",
       "    .dataframe tbody tr th {\n",
       "        vertical-align: top;\n",
       "    }\n",
       "\n",
       "    .dataframe thead th {\n",
       "        text-align: right;\n",
       "    }\n",
       "</style>\n",
       "<table border=\"1\" class=\"dataframe\">\n",
       "  <thead>\n",
       "    <tr style=\"text-align: right;\">\n",
       "      <th>payment_type</th>\n",
       "      <th>False</th>\n",
       "      <th>True</th>\n",
       "    </tr>\n",
       "    <tr>\n",
       "      <th>churn</th>\n",
       "      <th></th>\n",
       "      <th></th>\n",
       "    </tr>\n",
       "  </thead>\n",
       "  <tbody>\n",
       "    <tr>\n",
       "      <th>No</th>\n",
       "      <td>8696</td>\n",
       "      <td>2871</td>\n",
       "    </tr>\n",
       "    <tr>\n",
       "      <th>Yes</th>\n",
       "      <td>3100</td>\n",
       "      <td>1059</td>\n",
       "    </tr>\n",
       "  </tbody>\n",
       "</table>\n",
       "</div>"
      ],
      "text/plain": [
       "payment_type  False  True \n",
       "churn                     \n",
       "No             8696   2871\n",
       "Yes            3100   1059"
      ]
     },
     "execution_count": 98,
     "metadata": {},
     "output_type": "execute_result"
    }
   ],
   "source": [
    "observed3 = pd.crosstab(train_raw.churn, train_raw.payment_type == 'Electronic check')\n",
    "observed3"
   ]
  },
  {
   "cell_type": "code",
   "execution_count": 92,
   "id": "d476fcf4",
   "metadata": {},
   "outputs": [
    {
     "data": {
      "text/plain": [
       "array(['Credit card (automatic)', 'Bank transfer (automatic)',\n",
       "       'Mailed check', 'Electronic check'], dtype=object)"
      ]
     },
     "execution_count": 92,
     "metadata": {},
     "output_type": "execute_result"
    }
   ],
   "source": [
    "df.payment_type.unique()"
   ]
  },
  {
   "cell_type": "raw",
   "id": "b124b9e2",
   "metadata": {},
   "source": [
    "# use stats.chi2_contingency test \n",
    "chi2, p, degf, expected = stats.chi2_contingency(observed)"
   ]
  },
  {
   "cell_type": "code",
   "execution_count": 87,
   "id": "2225ff7d",
   "metadata": {},
   "outputs": [
    {
     "name": "stdout",
     "output_type": "stream",
     "text": [
      "Observed\n",
      "\n",
      "[[11567]\n",
      " [ 4159]]\n",
      "---\n",
      "Expected\n",
      "\n",
      "[[6382 2408 2775]\n",
      " [2295  865  998]]\n",
      "---\n",
      "\n",
      "chi^2 = 2681.9574\n",
      "p     = 0.0000\n"
     ]
    }
   ],
   "source": [
    "print('Observed\\n')\n",
    "print(observed.values)\n",
    "print('---\\nExpected\\n')\n",
    "print(expected.astype(int))\n",
    "print('---\\n')\n",
    "print(f'chi^2 = {chi2:.4f}')\n",
    "print(f'p     = {p:.4f}')"
   ]
  },
  {
   "cell_type": "code",
   "execution_count": 88,
   "id": "a05cdeae",
   "metadata": {},
   "outputs": [
    {
     "name": "stdout",
     "output_type": "stream",
     "text": [
      "We reject the hypothesis that Customers who churn are independent of whether they use e-checks\n"
     ]
    }
   ],
   "source": [
    "if p < alpha:\n",
    "    print(\"We reject the hypothesis that\", null_hypothesis3)\n",
    "else:\n",
    "    print(\"We fail to reject the null hypothesis\")"
   ]
  },
  {
   "cell_type": "code",
   "execution_count": null,
   "id": "b29995c5",
   "metadata": {},
   "outputs": [],
   "source": []
  },
  {
   "cell_type": "code",
   "execution_count": 75,
   "id": "a08701ff",
   "metadata": {},
   "outputs": [],
   "source": [
    "### Check for independence amongst churn and month-to-month customers"
   ]
  },
  {
   "cell_type": "markdown",
   "id": "930bbf96",
   "metadata": {},
   "source": [
    "#### Looking at the two following variables: churn (discrete/categorical) and contract  type (discrete/categorical)\n",
    "- Since they are 2 discrete/categorical variables,  $\\chi^2$ testing"
   ]
  },
  {
   "cell_type": "code",
   "execution_count": 76,
   "id": "429fa0fe",
   "metadata": {},
   "outputs": [],
   "source": [
    "null_hypothesis4 = \"Customers who are month-to-month are more likely to churn than customers that are not\"\n"
   ]
  },
  {
   "cell_type": "code",
   "execution_count": 77,
   "id": "980fab51",
   "metadata": {},
   "outputs": [
    {
     "data": {
      "text/html": [
       "<div>\n",
       "<style scoped>\n",
       "    .dataframe tbody tr th:only-of-type {\n",
       "        vertical-align: middle;\n",
       "    }\n",
       "\n",
       "    .dataframe tbody tr th {\n",
       "        vertical-align: top;\n",
       "    }\n",
       "\n",
       "    .dataframe thead th {\n",
       "        text-align: right;\n",
       "    }\n",
       "</style>\n",
       "<table border=\"1\" class=\"dataframe\">\n",
       "  <thead>\n",
       "    <tr style=\"text-align: right;\">\n",
       "      <th>contract_type</th>\n",
       "      <th>Month-to-month</th>\n",
       "      <th>One year</th>\n",
       "      <th>Two year</th>\n",
       "    </tr>\n",
       "    <tr>\n",
       "      <th>churn</th>\n",
       "      <th></th>\n",
       "      <th></th>\n",
       "      <th></th>\n",
       "    </tr>\n",
       "  </thead>\n",
       "  <tbody>\n",
       "    <tr>\n",
       "      <th>No</th>\n",
       "      <td>4974</td>\n",
       "      <td>2922</td>\n",
       "      <td>3671</td>\n",
       "    </tr>\n",
       "    <tr>\n",
       "      <th>Yes</th>\n",
       "      <td>3704</td>\n",
       "      <td>352</td>\n",
       "      <td>103</td>\n",
       "    </tr>\n",
       "  </tbody>\n",
       "</table>\n",
       "</div>"
      ],
      "text/plain": [
       "contract_type  Month-to-month  One year  Two year\n",
       "churn                                            \n",
       "No                       4974      2922      3671\n",
       "Yes                      3704       352       103"
      ]
     },
     "execution_count": 77,
     "metadata": {},
     "output_type": "execute_result"
    }
   ],
   "source": [
    "observed = pd.crosstab(train_raw.churn, train_raw.contract_type)\n",
    "observed"
   ]
  },
  {
   "cell_type": "code",
   "execution_count": 78,
   "id": "b6027c7d",
   "metadata": {},
   "outputs": [],
   "source": [
    "# use stats.chi2_contingency test \n",
    "chi2, p, degf, expected = stats.chi2_contingency(observed)"
   ]
  },
  {
   "cell_type": "code",
   "execution_count": 79,
   "id": "440dca74",
   "metadata": {},
   "outputs": [
    {
     "name": "stdout",
     "output_type": "stream",
     "text": [
      "Observed\n",
      "\n",
      "[[4974 2922 3671]\n",
      " [3704  352  103]]\n",
      "---\n",
      "Expected\n",
      "\n",
      "[[6382 2408 2775]\n",
      " [2295  865  998]]\n",
      "---\n",
      "\n",
      "chi^2 = 2681.9574\n",
      "p     = 0.0000\n"
     ]
    }
   ],
   "source": [
    "print('Observed\\n')\n",
    "print(observed.values)\n",
    "print('---\\nExpected\\n')\n",
    "print(expected.astype(int))\n",
    "print('---\\n')\n",
    "print(f'chi^2 = {chi2:.4f}')\n",
    "print(f'p     = {p:.4f}')"
   ]
  },
  {
   "cell_type": "code",
   "execution_count": 80,
   "id": "2ebec21c",
   "metadata": {},
   "outputs": [
    {
     "name": "stdout",
     "output_type": "stream",
     "text": [
      "We reject the hypothesis that Customers who are month-to-month are more likely to churn than customers that are not\n"
     ]
    }
   ],
   "source": [
    "if p < alpha:\n",
    "    print(\"We reject the hypothesis that\", null_hypothesis4)\n",
    "else:\n",
    "    print(\"We fail to reject the null hypothesis\")"
   ]
  },
  {
   "cell_type": "markdown",
   "id": "569f36bc",
   "metadata": {},
   "source": [
    "#### Univariate Stats: \n",
    "\n",
    "##### Descriptive stats, frequencies, histograms. General familiar with data.\n",
    "\n",
    "- Explore the target variable.\n",
    "\n",
    "- Explore the categorical/qualitative variables.\n",
    "\n",
    "- Explore the continuous/quantitative variables."
   ]
  },
  {
   "cell_type": "code",
   "execution_count": 19,
   "id": "9b909e65",
   "metadata": {},
   "outputs": [],
   "source": [
    "#First, we need list of categorical variables and one of quantitative variables.\n",
    "\n",
    "cat_vars_raw_all = ['gender', 'senior_citizen', 'partner', 'dependents',\n",
    "       'phone_service', 'multiple_lines', 'internet_service_type_id',\n",
    "       'online_security', 'online_backup', 'device_protection', 'tech_support',\n",
    "       'streaming_tv', 'streaming_movies', 'contract_type_id',\n",
    "       'paperless_billing', 'payment_type_id', 'churn', 'contract_type',\n",
    "        'internet_service_type','payment_type', 'automatic_pmt']\n",
    "\n",
    "cat_vars_encoded_all = ['gender', 'senior_citizen', 'partner', 'dependents', 'phone_service', 'paperless_billing', 'churn','multiple_lines_Yes',\n",
    "            'online_security_Yes','online_backup_Yes', 'tech_support_Yes',\n",
    "           'streaming_tv_Yes','streaming_movies_Yes',\n",
    "           'contract_type_Month-to-month', 'contract_type_One year',\n",
    "           'contract_type_Two year', 'internet_service_type_DSL',\n",
    "           'internet_service_type_Fiber optic', 'internet_service_type_None',\n",
    "           'payment_type_Bank transfer (automatic)',\n",
    "           'payment_type_Credit card (automatic)', 'payment_type_Electronic check',\n",
    "           'payment_type_Mailed check', 'automatic_pmt']\n",
    "\n",
    "cat_vars_raw_pmt = ['payment_type_id', 'churn', 'contract_type','payment_type', 'automatic_pmt']\n",
    "\n",
    "cat_vars_encoded_pmt = ['gender', 'senior_citizen', 'partner', 'dependents', 'phone_service', 'paperless_billing', 'churn',\n",
    "           'payment_type_Bank transfer (automatic)',\n",
    "           'payment_type_Credit card (automatic)', 'payment_type_Electronic check',\n",
    "           'payment_type_Mailed check', 'automatic_pmt']\n",
    "\n",
    "quant_vars = ['tenure', 'monthly_charges','total_charges']"
   ]
  },
  {
   "cell_type": "code",
   "execution_count": 20,
   "id": "77a2f63d",
   "metadata": {},
   "outputs": [
    {
     "data": {
      "text/plain": [
       "Bank transfer (automatic)    7021\n",
       "Electronic check             7021\n",
       "Mailed check                 7021\n",
       "Credit card (automatic)      7021\n",
       "Name: payment_type, dtype: int64"
      ]
     },
     "execution_count": 20,
     "metadata": {},
     "output_type": "execute_result"
    }
   ],
   "source": [
    "df_raw.payment_type.value_counts()"
   ]
  },
  {
   "cell_type": "code",
   "execution_count": 21,
   "id": "8f8a7baf",
   "metadata": {},
   "outputs": [
    {
     "data": {
      "text/plain": [
       "0    14042\n",
       "1    14042\n",
       "Name: automatic_pmt, dtype: int64"
      ]
     },
     "execution_count": 21,
     "metadata": {},
     "output_type": "execute_result"
    }
   ],
   "source": [
    "df_raw.automatic_pmt.value_counts()"
   ]
  },
  {
   "cell_type": "code",
   "execution_count": 22,
   "id": "859e9b00",
   "metadata": {},
   "outputs": [
    {
     "data": {
      "text/plain": [
       "No     20656\n",
       "Yes     7428\n",
       "Name: churn, dtype: int64"
      ]
     },
     "execution_count": 22,
     "metadata": {},
     "output_type": "execute_result"
    }
   ],
   "source": [
    "df_raw.churn.value_counts()"
   ]
  },
  {
   "cell_type": "code",
   "execution_count": 23,
   "id": "71533e54",
   "metadata": {},
   "outputs": [
    {
     "data": {
      "text/plain": [
       "gender                      0\n",
       "senior_citizen              0\n",
       "partner                     0\n",
       "dependents                  0\n",
       "tenure                      0\n",
       "phone_service               0\n",
       "multiple_lines              0\n",
       "internet_service_type_id    0\n",
       "online_security             0\n",
       "online_backup               0\n",
       "device_protection           0\n",
       "tech_support                0\n",
       "streaming_tv                0\n",
       "streaming_movies            0\n",
       "contract_type_id            0\n",
       "paperless_billing           0\n",
       "payment_type_id             0\n",
       "monthly_charges             0\n",
       "total_charges               0\n",
       "churn                       0\n",
       "contract_type               0\n",
       "internet_service_type       0\n",
       "payment_type                0\n",
       "automatic_pmt               0\n",
       "dtype: int64"
      ]
     },
     "execution_count": 23,
     "metadata": {},
     "output_type": "execute_result"
    }
   ],
   "source": [
    "df_raw.isnull().sum()"
   ]
  },
  {
   "cell_type": "code",
   "execution_count": 24,
   "id": "3408356f",
   "metadata": {},
   "outputs": [
    {
     "data": {
      "text/plain": [
       "Yes    25356\n",
       "No      2728\n",
       "Name: phone_service, dtype: int64"
      ]
     },
     "execution_count": 24,
     "metadata": {},
     "output_type": "execute_result"
    }
   ],
   "source": [
    "df_raw.phone_service.value_counts()"
   ]
  },
  {
   "cell_type": "code",
   "execution_count": 25,
   "id": "9ed7ba5b",
   "metadata": {},
   "outputs": [
    {
     "data": {
      "text/plain": [
       "Fiber optic    12360\n",
       "DSL             9676\n",
       "None            6048\n",
       "Name: internet_service_type, dtype: int64"
      ]
     },
     "execution_count": 25,
     "metadata": {},
     "output_type": "execute_result"
    }
   ],
   "source": [
    "df_raw.internet_service_type.value_counts()"
   ]
  },
  {
   "cell_type": "code",
   "execution_count": 26,
   "id": "5d1592d4",
   "metadata": {},
   "outputs": [
    {
     "data": {
      "image/png": "[encoded data removed]",
      "text/plain": [
       "<Figure size 432x288 with 1 Axes>"
      ]
     },
     "metadata": {
      "needs_background": "light"
     },
     "output_type": "display_data"
    }
   ],
   "source": [
    "sns.histplot(df_raw.payment_type)\n",
    "plt.show()"
   ]
  },
  {
   "cell_type": "code",
   "execution_count": 27,
   "id": "2c0ab19e",
   "metadata": {},
   "outputs": [
    {
     "data": {
      "text/plain": [
       "0    14042\n",
       "1    14042\n",
       "Name: automatic_pmt, dtype: int64"
      ]
     },
     "execution_count": 27,
     "metadata": {},
     "output_type": "execute_result"
    }
   ],
   "source": [
    "df_encoded.automatic_pmt.value_counts()"
   ]
  },
  {
   "cell_type": "code",
   "execution_count": 28,
   "id": "13fb5707",
   "metadata": {},
   "outputs": [
    {
     "data": {
      "image/png": "[encoded data removed]",
      "text/plain": [
       "<Figure size 144x144 with 1 Axes>"
      ]
     },
     "metadata": {
      "needs_background": "light"
     },
     "output_type": "display_data"
    },
    {
     "name": "stdout",
     "output_type": "stream",
     "text": [
      "        gender  Count  Percent\n",
      "Male      Male   7900    50.24\n",
      "Female  Female   7826    49.76\n",
      "_________________________________________________________________\n"
     ]
    },
    {
     "data": {
      "image/png": "[encoded data removed]",
      "text/plain": [
       "<Figure size 144x144 with 1 Axes>"
      ]
     },
     "metadata": {
      "needs_background": "light"
     },
     "output_type": "display_data"
    },
    {
     "name": "stdout",
     "output_type": "stream",
     "text": [
      "   senior_citizen  Count  Percent\n",
      "0               0  13194     83.9\n",
      "1               1   2532     16.1\n",
      "_________________________________________________________________\n"
     ]
    },
    {
     "data": {
      "image/png": "[encoded data removed]",
      "text/plain": [
       "<Figure size 144x144 with 1 Axes>"
      ]
     },
     "metadata": {
      "needs_background": "light"
     },
     "output_type": "display_data"
    },
    {
     "name": "stdout",
     "output_type": "stream",
     "text": [
      "    partner  Count  Percent\n",
      "No       No   8124    51.66\n",
      "Yes     Yes   7602    48.34\n",
      "_________________________________________________________________\n"
     ]
    },
    {
     "data": {
      "image/png": "[encoded data removed]",
      "text/plain": [
       "<Figure size 144x144 with 1 Axes>"
      ]
     },
     "metadata": {
      "needs_background": "light"
     },
     "output_type": "display_data"
    },
    {
     "name": "stdout",
     "output_type": "stream",
     "text": [
      "    dependents  Count  Percent\n",
      "No          No  11039     70.2\n",
      "Yes        Yes   4687     29.8\n",
      "_________________________________________________________________\n"
     ]
    },
    {
     "data": {
      "image/png": "[encoded data removed]",
      "text/plain": [
       "<Figure size 144x144 with 1 Axes>"
      ]
     },
     "metadata": {
      "needs_background": "light"
     },
     "output_type": "display_data"
    },
    {
     "name": "stdout",
     "output_type": "stream",
     "text": [
      "    phone_service  Count  Percent\n",
      "Yes            No  14209    90.35\n",
      "No            Yes   1517     9.65\n",
      "_________________________________________________________________\n"
     ]
    },
    {
     "data": {
      "image/png": "[encoded data removed]",
      "text/plain": [
       "<Figure size 144x144 with 1 Axes>"
      ]
     },
     "metadata": {
      "needs_background": "light"
     },
     "output_type": "display_data"
    },
    {
     "name": "stdout",
     "output_type": "stream",
     "text": [
      "                    multiple_lines  Count  Percent\n",
      "No                No phone service   7496    47.67\n",
      "Yes                             No   6713    42.69\n",
      "No phone service               Yes   1517     9.65\n",
      "_________________________________________________________________\n"
     ]
    },
    {
     "data": {
      "image/png": "[encoded data removed]",
      "text/plain": [
       "<Figure size 144x144 with 1 Axes>"
      ]
     },
     "metadata": {
      "needs_background": "light"
     },
     "output_type": "display_data"
    },
    {
     "name": "stdout",
     "output_type": "stream",
     "text": [
      "   internet_service_type_id  Count  Percent\n",
      "2                         1   6938    44.12\n",
      "1                         3   5398    34.33\n",
      "3                         2   3390    21.56\n",
      "_________________________________________________________________\n"
     ]
    },
    {
     "data": {
      "image/png": "[encoded data removed]",
      "text/plain": [
       "<Figure size 144x144 with 1 Axes>"
      ]
     },
     "metadata": {
      "needs_background": "light"
     },
     "output_type": "display_data"
    },
    {
     "name": "stdout",
     "output_type": "stream",
     "text": [
      "                         online_security  Count  Percent\n",
      "No                                    No   7845    49.89\n",
      "Yes                                  Yes   4491    28.56\n",
      "No internet service  No internet service   3390    21.56\n",
      "_________________________________________________________________\n"
     ]
    },
    {
     "data": {
      "image/png": "[encoded data removed]",
      "text/plain": [
       "<Figure size 144x144 with 1 Axes>"
      ]
     },
     "metadata": {
      "needs_background": "light"
     },
     "output_type": "display_data"
    },
    {
     "name": "stdout",
     "output_type": "stream",
     "text": [
      "                           online_backup  Count  Percent\n",
      "No                                    No   6895    43.84\n",
      "Yes                                  Yes   5441    34.60\n",
      "No internet service  No internet service   3390    21.56\n",
      "_________________________________________________________________\n"
     ]
    },
    {
     "data": {
      "image/png": "[encoded data removed]",
      "text/plain": [
       "<Figure size 144x144 with 1 Axes>"
      ]
     },
     "metadata": {
      "needs_background": "light"
     },
     "output_type": "display_data"
    },
    {
     "name": "stdout",
     "output_type": "stream",
     "text": [
      "                       device_protection  Count  Percent\n",
      "No                                   Yes   6893    43.83\n",
      "Yes                                   No   5443    34.61\n",
      "No internet service  No internet service   3390    21.56\n",
      "_________________________________________________________________\n"
     ]
    },
    {
     "data": {
      "image/png": "[encoded data removed]",
      "text/plain": [
       "<Figure size 144x144 with 1 Axes>"
      ]
     },
     "metadata": {
      "needs_background": "light"
     },
     "output_type": "display_data"
    },
    {
     "name": "stdout",
     "output_type": "stream",
     "text": [
      "                            tech_support  Count  Percent\n",
      "No                                    No   7762    49.36\n",
      "Yes                                  Yes   4574    29.09\n",
      "No internet service  No internet service   3390    21.56\n",
      "_________________________________________________________________\n"
     ]
    },
    {
     "data": {
      "image/png": "[encoded data removed]",
      "text/plain": [
       "<Figure size 144x144 with 1 Axes>"
      ]
     },
     "metadata": {
      "needs_background": "light"
     },
     "output_type": "display_data"
    },
    {
     "name": "stdout",
     "output_type": "stream",
     "text": [
      "                            streaming_tv  Count  Percent\n",
      "No                                    No   6254    39.77\n",
      "Yes                  No internet service   6082    38.67\n",
      "No internet service                  Yes   3390    21.56\n",
      "_________________________________________________________________\n"
     ]
    },
    {
     "data": {
      "image/png": "[encoded data removed]",
      "text/plain": [
       "<Figure size 144x144 with 1 Axes>"
      ]
     },
     "metadata": {
      "needs_background": "light"
     },
     "output_type": "display_data"
    },
    {
     "name": "stdout",
     "output_type": "stream",
     "text": [
      "                        streaming_movies  Count  Percent\n",
      "No                                    No   6184    39.32\n",
      "Yes                                  Yes   6152    39.12\n",
      "No internet service  No internet service   3390    21.56\n",
      "_________________________________________________________________\n"
     ]
    },
    {
     "data": {
      "image/png": "[encoded data removed]",
      "text/plain": [
       "<Figure size 144x144 with 1 Axes>"
      ]
     },
     "metadata": {
      "needs_background": "light"
     },
     "output_type": "display_data"
    },
    {
     "name": "stdout",
     "output_type": "stream",
     "text": [
      "   contract_type_id  Count  Percent\n",
      "1                 1   8678    55.18\n",
      "3                 2   3774    24.00\n",
      "2                 3   3274    20.82\n",
      "_________________________________________________________________\n"
     ]
    },
    {
     "data": {
      "image/png": "[encoded data removed]",
      "text/plain": [
       "<Figure size 144x144 with 1 Axes>"
      ]
     },
     "metadata": {
      "needs_background": "light"
     },
     "output_type": "display_data"
    },
    {
     "name": "stdout",
     "output_type": "stream",
     "text": [
      "    paperless_billing  Count  Percent\n",
      "Yes               Yes   9355    59.49\n",
      "No                 No   6371    40.51\n",
      "_________________________________________________________________\n"
     ]
    },
    {
     "data": {
      "image/png": "[encoded data removed]",
      "text/plain": [
       "<Figure size 144x144 with 1 Axes>"
      ]
     },
     "metadata": {
      "needs_background": "light"
     },
     "output_type": "display_data"
    },
    {
     "name": "stdout",
     "output_type": "stream",
     "text": [
      "   payment_type_id  Count  Percent\n",
      "1                1   5253    33.40\n",
      "2                2   3576    22.74\n",
      "3                3   3489    22.19\n",
      "4                4   3408    21.67\n",
      "_________________________________________________________________\n"
     ]
    },
    {
     "data": {
      "image/png": "[encoded data removed]",
      "text/plain": [
       "<Figure size 144x144 with 1 Axes>"
      ]
     },
     "metadata": {
      "needs_background": "light"
     },
     "output_type": "display_data"
    },
    {
     "name": "stdout",
     "output_type": "stream",
     "text": [
      "    churn  Count  Percent\n",
      "No    Yes  11567    73.55\n",
      "Yes    No   4159    26.45\n",
      "_________________________________________________________________\n"
     ]
    },
    {
     "data": {
      "image/png": "[encoded data removed]",
      "text/plain": [
       "<Figure size 144x144 with 1 Axes>"
      ]
     },
     "metadata": {
      "needs_background": "light"
     },
     "output_type": "display_data"
    },
    {
     "name": "stdout",
     "output_type": "stream",
     "text": [
      "                 contract_type  Count  Percent\n",
      "Month-to-month  Month-to-month   8678    55.18\n",
      "Two year              One year   3774    24.00\n",
      "One year              Two year   3274    20.82\n",
      "_________________________________________________________________\n"
     ]
    },
    {
     "data": {
      "image/png": "[encoded data removed]",
      "text/plain": [
       "<Figure size 144x144 with 1 Axes>"
      ]
     },
     "metadata": {
      "needs_background": "light"
     },
     "output_type": "display_data"
    },
    {
     "name": "stdout",
     "output_type": "stream",
     "text": [
      "            internet_service_type  Count  Percent\n",
      "Fiber optic                   DSL   6938    44.12\n",
      "DSL                          None   5398    34.33\n",
      "None                  Fiber optic   3390    21.56\n",
      "_________________________________________________________________\n"
     ]
    },
    {
     "data": {
      "image/png": "[encoded data removed]",
      "text/plain": [
       "<Figure size 144x144 with 1 Axes>"
      ]
     },
     "metadata": {
      "needs_background": "light"
     },
     "output_type": "display_data"
    },
    {
     "name": "stdout",
     "output_type": "stream",
     "text": [
      "                                        payment_type  Count  Percent\n",
      "Bank transfer (automatic)    Credit card (automatic)   3997    25.42\n",
      "Credit card (automatic)             Electronic check   3959    25.17\n",
      "Electronic check                        Mailed check   3930    24.99\n",
      "Mailed check               Bank transfer (automatic)   3840    24.42\n",
      "_________________________________________________________________\n"
     ]
    },
    {
     "data": {
      "image/png": "[encoded data removed]",
      "text/plain": [
       "<Figure size 144x144 with 1 Axes>"
      ]
     },
     "metadata": {
      "needs_background": "light"
     },
     "output_type": "display_data"
    },
    {
     "name": "stdout",
     "output_type": "stream",
     "text": [
      "   automatic_pmt  Count  Percent\n",
      "1              1   7956    50.59\n",
      "0              0   7770    49.41\n",
      "_________________________________________________________________\n"
     ]
    },
    {
     "data": {
      "image/png": "[encoded data removed]",
      "text/plain": [
       "<Figure size 576x144 with 2 Axes>"
      ]
     },
     "metadata": {
      "needs_background": "light"
     },
     "output_type": "display_data"
    },
    {
     "name": "stdout",
     "output_type": "stream",
     "text": [
      "count    15726.000000\n",
      "mean        32.337594\n",
      "std         24.618667\n",
      "min          0.000000\n",
      "25%          9.000000\n",
      "50%         28.000000\n",
      "75%         56.000000\n",
      "max         72.000000\n",
      "Name: tenure, dtype: float64\n"
     ]
    },
    {
     "data": {
      "image/png": "[encoded data removed]",
      "text/plain": [
       "<Figure size 576x144 with 2 Axes>"
      ]
     },
     "metadata": {
      "needs_background": "light"
     },
     "output_type": "display_data"
    },
    {
     "name": "stdout",
     "output_type": "stream",
     "text": [
      "count    15726.000000\n",
      "mean        64.928768\n",
      "std         30.039794\n",
      "min         18.250000\n",
      "25%         35.750000\n",
      "50%         70.450000\n",
      "75%         89.950000\n",
      "max        118.750000\n",
      "Name: monthly_charges, dtype: float64\n"
     ]
    },
    {
     "ename": "TypeError",
     "evalue": "ufunc 'true_divide' not supported for the input types, and the inputs could not be safely coerced to any supported types according to the casting rule ''safe''",
     "output_type": "error",
     "traceback": [
      "\u001b[0;31m---------------------------------------------------------------------------\u001b[0m",
      "\u001b[0;31mTypeError\u001b[0m                                 Traceback (most recent call last)",
      "\u001b[0;32m<ipython-input-28-f5811f84a251>\u001b[0m in \u001b[0;36m<module>\u001b[0;34m\u001b[0m\n\u001b[1;32m      1\u001b[0m \u001b[0;31m#Use the explore_univariate function to look at the different features in the raw dataframe\u001b[0m\u001b[0;34m\u001b[0m\u001b[0;34m\u001b[0m\u001b[0;34m\u001b[0m\u001b[0m\n\u001b[1;32m      2\u001b[0m \u001b[0;34m\u001b[0m\u001b[0m\n\u001b[0;32m----> 3\u001b[0;31m \u001b[0mexplore\u001b[0m\u001b[0;34m.\u001b[0m\u001b[0mexplore_univariate\u001b[0m\u001b[0;34m(\u001b[0m\u001b[0mtrain_raw\u001b[0m\u001b[0;34m,\u001b[0m \u001b[0mcat_vars_raw\u001b[0m\u001b[0;34m,\u001b[0m \u001b[0mquant_vars\u001b[0m\u001b[0;34m)\u001b[0m\u001b[0;34m\u001b[0m\u001b[0;34m\u001b[0m\u001b[0m\n\u001b[0m",
      "\u001b[0;32m~/codeup-data-science/telco-classification-project/explore.py\u001b[0m in \u001b[0;36mexplore_univariate\u001b[0;34m(train, cat_vars, quant_vars)\u001b[0m\n\u001b[1;32m     29\u001b[0m         \u001b[0mprint\u001b[0m\u001b[0;34m(\u001b[0m\u001b[0;34m'_________________________________________________________________'\u001b[0m\u001b[0;34m)\u001b[0m\u001b[0;34m\u001b[0m\u001b[0;34m\u001b[0m\u001b[0m\n\u001b[1;32m     30\u001b[0m     \u001b[0;32mfor\u001b[0m \u001b[0mcol\u001b[0m \u001b[0;32min\u001b[0m \u001b[0mquant_vars\u001b[0m\u001b[0;34m:\u001b[0m\u001b[0;34m\u001b[0m\u001b[0;34m\u001b[0m\u001b[0m\n\u001b[0;32m---> 31\u001b[0;31m         \u001b[0mp\u001b[0m\u001b[0;34m,\u001b[0m \u001b[0mdescriptive_stats\u001b[0m \u001b[0;34m=\u001b[0m \u001b[0mexplore_univariate_quant\u001b[0m\u001b[0;34m(\u001b[0m\u001b[0mtrain\u001b[0m\u001b[0;34m,\u001b[0m \u001b[0mcol\u001b[0m\u001b[0;34m)\u001b[0m\u001b[0;34m\u001b[0m\u001b[0;34m\u001b[0m\u001b[0m\n\u001b[0m\u001b[1;32m     32\u001b[0m         \u001b[0mplt\u001b[0m\u001b[0;34m.\u001b[0m\u001b[0mshow\u001b[0m\u001b[0;34m(\u001b[0m\u001b[0mp\u001b[0m\u001b[0;34m)\u001b[0m\u001b[0;34m\u001b[0m\u001b[0;34m\u001b[0m\u001b[0m\n\u001b[1;32m     33\u001b[0m         \u001b[0mprint\u001b[0m\u001b[0;34m(\u001b[0m\u001b[0mdescriptive_stats\u001b[0m\u001b[0;34m)\u001b[0m\u001b[0;34m\u001b[0m\u001b[0;34m\u001b[0m\u001b[0m\n",
      "\u001b[0;32m~/codeup-data-science/telco-classification-project/explore.py\u001b[0m in \u001b[0;36mexplore_univariate_quant\u001b[0;34m(train, quant_var)\u001b[0m\n\u001b[1;32m     80\u001b[0m     \u001b[0;31m# second plot: box plot\u001b[0m\u001b[0;34m\u001b[0m\u001b[0;34m\u001b[0m\u001b[0;34m\u001b[0m\u001b[0m\n\u001b[1;32m     81\u001b[0m     \u001b[0mp\u001b[0m \u001b[0;34m=\u001b[0m \u001b[0mplt\u001b[0m\u001b[0;34m.\u001b[0m\u001b[0msubplot\u001b[0m\u001b[0;34m(\u001b[0m\u001b[0;36m1\u001b[0m\u001b[0;34m,\u001b[0m \u001b[0;36m2\u001b[0m\u001b[0;34m,\u001b[0m \u001b[0;36m2\u001b[0m\u001b[0;34m)\u001b[0m\u001b[0;34m\u001b[0m\u001b[0;34m\u001b[0m\u001b[0m\n\u001b[0;32m---> 82\u001b[0;31m     \u001b[0mp\u001b[0m \u001b[0;34m=\u001b[0m \u001b[0mplt\u001b[0m\u001b[0;34m.\u001b[0m\u001b[0mboxplot\u001b[0m\u001b[0;34m(\u001b[0m\u001b[0mtrain\u001b[0m\u001b[0;34m[\u001b[0m\u001b[0mquant_var\u001b[0m\u001b[0;34m]\u001b[0m\u001b[0;34m)\u001b[0m\u001b[0;34m\u001b[0m\u001b[0;34m\u001b[0m\u001b[0m\n\u001b[0m\u001b[1;32m     83\u001b[0m     \u001b[0mp\u001b[0m \u001b[0;34m=\u001b[0m \u001b[0mplt\u001b[0m\u001b[0;34m.\u001b[0m\u001b[0mtitle\u001b[0m\u001b[0;34m(\u001b[0m\u001b[0mquant_var\u001b[0m\u001b[0;34m)\u001b[0m\u001b[0;34m\u001b[0m\u001b[0;34m\u001b[0m\u001b[0m\n\u001b[1;32m     84\u001b[0m     \u001b[0;32mreturn\u001b[0m \u001b[0mp\u001b[0m\u001b[0;34m,\u001b[0m \u001b[0mdescriptive_stats\u001b[0m\u001b[0;34m\u001b[0m\u001b[0;34m\u001b[0m\u001b[0m\n",
      "\u001b[0;32m/opt/homebrew/anaconda3/lib/python3.8/site-packages/matplotlib/pyplot.py\u001b[0m in \u001b[0;36mboxplot\u001b[0;34m(x, notch, sym, vert, whis, positions, widths, patch_artist, bootstrap, usermedians, conf_intervals, meanline, showmeans, showcaps, showbox, showfliers, boxprops, labels, flierprops, medianprops, meanprops, capprops, whiskerprops, manage_ticks, autorange, zorder, data)\u001b[0m\n\u001b[1;32m   2515\u001b[0m         \u001b[0mwhiskerprops\u001b[0m\u001b[0;34m=\u001b[0m\u001b[0;32mNone\u001b[0m\u001b[0;34m,\u001b[0m \u001b[0mmanage_ticks\u001b[0m\u001b[0;34m=\u001b[0m\u001b[0;32mTrue\u001b[0m\u001b[0;34m,\u001b[0m \u001b[0mautorange\u001b[0m\u001b[0;34m=\u001b[0m\u001b[0;32mFalse\u001b[0m\u001b[0;34m,\u001b[0m\u001b[0;34m\u001b[0m\u001b[0;34m\u001b[0m\u001b[0m\n\u001b[1;32m   2516\u001b[0m         zorder=None, *, data=None):\n\u001b[0;32m-> 2517\u001b[0;31m     return gca().boxplot(\n\u001b[0m\u001b[1;32m   2518\u001b[0m         \u001b[0mx\u001b[0m\u001b[0;34m,\u001b[0m \u001b[0mnotch\u001b[0m\u001b[0;34m=\u001b[0m\u001b[0mnotch\u001b[0m\u001b[0;34m,\u001b[0m \u001b[0msym\u001b[0m\u001b[0;34m=\u001b[0m\u001b[0msym\u001b[0m\u001b[0;34m,\u001b[0m \u001b[0mvert\u001b[0m\u001b[0;34m=\u001b[0m\u001b[0mvert\u001b[0m\u001b[0;34m,\u001b[0m \u001b[0mwhis\u001b[0m\u001b[0;34m=\u001b[0m\u001b[0mwhis\u001b[0m\u001b[0;34m,\u001b[0m\u001b[0;34m\u001b[0m\u001b[0;34m\u001b[0m\u001b[0m\n\u001b[1;32m   2519\u001b[0m         \u001b[0mpositions\u001b[0m\u001b[0;34m=\u001b[0m\u001b[0mpositions\u001b[0m\u001b[0;34m,\u001b[0m \u001b[0mwidths\u001b[0m\u001b[0;34m=\u001b[0m\u001b[0mwidths\u001b[0m\u001b[0;34m,\u001b[0m \u001b[0mpatch_artist\u001b[0m\u001b[0;34m=\u001b[0m\u001b[0mpatch_artist\u001b[0m\u001b[0;34m,\u001b[0m\u001b[0;34m\u001b[0m\u001b[0;34m\u001b[0m\u001b[0m\n",
      "\u001b[0;32m/opt/homebrew/anaconda3/lib/python3.8/site-packages/matplotlib/__init__.py\u001b[0m in \u001b[0;36minner\u001b[0;34m(ax, data, *args, **kwargs)\u001b[0m\n\u001b[1;32m   1445\u001b[0m     \u001b[0;32mdef\u001b[0m \u001b[0minner\u001b[0m\u001b[0;34m(\u001b[0m\u001b[0max\u001b[0m\u001b[0;34m,\u001b[0m \u001b[0;34m*\u001b[0m\u001b[0margs\u001b[0m\u001b[0;34m,\u001b[0m \u001b[0mdata\u001b[0m\u001b[0;34m=\u001b[0m\u001b[0;32mNone\u001b[0m\u001b[0;34m,\u001b[0m \u001b[0;34m**\u001b[0m\u001b[0mkwargs\u001b[0m\u001b[0;34m)\u001b[0m\u001b[0;34m:\u001b[0m\u001b[0;34m\u001b[0m\u001b[0;34m\u001b[0m\u001b[0m\n\u001b[1;32m   1446\u001b[0m         \u001b[0;32mif\u001b[0m \u001b[0mdata\u001b[0m \u001b[0;32mis\u001b[0m \u001b[0;32mNone\u001b[0m\u001b[0;34m:\u001b[0m\u001b[0;34m\u001b[0m\u001b[0;34m\u001b[0m\u001b[0m\n\u001b[0;32m-> 1447\u001b[0;31m             \u001b[0;32mreturn\u001b[0m \u001b[0mfunc\u001b[0m\u001b[0;34m(\u001b[0m\u001b[0max\u001b[0m\u001b[0;34m,\u001b[0m \u001b[0;34m*\u001b[0m\u001b[0mmap\u001b[0m\u001b[0;34m(\u001b[0m\u001b[0msanitize_sequence\u001b[0m\u001b[0;34m,\u001b[0m \u001b[0margs\u001b[0m\u001b[0;34m)\u001b[0m\u001b[0;34m,\u001b[0m \u001b[0;34m**\u001b[0m\u001b[0mkwargs\u001b[0m\u001b[0;34m)\u001b[0m\u001b[0;34m\u001b[0m\u001b[0;34m\u001b[0m\u001b[0m\n\u001b[0m\u001b[1;32m   1448\u001b[0m \u001b[0;34m\u001b[0m\u001b[0m\n\u001b[1;32m   1449\u001b[0m         \u001b[0mbound\u001b[0m \u001b[0;34m=\u001b[0m \u001b[0mnew_sig\u001b[0m\u001b[0;34m.\u001b[0m\u001b[0mbind\u001b[0m\u001b[0;34m(\u001b[0m\u001b[0max\u001b[0m\u001b[0;34m,\u001b[0m \u001b[0;34m*\u001b[0m\u001b[0margs\u001b[0m\u001b[0;34m,\u001b[0m \u001b[0;34m**\u001b[0m\u001b[0mkwargs\u001b[0m\u001b[0;34m)\u001b[0m\u001b[0;34m\u001b[0m\u001b[0;34m\u001b[0m\u001b[0m\n",
      "\u001b[0;32m/opt/homebrew/anaconda3/lib/python3.8/site-packages/matplotlib/axes/_axes.py\u001b[0m in \u001b[0;36mboxplot\u001b[0;34m(self, x, notch, sym, vert, whis, positions, widths, patch_artist, bootstrap, usermedians, conf_intervals, meanline, showmeans, showcaps, showbox, showfliers, boxprops, labels, flierprops, medianprops, meanprops, capprops, whiskerprops, manage_ticks, autorange, zorder)\u001b[0m\n\u001b[1;32m   3681\u001b[0m             \u001b[0mbootstrap\u001b[0m \u001b[0;34m=\u001b[0m \u001b[0mrcParams\u001b[0m\u001b[0;34m[\u001b[0m\u001b[0;34m'boxplot.bootstrap'\u001b[0m\u001b[0;34m]\u001b[0m\u001b[0;34m\u001b[0m\u001b[0;34m\u001b[0m\u001b[0m\n\u001b[1;32m   3682\u001b[0m \u001b[0;34m\u001b[0m\u001b[0m\n\u001b[0;32m-> 3683\u001b[0;31m         bxpstats = cbook.boxplot_stats(x, whis=whis, bootstrap=bootstrap,\n\u001b[0m\u001b[1;32m   3684\u001b[0m                                        labels=labels, autorange=autorange)\n\u001b[1;32m   3685\u001b[0m         \u001b[0;32mif\u001b[0m \u001b[0mnotch\u001b[0m \u001b[0;32mis\u001b[0m \u001b[0;32mNone\u001b[0m\u001b[0;34m:\u001b[0m\u001b[0;34m\u001b[0m\u001b[0;34m\u001b[0m\u001b[0m\n",
      "\u001b[0;32m/opt/homebrew/anaconda3/lib/python3.8/site-packages/matplotlib/cbook/__init__.py\u001b[0m in \u001b[0;36mboxplot_stats\u001b[0;34m(X, whis, bootstrap, labels, autorange)\u001b[0m\n\u001b[1;32m   1175\u001b[0m \u001b[0;34m\u001b[0m\u001b[0m\n\u001b[1;32m   1176\u001b[0m         \u001b[0;31m# arithmetic mean\u001b[0m\u001b[0;34m\u001b[0m\u001b[0;34m\u001b[0m\u001b[0;34m\u001b[0m\u001b[0m\n\u001b[0;32m-> 1177\u001b[0;31m         \u001b[0mstats\u001b[0m\u001b[0;34m[\u001b[0m\u001b[0;34m'mean'\u001b[0m\u001b[0;34m]\u001b[0m \u001b[0;34m=\u001b[0m \u001b[0mnp\u001b[0m\u001b[0;34m.\u001b[0m\u001b[0mmean\u001b[0m\u001b[0;34m(\u001b[0m\u001b[0mx\u001b[0m\u001b[0;34m)\u001b[0m\u001b[0;34m\u001b[0m\u001b[0;34m\u001b[0m\u001b[0m\n\u001b[0m\u001b[1;32m   1178\u001b[0m \u001b[0;34m\u001b[0m\u001b[0m\n\u001b[1;32m   1179\u001b[0m         \u001b[0;31m# medians and quartiles\u001b[0m\u001b[0;34m\u001b[0m\u001b[0;34m\u001b[0m\u001b[0;34m\u001b[0m\u001b[0m\n",
      "\u001b[0;32m<__array_function__ internals>\u001b[0m in \u001b[0;36mmean\u001b[0;34m(*args, **kwargs)\u001b[0m\n",
      "\u001b[0;32m/opt/homebrew/anaconda3/lib/python3.8/site-packages/numpy/core/fromnumeric.py\u001b[0m in \u001b[0;36mmean\u001b[0;34m(a, axis, dtype, out, keepdims, where)\u001b[0m\n\u001b[1;32m   3417\u001b[0m             \u001b[0;32mreturn\u001b[0m \u001b[0mmean\u001b[0m\u001b[0;34m(\u001b[0m\u001b[0maxis\u001b[0m\u001b[0;34m=\u001b[0m\u001b[0maxis\u001b[0m\u001b[0;34m,\u001b[0m \u001b[0mdtype\u001b[0m\u001b[0;34m=\u001b[0m\u001b[0mdtype\u001b[0m\u001b[0;34m,\u001b[0m \u001b[0mout\u001b[0m\u001b[0;34m=\u001b[0m\u001b[0mout\u001b[0m\u001b[0;34m,\u001b[0m \u001b[0;34m**\u001b[0m\u001b[0mkwargs\u001b[0m\u001b[0;34m)\u001b[0m\u001b[0;34m\u001b[0m\u001b[0;34m\u001b[0m\u001b[0m\n\u001b[1;32m   3418\u001b[0m \u001b[0;34m\u001b[0m\u001b[0m\n\u001b[0;32m-> 3419\u001b[0;31m     return _methods._mean(a, axis=axis, dtype=dtype,\n\u001b[0m\u001b[1;32m   3420\u001b[0m                           out=out, **kwargs)\n\u001b[1;32m   3421\u001b[0m \u001b[0;34m\u001b[0m\u001b[0m\n",
      "\u001b[0;32m/opt/homebrew/anaconda3/lib/python3.8/site-packages/numpy/core/_methods.py\u001b[0m in \u001b[0;36m_mean\u001b[0;34m(a, axis, dtype, out, keepdims, where)\u001b[0m\n\u001b[1;32m    188\u001b[0m             \u001b[0mret\u001b[0m \u001b[0;34m=\u001b[0m \u001b[0mret\u001b[0m\u001b[0;34m.\u001b[0m\u001b[0mdtype\u001b[0m\u001b[0;34m.\u001b[0m\u001b[0mtype\u001b[0m\u001b[0;34m(\u001b[0m\u001b[0mret\u001b[0m \u001b[0;34m/\u001b[0m \u001b[0mrcount\u001b[0m\u001b[0;34m)\u001b[0m\u001b[0;34m\u001b[0m\u001b[0;34m\u001b[0m\u001b[0m\n\u001b[1;32m    189\u001b[0m     \u001b[0;32melse\u001b[0m\u001b[0;34m:\u001b[0m\u001b[0;34m\u001b[0m\u001b[0;34m\u001b[0m\u001b[0m\n\u001b[0;32m--> 190\u001b[0;31m         \u001b[0mret\u001b[0m \u001b[0;34m=\u001b[0m \u001b[0mret\u001b[0m \u001b[0;34m/\u001b[0m \u001b[0mrcount\u001b[0m\u001b[0;34m\u001b[0m\u001b[0;34m\u001b[0m\u001b[0m\n\u001b[0m\u001b[1;32m    191\u001b[0m \u001b[0;34m\u001b[0m\u001b[0m\n\u001b[1;32m    192\u001b[0m     \u001b[0;32mreturn\u001b[0m \u001b[0mret\u001b[0m\u001b[0;34m\u001b[0m\u001b[0;34m\u001b[0m\u001b[0m\n",
      "\u001b[0;31mTypeError\u001b[0m: ufunc 'true_divide' not supported for the input types, and the inputs could not be safely coerced to any supported types according to the casting rule ''safe''"
     ]
    },
    {
     "data": {
      "image/png": "[encoded data removed]",
      "text/plain": [
       "<Figure size 576x144 with 2 Axes>"
      ]
     },
     "metadata": {
      "needs_background": "light"
     },
     "output_type": "display_data"
    }
   ],
   "source": [
    "#Use the explore_univariate function to look at the different features in the raw dataframe\n",
    "\n",
    "explore.explore_univariate(train_raw, cat_vars_raw, quant_vars)"
   ]
  },
  {
   "cell_type": "code",
   "execution_count": 29,
   "id": "08dfcb08",
   "metadata": {},
   "outputs": [
    {
     "ename": "AttributeError",
     "evalue": "'DataFrame' object has no attribute 'unique'",
     "output_type": "error",
     "traceback": [
      "\u001b[0;31m---------------------------------------------------------------------------\u001b[0m",
      "\u001b[0;31mAttributeError\u001b[0m                            Traceback (most recent call last)",
      "\u001b[0;32m<ipython-input-29-3b1644ad35bb>\u001b[0m in \u001b[0;36m<module>\u001b[0;34m\u001b[0m\n\u001b[1;32m      1\u001b[0m \u001b[0;31m#Use the explore_univariate function to look at the different features in the encoded dataframe\u001b[0m\u001b[0;34m\u001b[0m\u001b[0;34m\u001b[0m\u001b[0;34m\u001b[0m\u001b[0m\n\u001b[1;32m      2\u001b[0m \u001b[0;34m\u001b[0m\u001b[0m\n\u001b[0;32m----> 3\u001b[0;31m \u001b[0mexplore\u001b[0m\u001b[0;34m.\u001b[0m\u001b[0mexplore_univariate\u001b[0m\u001b[0;34m(\u001b[0m\u001b[0mtrain_encoded\u001b[0m\u001b[0;34m,\u001b[0m \u001b[0mcat_vars_encoded\u001b[0m\u001b[0;34m,\u001b[0m \u001b[0mquant_vars\u001b[0m\u001b[0;34m)\u001b[0m\u001b[0;34m\u001b[0m\u001b[0;34m\u001b[0m\u001b[0m\n\u001b[0m",
      "\u001b[0;32m~/codeup-data-science/telco-classification-project/explore.py\u001b[0m in \u001b[0;36mexplore_univariate\u001b[0;34m(train, cat_vars, quant_vars)\u001b[0m\n\u001b[1;32m     26\u001b[0m \u001b[0;32mdef\u001b[0m \u001b[0mexplore_univariate\u001b[0m\u001b[0;34m(\u001b[0m\u001b[0mtrain\u001b[0m\u001b[0;34m,\u001b[0m \u001b[0mcat_vars\u001b[0m\u001b[0;34m,\u001b[0m \u001b[0mquant_vars\u001b[0m\u001b[0;34m)\u001b[0m\u001b[0;34m:\u001b[0m\u001b[0;34m\u001b[0m\u001b[0;34m\u001b[0m\u001b[0m\n\u001b[1;32m     27\u001b[0m     \u001b[0;32mfor\u001b[0m \u001b[0mvar\u001b[0m \u001b[0;32min\u001b[0m \u001b[0mcat_vars\u001b[0m\u001b[0;34m:\u001b[0m\u001b[0;34m\u001b[0m\u001b[0;34m\u001b[0m\u001b[0m\n\u001b[0;32m---> 28\u001b[0;31m         \u001b[0mexplore_univariate_categorical\u001b[0m\u001b[0;34m(\u001b[0m\u001b[0mtrain\u001b[0m\u001b[0;34m,\u001b[0m \u001b[0mvar\u001b[0m\u001b[0;34m)\u001b[0m\u001b[0;34m\u001b[0m\u001b[0;34m\u001b[0m\u001b[0m\n\u001b[0m\u001b[1;32m     29\u001b[0m         \u001b[0mprint\u001b[0m\u001b[0;34m(\u001b[0m\u001b[0;34m'_________________________________________________________________'\u001b[0m\u001b[0;34m)\u001b[0m\u001b[0;34m\u001b[0m\u001b[0;34m\u001b[0m\u001b[0m\n\u001b[1;32m     30\u001b[0m     \u001b[0;32mfor\u001b[0m \u001b[0mcol\u001b[0m \u001b[0;32min\u001b[0m \u001b[0mquant_vars\u001b[0m\u001b[0;34m:\u001b[0m\u001b[0;34m\u001b[0m\u001b[0;34m\u001b[0m\u001b[0m\n",
      "\u001b[0;32m~/codeup-data-science/telco-classification-project/explore.py\u001b[0m in \u001b[0;36mexplore_univariate_categorical\u001b[0;34m(train, cat_var)\u001b[0m\n\u001b[1;32m     59\u001b[0m     \u001b[0ma\u001b[0m \u001b[0mfrequency\u001b[0m \u001b[0mtable\u001b[0m \u001b[0;32mand\u001b[0m \u001b[0mbarplot\u001b[0m \u001b[0mof\u001b[0m \u001b[0mthe\u001b[0m \u001b[0mfrequencies\u001b[0m\u001b[0;34m.\u001b[0m\u001b[0;34m\u001b[0m\u001b[0;34m\u001b[0m\u001b[0m\n\u001b[1;32m     60\u001b[0m     '''\n\u001b[0;32m---> 61\u001b[0;31m     \u001b[0mfrequency_table\u001b[0m \u001b[0;34m=\u001b[0m \u001b[0mfreq_table\u001b[0m\u001b[0;34m(\u001b[0m\u001b[0mtrain\u001b[0m\u001b[0;34m,\u001b[0m \u001b[0mcat_var\u001b[0m\u001b[0;34m)\u001b[0m\u001b[0;34m\u001b[0m\u001b[0;34m\u001b[0m\u001b[0m\n\u001b[0m\u001b[1;32m     62\u001b[0m     \u001b[0mplt\u001b[0m\u001b[0;34m.\u001b[0m\u001b[0mfigure\u001b[0m\u001b[0;34m(\u001b[0m\u001b[0mfigsize\u001b[0m\u001b[0;34m=\u001b[0m\u001b[0;34m(\u001b[0m\u001b[0;36m2\u001b[0m\u001b[0;34m,\u001b[0m\u001b[0;36m2\u001b[0m\u001b[0;34m)\u001b[0m\u001b[0;34m)\u001b[0m\u001b[0;34m\u001b[0m\u001b[0;34m\u001b[0m\u001b[0m\n\u001b[1;32m     63\u001b[0m     \u001b[0msns\u001b[0m\u001b[0;34m.\u001b[0m\u001b[0mbarplot\u001b[0m\u001b[0;34m(\u001b[0m\u001b[0mx\u001b[0m\u001b[0;34m=\u001b[0m\u001b[0mcat_var\u001b[0m\u001b[0;34m,\u001b[0m \u001b[0my\u001b[0m\u001b[0;34m=\u001b[0m\u001b[0;34m'Count'\u001b[0m\u001b[0;34m,\u001b[0m \u001b[0mdata\u001b[0m\u001b[0;34m=\u001b[0m\u001b[0mfrequency_table\u001b[0m\u001b[0;34m,\u001b[0m \u001b[0mcolor\u001b[0m\u001b[0;34m=\u001b[0m\u001b[0;34m'lightseagreen'\u001b[0m\u001b[0;34m)\u001b[0m\u001b[0;34m\u001b[0m\u001b[0;34m\u001b[0m\u001b[0m\n",
      "\u001b[0;32m~/codeup-data-science/telco-classification-project/explore.py\u001b[0m in \u001b[0;36mfreq_table\u001b[0;34m(train, cat_var)\u001b[0m\n\u001b[1;32m     89\u001b[0m     \u001b[0;32mand\u001b[0m \u001b[0;32mreturn\u001b[0m \u001b[0ma\u001b[0m \u001b[0mdataframe\u001b[0m \u001b[0mof\u001b[0m \u001b[0mthose\u001b[0m \u001b[0mvalues\u001b[0m \u001b[0malong\u001b[0m \u001b[0;32mwith\u001b[0m \u001b[0mthe\u001b[0m \u001b[0mdifferent\u001b[0m \u001b[0mclasses\u001b[0m\u001b[0;34m.\u001b[0m\u001b[0;34m\u001b[0m\u001b[0;34m\u001b[0m\u001b[0m\n\u001b[1;32m     90\u001b[0m     '''\n\u001b[0;32m---> 91\u001b[0;31m     \u001b[0mclass_labels\u001b[0m \u001b[0;34m=\u001b[0m \u001b[0mlist\u001b[0m\u001b[0;34m(\u001b[0m\u001b[0mtrain\u001b[0m\u001b[0;34m[\u001b[0m\u001b[0mcat_var\u001b[0m\u001b[0;34m]\u001b[0m\u001b[0;34m.\u001b[0m\u001b[0munique\u001b[0m\u001b[0;34m(\u001b[0m\u001b[0;34m)\u001b[0m\u001b[0;34m)\u001b[0m\u001b[0;34m\u001b[0m\u001b[0;34m\u001b[0m\u001b[0m\n\u001b[0m\u001b[1;32m     92\u001b[0m \u001b[0;34m\u001b[0m\u001b[0m\n\u001b[1;32m     93\u001b[0m     frequency_table = (\n",
      "\u001b[0;32m/opt/homebrew/anaconda3/lib/python3.8/site-packages/pandas/core/generic.py\u001b[0m in \u001b[0;36m__getattr__\u001b[0;34m(self, name)\u001b[0m\n\u001b[1;32m   5463\u001b[0m             \u001b[0;32mif\u001b[0m \u001b[0mself\u001b[0m\u001b[0;34m.\u001b[0m\u001b[0m_info_axis\u001b[0m\u001b[0;34m.\u001b[0m\u001b[0m_can_hold_identifiers_and_holds_name\u001b[0m\u001b[0;34m(\u001b[0m\u001b[0mname\u001b[0m\u001b[0;34m)\u001b[0m\u001b[0;34m:\u001b[0m\u001b[0;34m\u001b[0m\u001b[0;34m\u001b[0m\u001b[0m\n\u001b[1;32m   5464\u001b[0m                 \u001b[0;32mreturn\u001b[0m \u001b[0mself\u001b[0m\u001b[0;34m[\u001b[0m\u001b[0mname\u001b[0m\u001b[0;34m]\u001b[0m\u001b[0;34m\u001b[0m\u001b[0;34m\u001b[0m\u001b[0m\n\u001b[0;32m-> 5465\u001b[0;31m             \u001b[0;32mreturn\u001b[0m \u001b[0mobject\u001b[0m\u001b[0;34m.\u001b[0m\u001b[0m__getattribute__\u001b[0m\u001b[0;34m(\u001b[0m\u001b[0mself\u001b[0m\u001b[0;34m,\u001b[0m \u001b[0mname\u001b[0m\u001b[0;34m)\u001b[0m\u001b[0;34m\u001b[0m\u001b[0;34m\u001b[0m\u001b[0m\n\u001b[0m\u001b[1;32m   5466\u001b[0m \u001b[0;34m\u001b[0m\u001b[0m\n\u001b[1;32m   5467\u001b[0m     \u001b[0;32mdef\u001b[0m \u001b[0m__setattr__\u001b[0m\u001b[0;34m(\u001b[0m\u001b[0mself\u001b[0m\u001b[0;34m,\u001b[0m \u001b[0mname\u001b[0m\u001b[0;34m:\u001b[0m \u001b[0mstr\u001b[0m\u001b[0;34m,\u001b[0m \u001b[0mvalue\u001b[0m\u001b[0;34m)\u001b[0m \u001b[0;34m->\u001b[0m \u001b[0;32mNone\u001b[0m\u001b[0;34m:\u001b[0m\u001b[0;34m\u001b[0m\u001b[0;34m\u001b[0m\u001b[0m\n",
      "\u001b[0;31mAttributeError\u001b[0m: 'DataFrame' object has no attribute 'unique'"
     ]
    }
   ],
   "source": [
    "#Use the explore_univariate function to look at the different features in the encoded dataframe\n",
    "\n",
    "explore.explore_univariate(train_encoded, cat_vars_encoded, quant_vars)"
   ]
  },
  {
   "cell_type": "code",
   "execution_count": null,
   "id": "d62be0fe",
   "metadata": {
    "scrolled": true
   },
   "outputs": [],
   "source": [
    "explore.explore_univariate(train, cat_vars, quant_vars)"
   ]
  },
  {
   "cell_type": "code",
   "execution_count": null,
   "id": "a4db10bc",
   "metadata": {},
   "outputs": [],
   "source": [
    "  '''\n",
    "    takes in a dataframe and a quantitative variable and returns\n",
    "    descriptive stats table, histogram, and boxplot of the distributions. \n",
    "    '''\n",
    "descriptive_stats_raw = train_raw[quant_vars].describe()\n",
    "descriptive_stats_raw"
   ]
  },
  {
   "cell_type": "code",
   "execution_count": null,
   "id": "ea28a30e",
   "metadata": {},
   "outputs": [],
   "source": [
    "descriptive_stats_encoded = train_encoded[quant_vars].describe()\n",
    "descriptive_stats_encoded"
   ]
  },
  {
   "cell_type": "code",
   "execution_count": null,
   "id": "d879b7ac",
   "metadata": {},
   "outputs": [],
   "source": [
    "sns.histplot(df_raw.churn)\n",
    "plt.show()"
   ]
  },
  {
   "cell_type": "code",
   "execution_count": null,
   "id": "6ee699c2",
   "metadata": {},
   "outputs": [],
   "source": [
    "sns.histplot(df_raw.automatic_pmt)\n",
    "plt.show()"
   ]
  },
  {
   "cell_type": "code",
   "execution_count": null,
   "id": "467354c3",
   "metadata": {},
   "outputs": [],
   "source": [
    "#visualize churn data using a countplot\n",
    "plt.figure(figsize=(10,6))\n",
    "sns.countplot(x='churn', data=train_raw)\n",
    "plt.show()"
   ]
  },
  {
   "cell_type": "code",
   "execution_count": null,
   "id": "74972a56",
   "metadata": {},
   "outputs": [],
   "source": [
    "    p = plt.subplot(1, 2, 1)\n",
    "    p = plt.hist(train_encoded[quant_vars])\n",
    "    p = plt.title(quant_vars)"
   ]
  },
  {
   "cell_type": "code",
   "execution_count": null,
   "id": "6eeaf311",
   "metadata": {},
   "outputs": [],
   "source": [
    "    # second plot: box plot\n",
    "    p = plt.subplot(1, 2, 2)\n",
    "    p = plt.boxplot(train_encoded[quant_vars])\n",
    "    p = plt.title(quant_vars)"
   ]
  },
  {
   "cell_type": "markdown",
   "id": "4f1bc27a",
   "metadata": {},
   "source": [
    "### Bivariate Stats"
   ]
  },
  {
   "cell_type": "markdown",
   "id": "2f8f7403",
   "metadata": {},
   "source": [
    "We will use our explore_bivariate(train, target, cat_vars, quant_vars) function that takes in a dataframe, the name of the binary target variable, a list of the names of the categorical variables, a list of the names of the quantitative variables. Each feature is analyzed with respect to the binary target variable. \n",
    "For each categorical variable, a crosstab of frequencies is returned along with the results from a chi-square test that is run, and a barplot. For each quantitative variable, descriptive statistics are computed with respect to the target variable. Difference in means of the quant variable are tested between each class in the target using Mann-Whitney. Finally, a boxenplot and a swarmplot of the target with the quantitative variable are returned."
   ]
  },
  {
   "cell_type": "markdown",
   "id": "0d3173b7",
   "metadata": {},
   "source": [
    "We will want to remove the target variable from that list, as the function takes that variable as a separate argument."
   ]
  },
  {
   "cell_type": "code",
   "execution_count": null,
   "id": "2e4f8a65",
   "metadata": {},
   "outputs": [],
   "source": [
    "cat_vars_w_o_target_encoded = ['gender', 'senior_citizen', 'partner', 'dependents', 'phone_service', 'paperless_billing','multiple_lines_Yes',\n",
    "            'online_security_Yes','online_backup_Yes', 'tech_support_Yes',\n",
    "           'streaming_tv_Yes','streaming_movies_Yes',\n",
    "           'contract_type_Month-to-month', 'contract_type_One year',\n",
    "           'contract_type_Two year', 'internet_service_type_DSL',\n",
    "           'internet_service_type_Fiber optic', 'internet_service_type_None',\n",
    "           'payment_type_Bank transfer (automatic)',\n",
    "           'payment_type_Credit card (automatic)', 'payment_type_Electronic check',\n",
    "           'payment_type_Mailed check', 'automatic_pmt']"
   ]
  },
  {
   "cell_type": "code",
   "execution_count": null,
   "id": "cad7f69a",
   "metadata": {},
   "outputs": [],
   "source": [
    "train_encoded.shape"
   ]
  },
  {
   "cell_type": "code",
   "execution_count": null,
   "id": "b960f1e3",
   "metadata": {},
   "outputs": [],
   "source": [
    "explore.explore_bivariate(train_encoded, 'churn', cat_vars_w_o_target_encoded, quant_vars)"
   ]
  },
  {
   "cell_type": "code",
   "execution_count": null,
   "id": "6a6b09ae",
   "metadata": {},
   "outputs": [],
   "source": []
  },
  {
   "cell_type": "code",
   "execution_count": null,
   "id": "761f0995",
   "metadata": {
    "scrolled": true
   },
   "outputs": [],
   "source": [
    "explore.explore_bivariate(train, 'churn', cat_vars_w_o_target, quant_vars)"
   ]
  },
  {
   "cell_type": "markdown",
   "id": "e665f388",
   "metadata": {},
   "source": [
    "#### Takeaways"
   ]
  },
  {
   "cell_type": "markdown",
   "id": "769087e8",
   "metadata": {},
   "source": [
    "### Multivariate Stats & Analysis"
   ]
  },
  {
   "cell_type": "markdown",
   "id": "db11b5bf",
   "metadata": {},
   "source": [
    "Looking at a categorical target variable, color will represent the target, and then plot two features, x and y.\n",
    "\n",
    "Use our function, explore_multivariate(train, target, cat_vars, quant_vars) to generate the following: \n",
    "- 2 grid plots (swarmplot and violinplot) of categorical variables x quantitative variables\n",
    "- a Pairplot plotting each unique pair of quantitative variables\n",
    "- a single swarmplot visualizing the values of each quantitative variable\n",
    "\n",
    "For all of these, color represents the target variable."
   ]
  },
  {
   "cell_type": "code",
   "execution_count": null,
   "id": "39bebb11",
   "metadata": {},
   "outputs": [],
   "source": [
    "import seaborn as sns\n",
    "\n",
    "sns.distplot(df.tenure)"
   ]
  },
  {
   "cell_type": "code",
   "execution_count": null,
   "id": "4ff874c5",
   "metadata": {},
   "outputs": [],
   "source": [
    "target = 'churn'\n",
    "\n",
    "explore.explore_multivariate(train_encoded, target, cat_vars_raw, quant_vars)"
   ]
  },
  {
   "cell_type": "markdown",
   "id": "68104f1f",
   "metadata": {},
   "source": [
    "#### Takeaways\n",
    "\n",
    "- Majority of customers are not senior citizens: About 84% are not senior citizens while 16% are senior citizens\n",
    "- About equal amount of customers have a partner: 51% do not have a partner while 49% do have a partner\n",
    "- Majority of customers do not have dependents: 70% do not have dependents while 30% do\n",
    "- Majority of customers do subscribe to phone service: 90% do have phone service while 10% do not\n",
    "- About equal amount of customer use paperless billing: 59% do not have paperless billing while 41% do\n",
    "- Majority of customers are not churning: 74% did not churn while 26% did churn\n",
    "- Majority of customers do not have multiple lines: 76% do not have multiple lines while 24% do\n",
    "- Majority of customers do not have online security: 85% do not have online security while 15% do\n",
    "- Majority of customers do not have streaming TV: 81% do not have streaming TV while 19% do\n",
    "- Majority of customers do not have tech support: 85% do not while 15% do\n",
    "- Majority of are not month-to-month customers: 72% are not while 28% are\n",
    "- Average tenure is 32 months\n",
    "- Average monthly charge is 65 with a min of 18 and a max of 119\n",
    "- Average total charges are 2295 with a min of 0 and a max of 8684\n",
    "- Majority of customers are on automatic payment plan: 75% are on automatic while 25% are not on automatic payment plan\n",
    "\n"
   ]
  },
  {
   "cell_type": "markdown",
   "id": "91266b02",
   "metadata": {},
   "source": [
    "# Modeling and Evaluation\n",
    "\n",
    "Plan -> Acquire -> Prepare -> Explore -> <span style='background :skyblue' > MODEL & EVALUATE </span>-> Deliver\n",
    "\n",
    "\n",
    "\n",
    "Establish a baseline accuracy to determine if having a model is better than no model and train and compare at least 3 different models. Document these steps well.\n",
    "\n",
    "Train (fit, transform, evaluate) multiple models, varying the algorithm and/or hyperparameters you use.\n",
    "\n",
    "Compare evaluation metrics across all the models you train and select the ones you want to evaluate using your validate dataframe.\n",
    "\n",
    "Feature Selection (optional): Are there any variables that seem to provide limited to no additional information? If so, remove them.\n",
    "\n",
    "Based on the evaluation of your models using the train and validate datasets, choose your best model that you will try with your test data, once.\n",
    "\n",
    "Test the final model on your out-of-sample data (the testing dataset), summarize the performance, interpret and document your results.\n",
    "\n"
   ]
  },
  {
   "cell_type": "markdown",
   "id": "b9157127",
   "metadata": {},
   "source": [
    "### Setup the baseline"
   ]
  },
  {
   "cell_type": "code",
   "execution_count": null,
   "id": "b4076680",
   "metadata": {},
   "outputs": [],
   "source": [
    "#The most frequenly observed outcome will be our baseline\n",
    "train_raw.churn.value_counts()"
   ]
  },
  {
   "cell_type": "code",
   "execution_count": null,
   "id": "cc24ba7e",
   "metadata": {},
   "outputs": [],
   "source": [
    "train_encoded.churn.value_counts()"
   ]
  },
  {
   "cell_type": "code",
   "execution_count": null,
   "id": "424272a4",
   "metadata": {},
   "outputs": [],
   "source": [
    "#Create the  baseline\n",
    "#Because the majority did not churn, we will use 0 as our baseline\n",
    "train_raw['baseline_pred_raw'] = 0"
   ]
  },
  {
   "cell_type": "code",
   "execution_count": null,
   "id": "5abac5e4",
   "metadata": {},
   "outputs": [],
   "source": [
    "train_encoded['baseline_pred_encoded'] = 0"
   ]
  },
  {
   "cell_type": "code",
   "execution_count": null,
   "id": "506474e4",
   "metadata": {},
   "outputs": [],
   "source": [
    "#Establish baseline accuracy\n",
    "baseline_accuracy_raw = (train_raw.churn == train_raw.baseline_pred_raw).mean()\n",
    "print(f'The baseline accuracy is: {baseline_accuracy_raw:.2%}')"
   ]
  },
  {
   "cell_type": "code",
   "execution_count": null,
   "id": "1f14bbaf",
   "metadata": {},
   "outputs": [],
   "source": [
    "baseline_accuracy_encoded = (train_encoded.churn == train_encoded.baseline_pred_encoded).mean()\n",
    "print(f'The baseline accuracy is: {baseline_accuracy_encoded:.2%}')"
   ]
  },
  {
   "cell_type": "markdown",
   "id": "c2c3f18b",
   "metadata": {},
   "source": [
    "### Split the data along the target variable to prepare for use in models"
   ]
  },
  {
   "cell_type": "code",
   "execution_count": null,
   "id": "bb26f5eb",
   "metadata": {},
   "outputs": [],
   "source": [
    "# create X & y version of train, where y is a series with just the target variable and X are all the features. \n",
    "\n",
    "X_train = train.drop(columns=['churn', 'baseline_pred_encoded']])\n",
    "y_train = train.churn\n",
    "\n",
    "X_validate = validate.drop(columns=['churn'])\n",
    "y_validate = validate.churn\n",
    "\n",
    "X_test = test.drop(columns=['churn'])\n",
    "y_test = test.churn"
   ]
  },
  {
   "cell_type": "code",
   "execution_count": null,
   "id": "35ff3b0f",
   "metadata": {},
   "outputs": [],
   "source": [
    "X_train = train_encoded.drop(columns=['churn','baseline_pred_encoded'])\n",
    "y_train = train_encoded.churn\n",
    "\n",
    "X_validate = validate_encoded.drop(columns=['churn'])\n",
    "y_validate = validate_encoded.churn\n",
    "\n",
    "X_test = test_encoded.drop(columns=['churn'])\n",
    "y_test = test_encoded.churn"
   ]
  },
  {
   "cell_type": "code",
   "execution_count": null,
   "id": "e9ed32b7",
   "metadata": {},
   "outputs": [],
   "source": []
  },
  {
   "cell_type": "code",
   "execution_count": null,
   "id": "056aaadd",
   "metadata": {},
   "outputs": [],
   "source": [
    "X_train.columns"
   ]
  },
  {
   "cell_type": "code",
   "execution_count": null,
   "id": "f30de193",
   "metadata": {},
   "outputs": [],
   "source": [
    "X_validate.shape"
   ]
  },
  {
   "cell_type": "code",
   "execution_count": null,
   "id": "1cb6498f",
   "metadata": {},
   "outputs": [],
   "source": [
    "X_train.shape"
   ]
  },
  {
   "cell_type": "code",
   "execution_count": null,
   "id": "77445f81",
   "metadata": {},
   "outputs": [],
   "source": [
    "set(X_train.columns).difference(set(X_validate.columns))"
   ]
  },
  {
   "cell_type": "code",
   "execution_count": null,
   "id": "18f4ef0d",
   "metadata": {},
   "outputs": [],
   "source": []
  },
  {
   "cell_type": "markdown",
   "id": "7c15af41",
   "metadata": {},
   "source": [
    "### Decision Tree Model"
   ]
  },
  {
   "cell_type": "code",
   "execution_count": null,
   "id": "91b592c1",
   "metadata": {},
   "outputs": [],
   "source": [
    "# Create the Decision Tree object with desired hyper-parameters.\n",
    "clf = DecisionTreeClassifier(max_depth=3, random_state=123)"
   ]
  },
  {
   "cell_type": "code",
   "execution_count": null,
   "id": "e3d5a707",
   "metadata": {},
   "outputs": [],
   "source": [
    "#Fit the random forest model to the training data.\n",
    "clf = clf.fit(X_train, y_train)"
   ]
  },
  {
   "cell_type": "code",
   "execution_count": null,
   "id": "363559bb",
   "metadata": {},
   "outputs": [],
   "source": [
    "#Use the model to get accuracy on training dataset\n",
    "print('Accuracy of Decision Tree model on training set: {:.2f}'\n",
    "      .format(clf.score(X_train, y_train)))"
   ]
  },
  {
   "cell_type": "code",
   "execution_count": null,
   "id": "c452ae69",
   "metadata": {},
   "outputs": [],
   "source": []
  },
  {
   "cell_type": "code",
   "execution_count": null,
   "id": "422a0075",
   "metadata": {},
   "outputs": [],
   "source": [
    "#Use the model to get accuracy on validate dataset\n",
    "print('Accuracy of Decision Tree model on validate set: {:.2f}'\n",
    "     .format(clf.score(X_validate, y_validate)))"
   ]
  },
  {
   "cell_type": "code",
   "execution_count": null,
   "id": "f90ce3ea",
   "metadata": {},
   "outputs": [],
   "source": [
    "print(f'training score: {clf.score(X_train, y_train):.2%}')\n",
    "print(f'validate score: {clf.score(X_validate, y_validate):.2%}')"
   ]
  },
  {
   "cell_type": "code",
   "execution_count": null,
   "id": "2dc27528",
   "metadata": {},
   "outputs": [],
   "source": []
  },
  {
   "cell_type": "code",
   "execution_count": null,
   "id": "ac3e7814",
   "metadata": {},
   "outputs": [],
   "source": [
    "# Produce y_predictions that come from the X_validate\n",
    "y_pred = clf.predict(X_validate)\n",
    "\n",
    "# Compare actual y values (from validate) to predicted y_values from the model run on X_validate\n",
    "print(classification_report(y_validate, y_pred))"
   ]
  },
  {
   "cell_type": "code",
   "execution_count": null,
   "id": "6c6e7610",
   "metadata": {},
   "outputs": [],
   "source": []
  },
  {
   "cell_type": "code",
   "execution_count": null,
   "id": "819616de",
   "metadata": {},
   "outputs": [],
   "source": [
    "#Visualize the Decision Tree with the use of Graphviz\n",
    "\n",
    "#By visualizing the tree, we can see the importance of features, as teh most important features will be the first splits.\n",
    "import graphviz\n",
    "from graphviz import Graph\n",
    "\n",
    "dot_data = export_graphviz(clf, feature_names= X_train.columns, class_names=clf.classes_, rounded=True, filled=True, out_file=None)\n",
    "graph = graphviz.Source(dot_data) \n",
    "\n",
    "graph.render('telco_decision_tree', view=True)"
   ]
  },
  {
   "cell_type": "markdown",
   "id": "43eba7c2",
   "metadata": {},
   "source": [
    "### Decision Tree Model Takeaways:\n",
    "- Decision Tree Model has an accuracy of % using the train set using max_depth=\n",
    "- Decision Tree Model has an accuracy of % using the validate set using max_depth=\n",
    "- Both are higher than the baseline accuracy of %"
   ]
  },
  {
   "cell_type": "markdown",
   "id": "f6058ec0",
   "metadata": {},
   "source": [
    "### Random Forest Model\n",
    "   "
   ]
  },
  {
   "cell_type": "code",
   "execution_count": null,
   "id": "75e9939e",
   "metadata": {},
   "outputs": [],
   "source": [
    "#Create the Random Forest object with desired hyper-parameters.\n",
    "rf = RandomForestClassifier(bootstrap=True, \n",
    "                            class_weight=None, \n",
    "                            criterion='gini',\n",
    "                            min_samples_leaf=3,\n",
    "                            n_estimators=100,\n",
    "                            max_depth=3, \n",
    "                            random_state=123)"
   ]
  },
  {
   "cell_type": "code",
   "execution_count": null,
   "id": "68c7a572",
   "metadata": {},
   "outputs": [],
   "source": [
    "# Fit the random forest model to the training data.\n",
    "rf.fit(X_train, y_train)"
   ]
  },
  {
   "cell_type": "code",
   "execution_count": null,
   "id": "7cbef22b",
   "metadata": {},
   "outputs": [],
   "source": [
    "#Evaluate importance, or weight, of each feature.\n",
    "print(rf.feature_importances_)"
   ]
  },
  {
   "cell_type": "code",
   "execution_count": null,
   "id": "23b63532",
   "metadata": {},
   "outputs": [],
   "source": [
    "#Make Predictions\n",
    "y_pred = rf.predict(X_train)"
   ]
  },
  {
   "cell_type": "code",
   "execution_count": null,
   "id": "71a58110",
   "metadata": {},
   "outputs": [],
   "source": [
    "#Use the model to get accuracy on training dataset\n",
    "print('Accuracy of random forest model on training set: {:.2f}'\n",
    "     .format(rf.score(X_train, y_train)))"
   ]
  },
  {
   "cell_type": "code",
   "execution_count": null,
   "id": "3d639e1a",
   "metadata": {},
   "outputs": [],
   "source": [
    "#Use the model to get accuracy on the validate dataset.\n",
    "print('Accuracy of random forest model on validate set: {:.2f}'\n",
    "     .format(rf.score(X_validate, y_validate)))"
   ]
  },
  {
   "cell_type": "markdown",
   "id": "b47f584e",
   "metadata": {},
   "source": [
    "### Random Forest Model Takeaways:\n",
    "- Random Forest Model has an accuracy of % using the train set\n",
    "- Random Forest Model has an accuracy of % using the validate set\n",
    "- Both are higher than the baseline accuracy of %\n",
    "\n",
    "- Overfit?"
   ]
  },
  {
   "cell_type": "code",
   "execution_count": null,
   "id": "903b4736",
   "metadata": {},
   "outputs": [],
   "source": []
  },
  {
   "cell_type": "code",
   "execution_count": null,
   "id": "33bd2eb9",
   "metadata": {},
   "outputs": [],
   "source": []
  },
  {
   "cell_type": "code",
   "execution_count": null,
   "id": "87d73e01",
   "metadata": {},
   "outputs": [],
   "source": []
  },
  {
   "cell_type": "code",
   "execution_count": null,
   "id": "242262f0",
   "metadata": {},
   "outputs": [],
   "source": []
  },
  {
   "cell_type": "code",
   "execution_count": null,
   "id": "a7c929e4",
   "metadata": {},
   "outputs": [],
   "source": []
  },
  {
   "cell_type": "markdown",
   "id": "8a8e05e3",
   "metadata": {},
   "source": [
    "### K - Nearest Neighbors Model"
   ]
  },
  {
   "cell_type": "code",
   "execution_count": null,
   "id": "daefb9ab",
   "metadata": {},
   "outputs": [],
   "source": [
    "#Create KNN Model\n",
    "knn = KNeighborsClassifier(n_neighbors=5, weights='uniform')"
   ]
  },
  {
   "cell_type": "code",
   "execution_count": null,
   "id": "a7a04d93",
   "metadata": {},
   "outputs": [],
   "source": [
    "#Fit the model to the training data.\n",
    "knn.fit(X_train, y_train)"
   ]
  },
  {
   "cell_type": "code",
   "execution_count": null,
   "id": "55e48045",
   "metadata": {},
   "outputs": [],
   "source": [
    "#Use the model to get accuracy on training dataset\n",
    "print('Accuracy of KNN model on training set: {:.2f}'\n",
    "     .format(knn.score(X_train, y_train)))"
   ]
  },
  {
   "cell_type": "code",
   "execution_count": null,
   "id": "600ac002",
   "metadata": {},
   "outputs": [],
   "source": [
    "#Use the model to get accuracy on validate dataset\n",
    "print('Accuracy of KNN model on test set: {:.2f}'\n",
    "     .format(knn.score(X_validate, y_validate)))"
   ]
  },
  {
   "cell_type": "code",
   "execution_count": null,
   "id": "40bd386a",
   "metadata": {},
   "outputs": [],
   "source": []
  },
  {
   "cell_type": "code",
   "execution_count": null,
   "id": "81da5e36",
   "metadata": {},
   "outputs": [],
   "source": []
  },
  {
   "cell_type": "code",
   "execution_count": null,
   "id": "3a1a1fd1",
   "metadata": {},
   "outputs": [],
   "source": [
    "#Make Predictions\n",
    "y_pred = knn.predict(X_train)"
   ]
  },
  {
   "cell_type": "code",
   "execution_count": null,
   "id": "427d9586",
   "metadata": {},
   "outputs": [],
   "source": []
  },
  {
   "cell_type": "markdown",
   "id": "cd3757a2",
   "metadata": {},
   "source": [
    "### K-Nearest Neighbors Model Takeaways:\n",
    "- K-Nearest Neighbors Model has an accuracy of % using the train set\n",
    "- K-Nearest Neighbors Model has an accuracy of % using the validate set\n",
    "- Both are higher than the baseline accuracy of %\n",
    "\n",
    "- Overfit?"
   ]
  },
  {
   "cell_type": "code",
   "execution_count": null,
   "id": "9e043b11",
   "metadata": {},
   "outputs": [],
   "source": []
  },
  {
   "cell_type": "markdown",
   "id": "3cf0e5d5",
   "metadata": {},
   "source": [
    "### Logistic Regression Model"
   ]
  },
  {
   "cell_type": "code",
   "execution_count": null,
   "id": "89c495b3",
   "metadata": {},
   "outputs": [],
   "source": [
    "# Create the logistic regression model\n",
    "logit = LogisticRegression(C=1, random_state=123)\n"
   ]
  },
  {
   "cell_type": "code",
   "execution_count": null,
   "id": "7da5a697",
   "metadata": {},
   "outputs": [],
   "source": [
    "#Fit the logistic regression model to the training data.\n",
    "logit.fit(X_train, y_train)"
   ]
  },
  {
   "cell_type": "code",
   "execution_count": null,
   "id": "372e4ca8",
   "metadata": {},
   "outputs": [],
   "source": [
    "#Use the model to get accuracy on training dataset\n",
    "print(print('Accuracy of logistic regression model on training set: {:.2f}'\n",
    "     .format(logit.score(X_train, y_train))))"
   ]
  },
  {
   "cell_type": "code",
   "execution_count": null,
   "id": "5f802cac",
   "metadata": {},
   "outputs": [],
   "source": [
    "#Use the model to get accuracy on validate dataset\n",
    "print('Accuracy: {:.2f}'.format(logit.score(X_validate, y_validate)))"
   ]
  },
  {
   "cell_type": "code",
   "execution_count": null,
   "id": "fbc711ea",
   "metadata": {},
   "outputs": [],
   "source": []
  },
  {
   "cell_type": "code",
   "execution_count": null,
   "id": "71b52363",
   "metadata": {},
   "outputs": [],
   "source": []
  },
  {
   "cell_type": "code",
   "execution_count": null,
   "id": "ebc92516",
   "metadata": {},
   "outputs": [],
   "source": [
    "#Evaluate importance, or weight, of each feature, using the coefficients.\n",
    "\n",
    "#Evaluate the intercept of the model.\n",
    "\n",
    "print('Coefficient: \\n', logit.coef_)\n",
    "print('Intercept: \\n', logit.intercept_)"
   ]
  },
  {
   "cell_type": "code",
   "execution_count": null,
   "id": "864163cb",
   "metadata": {},
   "outputs": [],
   "source": [
    "# Make Predictions\n",
    "y_pred = logit.predict(X_train)"
   ]
  },
  {
   "cell_type": "code",
   "execution_count": null,
   "id": "bbf1ae8c",
   "metadata": {},
   "outputs": [],
   "source": [
    "#Classification report of model\n",
    "print(classification_report(y_validate, y_pred1))"
   ]
  },
  {
   "cell_type": "code",
   "execution_count": null,
   "id": "fc40c518",
   "metadata": {},
   "outputs": [],
   "source": []
  },
  {
   "cell_type": "code",
   "execution_count": null,
   "id": "aa269f9f",
   "metadata": {},
   "outputs": [],
   "source": [
    "# specify the features we're using\n",
    "features1 = [\"automatic_pmt\"]\n",
    "\n",
    "features2 = [\"automatic_pmt\", \"total_charges\"]\n",
    "\n",
    "features3 = [\"automatic_pmt\", \"total_charges\", \"contract_type_Month-to-month\"]\n",
    "\n",
    "features4 = [\"automatic_pmt\", \"total_charges\", \"contract_type_Month-to-month\", \"internet_service_type_Fiber optic\"]"
   ]
  },
  {
   "cell_type": "code",
   "execution_count": null,
   "id": "9f4e189a",
   "metadata": {},
   "outputs": [],
   "source": [
    "# Create the logistic regression\n",
    "logit1 = LogisticRegression(random_state=123)\n",
    "\n",
    "# Fit a model using only these specified features\n",
    "# logit.fit(X_train[[\"age\", \"pclass\", \"fare\"]], y_train)\n",
    "logit1.fit(X_train[features1], y_train)\n",
    "\n",
    "# Since we .fit on a subset, we .predict on that same subset of features\n",
    "y_pred1 = logit1.predict(X_train[features1])\n",
    "\n",
    "print(\"Baseline is\", round(baseline_accuracy_encoded, 2))\n",
    "print(\"Logistic Regression using age, pclass, and fare features\")\n",
    "print('Accuracy of Logistic Regression classifier on training set: {:.2f}'\n",
    "     .format(logit1.score(X_train[features1], y_train)))"
   ]
  },
  {
   "cell_type": "code",
   "execution_count": null,
   "id": "cffab905",
   "metadata": {},
   "outputs": [],
   "source": [
    "# Create the logistic regression\n",
    "logit2 = LogisticRegression(random_state=123)\n",
    "\n",
    "# Fit a model using only these specified features\n",
    "# logit.fit(X_train[[\"age\", \"pclass\", \"fare\"]], y_train)\n",
    "logit2.fit(X_train[features2], y_train)\n",
    "\n",
    "# Since we .fit on a subset, we .predict on that same subset of features\n",
    "y_pred2 = logit2.predict(X_train[features2])\n",
    "\n",
    "print(\"Baseline is\", round(baseline_accuracy_encoded, 2))\n",
    "print(\"Logistic Regression using age, pclass, and fare features\")\n",
    "print('Accuracy of Logistic Regression classifier on training set: {:.2f}'\n",
    "     .format(logit2.score(X_train[features2], y_train)))"
   ]
  },
  {
   "cell_type": "code",
   "execution_count": null,
   "id": "3ee73303",
   "metadata": {},
   "outputs": [],
   "source": [
    "# Create the logistic regression\n",
    "logit3 = LogisticRegression(random_state=123)\n",
    "\n",
    "# Fit a model using only these specified features\n",
    "# logit.fit(X_train[[\"age\", \"pclass\", \"fare\"]], y_train)\n",
    "logit3.fit(X_train[features3], y_train)\n",
    "\n",
    "# Since we .fit on a subset, we .predict on that same subset of features\n",
    "y_pred3 = logit3.predict(X_train[features3])\n",
    "\n",
    "print(\"Baseline is\", round(baseline_accuracy_encoded, 2))\n",
    "print(\"Logistic Regression using age, pclass, and fare features\")\n",
    "print('Accuracy of Logistic Regression classifier on training set: {:.2f}'\n",
    "     .format(logit3.score(X_train[features3], y_train)))"
   ]
  },
  {
   "cell_type": "code",
   "execution_count": null,
   "id": "a64604c0",
   "metadata": {},
   "outputs": [],
   "source": [
    "# Create the logistic regression\n",
    "logit4 = LogisticRegression(random_state=123)\n",
    "\n",
    "# Fit a model using only these specified features\n",
    "# logit.fit(X_train[[\"age\", \"pclass\", \"fare\"]], y_train)\n",
    "logit4.fit(X_train[features4], y_train)\n",
    "\n",
    "# Since we .fit on a subset, we .predict on that same subset of features\n",
    "y_pred4 = logit4.predict(X_train[features4])\n",
    "\n",
    "print(\"Baseline is\", round(baseline_accuracy_encoded, 2))\n",
    "print(\"Logistic Regression using age, pclass, and fare features\")\n",
    "print('Accuracy of Logistic Regression classifier on training set: {:.2f}'\n",
    "     .format(logit4.score(X_train[features4], y_train)))"
   ]
  },
  {
   "cell_type": "markdown",
   "id": "8d344feb",
   "metadata": {},
   "source": [
    "### Logistic Regression Model Takeaways:\n",
    "- Logistic Regression Model has an accuracy of % using the train set\n",
    "- Logistic Regression Model has an accuracy of % using the validate set\n",
    "- Both are higher than the baseline accuracy of %\n",
    "\n",
    "- Overfit?"
   ]
  },
  {
   "cell_type": "code",
   "execution_count": null,
   "id": "4a7cdac9",
   "metadata": {},
   "outputs": [],
   "source": []
  },
  {
   "cell_type": "markdown",
   "id": "88f3b48b",
   "metadata": {},
   "source": [
    "# Delivery\n",
    "\n",
    "Plan -> Acquire -> Prepare -> Explore -> Model & Evaluate -> <span style='background :skyblue' > DELIVER </span>\n",
    "\n",
    "Introduce yourself and your project goals at the very beginning of your notebook walkthrough.\n",
    "\n",
    "Summarize your findings at the beginning like you would for an Executive Summary. Just because you don't have a slide deck for this presentation, doesn't mean you throw out everything you learned from Storytelling.\n",
    "\n",
    "Walk us through the analysis you did to answer our questions and that lead to your findings. Relationships should be visualized and takeaways documented. Please clearly call out the questions and answers you are analyzing as well as offer insights and recommendations based on your findings.\n",
    "\n",
    "For example: If you find that month-to-month customers churn more, we won't be surprised, but Telco is not getting rid of that plan. The fact that customers churn is not because they can; it's because they can and they are motivated to do so. We want your insights into why they are motivated to do so. We realize you will not be able to do a full causal experiment, but we would like to see some solid evidence of your conclusions.\n",
    "\n",
    "Finish with key takeaways, recommendations, and next steps and be prepared to answer questions from the data science team about your project.\n",
    "\n",
    "Remember you have a time limit of 5 minutes for your presentation. Make sure you practice your notebook walkthrough keeping this time limit in mind; it will go by very quickly."
   ]
  },
  {
   "cell_type": "markdown",
   "id": "312a50e2",
   "metadata": {},
   "source": [
    "### Key Takeaways\n",
    "- ad\n",
    "- bd"
   ]
  },
  {
   "cell_type": "markdown",
   "id": "ae5ad1a4",
   "metadata": {},
   "source": [
    "### Recommendations\n",
    "- ad\n",
    "- bd"
   ]
  },
  {
   "cell_type": "markdown",
   "id": "060b990a",
   "metadata": {},
   "source": [
    "### Next Steps\n",
    "- ad\n",
    "- bd"
   ]
  }
 ],
 "metadata": {
  "kernelspec": {
   "display_name": "Python 3",
   "language": "python",
   "name": "python3"
  },
  "language_info": {
   "codemirror_mode": {
    "name": "ipython",
    "version": 3
   },
   "file_extension": ".py",
   "mimetype": "text/x-python",
   "name": "python",
   "nbconvert_exporter": "python",
   "pygments_lexer": "ipython3",
   "version": "3.8.8"
  }
 },
 "nbformat": 4,
 "nbformat_minor": 5
}
