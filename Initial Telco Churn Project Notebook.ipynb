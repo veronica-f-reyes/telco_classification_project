{
 "cells": [
  {
   "cell_type": "markdown",
   "id": "90ca5c8e",
   "metadata": {},
   "source": [
    "# Telco Classification Project\n",
    "\n",
    "***"
   ]
  },
  {
   "cell_type": "markdown",
   "id": "3508c6e5",
   "metadata": {},
   "source": [
    "PLAN -> Acquire -> Prepare -> Explore -> Model & Evaluate -> Deliver"
   ]
  },
  {
   "cell_type": "markdown",
   "id": "114eff4c",
   "metadata": {},
   "source": [
    "# Project Planning"
   ]
  },
  {
   "cell_type": "markdown",
   "id": "9c1a56a8",
   "metadata": {},
   "source": [
    " Customers at the telecommunications company, Telco, are churning.  The goal of this project is to determine why customers are churning by developing machine learning classification models to predict customer churn based on the customer data available. The models will be created using Python, Pandas, Matplot, Seaborn, and Scikit-Learn libraries."
   ]
  },
  {
   "cell_type": "markdown",
   "id": "7c1d5987",
   "metadata": {},
   "source": [
    "### Business Goals\n",
    "\n",
    "- Find drivers for customer churn at Telco. \n",
    "\n",
    "\n",
    "- Construct a Machine Learning classification model that accurately predicts customer churn.\n",
    "\n",
    "***"
   ]
  },
  {
   "cell_type": "markdown",
   "id": "f096baa8",
   "metadata": {},
   "source": [
    "# Questions to Consider:"
   ]
  },
  {
   "cell_type": "markdown",
   "id": "9dfd4e53",
   "metadata": {},
   "source": [
    "So customers are churning and we don't know why.  "
   ]
  },
  {
   "cell_type": "markdown",
   "id": "cb81177e",
   "metadata": {},
   "source": [
    "- Are there clear groupings where a customer is more likely to churn?\n",
    "\n",
    "- What if you consider contract type?\n",
    "- Is there a tenure value at which month-to-month customers are most likely to churn? 1-year contract customers? 2-year contract customers?\n",
    "\n",
    "Thoughts on what could be going on? (Be sure to state these thoughts not as facts but as untested hypotheses until you test them!). \n",
    "\n",
    "You might want to plot the rate of churn on a line chart where x is the tenure and y is the rate of churn (customers churned/total customers).\n",
    "Are there features that indicate a higher likelihood for customer churn?\n",
    "\n",
    "- How influential are internet service type, phone service type, online security and backup services, senior citizen status, paying more than x% of customers with the same services, etc.?\n",
    "- Is there a price threshold for specific services beyond which the likelihood of churn increases?\n",
    "\n",
    "- If so, what is that point and for which service(s)?\n",
    "- If we looked at churn rate for month-to-month customers after the 12th month and that of 1-year contract customers after the 12th month, are those rates comparable?"
   ]
  },
  {
   "cell_type": "code",
   "execution_count": null,
   "id": "bc60eaa4",
   "metadata": {},
   "outputs": [],
   "source": [
    "Clearly state your starting hypotheses (and add the testing of these to your task list)."
   ]
  },
  {
   "cell_type": "markdown",
   "id": "171202a9",
   "metadata": {},
   "source": [
    "### From the previous Telco churn project, I discovered that many month-to-month customers who churn are not on automatic payment plans.\n",
    "\n",
    "To follow up:\n",
    "\n",
    "- Who are the customers on automatic payments? Senior citizens, singles, couples, persons with dependents?\n",
    "- What services do they subscribe to?\n",
    "- How much do they pay compared to those not on automatic payments? Are they charged more?\n",
    "- What is the tenure at which month-to-month customers not on automatic payments churn?  How does this compare to 1-year and 2-year contract non-automatic payment customers?\n",
    "- Are there any 1-year or 2-year contract non-automatic payment type customers?\n",
    "\n",
    "\n",
    "\n"
   ]
  },
  {
   "cell_type": "markdown",
   "id": "bf8f9d99",
   "metadata": {},
   "source": [
    "### Initial Hypothesis: \n",
    "\n",
    "- Month-to-month customers not on automatic payment plans pay more than non-month-to-month customers on automatic payment plans\n",
    "\n"
   ]
  },
  {
   "cell_type": "markdown",
   "id": "87acb5eb",
   "metadata": {},
   "source": [
    "#### Data Acquisition\n",
    "\n",
    "Plan -> ACQUIRE -> Prepare -> Explore -> Model & Evaluate -> Deliver"
   ]
  },
  {
   "cell_type": "code",
   "execution_count": null,
   "id": "a78e2997",
   "metadata": {},
   "outputs": [],
   "source": [
    "In Your acquire.py module:\n",
    "\n",
    "Store functions that are needed to acquire data from the customers table from the telco_churn database\n",
    "on the Codeup data science database server; make sure your module contains the necessary imports to run \n",
    "your code. You will want to join some tables as part of your query.\n",
    "\n",
    "Your final function should return a pandas DataFrame.\n",
    "\n",
    "In Your Notebook:\n",
    "\n",
    "Import your acquire function from your acquire.py module and use it to acquire your data in your notebook.\n",
    "\n",
    "Complete some initial data summarization (.info(), .describe(), .value_counts(), ...).\n",
    "\n",
    "Plot distributions of individual variables."
   ]
  },
  {
   "cell_type": "code",
   "execution_count": null,
   "id": "4cde72ce",
   "metadata": {},
   "outputs": [],
   "source": []
  },
  {
   "cell_type": "code",
   "execution_count": null,
   "id": "ab2a9ec5",
   "metadata": {},
   "outputs": [],
   "source": []
  },
  {
   "cell_type": "code",
   "execution_count": null,
   "id": "92808786",
   "metadata": {},
   "outputs": [],
   "source": []
  },
  {
   "cell_type": "code",
   "execution_count": null,
   "id": "99be3702",
   "metadata": {},
   "outputs": [],
   "source": []
  },
  {
   "cell_type": "code",
   "execution_count": null,
   "id": "7a22e6a9",
   "metadata": {},
   "outputs": [],
   "source": []
  },
  {
   "cell_type": "code",
   "execution_count": null,
   "id": "a33e7689",
   "metadata": {},
   "outputs": [],
   "source": []
  }
 ],
 "metadata": {
  "kernelspec": {
   "display_name": "Python 3",
   "language": "python",
   "name": "python3"
  },
  "language_info": {
   "codemirror_mode": {
    "name": "ipython",
    "version": 3
   },
   "file_extension": ".py",
   "mimetype": "text/x-python",
   "name": "python",
   "nbconvert_exporter": "python",
   "pygments_lexer": "ipython3",
   "version": "3.8.8"
  }
 },
 "nbformat": 4,
 "nbformat_minor": 5
}
