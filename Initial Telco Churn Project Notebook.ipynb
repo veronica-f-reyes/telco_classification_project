{
 "cells": [
  {
   "cell_type": "markdown",
   "id": "90ca5c8e",
   "metadata": {},
   "source": [
    "# Telco Classification Project\n",
    "\n",
    "***"
   ]
  },
  {
   "cell_type": "markdown",
   "id": "114eff4c",
   "metadata": {},
   "source": [
    "# Project Planning"
   ]
  },
  {
   "cell_type": "markdown",
   "id": "3508c6e5",
   "metadata": {},
   "source": [
    "<span style='background :skyblue' >PLAN </span>-> Acquire -> Prepare -> Explore -> Model & Evaluate -> Deliver"
   ]
  },
  {
   "cell_type": "markdown",
   "id": "9c1a56a8",
   "metadata": {},
   "source": [
    " Customers at the telecommunications company, Telco, are churning.  The goal of this project is to determine why customers are churning by developing machine learning classification models to predict customer churn based on the customer data available. The models will be created using Python, Pandas, Matplot, Seaborn, and Scikit-Learn libraries."
   ]
  },
  {
   "cell_type": "markdown",
   "id": "7c1d5987",
   "metadata": {},
   "source": [
    "### Business Goals\n",
    "\n",
    "- Find drivers for customer churn at Telco. \n",
    "\n",
    "\n",
    "- Construct a Machine Learning classification model that accurately predicts customer churn.\n",
    "\n",
    "***"
   ]
  },
  {
   "cell_type": "markdown",
   "id": "f096baa8",
   "metadata": {},
   "source": [
    "# Questions to Consider:"
   ]
  },
  {
   "cell_type": "markdown",
   "id": "9dfd4e53",
   "metadata": {},
   "source": [
    "So customers are churning and we don't know why.  "
   ]
  },
  {
   "cell_type": "markdown",
   "id": "cb81177e",
   "metadata": {},
   "source": [
    "- Are there clear groupings where a customer is more likely to churn?\n",
    "\n",
    "- What if you consider contract type?\n",
    "- Is there a tenure value at which month-to-month customers are most likely to churn? 1-year contract customers? 2-year contract customers?\n",
    "\n",
    "Thoughts on what could be going on? (Be sure to state these thoughts not as facts but as untested hypotheses until you test them!). \n",
    "\n",
    "You might want to plot the rate of churn on a line chart where x is the tenure and y is the rate of churn (customers churned/total customers).\n",
    "Are there features that indicate a higher likelihood for customer churn?\n",
    "\n",
    "- How influential are internet service type, phone service type, online security and backup services, senior citizen status, paying more than x% of customers with the same services, etc.?\n",
    "- Is there a price threshold for specific services beyond which the likelihood of churn increases?\n",
    "\n",
    "- If so, what is that point and for which service(s)?\n",
    "- If we looked at churn rate for month-to-month customers after the 12th month and that of 1-year contract customers after the 12th month, are those rates comparable?"
   ]
  },
  {
   "cell_type": "markdown",
   "id": "c420ae5f",
   "metadata": {},
   "source": [
    "Clearly state your starting hypotheses (and add the testing of these to your task list)."
   ]
  },
  {
   "cell_type": "markdown",
   "id": "171202a9",
   "metadata": {},
   "source": [
    "### From the previous Telco churn project, I discovered that many month-to-month customers who churn are not on automatic payment plans.\n",
    "\n",
    "To follow up:\n",
    "\n",
    "- Are customers on automatic payment plans churning more than customers not on automatic payment types?\n",
    "- Is there one payment type that is more likely to churn?  \n",
    "- Does contract type, whether month-to-month or yearly, affect the churn by payment type?\n",
    "- Who are the customers on automatic payments? Senior citizens, singles, couples, persons with dependents?\n",
    "- What services do they subscribe to?\n",
    "- Do they have more than one type of service?\n",
    "- How much do they pay compared to those not on automatic payments? Are they charged more?\n",
    "- What is the tenure at which month-to-month customers not on automatic payments churn?  How does this compare to 1-year and 2-year contract non-automatic payment customers?\n",
    "- Are there more 1-year or 2-year contract non-automatic payment type customers than month-to-month customers?\n",
    "\n",
    "\n",
    "\n"
   ]
  },
  {
   "cell_type": "markdown",
   "id": "bf8f9d99",
   "metadata": {},
   "source": [
    "### Initial Hypothesis: \n",
    "\n",
    "- Customers on automatic payment plans churn less than customers on non-automatic payment plans\n",
    "\n",
    "### Alternative Hypothesis:\n",
    "\n",
    "- Customers on automatic payment plans churn the same amount or more than customers on non-automatic payment plans\n",
    "\n",
    "\n",
    "Another Possible Hypothesis to Explore: \n",
    "- Customers not on automatic payment plans have less services than customers on automatic payment plans\n",
    "\n",
    "\n"
   ]
  },
  {
   "cell_type": "markdown",
   "id": "87acb5eb",
   "metadata": {},
   "source": [
    "# Data Acquisition\n",
    "\n",
    "Plan -><span style='background :skyblue' > ACQUIRE </span>-> Prepare -> Explore -> Model & Evaluate -> Deliver"
   ]
  },
  {
   "cell_type": "code",
   "execution_count": 1,
   "id": "4cde72ce",
   "metadata": {},
   "outputs": [],
   "source": [
    "#import libraries\n",
    "import numpy as np\n",
    "import pandas as pd\n",
    "\n",
    "import matplotlib.pyplot as plt\n",
    "import seaborn as sns\n",
    "\n",
    "# https://seaborn.pydata.org/tutorial/color_palettes.html\n",
    "# https://matplotlib.org/2.0.2/examples/color/colormaps_reference.html\n",
    "\n",
    "# set seaborn color palette\n",
    "sns.color_palette(\"crest\")\n",
    "pal = sns.set_palette('crest')\n",
    "\n",
    "# import models\n",
    "from sklearn.tree import DecisionTreeClassifier, plot_tree, export_text\n",
    "from sklearn.metrics import classification_report, confusion_matrix, recall_score\n",
    "from sklearn.ensemble import RandomForestClassifier\n",
    "from sklearn.neighbors import KNeighborsClassifier\n",
    "from sklearn.linear_model import LogisticRegression\n",
    "from sklearn.model_selection import train_test_split\n",
    "from sklearn.linear_model import LogisticRegression\n",
    "\n",
    "import sklearn.feature_selection as feat_select\n",
    "import scipy.stats as stats\n",
    "from sklearn.preprocessing import LabelEncoder, normalize\n",
    "\n",
    "# ignore warnings\n",
    "import warnings\n",
    "warnings.filterwarnings(\"ignore\")\n",
    "\n",
    "#import custom functions\n",
    "import acquire\n",
    "import prepare\n",
    "import explore"
   ]
  },
  {
   "cell_type": "code",
   "execution_count": 2,
   "id": "92808786",
   "metadata": {},
   "outputs": [],
   "source": [
    "# Acquire data from SQL Telco Churn database using custom function\n",
    "\n",
    "df = acquire.get_telco_data()"
   ]
  },
  {
   "cell_type": "code",
   "execution_count": 3,
   "id": "a6fbd1f8",
   "metadata": {},
   "outputs": [
    {
     "name": "stdout",
     "output_type": "stream",
     "text": [
      "<class 'pandas.core.frame.DataFrame'>\n",
      "RangeIndex: 28172 entries, 0 to 28171\n",
      "Data columns (total 28 columns):\n",
      " #   Column                      Non-Null Count  Dtype  \n",
      "---  ------                      --------------  -----  \n",
      " 0   Unnamed: 0                  28172 non-null  int64  \n",
      " 1   customer_id                 28172 non-null  object \n",
      " 2   gender                      28172 non-null  object \n",
      " 3   senior_citizen              28172 non-null  int64  \n",
      " 4   partner                     28172 non-null  object \n",
      " 5   dependents                  28172 non-null  object \n",
      " 6   tenure                      28172 non-null  int64  \n",
      " 7   phone_service               28172 non-null  object \n",
      " 8   multiple_lines              28172 non-null  object \n",
      " 9   internet_service_type_id    28172 non-null  int64  \n",
      " 10  online_security             28172 non-null  object \n",
      " 11  online_backup               28172 non-null  object \n",
      " 12  device_protection           28172 non-null  object \n",
      " 13  tech_support                28172 non-null  object \n",
      " 14  streaming_tv                28172 non-null  object \n",
      " 15  streaming_movies            28172 non-null  object \n",
      " 16  contract_type_id            28172 non-null  int64  \n",
      " 17  paperless_billing           28172 non-null  object \n",
      " 18  payment_type_id             28172 non-null  int64  \n",
      " 19  monthly_charges             28172 non-null  float64\n",
      " 20  total_charges               28172 non-null  object \n",
      " 21  churn                       28172 non-null  object \n",
      " 22  contract_type_id.1          28172 non-null  int64  \n",
      " 23  contract_type               28172 non-null  object \n",
      " 24  internet_service_type_id.1  28172 non-null  int64  \n",
      " 25  internet_service_type       28172 non-null  object \n",
      " 26  payment_type_id.1           28172 non-null  int64  \n",
      " 27  payment_type                28172 non-null  object \n",
      "dtypes: float64(1), int64(9), object(18)\n",
      "memory usage: 6.0+ MB\n"
     ]
    }
   ],
   "source": [
    "# Take an initial look at the data acquired\n",
    "df.info() "
   ]
  },
  {
   "cell_type": "code",
   "execution_count": 4,
   "id": "11532c38",
   "metadata": {},
   "outputs": [
    {
     "data": {
      "text/plain": [
       "(28172, 28)"
      ]
     },
     "execution_count": 4,
     "metadata": {},
     "output_type": "execute_result"
    }
   ],
   "source": [
    "df.shape"
   ]
  },
  {
   "cell_type": "code",
   "execution_count": null,
   "id": "99be3702",
   "metadata": {},
   "outputs": [],
   "source": [
    "df.describe()"
   ]
  },
  {
   "cell_type": "code",
   "execution_count": null,
   "id": "7a22e6a9",
   "metadata": {},
   "outputs": [],
   "source": [
    "df.head()"
   ]
  },
  {
   "cell_type": "code",
   "execution_count": null,
   "id": "a33e7689",
   "metadata": {},
   "outputs": [],
   "source": [
    "#Check for nulls\n",
    "df.isna().sum()"
   ]
  },
  {
   "cell_type": "code",
   "execution_count": null,
   "id": "a8f7d573",
   "metadata": {},
   "outputs": [],
   "source": [
    "# Check out distributions of numeric columns.\n",
    "\n",
    "num_cols = df.columns[[df[col].dtype == 'int64' for col in df.columns]]\n",
    "for col in num_cols:\n",
    "    plt.hist(df[col])\n",
    "    plt.title(col)\n",
    "    plt.show()"
   ]
  },
  {
   "cell_type": "code",
   "execution_count": null,
   "id": "25ec260a",
   "metadata": {},
   "outputs": [],
   "source": [
    "# Use .describe with object columns.\n",
    "\n",
    "obj_cols = df.columns[[df[col].dtype == 'O' for col in df.columns]]\n",
    "for col in obj_cols:\n",
    "    print(df[col].value_counts())\n",
    "    print(df[col].value_counts(normalize=True, dropna=False))\n",
    "    print('----------------------')"
   ]
  },
  {
   "cell_type": "code",
   "execution_count": null,
   "id": "21f9683f",
   "metadata": {},
   "outputs": [],
   "source": [
    "# total churn counts\n",
    "df.churn.value_counts()"
   ]
  },
  {
   "cell_type": "code",
   "execution_count": null,
   "id": "f75fb465",
   "metadata": {},
   "outputs": [],
   "source": [
    "df.payment_type.value_counts()"
   ]
  },
  {
   "cell_type": "code",
   "execution_count": null,
   "id": "c4c64c3c",
   "metadata": {},
   "outputs": [],
   "source": [
    "# Find columns with missing values and the total of missing values.\n",
    "\n",
    "missing = df.isnull().sum()\n",
    "missing[missing > 0]"
   ]
  },
  {
   "cell_type": "markdown",
   "id": "7ceeb3fa",
   "metadata": {},
   "source": [
    "***"
   ]
  },
  {
   "cell_type": "markdown",
   "id": "f8146a89",
   "metadata": {},
   "source": [
    "# Data Preparation\n",
    "\n",
    "Plan -> Acquire -><span style='background :skyblue' > PREPARE </span>-> Explore -> Model & Evaluate -> Deliver\n",
    "***\n",
    "\n",
    "### In Your prepare.py module\n",
    "\n",
    "Store functions that are needed to prepare your data; make sure your module contains the necessary imports to run your code. Your final function should do the following:\n",
    "\n",
    "Split your data into train/validate/test.\n",
    "\n",
    "Handle Missing Values.\n",
    "\n",
    "Handle erroneous data and/or outliers you wish to address.\n",
    "\n",
    "Encode variables as needed.\n",
    "\n",
    "Create any new features, if you decided to make any for this project.\n",
    "\n",
    "### In Your Notebook\n",
    "\n",
    "Explore missing values and document takeaways/action plans for handling them.\n",
    "\n",
    "Is 'missing' equivalent to 0 (or some other constant value) in the specific case of this variable?\n",
    "\n",
    "Should you replace the missing values with a value it is most likely to represent, like mean/median/mode?\n",
    "\n",
    "Should you remove the variable (column) altogether because of the percentage of missing data?\n",
    "\n",
    "Should you remove individual observations (rows) with a missing value for that variable?\n",
    "\n",
    "Explore data types and adapt types or data values as needed to have numeric represenations of each attribute.\n",
    "\n",
    "Create any new features you want to use in your model. Some ideas you might want to explore after securing a MVP:\n",
    "\n",
    "Create a new feature that represents tenure in years.\n",
    "\n",
    "Create single variables for or find other methods to merge variables representing the information from the following columns:\n",
    "\n",
    "phone_service and multiple_lines\n",
    "dependents and partner\n",
    "streaming_tv & streaming_movies\n",
    "online_security & online_backup\n",
    "Import your prepare function from your prepare.py module and use it to prepare your data in your notebook.\n",
    "\n"
   ]
  },
  {
   "cell_type": "code",
   "execution_count": null,
   "id": "784a7c0e",
   "metadata": {},
   "outputs": [],
   "source": [
    "df.head()"
   ]
  },
  {
   "cell_type": "code",
   "execution_count": 5,
   "id": "8ee0d595",
   "metadata": {},
   "outputs": [
    {
     "name": "stdout",
     "output_type": "stream",
     "text": [
      "number of nulls Unnamed: 0                     0\n",
      "customer_id                    0\n",
      "gender                         0\n",
      "senior_citizen                 0\n",
      "partner                        0\n",
      "dependents                     0\n",
      "tenure                         0\n",
      "phone_service                  0\n",
      "multiple_lines                 0\n",
      "internet_service_type_id       0\n",
      "online_security                0\n",
      "online_backup                  0\n",
      "device_protection              0\n",
      "tech_support                   0\n",
      "streaming_tv                   0\n",
      "streaming_movies               0\n",
      "contract_type_id               0\n",
      "paperless_billing              0\n",
      "payment_type_id                0\n",
      "monthly_charges                0\n",
      "total_charges                 44\n",
      "churn                          0\n",
      "contract_type_id.1             0\n",
      "contract_type                  0\n",
      "internet_service_type_id.1     0\n",
      "internet_service_type          0\n",
      "payment_type_id.1              0\n",
      "payment_type                   0\n",
      "dtype: int64\n"
     ]
    }
   ],
   "source": [
    "df['total_charges'] = pd.to_numeric(df['total_charges'], errors='coerce')\n",
    "print('number of nulls', df.isna().sum())"
   ]
  },
  {
   "cell_type": "code",
   "execution_count": 6,
   "id": "18b1728b",
   "metadata": {},
   "outputs": [
    {
     "name": "stdout",
     "output_type": "stream",
     "text": [
      "-----\n",
      "total_charges    44\n",
      "dtype: int64\n"
     ]
    }
   ],
   "source": [
    "missing = df.isnull().sum()\n",
    "print('-----')\n",
    "print(missing[missing > 0])"
   ]
  },
  {
   "cell_type": "code",
   "execution_count": 7,
   "id": "9194f75e",
   "metadata": {},
   "outputs": [],
   "source": [
    "# Seeing that we have 44 nulls in total charges, NEED TO DECIDE WHAT TO DO WITH THEM"
   ]
  },
  {
   "cell_type": "code",
   "execution_count": 10,
   "id": "d694b7c4",
   "metadata": {},
   "outputs": [
    {
     "data": {
      "text/plain": [
       "0        False\n",
       "1        False\n",
       "2        False\n",
       "3        False\n",
       "4        False\n",
       "         ...  \n",
       "28167    False\n",
       "28168    False\n",
       "28169    False\n",
       "28170    False\n",
       "28171    False\n",
       "Name: total_charges, Length: 28172, dtype: bool"
      ]
     },
     "execution_count": 10,
     "metadata": {},
     "output_type": "execute_result"
    }
   ],
   "source": [
    "#Create a mask to look at only customers with total charges equal to null\n",
    "total_charges_null = df.total_charges.isnull()\n",
    "total_charges_null"
   ]
  },
  {
   "cell_type": "code",
   "execution_count": 11,
   "id": "8748000a",
   "metadata": {},
   "outputs": [],
   "source": [
    "#Look at the data where total_charges is null to determine how to clean these null values"
   ]
  },
  {
   "cell_type": "code",
   "execution_count": 12,
   "id": "fbfd9fe9",
   "metadata": {},
   "outputs": [
    {
     "data": {
      "text/html": [
       "<div>\n",
       "<style scoped>\n",
       "    .dataframe tbody tr th:only-of-type {\n",
       "        vertical-align: middle;\n",
       "    }\n",
       "\n",
       "    .dataframe tbody tr th {\n",
       "        vertical-align: top;\n",
       "    }\n",
       "\n",
       "    .dataframe thead th {\n",
       "        text-align: right;\n",
       "    }\n",
       "</style>\n",
       "<table border=\"1\" class=\"dataframe\">\n",
       "  <thead>\n",
       "    <tr style=\"text-align: right;\">\n",
       "      <th></th>\n",
       "      <th>Unnamed: 0</th>\n",
       "      <th>senior_citizen</th>\n",
       "      <th>tenure</th>\n",
       "      <th>internet_service_type_id</th>\n",
       "      <th>contract_type_id</th>\n",
       "      <th>payment_type_id</th>\n",
       "      <th>monthly_charges</th>\n",
       "      <th>total_charges</th>\n",
       "      <th>contract_type_id.1</th>\n",
       "      <th>internet_service_type_id.1</th>\n",
       "      <th>payment_type_id.1</th>\n",
       "    </tr>\n",
       "  </thead>\n",
       "  <tbody>\n",
       "    <tr>\n",
       "      <th>count</th>\n",
       "      <td>44.000000</td>\n",
       "      <td>44.0</td>\n",
       "      <td>44.0</td>\n",
       "      <td>44.000000</td>\n",
       "      <td>44.000000</td>\n",
       "      <td>44.000000</td>\n",
       "      <td>44.000000</td>\n",
       "      <td>0.0</td>\n",
       "      <td>44.000000</td>\n",
       "      <td>44.000000</td>\n",
       "      <td>44.00000</td>\n",
       "    </tr>\n",
       "    <tr>\n",
       "      <th>mean</th>\n",
       "      <td>10745.136364</td>\n",
       "      <td>0.0</td>\n",
       "      <td>0.0</td>\n",
       "      <td>2.090909</td>\n",
       "      <td>2.909091</td>\n",
       "      <td>2.363636</td>\n",
       "      <td>41.418182</td>\n",
       "      <td>NaN</td>\n",
       "      <td>2.909091</td>\n",
       "      <td>2.090909</td>\n",
       "      <td>2.50000</td>\n",
       "    </tr>\n",
       "    <tr>\n",
       "      <th>std</th>\n",
       "      <td>4757.204224</td>\n",
       "      <td>0.0</td>\n",
       "      <td>0.0</td>\n",
       "      <td>1.007372</td>\n",
       "      <td>0.290803</td>\n",
       "      <td>0.650256</td>\n",
       "      <td>22.985124</td>\n",
       "      <td>NaN</td>\n",
       "      <td>0.290803</td>\n",
       "      <td>1.007372</td>\n",
       "      <td>1.13096</td>\n",
       "    </tr>\n",
       "    <tr>\n",
       "      <th>min</th>\n",
       "      <td>3780.000000</td>\n",
       "      <td>0.0</td>\n",
       "      <td>0.0</td>\n",
       "      <td>1.000000</td>\n",
       "      <td>2.000000</td>\n",
       "      <td>2.000000</td>\n",
       "      <td>19.700000</td>\n",
       "      <td>NaN</td>\n",
       "      <td>2.000000</td>\n",
       "      <td>1.000000</td>\n",
       "      <td>1.00000</td>\n",
       "    </tr>\n",
       "    <tr>\n",
       "      <th>25%</th>\n",
       "      <td>7626.750000</td>\n",
       "      <td>0.0</td>\n",
       "      <td>0.0</td>\n",
       "      <td>1.000000</td>\n",
       "      <td>3.000000</td>\n",
       "      <td>2.000000</td>\n",
       "      <td>20.000000</td>\n",
       "      <td>NaN</td>\n",
       "      <td>3.000000</td>\n",
       "      <td>1.000000</td>\n",
       "      <td>1.75000</td>\n",
       "    </tr>\n",
       "    <tr>\n",
       "      <th>50%</th>\n",
       "      <td>9001.500000</td>\n",
       "      <td>0.0</td>\n",
       "      <td>0.0</td>\n",
       "      <td>3.000000</td>\n",
       "      <td>3.000000</td>\n",
       "      <td>2.000000</td>\n",
       "      <td>25.750000</td>\n",
       "      <td>NaN</td>\n",
       "      <td>3.000000</td>\n",
       "      <td>3.000000</td>\n",
       "      <td>2.50000</td>\n",
       "    </tr>\n",
       "    <tr>\n",
       "      <th>75%</th>\n",
       "      <td>12472.250000</td>\n",
       "      <td>0.0</td>\n",
       "      <td>0.0</td>\n",
       "      <td>3.000000</td>\n",
       "      <td>3.000000</td>\n",
       "      <td>3.000000</td>\n",
       "      <td>61.900000</td>\n",
       "      <td>NaN</td>\n",
       "      <td>3.000000</td>\n",
       "      <td>3.000000</td>\n",
       "      <td>3.25000</td>\n",
       "    </tr>\n",
       "    <tr>\n",
       "      <th>max</th>\n",
       "      <td>21735.000000</td>\n",
       "      <td>0.0</td>\n",
       "      <td>0.0</td>\n",
       "      <td>3.000000</td>\n",
       "      <td>3.000000</td>\n",
       "      <td>4.000000</td>\n",
       "      <td>80.850000</td>\n",
       "      <td>NaN</td>\n",
       "      <td>3.000000</td>\n",
       "      <td>3.000000</td>\n",
       "      <td>4.00000</td>\n",
       "    </tr>\n",
       "  </tbody>\n",
       "</table>\n",
       "</div>"
      ],
      "text/plain": [
       "         Unnamed: 0  senior_citizen  tenure  internet_service_type_id  \\\n",
       "count     44.000000            44.0    44.0                 44.000000   \n",
       "mean   10745.136364             0.0     0.0                  2.090909   \n",
       "std     4757.204224             0.0     0.0                  1.007372   \n",
       "min     3780.000000             0.0     0.0                  1.000000   \n",
       "25%     7626.750000             0.0     0.0                  1.000000   \n",
       "50%     9001.500000             0.0     0.0                  3.000000   \n",
       "75%    12472.250000             0.0     0.0                  3.000000   \n",
       "max    21735.000000             0.0     0.0                  3.000000   \n",
       "\n",
       "       contract_type_id  payment_type_id  monthly_charges  total_charges  \\\n",
       "count         44.000000        44.000000        44.000000            0.0   \n",
       "mean           2.909091         2.363636        41.418182            NaN   \n",
       "std            0.290803         0.650256        22.985124            NaN   \n",
       "min            2.000000         2.000000        19.700000            NaN   \n",
       "25%            3.000000         2.000000        20.000000            NaN   \n",
       "50%            3.000000         2.000000        25.750000            NaN   \n",
       "75%            3.000000         3.000000        61.900000            NaN   \n",
       "max            3.000000         4.000000        80.850000            NaN   \n",
       "\n",
       "       contract_type_id.1  internet_service_type_id.1  payment_type_id.1  \n",
       "count           44.000000                   44.000000           44.00000  \n",
       "mean             2.909091                    2.090909            2.50000  \n",
       "std              0.290803                    1.007372            1.13096  \n",
       "min              2.000000                    1.000000            1.00000  \n",
       "25%              3.000000                    1.000000            1.75000  \n",
       "50%              3.000000                    3.000000            2.50000  \n",
       "75%              3.000000                    3.000000            3.25000  \n",
       "max              3.000000                    3.000000            4.00000  "
      ]
     },
     "execution_count": 12,
     "metadata": {},
     "output_type": "execute_result"
    }
   ],
   "source": [
    "df[total_charges_null].describe()"
   ]
  },
  {
   "cell_type": "code",
   "execution_count": 13,
   "id": "e217e086",
   "metadata": {},
   "outputs": [
    {
     "data": {
      "text/plain": [
       "(44, 28)"
      ]
     },
     "execution_count": 13,
     "metadata": {},
     "output_type": "execute_result"
    }
   ],
   "source": [
    "df[total_charges_null].shape"
   ]
  },
  {
   "cell_type": "code",
   "execution_count": 14,
   "id": "88f6c783",
   "metadata": {},
   "outputs": [
    {
     "data": {
      "text/plain": [
       "3780     56.05\n",
       "3781     56.05\n",
       "3782     56.05\n",
       "3783     56.05\n",
       "6924     20.00\n",
       "6925     20.00\n",
       "6926     20.00\n",
       "6927     20.00\n",
       "7624     61.90\n",
       "7625     61.90\n",
       "7626     61.90\n",
       "7627     61.90\n",
       "8100     19.70\n",
       "8101     19.70\n",
       "8102     19.70\n",
       "8103     19.70\n",
       "8704     20.25\n",
       "8705     20.25\n",
       "8706     20.25\n",
       "8707     20.25\n",
       "9000     25.35\n",
       "9001     25.35\n",
       "9002     25.35\n",
       "9003     25.35\n",
       "11420    73.35\n",
       "11421    73.35\n",
       "11422    73.35\n",
       "11423    73.35\n",
       "12208    25.75\n",
       "12209    25.75\n",
       "12210    25.75\n",
       "12211    25.75\n",
       "12472    52.55\n",
       "12473    52.55\n",
       "12474    52.55\n",
       "12475    52.55\n",
       "16216    80.85\n",
       "16217    80.85\n",
       "16218    80.85\n",
       "16219    80.85\n",
       "21732    19.85\n",
       "21733    19.85\n",
       "21734    19.85\n",
       "21735    19.85\n",
       "Name: monthly_charges, dtype: float64"
      ]
     },
     "execution_count": 14,
     "metadata": {},
     "output_type": "execute_result"
    }
   ],
   "source": [
    "df[total_charges_null].monthly_charges"
   ]
  },
  {
   "cell_type": "code",
   "execution_count": 15,
   "id": "e5a5f268",
   "metadata": {},
   "outputs": [],
   "source": [
    "#While total_charges is null, monthly_charges have values.  Let's look at how long of a tenure these customers have."
   ]
  },
  {
   "cell_type": "code",
   "execution_count": 16,
   "id": "a77e5043",
   "metadata": {},
   "outputs": [
    {
     "data": {
      "text/plain": [
       "0.0"
      ]
     },
     "execution_count": 16,
     "metadata": {},
     "output_type": "execute_result"
    }
   ],
   "source": [
    "df[total_charges_null].tenure.mean()"
   ]
  },
  {
   "cell_type": "code",
   "execution_count": 17,
   "id": "b155b564",
   "metadata": {},
   "outputs": [],
   "source": [
    "#All are new customers and don't have even one month with the company."
   ]
  },
  {
   "cell_type": "code",
   "execution_count": 20,
   "id": "f55cc57b",
   "metadata": {},
   "outputs": [
    {
     "data": {
      "text/plain": [
       "0        False\n",
       "1        False\n",
       "2        False\n",
       "3        False\n",
       "4        False\n",
       "         ...  \n",
       "28167    False\n",
       "28168    False\n",
       "28169    False\n",
       "28170    False\n",
       "28171    False\n",
       "Name: tenure, Length: 28172, dtype: bool"
      ]
     },
     "execution_count": 20,
     "metadata": {},
     "output_type": "execute_result"
    }
   ],
   "source": [
    "#Create a mask to look at customers with one month of tenure to look at their monthly and total charges\n",
    "tenure_one = df['tenure'] == 1\n",
    "tenure_one"
   ]
  },
  {
   "cell_type": "code",
   "execution_count": 22,
   "id": "9fb8bec9",
   "metadata": {},
   "outputs": [
    {
     "data": {
      "text/plain": [
       "68       72.10\n",
       "69       72.10\n",
       "70       72.10\n",
       "71       72.10\n",
       "76       25.10\n",
       "         ...  \n",
       "28135    18.90\n",
       "28144    70.15\n",
       "28145    70.15\n",
       "28146    70.15\n",
       "28147    70.15\n",
       "Name: total_charges, Length: 2452, dtype: float64"
      ]
     },
     "execution_count": 22,
     "metadata": {},
     "output_type": "execute_result"
    }
   ],
   "source": [
    "df[tenure_one].total_charges"
   ]
  },
  {
   "cell_type": "code",
   "execution_count": 23,
   "id": "d6883942",
   "metadata": {},
   "outputs": [
    {
     "data": {
      "text/plain": [
       "68       72.10\n",
       "69       72.10\n",
       "70       72.10\n",
       "71       72.10\n",
       "76       25.10\n",
       "         ...  \n",
       "28135    18.90\n",
       "28144    70.15\n",
       "28145    70.15\n",
       "28146    70.15\n",
       "28147    70.15\n",
       "Name: monthly_charges, Length: 2452, dtype: float64"
      ]
     },
     "execution_count": 23,
     "metadata": {},
     "output_type": "execute_result"
    }
   ],
   "source": [
    "df[tenure_one].monthly_charges"
   ]
  },
  {
   "cell_type": "code",
   "execution_count": null,
   "id": "ac8292dd",
   "metadata": {},
   "outputs": [],
   "source": [
    "#Since customers with one month of tenure have total charges equal to their monthly charges, this implies that \n",
    "#customers with 0 tenure just haven't been charged yet because they are new customers.  \n",
    "#Thus, I am going to set the total charge value for customers with null values to 0. \n"
   ]
  },
  {
   "cell_type": "markdown",
   "id": "cec13403",
   "metadata": {},
   "source": [
    "### Prepare Data"
   ]
  },
  {
   "cell_type": "code",
   "execution_count": 24,
   "id": "bab22014",
   "metadata": {
    "scrolled": false
   },
   "outputs": [],
   "source": [
    "# Prepare Telco data by removing ID number columns, removing any duplicates, encoding and creating dummies\n",
    "df = prepare.prep_telco(df)"
   ]
  },
  {
   "cell_type": "code",
   "execution_count": 25,
   "id": "0218bb02",
   "metadata": {},
   "outputs": [
    {
     "name": "stdout",
     "output_type": "stream",
     "text": [
      "<class 'pandas.core.frame.DataFrame'>\n",
      "Int64Index: 56168 entries, 0 to 28171\n",
      "Data columns (total 42 columns):\n",
      " #   Column                                  Non-Null Count  Dtype  \n",
      "---  ------                                  --------------  -----  \n",
      " 0   gender                                  56168 non-null  int64  \n",
      " 1   senior_citizen                          56168 non-null  int64  \n",
      " 2   partner                                 56168 non-null  int64  \n",
      " 3   dependents                              56168 non-null  int64  \n",
      " 4   tenure                                  56168 non-null  int64  \n",
      " 5   phone_service                           56168 non-null  int64  \n",
      " 6   paperless_billing                       56168 non-null  int64  \n",
      " 7   monthly_charges                         56168 non-null  float64\n",
      " 8   total_charges                           56168 non-null  float64\n",
      " 9   churn                                   56168 non-null  int64  \n",
      " 10  multiple_lines_No                       56168 non-null  float64\n",
      " 11  multiple_lines_No phone service         56168 non-null  float64\n",
      " 12  multiple_lines_Yes                      56168 non-null  float64\n",
      " 13  online_security_No                      56168 non-null  float64\n",
      " 14  online_security_No internet service     56168 non-null  float64\n",
      " 15  online_security_Yes                     56168 non-null  float64\n",
      " 16  online_backup_No                        56168 non-null  float64\n",
      " 17  online_backup_No internet service       56168 non-null  float64\n",
      " 18  online_backup_Yes                       56168 non-null  float64\n",
      " 19  device_protection_No                    56168 non-null  float64\n",
      " 20  device_protection_No internet service   56168 non-null  float64\n",
      " 21  device_protection_Yes                   56168 non-null  float64\n",
      " 22  tech_support_No                         56168 non-null  float64\n",
      " 23  tech_support_No internet service        56168 non-null  float64\n",
      " 24  tech_support_Yes                        56168 non-null  float64\n",
      " 25  streaming_tv_No                         56168 non-null  float64\n",
      " 26  streaming_tv_No internet service        56168 non-null  float64\n",
      " 27  streaming_tv_Yes                        56168 non-null  float64\n",
      " 28  streaming_movies_No                     56168 non-null  float64\n",
      " 29  streaming_movies_No internet service    56168 non-null  float64\n",
      " 30  streaming_movies_Yes                    56168 non-null  float64\n",
      " 31  contract_type_Month-to-month            56168 non-null  float64\n",
      " 32  contract_type_One year                  56168 non-null  float64\n",
      " 33  contract_type_Two year                  56168 non-null  float64\n",
      " 34  internet_service_type_DSL               56168 non-null  float64\n",
      " 35  internet_service_type_Fiber optic       56168 non-null  float64\n",
      " 36  internet_service_type_None              56168 non-null  float64\n",
      " 37  payment_type_Bank transfer (automatic)  56168 non-null  float64\n",
      " 38  payment_type_Credit card (automatic)    56168 non-null  float64\n",
      " 39  payment_type_Electronic check           56168 non-null  float64\n",
      " 40  payment_type_Mailed check               56168 non-null  float64\n",
      " 41  automatic_pmt                           56168 non-null  int64  \n",
      "dtypes: float64(33), int64(9)\n",
      "memory usage: 18.4 MB\n"
     ]
    }
   ],
   "source": [
    "df.info()"
   ]
  },
  {
   "cell_type": "code",
   "execution_count": 26,
   "id": "8e4ca7b5",
   "metadata": {},
   "outputs": [
    {
     "data": {
      "text/html": [
       "<div>\n",
       "<style scoped>\n",
       "    .dataframe tbody tr th:only-of-type {\n",
       "        vertical-align: middle;\n",
       "    }\n",
       "\n",
       "    .dataframe tbody tr th {\n",
       "        vertical-align: top;\n",
       "    }\n",
       "\n",
       "    .dataframe thead th {\n",
       "        text-align: right;\n",
       "    }\n",
       "</style>\n",
       "<table border=\"1\" class=\"dataframe\">\n",
       "  <thead>\n",
       "    <tr style=\"text-align: right;\">\n",
       "      <th></th>\n",
       "      <th>gender</th>\n",
       "      <th>senior_citizen</th>\n",
       "      <th>partner</th>\n",
       "      <th>dependents</th>\n",
       "      <th>tenure</th>\n",
       "      <th>phone_service</th>\n",
       "      <th>paperless_billing</th>\n",
       "      <th>monthly_charges</th>\n",
       "      <th>total_charges</th>\n",
       "      <th>churn</th>\n",
       "      <th>...</th>\n",
       "      <th>contract_type_One year</th>\n",
       "      <th>contract_type_Two year</th>\n",
       "      <th>internet_service_type_DSL</th>\n",
       "      <th>internet_service_type_Fiber optic</th>\n",
       "      <th>internet_service_type_None</th>\n",
       "      <th>payment_type_Bank transfer (automatic)</th>\n",
       "      <th>payment_type_Credit card (automatic)</th>\n",
       "      <th>payment_type_Electronic check</th>\n",
       "      <th>payment_type_Mailed check</th>\n",
       "      <th>automatic_pmt</th>\n",
       "    </tr>\n",
       "  </thead>\n",
       "  <tbody>\n",
       "    <tr>\n",
       "      <th>0</th>\n",
       "      <td>0</td>\n",
       "      <td>0</td>\n",
       "      <td>1</td>\n",
       "      <td>1</td>\n",
       "      <td>9</td>\n",
       "      <td>1</td>\n",
       "      <td>1</td>\n",
       "      <td>65.6</td>\n",
       "      <td>593.3</td>\n",
       "      <td>0</td>\n",
       "      <td>...</td>\n",
       "      <td>0.0</td>\n",
       "      <td>0.0</td>\n",
       "      <td>0.0</td>\n",
       "      <td>0.0</td>\n",
       "      <td>0.0</td>\n",
       "      <td>0.0</td>\n",
       "      <td>0.0</td>\n",
       "      <td>0.0</td>\n",
       "      <td>0.0</td>\n",
       "      <td>1</td>\n",
       "    </tr>\n",
       "    <tr>\n",
       "      <th>1</th>\n",
       "      <td>0</td>\n",
       "      <td>0</td>\n",
       "      <td>1</td>\n",
       "      <td>1</td>\n",
       "      <td>9</td>\n",
       "      <td>1</td>\n",
       "      <td>1</td>\n",
       "      <td>65.6</td>\n",
       "      <td>593.3</td>\n",
       "      <td>0</td>\n",
       "      <td>...</td>\n",
       "      <td>0.0</td>\n",
       "      <td>0.0</td>\n",
       "      <td>0.0</td>\n",
       "      <td>0.0</td>\n",
       "      <td>0.0</td>\n",
       "      <td>0.0</td>\n",
       "      <td>0.0</td>\n",
       "      <td>0.0</td>\n",
       "      <td>0.0</td>\n",
       "      <td>1</td>\n",
       "    </tr>\n",
       "    <tr>\n",
       "      <th>2</th>\n",
       "      <td>0</td>\n",
       "      <td>0</td>\n",
       "      <td>1</td>\n",
       "      <td>1</td>\n",
       "      <td>9</td>\n",
       "      <td>1</td>\n",
       "      <td>1</td>\n",
       "      <td>65.6</td>\n",
       "      <td>593.3</td>\n",
       "      <td>0</td>\n",
       "      <td>...</td>\n",
       "      <td>0.0</td>\n",
       "      <td>0.0</td>\n",
       "      <td>0.0</td>\n",
       "      <td>0.0</td>\n",
       "      <td>0.0</td>\n",
       "      <td>0.0</td>\n",
       "      <td>0.0</td>\n",
       "      <td>0.0</td>\n",
       "      <td>0.0</td>\n",
       "      <td>0</td>\n",
       "    </tr>\n",
       "    <tr>\n",
       "      <th>3</th>\n",
       "      <td>0</td>\n",
       "      <td>0</td>\n",
       "      <td>1</td>\n",
       "      <td>1</td>\n",
       "      <td>9</td>\n",
       "      <td>1</td>\n",
       "      <td>1</td>\n",
       "      <td>65.6</td>\n",
       "      <td>593.3</td>\n",
       "      <td>0</td>\n",
       "      <td>...</td>\n",
       "      <td>0.0</td>\n",
       "      <td>0.0</td>\n",
       "      <td>0.0</td>\n",
       "      <td>0.0</td>\n",
       "      <td>0.0</td>\n",
       "      <td>0.0</td>\n",
       "      <td>0.0</td>\n",
       "      <td>0.0</td>\n",
       "      <td>0.0</td>\n",
       "      <td>0</td>\n",
       "    </tr>\n",
       "    <tr>\n",
       "      <th>4</th>\n",
       "      <td>1</td>\n",
       "      <td>0</td>\n",
       "      <td>0</td>\n",
       "      <td>0</td>\n",
       "      <td>9</td>\n",
       "      <td>1</td>\n",
       "      <td>0</td>\n",
       "      <td>59.9</td>\n",
       "      <td>542.4</td>\n",
       "      <td>0</td>\n",
       "      <td>...</td>\n",
       "      <td>0.0</td>\n",
       "      <td>0.0</td>\n",
       "      <td>0.0</td>\n",
       "      <td>0.0</td>\n",
       "      <td>0.0</td>\n",
       "      <td>0.0</td>\n",
       "      <td>0.0</td>\n",
       "      <td>0.0</td>\n",
       "      <td>0.0</td>\n",
       "      <td>1</td>\n",
       "    </tr>\n",
       "  </tbody>\n",
       "</table>\n",
       "<p>5 rows × 42 columns</p>\n",
       "</div>"
      ],
      "text/plain": [
       "   gender  senior_citizen  partner  dependents  tenure  phone_service  \\\n",
       "0       0               0        1           1       9              1   \n",
       "1       0               0        1           1       9              1   \n",
       "2       0               0        1           1       9              1   \n",
       "3       0               0        1           1       9              1   \n",
       "4       1               0        0           0       9              1   \n",
       "\n",
       "   paperless_billing  monthly_charges  total_charges  churn  ...  \\\n",
       "0                  1             65.6          593.3      0  ...   \n",
       "1                  1             65.6          593.3      0  ...   \n",
       "2                  1             65.6          593.3      0  ...   \n",
       "3                  1             65.6          593.3      0  ...   \n",
       "4                  0             59.9          542.4      0  ...   \n",
       "\n",
       "   contract_type_One year  contract_type_Two year  internet_service_type_DSL  \\\n",
       "0                     0.0                     0.0                        0.0   \n",
       "1                     0.0                     0.0                        0.0   \n",
       "2                     0.0                     0.0                        0.0   \n",
       "3                     0.0                     0.0                        0.0   \n",
       "4                     0.0                     0.0                        0.0   \n",
       "\n",
       "   internet_service_type_Fiber optic  internet_service_type_None  \\\n",
       "0                                0.0                         0.0   \n",
       "1                                0.0                         0.0   \n",
       "2                                0.0                         0.0   \n",
       "3                                0.0                         0.0   \n",
       "4                                0.0                         0.0   \n",
       "\n",
       "   payment_type_Bank transfer (automatic)  \\\n",
       "0                                     0.0   \n",
       "1                                     0.0   \n",
       "2                                     0.0   \n",
       "3                                     0.0   \n",
       "4                                     0.0   \n",
       "\n",
       "   payment_type_Credit card (automatic)  payment_type_Electronic check  \\\n",
       "0                                   0.0                            0.0   \n",
       "1                                   0.0                            0.0   \n",
       "2                                   0.0                            0.0   \n",
       "3                                   0.0                            0.0   \n",
       "4                                   0.0                            0.0   \n",
       "\n",
       "   payment_type_Mailed check  automatic_pmt  \n",
       "0                        0.0              1  \n",
       "1                        0.0              1  \n",
       "2                        0.0              0  \n",
       "3                        0.0              0  \n",
       "4                        0.0              1  \n",
       "\n",
       "[5 rows x 42 columns]"
      ]
     },
     "execution_count": 26,
     "metadata": {},
     "output_type": "execute_result"
    }
   ],
   "source": [
    "df.head()"
   ]
  },
  {
   "cell_type": "code",
   "execution_count": 27,
   "id": "9508a874",
   "metadata": {},
   "outputs": [
    {
     "data": {
      "text/plain": [
       "(56168, 42)"
      ]
     },
     "execution_count": 27,
     "metadata": {},
     "output_type": "execute_result"
    }
   ],
   "source": [
    "df.shape"
   ]
  },
  {
   "cell_type": "code",
   "execution_count": 28,
   "id": "cb044268",
   "metadata": {},
   "outputs": [
    {
     "data": {
      "text/html": [
       "<div>\n",
       "<style scoped>\n",
       "    .dataframe tbody tr th:only-of-type {\n",
       "        vertical-align: middle;\n",
       "    }\n",
       "\n",
       "    .dataframe tbody tr th {\n",
       "        vertical-align: top;\n",
       "    }\n",
       "\n",
       "    .dataframe thead th {\n",
       "        text-align: right;\n",
       "    }\n",
       "</style>\n",
       "<table border=\"1\" class=\"dataframe\">\n",
       "  <thead>\n",
       "    <tr style=\"text-align: right;\">\n",
       "      <th></th>\n",
       "      <th>gender</th>\n",
       "      <th>senior_citizen</th>\n",
       "      <th>partner</th>\n",
       "      <th>dependents</th>\n",
       "      <th>tenure</th>\n",
       "      <th>phone_service</th>\n",
       "      <th>paperless_billing</th>\n",
       "      <th>monthly_charges</th>\n",
       "      <th>total_charges</th>\n",
       "      <th>churn</th>\n",
       "      <th>...</th>\n",
       "      <th>contract_type_One year</th>\n",
       "      <th>contract_type_Two year</th>\n",
       "      <th>internet_service_type_DSL</th>\n",
       "      <th>internet_service_type_Fiber optic</th>\n",
       "      <th>internet_service_type_None</th>\n",
       "      <th>payment_type_Bank transfer (automatic)</th>\n",
       "      <th>payment_type_Credit card (automatic)</th>\n",
       "      <th>payment_type_Electronic check</th>\n",
       "      <th>payment_type_Mailed check</th>\n",
       "      <th>automatic_pmt</th>\n",
       "    </tr>\n",
       "  </thead>\n",
       "  <tbody>\n",
       "    <tr>\n",
       "      <th>count</th>\n",
       "      <td>56168.000000</td>\n",
       "      <td>56168.000000</td>\n",
       "      <td>56168.000000</td>\n",
       "      <td>56168.000000</td>\n",
       "      <td>56168.000000</td>\n",
       "      <td>56168.000000</td>\n",
       "      <td>56168.000000</td>\n",
       "      <td>56168.000000</td>\n",
       "      <td>56168.000000</td>\n",
       "      <td>56168.000000</td>\n",
       "      <td>...</td>\n",
       "      <td>56168.000000</td>\n",
       "      <td>56168.000000</td>\n",
       "      <td>56168.000000</td>\n",
       "      <td>56168.000000</td>\n",
       "      <td>56168.000000</td>\n",
       "      <td>56168.000000</td>\n",
       "      <td>56168.000000</td>\n",
       "      <td>56168.000000</td>\n",
       "      <td>56168.000000</td>\n",
       "      <td>56168.000000</td>\n",
       "    </tr>\n",
       "    <tr>\n",
       "      <th>mean</th>\n",
       "      <td>0.504344</td>\n",
       "      <td>0.162512</td>\n",
       "      <td>0.484546</td>\n",
       "      <td>0.300527</td>\n",
       "      <td>32.469449</td>\n",
       "      <td>0.902863</td>\n",
       "      <td>0.592651</td>\n",
       "      <td>64.851894</td>\n",
       "      <td>2286.765026</td>\n",
       "      <td>0.264492</td>\n",
       "      <td>...</td>\n",
       "      <td>0.104900</td>\n",
       "      <td>0.120709</td>\n",
       "      <td>0.172269</td>\n",
       "      <td>0.220054</td>\n",
       "      <td>0.107677</td>\n",
       "      <td>0.125000</td>\n",
       "      <td>0.125000</td>\n",
       "      <td>0.125000</td>\n",
       "      <td>0.125000</td>\n",
       "      <td>0.750000</td>\n",
       "    </tr>\n",
       "    <tr>\n",
       "      <th>std</th>\n",
       "      <td>0.499986</td>\n",
       "      <td>0.368924</td>\n",
       "      <td>0.499766</td>\n",
       "      <td>0.458491</td>\n",
       "      <td>24.533436</td>\n",
       "      <td>0.296147</td>\n",
       "      <td>0.491345</td>\n",
       "      <td>30.067127</td>\n",
       "      <td>2266.713795</td>\n",
       "      <td>0.441066</td>\n",
       "      <td>...</td>\n",
       "      <td>0.306427</td>\n",
       "      <td>0.325792</td>\n",
       "      <td>0.377617</td>\n",
       "      <td>0.414287</td>\n",
       "      <td>0.309975</td>\n",
       "      <td>0.330722</td>\n",
       "      <td>0.330722</td>\n",
       "      <td>0.330722</td>\n",
       "      <td>0.330722</td>\n",
       "      <td>0.433017</td>\n",
       "    </tr>\n",
       "    <tr>\n",
       "      <th>min</th>\n",
       "      <td>0.000000</td>\n",
       "      <td>0.000000</td>\n",
       "      <td>0.000000</td>\n",
       "      <td>0.000000</td>\n",
       "      <td>0.000000</td>\n",
       "      <td>0.000000</td>\n",
       "      <td>0.000000</td>\n",
       "      <td>18.250000</td>\n",
       "      <td>0.000000</td>\n",
       "      <td>0.000000</td>\n",
       "      <td>...</td>\n",
       "      <td>0.000000</td>\n",
       "      <td>0.000000</td>\n",
       "      <td>0.000000</td>\n",
       "      <td>0.000000</td>\n",
       "      <td>0.000000</td>\n",
       "      <td>0.000000</td>\n",
       "      <td>0.000000</td>\n",
       "      <td>0.000000</td>\n",
       "      <td>0.000000</td>\n",
       "      <td>0.000000</td>\n",
       "    </tr>\n",
       "    <tr>\n",
       "      <th>25%</th>\n",
       "      <td>0.000000</td>\n",
       "      <td>0.000000</td>\n",
       "      <td>0.000000</td>\n",
       "      <td>0.000000</td>\n",
       "      <td>9.000000</td>\n",
       "      <td>1.000000</td>\n",
       "      <td>0.000000</td>\n",
       "      <td>35.750000</td>\n",
       "      <td>403.350000</td>\n",
       "      <td>0.000000</td>\n",
       "      <td>...</td>\n",
       "      <td>0.000000</td>\n",
       "      <td>0.000000</td>\n",
       "      <td>0.000000</td>\n",
       "      <td>0.000000</td>\n",
       "      <td>0.000000</td>\n",
       "      <td>0.000000</td>\n",
       "      <td>0.000000</td>\n",
       "      <td>0.000000</td>\n",
       "      <td>0.000000</td>\n",
       "      <td>0.750000</td>\n",
       "    </tr>\n",
       "    <tr>\n",
       "      <th>50%</th>\n",
       "      <td>1.000000</td>\n",
       "      <td>0.000000</td>\n",
       "      <td>0.000000</td>\n",
       "      <td>0.000000</td>\n",
       "      <td>29.000000</td>\n",
       "      <td>1.000000</td>\n",
       "      <td>1.000000</td>\n",
       "      <td>70.400000</td>\n",
       "      <td>1400.550000</td>\n",
       "      <td>0.000000</td>\n",
       "      <td>...</td>\n",
       "      <td>0.000000</td>\n",
       "      <td>0.000000</td>\n",
       "      <td>0.000000</td>\n",
       "      <td>0.000000</td>\n",
       "      <td>0.000000</td>\n",
       "      <td>0.000000</td>\n",
       "      <td>0.000000</td>\n",
       "      <td>0.000000</td>\n",
       "      <td>0.000000</td>\n",
       "      <td>1.000000</td>\n",
       "    </tr>\n",
       "    <tr>\n",
       "      <th>75%</th>\n",
       "      <td>1.000000</td>\n",
       "      <td>0.000000</td>\n",
       "      <td>1.000000</td>\n",
       "      <td>1.000000</td>\n",
       "      <td>55.000000</td>\n",
       "      <td>1.000000</td>\n",
       "      <td>1.000000</td>\n",
       "      <td>89.900000</td>\n",
       "      <td>3801.700000</td>\n",
       "      <td>1.000000</td>\n",
       "      <td>...</td>\n",
       "      <td>0.000000</td>\n",
       "      <td>0.000000</td>\n",
       "      <td>0.000000</td>\n",
       "      <td>0.000000</td>\n",
       "      <td>0.000000</td>\n",
       "      <td>0.000000</td>\n",
       "      <td>0.000000</td>\n",
       "      <td>0.000000</td>\n",
       "      <td>0.000000</td>\n",
       "      <td>1.000000</td>\n",
       "    </tr>\n",
       "    <tr>\n",
       "      <th>max</th>\n",
       "      <td>1.000000</td>\n",
       "      <td>1.000000</td>\n",
       "      <td>1.000000</td>\n",
       "      <td>1.000000</td>\n",
       "      <td>72.000000</td>\n",
       "      <td>1.000000</td>\n",
       "      <td>1.000000</td>\n",
       "      <td>118.750000</td>\n",
       "      <td>8684.800000</td>\n",
       "      <td>1.000000</td>\n",
       "      <td>...</td>\n",
       "      <td>1.000000</td>\n",
       "      <td>1.000000</td>\n",
       "      <td>1.000000</td>\n",
       "      <td>1.000000</td>\n",
       "      <td>1.000000</td>\n",
       "      <td>1.000000</td>\n",
       "      <td>1.000000</td>\n",
       "      <td>1.000000</td>\n",
       "      <td>1.000000</td>\n",
       "      <td>1.000000</td>\n",
       "    </tr>\n",
       "  </tbody>\n",
       "</table>\n",
       "<p>8 rows × 42 columns</p>\n",
       "</div>"
      ],
      "text/plain": [
       "             gender  senior_citizen       partner    dependents        tenure  \\\n",
       "count  56168.000000    56168.000000  56168.000000  56168.000000  56168.000000   \n",
       "mean       0.504344        0.162512      0.484546      0.300527     32.469449   \n",
       "std        0.499986        0.368924      0.499766      0.458491     24.533436   \n",
       "min        0.000000        0.000000      0.000000      0.000000      0.000000   \n",
       "25%        0.000000        0.000000      0.000000      0.000000      9.000000   \n",
       "50%        1.000000        0.000000      0.000000      0.000000     29.000000   \n",
       "75%        1.000000        0.000000      1.000000      1.000000     55.000000   \n",
       "max        1.000000        1.000000      1.000000      1.000000     72.000000   \n",
       "\n",
       "       phone_service  paperless_billing  monthly_charges  total_charges  \\\n",
       "count   56168.000000       56168.000000     56168.000000   56168.000000   \n",
       "mean        0.902863           0.592651        64.851894    2286.765026   \n",
       "std         0.296147           0.491345        30.067127    2266.713795   \n",
       "min         0.000000           0.000000        18.250000       0.000000   \n",
       "25%         1.000000           0.000000        35.750000     403.350000   \n",
       "50%         1.000000           1.000000        70.400000    1400.550000   \n",
       "75%         1.000000           1.000000        89.900000    3801.700000   \n",
       "max         1.000000           1.000000       118.750000    8684.800000   \n",
       "\n",
       "              churn  ...  contract_type_One year  contract_type_Two year  \\\n",
       "count  56168.000000  ...            56168.000000            56168.000000   \n",
       "mean       0.264492  ...                0.104900                0.120709   \n",
       "std        0.441066  ...                0.306427                0.325792   \n",
       "min        0.000000  ...                0.000000                0.000000   \n",
       "25%        0.000000  ...                0.000000                0.000000   \n",
       "50%        0.000000  ...                0.000000                0.000000   \n",
       "75%        1.000000  ...                0.000000                0.000000   \n",
       "max        1.000000  ...                1.000000                1.000000   \n",
       "\n",
       "       internet_service_type_DSL  internet_service_type_Fiber optic  \\\n",
       "count               56168.000000                       56168.000000   \n",
       "mean                    0.172269                           0.220054   \n",
       "std                     0.377617                           0.414287   \n",
       "min                     0.000000                           0.000000   \n",
       "25%                     0.000000                           0.000000   \n",
       "50%                     0.000000                           0.000000   \n",
       "75%                     0.000000                           0.000000   \n",
       "max                     1.000000                           1.000000   \n",
       "\n",
       "       internet_service_type_None  payment_type_Bank transfer (automatic)  \\\n",
       "count                56168.000000                            56168.000000   \n",
       "mean                     0.107677                                0.125000   \n",
       "std                      0.309975                                0.330722   \n",
       "min                      0.000000                                0.000000   \n",
       "25%                      0.000000                                0.000000   \n",
       "50%                      0.000000                                0.000000   \n",
       "75%                      0.000000                                0.000000   \n",
       "max                      1.000000                                1.000000   \n",
       "\n",
       "       payment_type_Credit card (automatic)  payment_type_Electronic check  \\\n",
       "count                          56168.000000                   56168.000000   \n",
       "mean                               0.125000                       0.125000   \n",
       "std                                0.330722                       0.330722   \n",
       "min                                0.000000                       0.000000   \n",
       "25%                                0.000000                       0.000000   \n",
       "50%                                0.000000                       0.000000   \n",
       "75%                                0.000000                       0.000000   \n",
       "max                                1.000000                       1.000000   \n",
       "\n",
       "       payment_type_Mailed check  automatic_pmt  \n",
       "count               56168.000000   56168.000000  \n",
       "mean                    0.125000       0.750000  \n",
       "std                     0.330722       0.433017  \n",
       "min                     0.000000       0.000000  \n",
       "25%                     0.000000       0.750000  \n",
       "50%                     0.000000       1.000000  \n",
       "75%                     0.000000       1.000000  \n",
       "max                     1.000000       1.000000  \n",
       "\n",
       "[8 rows x 42 columns]"
      ]
     },
     "execution_count": 28,
     "metadata": {},
     "output_type": "execute_result"
    }
   ],
   "source": [
    "df.describe()"
   ]
  },
  {
   "cell_type": "code",
   "execution_count": 29,
   "id": "5001707f",
   "metadata": {},
   "outputs": [],
   "source": [
    "# Split the data to ready for exploration, modeling, and testing\n",
    "# Using the prepare custom library, take in a DataFrame and return train, validate, and test DataFrames; \n",
    "# Stratify on churn\n",
    "\n",
    "train, validate, test = prepare.split_data(df)"
   ]
  },
  {
   "cell_type": "code",
   "execution_count": 53,
   "id": "7f668f14",
   "metadata": {},
   "outputs": [
    {
     "name": "stdout",
     "output_type": "stream",
     "text": [
      "train shape: (31453, 42)\n",
      "validate shape: (13481, 42)\n",
      "test shape: (11234, 42)\n"
     ]
    }
   ],
   "source": [
    "print(f'train shape: {train.shape}')\n",
    "print(f'validate shape: {validate.shape}')\n",
    "print(f'test shape: {test.shape}')"
   ]
  },
  {
   "cell_type": "code",
   "execution_count": 30,
   "id": "c8a2e2f2",
   "metadata": {},
   "outputs": [
    {
     "data": {
      "text/html": [
       "<div>\n",
       "<style scoped>\n",
       "    .dataframe tbody tr th:only-of-type {\n",
       "        vertical-align: middle;\n",
       "    }\n",
       "\n",
       "    .dataframe tbody tr th {\n",
       "        vertical-align: top;\n",
       "    }\n",
       "\n",
       "    .dataframe thead th {\n",
       "        text-align: right;\n",
       "    }\n",
       "</style>\n",
       "<table border=\"1\" class=\"dataframe\">\n",
       "  <thead>\n",
       "    <tr style=\"text-align: right;\">\n",
       "      <th></th>\n",
       "      <th>gender</th>\n",
       "      <th>senior_citizen</th>\n",
       "      <th>partner</th>\n",
       "      <th>dependents</th>\n",
       "      <th>tenure</th>\n",
       "      <th>phone_service</th>\n",
       "      <th>paperless_billing</th>\n",
       "      <th>monthly_charges</th>\n",
       "      <th>total_charges</th>\n",
       "      <th>churn</th>\n",
       "      <th>...</th>\n",
       "      <th>contract_type_One year</th>\n",
       "      <th>contract_type_Two year</th>\n",
       "      <th>internet_service_type_DSL</th>\n",
       "      <th>internet_service_type_Fiber optic</th>\n",
       "      <th>internet_service_type_None</th>\n",
       "      <th>payment_type_Bank transfer (automatic)</th>\n",
       "      <th>payment_type_Credit card (automatic)</th>\n",
       "      <th>payment_type_Electronic check</th>\n",
       "      <th>payment_type_Mailed check</th>\n",
       "      <th>automatic_pmt</th>\n",
       "    </tr>\n",
       "  </thead>\n",
       "  <tbody>\n",
       "    <tr>\n",
       "      <th>2352</th>\n",
       "      <td>1</td>\n",
       "      <td>0</td>\n",
       "      <td>0</td>\n",
       "      <td>0</td>\n",
       "      <td>5</td>\n",
       "      <td>1</td>\n",
       "      <td>0</td>\n",
       "      <td>75.15</td>\n",
       "      <td>392.65</td>\n",
       "      <td>0</td>\n",
       "      <td>...</td>\n",
       "      <td>0.0</td>\n",
       "      <td>0.0</td>\n",
       "      <td>0.0</td>\n",
       "      <td>0.0</td>\n",
       "      <td>0.0</td>\n",
       "      <td>0.0</td>\n",
       "      <td>0.0</td>\n",
       "      <td>0.0</td>\n",
       "      <td>0.0</td>\n",
       "      <td>1</td>\n",
       "    </tr>\n",
       "    <tr>\n",
       "      <th>27916</th>\n",
       "      <td>0</td>\n",
       "      <td>1</td>\n",
       "      <td>0</td>\n",
       "      <td>0</td>\n",
       "      <td>65</td>\n",
       "      <td>0</td>\n",
       "      <td>1</td>\n",
       "      <td>53.50</td>\n",
       "      <td>3517.90</td>\n",
       "      <td>0</td>\n",
       "      <td>...</td>\n",
       "      <td>0.0</td>\n",
       "      <td>1.0</td>\n",
       "      <td>1.0</td>\n",
       "      <td>0.0</td>\n",
       "      <td>0.0</td>\n",
       "      <td>0.0</td>\n",
       "      <td>1.0</td>\n",
       "      <td>0.0</td>\n",
       "      <td>0.0</td>\n",
       "      <td>1</td>\n",
       "    </tr>\n",
       "    <tr>\n",
       "      <th>25590</th>\n",
       "      <td>0</td>\n",
       "      <td>0</td>\n",
       "      <td>0</td>\n",
       "      <td>0</td>\n",
       "      <td>51</td>\n",
       "      <td>0</td>\n",
       "      <td>1</td>\n",
       "      <td>56.40</td>\n",
       "      <td>2928.50</td>\n",
       "      <td>0</td>\n",
       "      <td>...</td>\n",
       "      <td>0.0</td>\n",
       "      <td>0.0</td>\n",
       "      <td>0.0</td>\n",
       "      <td>0.0</td>\n",
       "      <td>0.0</td>\n",
       "      <td>0.0</td>\n",
       "      <td>0.0</td>\n",
       "      <td>0.0</td>\n",
       "      <td>0.0</td>\n",
       "      <td>0</td>\n",
       "    </tr>\n",
       "    <tr>\n",
       "      <th>22973</th>\n",
       "      <td>0</td>\n",
       "      <td>0</td>\n",
       "      <td>0</td>\n",
       "      <td>0</td>\n",
       "      <td>30</td>\n",
       "      <td>1</td>\n",
       "      <td>1</td>\n",
       "      <td>79.30</td>\n",
       "      <td>2427.10</td>\n",
       "      <td>0</td>\n",
       "      <td>...</td>\n",
       "      <td>1.0</td>\n",
       "      <td>0.0</td>\n",
       "      <td>1.0</td>\n",
       "      <td>0.0</td>\n",
       "      <td>0.0</td>\n",
       "      <td>1.0</td>\n",
       "      <td>0.0</td>\n",
       "      <td>0.0</td>\n",
       "      <td>0.0</td>\n",
       "      <td>1</td>\n",
       "    </tr>\n",
       "    <tr>\n",
       "      <th>12731</th>\n",
       "      <td>0</td>\n",
       "      <td>0</td>\n",
       "      <td>0</td>\n",
       "      <td>0</td>\n",
       "      <td>47</td>\n",
       "      <td>1</td>\n",
       "      <td>1</td>\n",
       "      <td>58.90</td>\n",
       "      <td>2813.05</td>\n",
       "      <td>0</td>\n",
       "      <td>...</td>\n",
       "      <td>1.0</td>\n",
       "      <td>0.0</td>\n",
       "      <td>1.0</td>\n",
       "      <td>0.0</td>\n",
       "      <td>0.0</td>\n",
       "      <td>0.0</td>\n",
       "      <td>0.0</td>\n",
       "      <td>1.0</td>\n",
       "      <td>0.0</td>\n",
       "      <td>1</td>\n",
       "    </tr>\n",
       "  </tbody>\n",
       "</table>\n",
       "<p>5 rows × 42 columns</p>\n",
       "</div>"
      ],
      "text/plain": [
       "       gender  senior_citizen  partner  dependents  tenure  phone_service  \\\n",
       "2352        1               0        0           0       5              1   \n",
       "27916       0               1        0           0      65              0   \n",
       "25590       0               0        0           0      51              0   \n",
       "22973       0               0        0           0      30              1   \n",
       "12731       0               0        0           0      47              1   \n",
       "\n",
       "       paperless_billing  monthly_charges  total_charges  churn  ...  \\\n",
       "2352                   0            75.15         392.65      0  ...   \n",
       "27916                  1            53.50        3517.90      0  ...   \n",
       "25590                  1            56.40        2928.50      0  ...   \n",
       "22973                  1            79.30        2427.10      0  ...   \n",
       "12731                  1            58.90        2813.05      0  ...   \n",
       "\n",
       "       contract_type_One year  contract_type_Two year  \\\n",
       "2352                      0.0                     0.0   \n",
       "27916                     0.0                     1.0   \n",
       "25590                     0.0                     0.0   \n",
       "22973                     1.0                     0.0   \n",
       "12731                     1.0                     0.0   \n",
       "\n",
       "       internet_service_type_DSL  internet_service_type_Fiber optic  \\\n",
       "2352                         0.0                                0.0   \n",
       "27916                        1.0                                0.0   \n",
       "25590                        0.0                                0.0   \n",
       "22973                        1.0                                0.0   \n",
       "12731                        1.0                                0.0   \n",
       "\n",
       "       internet_service_type_None  payment_type_Bank transfer (automatic)  \\\n",
       "2352                          0.0                                     0.0   \n",
       "27916                         0.0                                     0.0   \n",
       "25590                         0.0                                     0.0   \n",
       "22973                         0.0                                     1.0   \n",
       "12731                         0.0                                     0.0   \n",
       "\n",
       "       payment_type_Credit card (automatic)  payment_type_Electronic check  \\\n",
       "2352                                    0.0                            0.0   \n",
       "27916                                   1.0                            0.0   \n",
       "25590                                   0.0                            0.0   \n",
       "22973                                   0.0                            0.0   \n",
       "12731                                   0.0                            1.0   \n",
       "\n",
       "       payment_type_Mailed check  automatic_pmt  \n",
       "2352                         0.0              1  \n",
       "27916                        0.0              1  \n",
       "25590                        0.0              0  \n",
       "22973                        0.0              1  \n",
       "12731                        0.0              1  \n",
       "\n",
       "[5 rows x 42 columns]"
      ]
     },
     "execution_count": 30,
     "metadata": {},
     "output_type": "execute_result"
    }
   ],
   "source": [
    "train.head()"
   ]
  },
  {
   "cell_type": "code",
   "execution_count": 31,
   "id": "ccc14c27",
   "metadata": {},
   "outputs": [
    {
     "name": "stdout",
     "output_type": "stream",
     "text": [
      "<class 'pandas.core.frame.DataFrame'>\n",
      "Int64Index: 31453 entries, 2352 to 27190\n",
      "Data columns (total 42 columns):\n",
      " #   Column                                  Non-Null Count  Dtype  \n",
      "---  ------                                  --------------  -----  \n",
      " 0   gender                                  31453 non-null  int64  \n",
      " 1   senior_citizen                          31453 non-null  int64  \n",
      " 2   partner                                 31453 non-null  int64  \n",
      " 3   dependents                              31453 non-null  int64  \n",
      " 4   tenure                                  31453 non-null  int64  \n",
      " 5   phone_service                           31453 non-null  int64  \n",
      " 6   paperless_billing                       31453 non-null  int64  \n",
      " 7   monthly_charges                         31453 non-null  float64\n",
      " 8   total_charges                           31453 non-null  float64\n",
      " 9   churn                                   31453 non-null  int64  \n",
      " 10  multiple_lines_No                       31453 non-null  float64\n",
      " 11  multiple_lines_No phone service         31453 non-null  float64\n",
      " 12  multiple_lines_Yes                      31453 non-null  float64\n",
      " 13  online_security_No                      31453 non-null  float64\n",
      " 14  online_security_No internet service     31453 non-null  float64\n",
      " 15  online_security_Yes                     31453 non-null  float64\n",
      " 16  online_backup_No                        31453 non-null  float64\n",
      " 17  online_backup_No internet service       31453 non-null  float64\n",
      " 18  online_backup_Yes                       31453 non-null  float64\n",
      " 19  device_protection_No                    31453 non-null  float64\n",
      " 20  device_protection_No internet service   31453 non-null  float64\n",
      " 21  device_protection_Yes                   31453 non-null  float64\n",
      " 22  tech_support_No                         31453 non-null  float64\n",
      " 23  tech_support_No internet service        31453 non-null  float64\n",
      " 24  tech_support_Yes                        31453 non-null  float64\n",
      " 25  streaming_tv_No                         31453 non-null  float64\n",
      " 26  streaming_tv_No internet service        31453 non-null  float64\n",
      " 27  streaming_tv_Yes                        31453 non-null  float64\n",
      " 28  streaming_movies_No                     31453 non-null  float64\n",
      " 29  streaming_movies_No internet service    31453 non-null  float64\n",
      " 30  streaming_movies_Yes                    31453 non-null  float64\n",
      " 31  contract_type_Month-to-month            31453 non-null  float64\n",
      " 32  contract_type_One year                  31453 non-null  float64\n",
      " 33  contract_type_Two year                  31453 non-null  float64\n",
      " 34  internet_service_type_DSL               31453 non-null  float64\n",
      " 35  internet_service_type_Fiber optic       31453 non-null  float64\n",
      " 36  internet_service_type_None              31453 non-null  float64\n",
      " 37  payment_type_Bank transfer (automatic)  31453 non-null  float64\n",
      " 38  payment_type_Credit card (automatic)    31453 non-null  float64\n",
      " 39  payment_type_Electronic check           31453 non-null  float64\n",
      " 40  payment_type_Mailed check               31453 non-null  float64\n",
      " 41  automatic_pmt                           31453 non-null  int64  \n",
      "dtypes: float64(33), int64(9)\n",
      "memory usage: 10.3 MB\n"
     ]
    }
   ],
   "source": [
    "train.info()"
   ]
  },
  {
   "cell_type": "markdown",
   "id": "7844d6e9",
   "metadata": {},
   "source": [
    "### Takeaways\n",
    "\n",
    "- Removed duplicate index column created when acquired\n",
    "- Removed customer_id since it is not helpful\n",
    "- Removed duplicate ID columns created when tables were joined\n",
    "\n",
    "- Encoded all columns containing strings for: 'partner','dependents','phone_service','multiple_lines','paperless_billing','churn','gender'\n",
    "\n",
    "- Created dummy variables for: 'multiple_lines','online_security','online_backup','device_protection','tech_support','streaming_tv','streaming_movies',\n",
    "'contract_type','internet_service_type','payment_type'\n",
    "\n",
    "- Converted total_charges column to a float type and filled in all null values with a 0 after determining\n",
    "    that they are new customers with a tenure of 0 who haven't been charged yet.\n",
    "\n",
    "- Feature engineering: \n",
    "    - Created new columns to filter by automatic payment and month-to-month churned customers\n",
    "        - 'automatic_pmt' for 'payment_type_Bank transfer (automatic)' and'payment_type_Credit card (automatic)' types \n",
    "        - 'mtm_churned' for 'churn' == \"Yes\" & contract_type==0\n",
    "\n",
    "***"
   ]
  },
  {
   "cell_type": "markdown",
   "id": "69e297d5",
   "metadata": {},
   "source": [
    "# Data Exploration & Analysis\n",
    "\n",
    "Plan -> Acquire -> Prepare -> <span style='background :skyblue' >EXPLORE </span>-> Model & Evaluate -> Deliver"
   ]
  },
  {
   "cell_type": "markdown",
   "id": "e9508021",
   "metadata": {},
   "source": [
    "In Your Notebook\n",
    "\n",
    "Answer key questions, your initial hypotheses from , and figure out the drivers of churn. You are required to run at least 2 statistical tests in your data exploration. Make sure you document your hypotheses, set your alpha before running the tests, and document your findings well.\n",
    "\n",
    "Create visualizations and run statistical tests that work toward discovering variable relationships (independent with independent and independent with dependent). The goal is to identify features that are related to churn (your target), identify any data integrity issues, and understand 'how the data works'. If there appears to be some sort of interaction or correlation, assume there is no causal relationship and brainstorm (and document) ideas on reasons there could be correlation.\n",
    "\n",
    "For example: We may find that all who have online services also have device protection. In that case, we don't need both of those.\n",
    "\n",
    "Summarize your conclusions, provide clear answers to your specific questions, and summarize any takeaways/action plan from the work above.\n",
    "Below are some questions you might decide to explore in this stage:\n",
    "\n",
    "If a group is identified by tenure, is there a cohort or cohorts who have a higher rate of churn than other cohorts?\n",
    "\n",
    "For Example: You might plot the rate of churn on a line chart where x is the tenure and y is the rate of churn (customers churned/total customers)\n",
    "\n",
    "Are there features that indicate a higher propensity to churn?\n",
    "\n",
    "For Example: type of internet service, type of phone service, online security and backup, senior citizens, paying more than x% of customers with the same services, etc.\n",
    "\n",
    "Is there a price threshold for specific services where the likelihood of churn increases once price for those services goes past that point? If so, what is that point for what service(s)?\n",
    "\n",
    "If we looked at churn rate for month-to-month customers after the 12th month and that of 1-year contract customers after the 12th month, are those rates comparable?\n",
    "\n",
    "Controlling for services (phone_id, internet_service_type_id, online_security_backup, device_protection, tech_support, and contract_type_id), is the mean monthly_charges of those who have churned significantly different from that of those who have not churned? (Use a t-test to answer this.)\n",
    "\n",
    "How much of monthly_charges can be explained by internet_service_type?\n",
    "\n",
    "Hint: Run a correlation test. State your hypotheses and document your findings clearly.\n",
    "\n",
    "How much of monthly_charges can be explained by internet_service_type + phone_service_type (0, 1, or multiple lines)."
   ]
  },
  {
   "cell_type": "markdown",
   "id": "f3f4fb65",
   "metadata": {},
   "source": [
    "Questions:  \n",
    "    \n",
    "    - Are customers on automatic payment plans less likely to churn than customers not on automatic payments?\n",
    "    \n",
    "    - What services do non-automatic payment plan customers subscribe to? What type of service?\n",
    "    \n",
    "    - Do they have more than one service?\n",
    "     \n",
    "    - Do they pay more than those on automatic payment plans?\n",
    "    \n",
    "    - What is the tenure of non-automatic vs automatic payment plans?\n",
    "    \n",
    "    - Is there price where we see non-automatic payment plan customer churn?  What is that price, if so?\n",
    "    \n",
    "    \n",
    "Null Hypothesis:\n",
    "\n",
    "\n",
    "- Customers on automatic payment plans churn less than customers on non-automatic payment plans\n",
    "\n",
    "Alternative Hypothesis:\n",
    "\n",
    "- Customers on automatic payment plans churn the same amount or more than customers on non-automatic payment plans"
   ]
  },
  {
   "cell_type": "markdown",
   "id": "80b4dbbe",
   "metadata": {},
   "source": [
    "### Explore "
   ]
  },
  {
   "cell_type": "markdown",
   "id": "de3cd5c7",
   "metadata": {},
   "source": [
    "#### Univariate Stats: \n",
    "\n",
    "##### Descriptive stats, frequencies, histograms. General familiar with data.\n",
    "\n",
    "- Explore the target variable.\n",
    "\n",
    "- Explore the categorical/qualitative variables.\n",
    "\n",
    "- Explore the continuous/quantitative variables."
   ]
  },
  {
   "cell_type": "code",
   "execution_count": 60,
   "id": "8262c373",
   "metadata": {},
   "outputs": [],
   "source": [
    "#First, we need list of categorical variables and one of quantitative variables.\n",
    "\n",
    "cat_vars = ['gender', 'senior_citizen', 'partner', 'dependents', 'phone_service', 'paperless_billing', 'churn','multiple_lines_Yes',\n",
    "            'online_security_Yes','online_backup_Yes', 'tech_support_Yes',\n",
    "           'streaming_tv_Yes','streaming_movies_Yes',\n",
    "           'contract_type_Month-to-month', 'contract_type_One year',\n",
    "           'contract_type_Two year', 'internet_service_type_DSL',\n",
    "           'internet_service_type_Fiber optic', 'internet_service_type_None',\n",
    "           'payment_type_Bank transfer (automatic)',\n",
    "           'payment_type_Credit card (automatic)', 'payment_type_Electronic check',\n",
    "           'payment_type_Mailed check', 'automatic_pmt']\n",
    "\n",
    "cat_vars_select = ['gender', 'senior_citizen', 'partner', 'dependents', 'phone_service', 'paperless_billing', 'churn',\n",
    "           'payment_type_Bank transfer (automatic)',\n",
    "           'payment_type_Credit card (automatic)', 'payment_type_Electronic check',\n",
    "           'payment_type_Mailed check', 'automatic_pmt']\n",
    "\n",
    "quant_vars = ['tenure', 'monthly_charges','total_charges']\n"
   ]
  },
  {
   "cell_type": "code",
   "execution_count": 61,
   "id": "a5ec02c1",
   "metadata": {},
   "outputs": [
    {
     "data": {
      "text/plain": [
       "1    42126\n",
       "0    14042\n",
       "Name: automatic_pmt, dtype: int64"
      ]
     },
     "execution_count": 61,
     "metadata": {},
     "output_type": "execute_result"
    }
   ],
   "source": [
    "df.automatic_pmt.value_counts()"
   ]
  },
  {
   "cell_type": "code",
   "execution_count": 62,
   "id": "c8bd256f",
   "metadata": {
    "scrolled": false
   },
   "outputs": [
    {
     "data": {
      "image/png": "[encoded data removed]",
      "text/plain": [
       "<Figure size 144x144 with 1 Axes>"
      ]
     },
     "metadata": {
      "needs_background": "light"
     },
     "output_type": "display_data"
    },
    {
     "name": "stdout",
     "output_type": "stream",
     "text": [
      "   gender  Count  Percent\n",
      "1       1  15795    50.22\n",
      "0       0  15658    49.78\n",
      "_________________________________________________________________\n"
     ]
    },
    {
     "data": {
      "image/png": "[encoded data removed]",
      "text/plain": [
       "<Figure size 144x144 with 1 Axes>"
      ]
     },
     "metadata": {
      "needs_background": "light"
     },
     "output_type": "display_data"
    },
    {
     "name": "stdout",
     "output_type": "stream",
     "text": [
      "   senior_citizen  Count  Percent\n",
      "0               0  26319    83.68\n",
      "1               1   5134    16.32\n",
      "_________________________________________________________________\n"
     ]
    },
    {
     "data": {
      "image/png": "[encoded data removed]",
      "text/plain": [
       "<Figure size 144x144 with 1 Axes>"
      ]
     },
     "metadata": {
      "needs_background": "light"
     },
     "output_type": "display_data"
    },
    {
     "name": "stdout",
     "output_type": "stream",
     "text": [
      "   partner  Count  Percent\n",
      "0        0  16138    51.31\n",
      "1        1  15315    48.69\n",
      "_________________________________________________________________\n"
     ]
    },
    {
     "data": {
      "image/png": "[encoded data removed]",
      "text/plain": [
       "<Figure size 144x144 with 1 Axes>"
      ]
     },
     "metadata": {
      "needs_background": "light"
     },
     "output_type": "display_data"
    },
    {
     "name": "stdout",
     "output_type": "stream",
     "text": [
      "   dependents  Count  Percent\n",
      "0           0  21986     69.9\n",
      "1           1   9467     30.1\n",
      "_________________________________________________________________\n"
     ]
    },
    {
     "data": {
      "image/png": "[encoded data removed]",
      "text/plain": [
       "<Figure size 144x144 with 1 Axes>"
      ]
     },
     "metadata": {
      "needs_background": "light"
     },
     "output_type": "display_data"
    },
    {
     "name": "stdout",
     "output_type": "stream",
     "text": [
      "   phone_service  Count  Percent\n",
      "1              1  28442    90.43\n",
      "0              0   3011     9.57\n",
      "_________________________________________________________________\n"
     ]
    },
    {
     "data": {
      "image/png": "[encoded data removed]",
      "text/plain": [
       "<Figure size 144x144 with 1 Axes>"
      ]
     },
     "metadata": {
      "needs_background": "light"
     },
     "output_type": "display_data"
    },
    {
     "name": "stdout",
     "output_type": "stream",
     "text": [
      "   paperless_billing  Count  Percent\n",
      "1                  0  18545    58.96\n",
      "0                  1  12908    41.04\n",
      "_________________________________________________________________\n"
     ]
    },
    {
     "data": {
      "image/png": "[encoded data removed]",
      "text/plain": [
       "<Figure size 144x144 with 1 Axes>"
      ]
     },
     "metadata": {
      "needs_background": "light"
     },
     "output_type": "display_data"
    },
    {
     "name": "stdout",
     "output_type": "stream",
     "text": [
      "   churn  Count  Percent\n",
      "0      0  23134    73.55\n",
      "1      1   8319    26.45\n",
      "_________________________________________________________________\n"
     ]
    },
    {
     "data": {
      "image/png": "[encoded data removed]",
      "text/plain": [
       "<Figure size 144x144 with 1 Axes>"
      ]
     },
     "metadata": {
      "needs_background": "light"
     },
     "output_type": "display_data"
    },
    {
     "name": "stdout",
     "output_type": "stream",
     "text": [
      "     multiple_lines_Yes  Count  Percent\n",
      "0.0                 0.0  24729    78.62\n",
      "1.0                 1.0   6724    21.38\n",
      "_________________________________________________________________\n"
     ]
    },
    {
     "data": {
      "image/png": "[encoded data removed]",
      "text/plain": [
       "<Figure size 144x144 with 1 Axes>"
      ]
     },
     "metadata": {
      "needs_background": "light"
     },
     "output_type": "display_data"
    },
    {
     "name": "stdout",
     "output_type": "stream",
     "text": [
      "     online_security_Yes  Count  Percent\n",
      "0.0                  0.0  26872    85.44\n",
      "1.0                  1.0   4581    14.56\n",
      "_________________________________________________________________\n"
     ]
    },
    {
     "data": {
      "image/png": "[encoded data removed]",
      "text/plain": [
       "<Figure size 144x144 with 1 Axes>"
      ]
     },
     "metadata": {
      "needs_background": "light"
     },
     "output_type": "display_data"
    },
    {
     "name": "stdout",
     "output_type": "stream",
     "text": [
      "     online_backup_Yes  Count  Percent\n",
      "0.0                0.0  25926    82.43\n",
      "1.0                1.0   5527    17.57\n",
      "_________________________________________________________________\n"
     ]
    },
    {
     "data": {
      "image/png": "[encoded data removed]",
      "text/plain": [
       "<Figure size 144x144 with 1 Axes>"
      ]
     },
     "metadata": {
      "needs_background": "light"
     },
     "output_type": "display_data"
    },
    {
     "name": "stdout",
     "output_type": "stream",
     "text": [
      "     tech_support_Yes  Count  Percent\n",
      "0.0               0.0  26844    85.35\n",
      "1.0               1.0   4609    14.65\n",
      "_________________________________________________________________\n"
     ]
    },
    {
     "data": {
      "image/png": "[encoded data removed]",
      "text/plain": [
       "<Figure size 144x144 with 1 Axes>"
      ]
     },
     "metadata": {
      "needs_background": "light"
     },
     "output_type": "display_data"
    },
    {
     "name": "stdout",
     "output_type": "stream",
     "text": [
      "     streaming_tv_Yes  Count  Percent\n",
      "0.0               0.0  25371    80.66\n",
      "1.0               1.0   6082    19.34\n",
      "_________________________________________________________________\n"
     ]
    },
    {
     "data": {
      "image/png": "[encoded data removed]",
      "text/plain": [
       "<Figure size 144x144 with 1 Axes>"
      ]
     },
     "metadata": {
      "needs_background": "light"
     },
     "output_type": "display_data"
    },
    {
     "name": "stdout",
     "output_type": "stream",
     "text": [
      "     streaming_movies_Yes  Count  Percent\n",
      "0.0                   0.0  25289     80.4\n",
      "1.0                   1.0   6164     19.6\n",
      "_________________________________________________________________\n"
     ]
    },
    {
     "data": {
      "image/png": "[encoded data removed]",
      "text/plain": [
       "<Figure size 144x144 with 1 Axes>"
      ]
     },
     "metadata": {
      "needs_background": "light"
     },
     "output_type": "display_data"
    },
    {
     "name": "stdout",
     "output_type": "stream",
     "text": [
      "     contract_type_Month-to-month  Count  Percent\n",
      "0.0                           0.0  22783    72.44\n",
      "1.0                           1.0   8670    27.56\n",
      "_________________________________________________________________\n"
     ]
    },
    {
     "data": {
      "image/png": "[encoded data removed]",
      "text/plain": [
       "<Figure size 144x144 with 1 Axes>"
      ]
     },
     "metadata": {
      "needs_background": "light"
     },
     "output_type": "display_data"
    },
    {
     "name": "stdout",
     "output_type": "stream",
     "text": [
      "     contract_type_One year  Count  Percent\n",
      "0.0                     0.0  28123    89.41\n",
      "1.0                     1.0   3330    10.59\n",
      "_________________________________________________________________\n"
     ]
    },
    {
     "data": {
      "image/png": "[encoded data removed]",
      "text/plain": [
       "<Figure size 144x144 with 1 Axes>"
      ]
     },
     "metadata": {
      "needs_background": "light"
     },
     "output_type": "display_data"
    },
    {
     "name": "stdout",
     "output_type": "stream",
     "text": [
      "     contract_type_Two year  Count  Percent\n",
      "0.0                     0.0  27659    87.94\n",
      "1.0                     1.0   3794    12.06\n",
      "_________________________________________________________________\n"
     ]
    },
    {
     "data": {
      "image/png": "[encoded data removed]",
      "text/plain": [
       "<Figure size 144x144 with 1 Axes>"
      ]
     },
     "metadata": {
      "needs_background": "light"
     },
     "output_type": "display_data"
    },
    {
     "name": "stdout",
     "output_type": "stream",
     "text": [
      "     internet_service_type_DSL  Count  Percent\n",
      "0.0                        0.0  25985    82.62\n",
      "1.0                        1.0   5468    17.38\n",
      "_________________________________________________________________\n"
     ]
    },
    {
     "data": {
      "image/png": "[encoded data removed]",
      "text/plain": [
       "<Figure size 144x144 with 1 Axes>"
      ]
     },
     "metadata": {
      "needs_background": "light"
     },
     "output_type": "display_data"
    },
    {
     "name": "stdout",
     "output_type": "stream",
     "text": [
      "     internet_service_type_Fiber optic  Count  Percent\n",
      "0.0                                0.0  24475    77.81\n",
      "1.0                                1.0   6978    22.19\n",
      "_________________________________________________________________\n"
     ]
    },
    {
     "data": {
      "image/png": "[encoded data removed]",
      "text/plain": [
       "<Figure size 144x144 with 1 Axes>"
      ]
     },
     "metadata": {
      "needs_background": "light"
     },
     "output_type": "display_data"
    },
    {
     "name": "stdout",
     "output_type": "stream",
     "text": [
      "     internet_service_type_None  Count  Percent\n",
      "0.0                         0.0  28105    89.36\n",
      "1.0                         1.0   3348    10.64\n",
      "_________________________________________________________________\n"
     ]
    },
    {
     "data": {
      "image/png": "[encoded data removed]",
      "text/plain": [
       "<Figure size 144x144 with 1 Axes>"
      ]
     },
     "metadata": {
      "needs_background": "light"
     },
     "output_type": "display_data"
    },
    {
     "name": "stdout",
     "output_type": "stream",
     "text": [
      "     payment_type_Bank transfer (automatic)  Count  Percent\n",
      "0.0                                     0.0  27508    87.46\n",
      "1.0                                     1.0   3945    12.54\n",
      "_________________________________________________________________\n"
     ]
    },
    {
     "data": {
      "image/png": "[encoded data removed]",
      "text/plain": [
       "<Figure size 144x144 with 1 Axes>"
      ]
     },
     "metadata": {
      "needs_background": "light"
     },
     "output_type": "display_data"
    },
    {
     "name": "stdout",
     "output_type": "stream",
     "text": [
      "     payment_type_Credit card (automatic)  Count  Percent\n",
      "0.0                                   0.0  27546    87.58\n",
      "1.0                                   1.0   3907    12.42\n",
      "_________________________________________________________________\n"
     ]
    },
    {
     "data": {
      "image/png": "[encoded data removed]",
      "text/plain": [
       "<Figure size 144x144 with 1 Axes>"
      ]
     },
     "metadata": {
      "needs_background": "light"
     },
     "output_type": "display_data"
    },
    {
     "name": "stdout",
     "output_type": "stream",
     "text": [
      "     payment_type_Electronic check  Count  Percent\n",
      "0.0                            0.0  27463    87.31\n",
      "1.0                            1.0   3990    12.69\n",
      "_________________________________________________________________\n"
     ]
    },
    {
     "data": {
      "image/png": "[encoded data removed]",
      "text/plain": [
       "<Figure size 144x144 with 1 Axes>"
      ]
     },
     "metadata": {
      "needs_background": "light"
     },
     "output_type": "display_data"
    },
    {
     "name": "stdout",
     "output_type": "stream",
     "text": [
      "     payment_type_Mailed check  Count  Percent\n",
      "0.0                        0.0  27501    87.44\n",
      "1.0                        1.0   3952    12.56\n",
      "_________________________________________________________________\n"
     ]
    },
    {
     "data": {
      "image/png": "[encoded data removed]",
      "text/plain": [
       "<Figure size 144x144 with 1 Axes>"
      ]
     },
     "metadata": {
      "needs_background": "light"
     },
     "output_type": "display_data"
    },
    {
     "name": "stdout",
     "output_type": "stream",
     "text": [
      "   automatic_pmt  Count  Percent\n",
      "1              1  23615    75.08\n",
      "0              0   7838    24.92\n",
      "_________________________________________________________________\n"
     ]
    },
    {
     "data": {
      "image/png": "[encoded data removed]",
      "text/plain": [
       "<Figure size 576x144 with 2 Axes>"
      ]
     },
     "metadata": {
      "needs_background": "light"
     },
     "output_type": "display_data"
    },
    {
     "name": "stdout",
     "output_type": "stream",
     "text": [
      "count    31453.000000\n",
      "mean        32.456777\n",
      "std         24.594817\n",
      "min          0.000000\n",
      "25%          9.000000\n",
      "50%         29.000000\n",
      "75%         56.000000\n",
      "max         72.000000\n",
      "Name: tenure, dtype: float64\n"
     ]
    },
    {
     "data": {
      "image/png": "[encoded data removed]",
      "text/plain": [
       "<Figure size 576x144 with 2 Axes>"
      ]
     },
     "metadata": {
      "needs_background": "light"
     },
     "output_type": "display_data"
    },
    {
     "name": "stdout",
     "output_type": "stream",
     "text": [
      "count    31453.000000\n",
      "mean        65.037205\n",
      "std         29.965072\n",
      "min         18.250000\n",
      "25%         37.700000\n",
      "50%         70.550000\n",
      "75%         89.950000\n",
      "max        118.750000\n",
      "Name: monthly_charges, dtype: float64\n"
     ]
    },
    {
     "data": {
      "image/png": "[encoded data removed]",
      "text/plain": [
       "<Figure size 576x144 with 2 Axes>"
      ]
     },
     "metadata": {
      "needs_background": "light"
     },
     "output_type": "display_data"
    },
    {
     "name": "stdout",
     "output_type": "stream",
     "text": [
      "count    31453.000000\n",
      "mean      2294.658589\n",
      "std       2271.321057\n",
      "min          0.000000\n",
      "25%        398.550000\n",
      "50%       1415.550000\n",
      "75%       3842.600000\n",
      "max       8684.800000\n",
      "Name: total_charges, dtype: float64\n"
     ]
    }
   ],
   "source": [
    "explore.explore_univariate(train, cat_vars, quant_vars)"
   ]
  },
  {
   "cell_type": "markdown",
   "id": "3842458f",
   "metadata": {},
   "source": [
    "#### Takeaways\n",
    "\n",
    "- Majority of customers are not senior citizens: About 84% are not senior citizens while 16% are senior citizens\n",
    "- About equal amount of customers have a partner: 51% do not have a partner while 49% do have a partner\n",
    "- Majority of customers do not have dependents: 70% do not have dependents while 30% do\n",
    "- Majority of customers do subscribe to phone service: 90% do have phone service while 10% do not\n",
    "- About equal amount of customer use paperless billing: 59% do not have paperless billing while 41% do\n",
    "- Majority of customers are not churning: 74% did not churn while 26% did churn\n",
    "- Majority of customers do not have multiple lines: 76% do not have multiple lines while 24% do\n",
    "- Majority of customers do not have online security: 85% do not have online security while 15% do\n",
    "- Majority of customers do not have streaming TV: 81% do not have streaming TV while 19% do\n",
    "- Majority of customers do not have tech support: 85% do not while 15% do\n",
    "- Majority of are not month-to-month customers: 72% are not while 28% are\n",
    "- Average tenure is 32 months\n",
    "- Average monthly charge is 65 with a min of 18 and a max of 119\n",
    "- Average total charges are 2295 with a min of 0 and a max of 8684\n",
    "- Majority of customers are on automatic payment plan: 75% are on automatic while 25% are not on automatic payment plan\n",
    "\n"
   ]
  },
  {
   "cell_type": "code",
   "execution_count": 63,
   "id": "c97b9154",
   "metadata": {},
   "outputs": [
    {
     "data": {
      "text/html": [
       "<div>\n",
       "<style scoped>\n",
       "    .dataframe tbody tr th:only-of-type {\n",
       "        vertical-align: middle;\n",
       "    }\n",
       "\n",
       "    .dataframe tbody tr th {\n",
       "        vertical-align: top;\n",
       "    }\n",
       "\n",
       "    .dataframe thead th {\n",
       "        text-align: right;\n",
       "    }\n",
       "</style>\n",
       "<table border=\"1\" class=\"dataframe\">\n",
       "  <thead>\n",
       "    <tr style=\"text-align: right;\">\n",
       "      <th></th>\n",
       "      <th>tenure</th>\n",
       "      <th>monthly_charges</th>\n",
       "      <th>total_charges</th>\n",
       "    </tr>\n",
       "  </thead>\n",
       "  <tbody>\n",
       "    <tr>\n",
       "      <th>count</th>\n",
       "      <td>31453.000000</td>\n",
       "      <td>31453.000000</td>\n",
       "      <td>31453.000000</td>\n",
       "    </tr>\n",
       "    <tr>\n",
       "      <th>mean</th>\n",
       "      <td>32.456777</td>\n",
       "      <td>65.037205</td>\n",
       "      <td>2294.658589</td>\n",
       "    </tr>\n",
       "    <tr>\n",
       "      <th>std</th>\n",
       "      <td>24.594817</td>\n",
       "      <td>29.965072</td>\n",
       "      <td>2271.321057</td>\n",
       "    </tr>\n",
       "    <tr>\n",
       "      <th>min</th>\n",
       "      <td>0.000000</td>\n",
       "      <td>18.250000</td>\n",
       "      <td>0.000000</td>\n",
       "    </tr>\n",
       "    <tr>\n",
       "      <th>25%</th>\n",
       "      <td>9.000000</td>\n",
       "      <td>37.700000</td>\n",
       "      <td>398.550000</td>\n",
       "    </tr>\n",
       "    <tr>\n",
       "      <th>50%</th>\n",
       "      <td>29.000000</td>\n",
       "      <td>70.550000</td>\n",
       "      <td>1415.550000</td>\n",
       "    </tr>\n",
       "    <tr>\n",
       "      <th>75%</th>\n",
       "      <td>56.000000</td>\n",
       "      <td>89.950000</td>\n",
       "      <td>3842.600000</td>\n",
       "    </tr>\n",
       "    <tr>\n",
       "      <th>max</th>\n",
       "      <td>72.000000</td>\n",
       "      <td>118.750000</td>\n",
       "      <td>8684.800000</td>\n",
       "    </tr>\n",
       "  </tbody>\n",
       "</table>\n",
       "</div>"
      ],
      "text/plain": [
       "             tenure  monthly_charges  total_charges\n",
       "count  31453.000000     31453.000000   31453.000000\n",
       "mean      32.456777        65.037205    2294.658589\n",
       "std       24.594817        29.965072    2271.321057\n",
       "min        0.000000        18.250000       0.000000\n",
       "25%        9.000000        37.700000     398.550000\n",
       "50%       29.000000        70.550000    1415.550000\n",
       "75%       56.000000        89.950000    3842.600000\n",
       "max       72.000000       118.750000    8684.800000"
      ]
     },
     "execution_count": 63,
     "metadata": {},
     "output_type": "execute_result"
    }
   ],
   "source": [
    "  '''\n",
    "    takes in a dataframe and a quantitative variable and returns\n",
    "    descriptive stats table, histogram, and boxplot of the distributions. \n",
    "    '''\n",
    "descriptive_stats = train[quant_vars].describe()\n",
    "descriptive_stats"
   ]
  },
  {
   "cell_type": "code",
   "execution_count": 65,
   "id": "8023bd58",
   "metadata": {},
   "outputs": [
    {
     "data": {
      "image/png": "[encoded data removed]",
      "text/plain": [
       "<Figure size 432x288 with 1 Axes>"
      ]
     },
     "metadata": {
      "needs_background": "light"
     },
     "output_type": "display_data"
    }
   ],
   "source": [
    "sns.histplot(df.churn)\n",
    "plt.show()"
   ]
  },
  {
   "cell_type": "code",
   "execution_count": 39,
   "id": "e39a4c7c",
   "metadata": {},
   "outputs": [
    {
     "data": {
      "image/png": "[encoded data removed]",
      "text/plain": [
       "<Figure size 432x288 with 1 Axes>"
      ]
     },
     "metadata": {
      "needs_background": "light"
     },
     "output_type": "display_data"
    }
   ],
   "source": [
    "sns.histplot(df.automatic_pmt)\n",
    "plt.show()"
   ]
  },
  {
   "cell_type": "code",
   "execution_count": 40,
   "id": "81d37f8d",
   "metadata": {},
   "outputs": [
    {
     "data": {
      "image/png": "[encoded data removed]",
      "text/plain": [
       "<Figure size 720x432 with 1 Axes>"
      ]
     },
     "metadata": {
      "needs_background": "light"
     },
     "output_type": "display_data"
    }
   ],
   "source": [
    "#visualize churn data using a countplot\n",
    "plt.figure(figsize=(10,6))\n",
    "sns.countplot(x='churn', data=train)\n",
    "plt.show()"
   ]
  },
  {
   "cell_type": "code",
   "execution_count": 42,
   "id": "c215a7b7",
   "metadata": {},
   "outputs": [
    {
     "data": {
      "image/png": "[encoded data removed]",
      "text/plain": [
       "<Figure size 432x288 with 1 Axes>"
      ]
     },
     "metadata": {
      "needs_background": "light"
     },
     "output_type": "display_data"
    }
   ],
   "source": [
    "    p = plt.subplot(1, 2, 1)\n",
    "    p = plt.hist(train[quant_vars])\n",
    "    p = plt.title(quant_vars)"
   ]
  },
  {
   "cell_type": "code",
   "execution_count": 43,
   "id": "f8d89537",
   "metadata": {},
   "outputs": [
    {
     "data": {
      "image/png": "[encoded data removed]",
      "text/plain": [
       "<Figure size 432x288 with 1 Axes>"
      ]
     },
     "metadata": {
      "needs_background": "light"
     },
     "output_type": "display_data"
    }
   ],
   "source": [
    "    # second plot: box plot\n",
    "    p = plt.subplot(1, 2, 2)\n",
    "    p = plt.boxplot(train[quant_vars])\n",
    "    p = plt.title(quant_vars)"
   ]
  },
  {
   "cell_type": "markdown",
   "id": "910a98bb",
   "metadata": {},
   "source": [
    "### Bivariate Stats"
   ]
  },
  {
   "cell_type": "markdown",
   "id": "7e42fa7f",
   "metadata": {},
   "source": [
    "We will use our explore_bivariate(train, target, cat_vars, quant_vars) function that takes in a dataframe, the name of the binary target variable, a list of the names of the categorical variables, a list of the names of the quantitative variables. Each feature is analyzed with respect to the binary target variable. \n",
    "For each categorical variable, a crosstab of frequencies is returned along with the results from a chi-square test that is run, and a barplot. For each quantitative variable, descriptive statistics are computed with respect to the target variable. Difference in means of the quant variable are tested between each class in the target using Mann-Whitney. Finally, a boxenplot and a swarmplot of the target with the quantitative variable are returned."
   ]
  },
  {
   "cell_type": "markdown",
   "id": "aa7dbd4c",
   "metadata": {},
   "source": [
    "We will want to remove the target variable from that list, as the function takes that variable as a separate argument."
   ]
  },
  {
   "cell_type": "code",
   "execution_count": 66,
   "id": "a71105cf",
   "metadata": {},
   "outputs": [],
   "source": [
    "cat_vars_w_o_target = ['gender', 'senior_citizen', 'partner', 'dependents', 'phone_service', 'paperless_billing','multiple_lines_Yes',\n",
    "            'online_security_Yes','online_backup_Yes', 'tech_support_Yes',\n",
    "           'streaming_tv_Yes','streaming_movies_Yes',\n",
    "           'contract_type_Month-to-month', 'contract_type_One year',\n",
    "           'contract_type_Two year', 'internet_service_type_DSL',\n",
    "           'internet_service_type_Fiber optic', 'internet_service_type_None',\n",
    "           'payment_type_Bank transfer (automatic)',\n",
    "           'payment_type_Credit card (automatic)', 'payment_type_Electronic check',\n",
    "           'payment_type_Mailed check', 'automatic_pmt']"
   ]
  },
  {
   "cell_type": "code",
   "execution_count": 67,
   "id": "0822a4a2",
   "metadata": {
    "scrolled": false
   },
   "outputs": [
    {
     "name": "stdout",
     "output_type": "stream",
     "text": [
      "gender \n",
      "_____________________\n",
      "\n",
      "       chi2  p-value  degrees of freedom\n",
      "0  3.123095  0.07719                   1\n",
      "\n",
      "observed:\n",
      " churn       0     1    All\n",
      "gender                    \n",
      "0       11447  4211  15658\n",
      "1       11687  4108  15795\n",
      "All     23134  8319  31453\n",
      "\n",
      "expected:\n",
      "               0            1\n",
      "0  11516.617556  4141.382444\n",
      "1  11617.382444  4177.617556\n"
     ]
    },
    {
     "data": {
      "image/png": "[encoded data removed]",
      "text/plain": [
       "<Figure size 144x144 with 1 Axes>"
      ]
     },
     "metadata": {
      "needs_background": "light"
     },
     "output_type": "display_data"
    },
    {
     "name": "stdout",
     "output_type": "stream",
     "text": [
      "\n",
      "_____________________\n",
      "\n",
      "senior_citizen \n",
      "_____________________\n",
      "\n",
      "         chi2        p-value  degrees of freedom\n",
      "0  675.963196  5.044236e-149                   1\n",
      "\n",
      "observed:\n",
      " churn               0     1    All\n",
      "senior_citizen                    \n",
      "0               20110  6209  26319\n",
      "1                3024  2110   5134\n",
      "All             23134  8319  31453\n",
      "\n",
      "expected:\n",
      "               0            1\n",
      "0  19357.891012  6961.108988\n",
      "1   3776.108988  1357.891012\n"
     ]
    },
    {
     "data": {
      "image/png": "[encoded data removed]",
      "text/plain": [
       "<Figure size 144x144 with 1 Axes>"
      ]
     },
     "metadata": {
      "needs_background": "light"
     },
     "output_type": "display_data"
    },
    {
     "name": "stdout",
     "output_type": "stream",
     "text": [
      "\n",
      "_____________________\n",
      "\n",
      "partner \n",
      "_____________________\n",
      "\n",
      "         chi2        p-value  degrees of freedom\n",
      "0  688.858254  7.917312e-152                   1\n",
      "\n",
      "observed:\n",
      " churn        0     1    All\n",
      "partner                    \n",
      "0        10843  5295  16138\n",
      "1        12291  3024  15315\n",
      "All      23134  8319  31453\n",
      "\n",
      "expected:\n",
      "               0            1\n",
      "0  11869.662417  4268.337583\n",
      "1  11264.337583  4050.662417\n"
     ]
    },
    {
     "data": {
      "image/png": "[encoded data removed]",
      "text/plain": [
       "<Figure size 144x144 with 1 Axes>"
      ]
     },
     "metadata": {
      "needs_background": "light"
     },
     "output_type": "display_data"
    },
    {
     "name": "stdout",
     "output_type": "stream",
     "text": [
      "\n",
      "_____________________\n",
      "\n",
      "dependents \n",
      "_____________________\n",
      "\n",
      "         chi2        p-value  degrees of freedom\n",
      "0  824.781816  2.208766e-181                   1\n",
      "\n",
      "observed:\n",
      " churn           0     1    All\n",
      "dependents                    \n",
      "0           15140  6846  21986\n",
      "1            7994  1473   9467\n",
      "All         23134  8319  31453\n",
      "\n",
      "expected:\n",
      "               0            1\n",
      "0  16170.925635  5815.074365\n",
      "1   6963.074365  2503.925635\n"
     ]
    },
    {
     "data": {
      "image/png": "[encoded data removed]",
      "text/plain": [
       "<Figure size 144x144 with 1 Axes>"
      ]
     },
     "metadata": {
      "needs_background": "light"
     },
     "output_type": "display_data"
    },
    {
     "name": "stdout",
     "output_type": "stream",
     "text": [
      "\n",
      "_____________________\n",
      "\n",
      "phone_service \n",
      "_____________________\n",
      "\n",
      "       chi2   p-value  degrees of freedom\n",
      "0  2.567746  0.109063                   1\n",
      "\n",
      "observed:\n",
      " churn              0     1    All\n",
      "phone_service                    \n",
      "0               2252   759   3011\n",
      "1              20882  7560  28442\n",
      "All            23134  8319  31453\n",
      "\n",
      "expected:\n",
      "              0           1\n",
      "0   2214.62099   796.37901\n",
      "1  20919.37901  7522.62099\n"
     ]
    },
    {
     "data": {
      "image/png": "[encoded data removed]",
      "text/plain": [
       "<Figure size 144x144 with 1 Axes>"
      ]
     },
     "metadata": {
      "needs_background": "light"
     },
     "output_type": "display_data"
    },
    {
     "name": "stdout",
     "output_type": "stream",
     "text": [
      "\n",
      "_____________________\n",
      "\n",
      "paperless_billing \n",
      "_____________________\n",
      "\n",
      "          chi2        p-value  degrees of freedom\n",
      "0  1098.913561  5.688742e-241                   1\n",
      "\n",
      "observed:\n",
      " churn                  0     1    All\n",
      "paperless_billing                    \n",
      "0                  10770  2138  12908\n",
      "1                  12364  6181  18545\n",
      "All                23134  8319  31453\n",
      "\n",
      "expected:\n",
      "               0            1\n",
      "0   9493.964709  3414.035291\n",
      "1  13640.035291  4904.964709\n"
     ]
    },
    {
     "data": {
      "image/png": "[encoded data removed]",
      "text/plain": [
       "<Figure size 144x144 with 1 Axes>"
      ]
     },
     "metadata": {
      "needs_background": "light"
     },
     "output_type": "display_data"
    },
    {
     "name": "stdout",
     "output_type": "stream",
     "text": [
      "\n",
      "_____________________\n",
      "\n",
      "multiple_lines_Yes \n",
      "_____________________\n",
      "\n",
      "        chi2   p-value  degrees of freedom\n",
      "0  22.782993  0.000002                   1\n",
      "\n",
      "observed:\n",
      " churn                   0     1    All\n",
      "multiple_lines_Yes                    \n",
      "0.0                 18342  6387  24729\n",
      "1.0                  4792  1932   6724\n",
      "All                 23134  8319  31453\n",
      "\n",
      "expected:\n",
      "               0            1\n",
      "0  18188.429911  6540.570089\n",
      "1   4945.570089  1778.429911\n"
     ]
    },
    {
     "data": {
      "image/png": "[encoded data removed]",
      "text/plain": [
       "<Figure size 144x144 with 1 Axes>"
      ]
     },
     "metadata": {
      "needs_background": "light"
     },
     "output_type": "display_data"
    },
    {
     "name": "stdout",
     "output_type": "stream",
     "text": [
      "\n",
      "_____________________\n",
      "\n",
      "online_security_Yes \n",
      "_____________________\n",
      "\n",
      "         chi2       p-value  degrees of freedom\n",
      "0  377.521115  4.311795e-84                   1\n",
      "\n",
      "observed:\n",
      " churn                    0     1    All\n",
      "online_security_Yes                    \n",
      "0.0                  19228  7644  26872\n",
      "1.0                   3906   675   4581\n",
      "All                  23134  8319  31453\n",
      "\n",
      "expected:\n",
      "               0            1\n",
      "0  19764.628112  7107.371888\n",
      "1   3369.371888  1211.628112\n"
     ]
    },
    {
     "data": {
      "image/png": "[encoded data removed]",
      "text/plain": [
       "<Figure size 144x144 with 1 Axes>"
      ]
     },
     "metadata": {
      "needs_background": "light"
     },
     "output_type": "display_data"
    },
    {
     "name": "stdout",
     "output_type": "stream",
     "text": [
      "\n",
      "_____________________\n",
      "\n",
      "online_backup_Yes \n",
      "_____________________\n",
      "\n",
      "        chi2       p-value  degrees of freedom\n",
      "0  95.769297  1.290821e-22                   1\n",
      "\n",
      "observed:\n",
      " churn                  0     1    All\n",
      "online_backup_Yes                    \n",
      "0.0                18777  7149  25926\n",
      "1.0                 4357  1170   5527\n",
      "All                23134  8319  31453\n",
      "\n",
      "expected:\n",
      "               0            1\n",
      "0  19068.835532  6857.164468\n",
      "1   4065.164468  1461.835532\n"
     ]
    },
    {
     "data": {
      "image/png": "[encoded data removed]",
      "text/plain": [
       "<Figure size 144x144 with 1 Axes>"
      ]
     },
     "metadata": {
      "needs_background": "light"
     },
     "output_type": "display_data"
    },
    {
     "name": "stdout",
     "output_type": "stream",
     "text": [
      "\n",
      "_____________________\n",
      "\n",
      "tech_support_Yes \n",
      "_____________________\n",
      "\n",
      "         chi2       p-value  degrees of freedom\n",
      "0  380.406379  1.015048e-84                   1\n",
      "\n",
      "observed:\n",
      " churn                 0     1    All\n",
      "tech_support_Yes                    \n",
      "0.0               19204  7640  26844\n",
      "1.0                3930   679   4609\n",
      "All               23134  8319  31453\n",
      "\n",
      "expected:\n",
      "               0            1\n",
      "0  19744.033828  7099.966172\n",
      "1   3389.966172  1219.033828\n"
     ]
    },
    {
     "data": {
      "image/png": "[encoded data removed]",
      "text/plain": [
       "<Figure size 144x144 with 1 Axes>"
      ]
     },
     "metadata": {
      "needs_background": "light"
     },
     "output_type": "display_data"
    },
    {
     "name": "stdout",
     "output_type": "stream",
     "text": [
      "\n",
      "_____________________\n",
      "\n",
      "streaming_tv_Yes \n",
      "_____________________\n",
      "\n",
      "        chi2       p-value  degrees of freedom\n",
      "0  52.514859  4.270053e-13                   1\n",
      "\n",
      "observed:\n",
      " churn                 0     1    All\n",
      "streaming_tv_Yes                    \n",
      "0.0               18885  6486  25371\n",
      "1.0                4249  1833   6082\n",
      "All               23134  8319  31453\n",
      "\n",
      "expected:\n",
      "               0            1\n",
      "0  18660.627412  6710.372588\n",
      "1   4473.372588  1608.627412\n"
     ]
    },
    {
     "data": {
      "image/png": "[encoded data removed]",
      "text/plain": [
       "<Figure size 144x144 with 1 Axes>"
      ]
     },
     "metadata": {
      "needs_background": "light"
     },
     "output_type": "display_data"
    },
    {
     "name": "stdout",
     "output_type": "stream",
     "text": [
      "\n",
      "_____________________\n",
      "\n",
      "streaming_movies_Yes \n",
      "_____________________\n",
      "\n",
      "       chi2       p-value  degrees of freedom\n",
      "0  44.09423  3.129420e-11                   1\n",
      "\n",
      "observed:\n",
      " churn                     0     1    All\n",
      "streaming_movies_Yes                    \n",
      "0.0                   18807  6482  25289\n",
      "1.0                    4327  1837   6164\n",
      "All                   23134  8319  31453\n",
      "\n",
      "expected:\n",
      "               0            1\n",
      "0  18600.315582  6688.684418\n",
      "1   4533.684418  1630.315582\n"
     ]
    },
    {
     "data": {
      "image/png": "[encoded data removed]",
      "text/plain": [
       "<Figure size 144x144 with 1 Axes>"
      ]
     },
     "metadata": {
      "needs_background": "light"
     },
     "output_type": "display_data"
    },
    {
     "name": "stdout",
     "output_type": "stream",
     "text": [
      "\n",
      "_____________________\n",
      "\n",
      "contract_type_Month-to-month \n",
      "_____________________\n",
      "\n",
      "          chi2  p-value  degrees of freedom\n",
      "0  1584.606293      0.0                   1\n",
      "\n",
      "observed:\n",
      " churn                             0     1    All\n",
      "contract_type_Month-to-month                    \n",
      "0.0                           18149  4634  22783\n",
      "1.0                            4985  3685   8670\n",
      "All                           23134  8319  31453\n",
      "\n",
      "expected:\n",
      "               0            1\n",
      "0  16757.127206  6025.872794\n",
      "1   6376.872794  2293.127206\n"
     ]
    },
    {
     "data": {
      "image/png": "[encoded data removed]",
      "text/plain": [
       "<Figure size 144x144 with 1 Axes>"
      ]
     },
     "metadata": {
      "needs_background": "light"
     },
     "output_type": "display_data"
    },
    {
     "name": "stdout",
     "output_type": "stream",
     "text": [
      "\n",
      "_____________________\n",
      "\n",
      "contract_type_One year \n",
      "_____________________\n",
      "\n",
      "         chi2       p-value  degrees of freedom\n",
      "0  414.950183  3.066297e-92                   1\n",
      "\n",
      "observed:\n",
      " churn                       0     1    All\n",
      "contract_type_One year                    \n",
      "0.0                     20194  7929  28123\n",
      "1.0                      2940   390   3330\n",
      "All                     23134  8319  31453\n",
      "\n",
      "expected:\n",
      "              0           1\n",
      "0  20684.75128  7438.24872\n",
      "1   2449.24872   880.75128\n"
     ]
    },
    {
     "data": {
      "image/png": "[encoded data removed]",
      "text/plain": [
       "<Figure size 144x144 with 1 Axes>"
      ]
     },
     "metadata": {
      "needs_background": "light"
     },
     "output_type": "display_data"
    },
    {
     "name": "stdout",
     "output_type": "stream",
     "text": [
      "\n",
      "_____________________\n",
      "\n",
      "contract_type_Two year \n",
      "_____________________\n",
      "\n",
      "          chi2        p-value  degrees of freedom\n",
      "0  1250.707187  5.826406e-274                   1\n",
      "\n",
      "observed:\n",
      " churn                       0     1    All\n",
      "contract_type_Two year                    \n",
      "0.0                     19442  8217  27659\n",
      "1.0                      3692   102   3794\n",
      "All                     23134  8319  31453\n",
      "\n",
      "expected:\n",
      "               0            1\n",
      "0  20343.474581  7315.525419\n",
      "1   2790.525419  1003.474581\n"
     ]
    },
    {
     "data": {
      "image/png": "[encoded data removed]",
      "text/plain": [
       "<Figure size 144x144 with 1 Axes>"
      ]
     },
     "metadata": {
      "needs_background": "light"
     },
     "output_type": "display_data"
    },
    {
     "name": "stdout",
     "output_type": "stream",
     "text": [
      "\n",
      "_____________________\n",
      "\n",
      "internet_service_type_DSL \n",
      "_____________________\n",
      "\n",
      "        chi2       p-value  degrees of freedom\n",
      "0  198.56641  4.292189e-45                   1\n",
      "\n",
      "observed:\n",
      " churn                          0     1    All\n",
      "internet_service_type_DSL                    \n",
      "0.0                        18694  7291  25985\n",
      "1.0                         4440  1028   5468\n",
      "All                        23134  8319  31453\n",
      "\n",
      "expected:\n",
      "              0           1\n",
      "0  19112.23063  6872.76937\n",
      "1   4021.76937  1446.23063\n"
     ]
    },
    {
     "data": {
      "image/png": "[encoded data removed]",
      "text/plain": [
       "<Figure size 144x144 with 1 Axes>"
      ]
     },
     "metadata": {
      "needs_background": "light"
     },
     "output_type": "display_data"
    },
    {
     "name": "stdout",
     "output_type": "stream",
     "text": [
      "\n",
      "_____________________\n",
      "\n",
      "internet_service_type_Fiber optic \n",
      "_____________________\n",
      "\n",
      "          chi2        p-value  degrees of freedom\n",
      "0  1045.502179  2.311797e-229                   1\n",
      "\n",
      "observed:\n",
      " churn                                  0     1    All\n",
      "internet_service_type_Fiber optic                    \n",
      "0.0                                19053  5422  24475\n",
      "1.0                                 4081  2897   6978\n",
      "All                                23134  8319  31453\n",
      "\n",
      "expected:\n",
      "               0            1\n",
      "0  18001.610339  6473.389661\n",
      "1   5132.389661  1845.610339\n"
     ]
    },
    {
     "data": {
      "image/png": "[encoded data removed]",
      "text/plain": [
       "<Figure size 144x144 with 1 Axes>"
      ]
     },
     "metadata": {
      "needs_background": "light"
     },
     "output_type": "display_data"
    },
    {
     "name": "stdout",
     "output_type": "stream",
     "text": [
      "\n",
      "_____________________\n",
      "\n",
      "internet_service_type_None \n",
      "_____________________\n",
      "\n",
      "         chi2        p-value  degrees of freedom\n",
      "0  688.524423  9.357786e-152                   1\n",
      "\n",
      "observed:\n",
      " churn                           0     1    All\n",
      "internet_service_type_None                    \n",
      "0.0                         20038  8067  28105\n",
      "1.0                          3096   252   3348\n",
      "All                         23134  8319  31453\n",
      "\n",
      "expected:\n",
      "               0            1\n",
      "0  20671.512097  7433.487903\n",
      "1   2462.487903   885.512097\n"
     ]
    },
    {
     "data": {
      "image/png": "[encoded data removed]",
      "text/plain": [
       "<Figure size 144x144 with 1 Axes>"
      ]
     },
     "metadata": {
      "needs_background": "light"
     },
     "output_type": "display_data"
    },
    {
     "name": "stdout",
     "output_type": "stream",
     "text": [
      "\n",
      "_____________________\n",
      "\n",
      "payment_type_Bank transfer (automatic) \n",
      "_____________________\n",
      "\n",
      "       chi2   p-value  degrees of freedom\n",
      "0  0.052084  0.819475                   1\n",
      "\n",
      "observed:\n",
      " churn                                       0     1    All\n",
      "payment_type_Bank transfer (automatic)                    \n",
      "0.0                                     20226  7282  27508\n",
      "1.0                                      2908  1037   3945\n",
      "All                                     23134  8319  31453\n",
      "\n",
      "expected:\n",
      "               0            1\n",
      "0  20232.412552  7275.587448\n",
      "1   2901.587448  1043.412552\n"
     ]
    },
    {
     "data": {
      "image/png": "[encoded data removed]",
      "text/plain": [
       "<Figure size 144x144 with 1 Axes>"
      ]
     },
     "metadata": {
      "needs_background": "light"
     },
     "output_type": "display_data"
    },
    {
     "name": "stdout",
     "output_type": "stream",
     "text": [
      "\n",
      "_____________________\n",
      "\n",
      "payment_type_Credit card (automatic) \n",
      "_____________________\n",
      "\n",
      "      chi2   p-value  degrees of freedom\n",
      "0  0.39126  0.531638                   1\n",
      "\n",
      "observed:\n",
      " churn                                     0     1    All\n",
      "payment_type_Credit card (automatic)                    \n",
      "0.0                                   20277  7269  27546\n",
      "1.0                                    2857  1050   3907\n",
      "All                                   23134  8319  31453\n",
      "\n",
      "expected:\n",
      "               0            1\n",
      "0  20260.361937  7285.638063\n",
      "1   2873.638063  1033.361937\n"
     ]
    },
    {
     "data": {
      "image/png": "[encoded data removed]",
      "text/plain": [
       "<Figure size 144x144 with 1 Axes>"
      ]
     },
     "metadata": {
      "needs_background": "light"
     },
     "output_type": "display_data"
    },
    {
     "name": "stdout",
     "output_type": "stream",
     "text": [
      "\n",
      "_____________________\n",
      "\n",
      "payment_type_Electronic check \n",
      "_____________________\n",
      "\n",
      "     chi2   p-value  degrees of freedom\n",
      "0  1.3116  0.252105                   1\n",
      "\n",
      "observed:\n",
      " churn                              0     1    All\n",
      "payment_type_Electronic check                    \n",
      "0.0                            20169  7294  27463\n",
      "1.0                             2965  1025   3990\n",
      "All                            23134  8319  31453\n",
      "\n",
      "expected:\n",
      "               0            1\n",
      "0  20199.314596  7263.685404\n",
      "1   2934.685404  1055.314596\n"
     ]
    },
    {
     "data": {
      "image/png": "[encoded data removed]",
      "text/plain": [
       "<Figure size 144x144 with 1 Axes>"
      ]
     },
     "metadata": {
      "needs_background": "light"
     },
     "output_type": "display_data"
    },
    {
     "name": "stdout",
     "output_type": "stream",
     "text": [
      "\n",
      "_____________________\n",
      "\n",
      "payment_type_Mailed check \n",
      "_____________________\n",
      "\n",
      "       chi2   p-value  degrees of freedom\n",
      "0  0.550465  0.458128                   1\n",
      "\n",
      "observed:\n",
      " churn                          0     1    All\n",
      "payment_type_Mailed check                    \n",
      "0.0                        20247  7254  27501\n",
      "1.0                         2887  1065   3952\n",
      "All                        23134  8319  31453\n",
      "\n",
      "expected:\n",
      "               0            1\n",
      "0  20227.263981  7273.736019\n",
      "1   2906.736019  1045.263981\n"
     ]
    },
    {
     "data": {
      "image/png": "[encoded data removed]",
      "text/plain": [
       "<Figure size 144x144 with 1 Axes>"
      ]
     },
     "metadata": {
      "needs_background": "light"
     },
     "output_type": "display_data"
    },
    {
     "name": "stdout",
     "output_type": "stream",
     "text": [
      "\n",
      "_____________________\n",
      "\n",
      "automatic_pmt \n",
      "_____________________\n",
      "\n",
      "       chi2   p-value  degrees of freedom\n",
      "0  0.077651  0.780507                   1\n",
      "\n",
      "observed:\n",
      " churn              0     1    All\n",
      "automatic_pmt                    \n",
      "0               5755  2083   7838\n",
      "1              17379  6236  23615\n",
      "All            23134  8319  31453\n",
      "\n",
      "expected:\n",
      "               0            1\n",
      "0   5764.928369  2073.071631\n",
      "1  17369.071631  6245.928369\n"
     ]
    },
    {
     "data": {
      "image/png": "[encoded data removed]",
      "text/plain": [
       "<Figure size 144x144 with 1 Axes>"
      ]
     },
     "metadata": {
      "needs_background": "light"
     },
     "output_type": "display_data"
    },
    {
     "name": "stdout",
     "output_type": "stream",
     "text": [
      "\n",
      "_____________________\n",
      "\n",
      "tenure \n",
      "____________________\n",
      "\n"
     ]
    },
    {
     "ename": "KeyboardInterrupt",
     "evalue": "",
     "output_type": "error",
     "traceback": [
      "\u001b[0;31m---------------------------------------------------------------------------\u001b[0m",
      "\u001b[0;31mKeyboardInterrupt\u001b[0m                         Traceback (most recent call last)",
      "\u001b[0;32m<ipython-input-67-87d706077a72>\u001b[0m in \u001b[0;36m<module>\u001b[0;34m\u001b[0m\n\u001b[0;32m----> 1\u001b[0;31m \u001b[0mexplore\u001b[0m\u001b[0;34m.\u001b[0m\u001b[0mexplore_bivariate\u001b[0m\u001b[0;34m(\u001b[0m\u001b[0mtrain\u001b[0m\u001b[0;34m,\u001b[0m \u001b[0;34m'churn'\u001b[0m\u001b[0;34m,\u001b[0m \u001b[0mcat_vars_w_o_target\u001b[0m\u001b[0;34m,\u001b[0m \u001b[0mquant_vars\u001b[0m\u001b[0;34m)\u001b[0m\u001b[0;34m\u001b[0m\u001b[0;34m\u001b[0m\u001b[0m\n\u001b[0m",
      "\u001b[0;32m~/codeup-data-science/telco-classification-project/explore.py\u001b[0m in \u001b[0;36mexplore_bivariate\u001b[0;34m(train, target, cat_vars, quant_vars)\u001b[0m\n\u001b[1;32m     37\u001b[0m         \u001b[0mexplore_bivariate_categorical\u001b[0m\u001b[0;34m(\u001b[0m\u001b[0mtrain\u001b[0m\u001b[0;34m,\u001b[0m \u001b[0mtarget\u001b[0m\u001b[0;34m,\u001b[0m \u001b[0mcat\u001b[0m\u001b[0;34m)\u001b[0m\u001b[0;34m\u001b[0m\u001b[0;34m\u001b[0m\u001b[0m\n\u001b[1;32m     38\u001b[0m     \u001b[0;32mfor\u001b[0m \u001b[0mquant\u001b[0m \u001b[0;32min\u001b[0m \u001b[0mquant_vars\u001b[0m\u001b[0;34m:\u001b[0m\u001b[0;34m\u001b[0m\u001b[0;34m\u001b[0m\u001b[0m\n\u001b[0;32m---> 39\u001b[0;31m         \u001b[0mexplore_bivariate_quant\u001b[0m\u001b[0;34m(\u001b[0m\u001b[0mtrain\u001b[0m\u001b[0;34m,\u001b[0m \u001b[0mtarget\u001b[0m\u001b[0;34m,\u001b[0m \u001b[0mquant\u001b[0m\u001b[0;34m)\u001b[0m\u001b[0;34m\u001b[0m\u001b[0;34m\u001b[0m\u001b[0m\n\u001b[0m\u001b[1;32m     40\u001b[0m \u001b[0;34m\u001b[0m\u001b[0m\n\u001b[1;32m     41\u001b[0m \u001b[0;32mdef\u001b[0m \u001b[0mexplore_multivariate\u001b[0m\u001b[0;34m(\u001b[0m\u001b[0mtrain\u001b[0m\u001b[0;34m,\u001b[0m \u001b[0mtarget\u001b[0m\u001b[0;34m,\u001b[0m \u001b[0mcat_vars\u001b[0m\u001b[0;34m,\u001b[0m \u001b[0mquant_vars\u001b[0m\u001b[0;34m)\u001b[0m\u001b[0;34m:\u001b[0m\u001b[0;34m\u001b[0m\u001b[0;34m\u001b[0m\u001b[0m\n",
      "\u001b[0;32m~/codeup-data-science/telco-classification-project/explore.py\u001b[0m in \u001b[0;36mexplore_bivariate_quant\u001b[0;34m(train, target, quant_var)\u001b[0m\n\u001b[1;32m    133\u001b[0m     \u001b[0mplt\u001b[0m\u001b[0;34m.\u001b[0m\u001b[0mfigure\u001b[0m\u001b[0;34m(\u001b[0m\u001b[0mfigsize\u001b[0m\u001b[0;34m=\u001b[0m\u001b[0;34m(\u001b[0m\u001b[0;36m4\u001b[0m\u001b[0;34m,\u001b[0m\u001b[0;36m4\u001b[0m\u001b[0;34m)\u001b[0m\u001b[0;34m)\u001b[0m\u001b[0;34m\u001b[0m\u001b[0;34m\u001b[0m\u001b[0m\n\u001b[1;32m    134\u001b[0m     \u001b[0mboxen\u001b[0m \u001b[0;34m=\u001b[0m \u001b[0mplot_boxen\u001b[0m\u001b[0;34m(\u001b[0m\u001b[0mtrain\u001b[0m\u001b[0;34m,\u001b[0m \u001b[0mtarget\u001b[0m\u001b[0;34m,\u001b[0m \u001b[0mquant_var\u001b[0m\u001b[0;34m)\u001b[0m\u001b[0;34m\u001b[0m\u001b[0;34m\u001b[0m\u001b[0m\n\u001b[0;32m--> 135\u001b[0;31m     \u001b[0mswarm\u001b[0m \u001b[0;34m=\u001b[0m \u001b[0mplot_swarm\u001b[0m\u001b[0;34m(\u001b[0m\u001b[0mtrain\u001b[0m\u001b[0;34m,\u001b[0m \u001b[0mtarget\u001b[0m\u001b[0;34m,\u001b[0m \u001b[0mquant_var\u001b[0m\u001b[0;34m)\u001b[0m\u001b[0;34m\u001b[0m\u001b[0;34m\u001b[0m\u001b[0m\n\u001b[0m\u001b[1;32m    136\u001b[0m     \u001b[0mplt\u001b[0m\u001b[0;34m.\u001b[0m\u001b[0mshow\u001b[0m\u001b[0;34m(\u001b[0m\u001b[0;34m)\u001b[0m\u001b[0;34m\u001b[0m\u001b[0;34m\u001b[0m\u001b[0m\n\u001b[1;32m    137\u001b[0m     \u001b[0mprint\u001b[0m\u001b[0;34m(\u001b[0m\u001b[0mdescriptive_stats\u001b[0m\u001b[0;34m,\u001b[0m \u001b[0;34m\"\\n\"\u001b[0m\u001b[0;34m)\u001b[0m\u001b[0;34m\u001b[0m\u001b[0;34m\u001b[0m\u001b[0m\n",
      "\u001b[0;32m~/codeup-data-science/telco-classification-project/explore.py\u001b[0m in \u001b[0;36mplot_swarm\u001b[0;34m(train, target, quant_var)\u001b[0m\n\u001b[1;32m    161\u001b[0m \u001b[0;32mdef\u001b[0m \u001b[0mplot_swarm\u001b[0m\u001b[0;34m(\u001b[0m\u001b[0mtrain\u001b[0m\u001b[0;34m,\u001b[0m \u001b[0mtarget\u001b[0m\u001b[0;34m,\u001b[0m \u001b[0mquant_var\u001b[0m\u001b[0;34m)\u001b[0m\u001b[0;34m:\u001b[0m\u001b[0;34m\u001b[0m\u001b[0;34m\u001b[0m\u001b[0m\n\u001b[1;32m    162\u001b[0m     \u001b[0maverage\u001b[0m \u001b[0;34m=\u001b[0m \u001b[0mtrain\u001b[0m\u001b[0;34m[\u001b[0m\u001b[0mquant_var\u001b[0m\u001b[0;34m]\u001b[0m\u001b[0;34m.\u001b[0m\u001b[0mmean\u001b[0m\u001b[0;34m(\u001b[0m\u001b[0;34m)\u001b[0m\u001b[0;34m\u001b[0m\u001b[0;34m\u001b[0m\u001b[0m\n\u001b[0;32m--> 163\u001b[0;31m     \u001b[0mp\u001b[0m \u001b[0;34m=\u001b[0m \u001b[0msns\u001b[0m\u001b[0;34m.\u001b[0m\u001b[0mswarmplot\u001b[0m\u001b[0;34m(\u001b[0m\u001b[0mdata\u001b[0m\u001b[0;34m=\u001b[0m\u001b[0mtrain\u001b[0m\u001b[0;34m,\u001b[0m \u001b[0mx\u001b[0m\u001b[0;34m=\u001b[0m\u001b[0mtarget\u001b[0m\u001b[0;34m,\u001b[0m \u001b[0my\u001b[0m\u001b[0;34m=\u001b[0m\u001b[0mquant_var\u001b[0m\u001b[0;34m,\u001b[0m \u001b[0mcolor\u001b[0m\u001b[0;34m=\u001b[0m\u001b[0;34m'lightgray'\u001b[0m\u001b[0;34m)\u001b[0m\u001b[0;34m\u001b[0m\u001b[0;34m\u001b[0m\u001b[0m\n\u001b[0m\u001b[1;32m    164\u001b[0m     \u001b[0mp\u001b[0m \u001b[0;34m=\u001b[0m \u001b[0mplt\u001b[0m\u001b[0;34m.\u001b[0m\u001b[0mtitle\u001b[0m\u001b[0;34m(\u001b[0m\u001b[0mquant_var\u001b[0m\u001b[0;34m)\u001b[0m\u001b[0;34m\u001b[0m\u001b[0;34m\u001b[0m\u001b[0m\n\u001b[1;32m    165\u001b[0m     \u001b[0mp\u001b[0m \u001b[0;34m=\u001b[0m \u001b[0mplt\u001b[0m\u001b[0;34m.\u001b[0m\u001b[0maxhline\u001b[0m\u001b[0;34m(\u001b[0m\u001b[0maverage\u001b[0m\u001b[0;34m,\u001b[0m \u001b[0mls\u001b[0m\u001b[0;34m=\u001b[0m\u001b[0;34m'--'\u001b[0m\u001b[0;34m,\u001b[0m \u001b[0mcolor\u001b[0m\u001b[0;34m=\u001b[0m\u001b[0;34m'black'\u001b[0m\u001b[0;34m)\u001b[0m\u001b[0;34m\u001b[0m\u001b[0;34m\u001b[0m\u001b[0m\n",
      "\u001b[0;32m/opt/homebrew/anaconda3/lib/python3.8/site-packages/seaborn/_decorators.py\u001b[0m in \u001b[0;36minner_f\u001b[0;34m(*args, **kwargs)\u001b[0m\n\u001b[1;32m     44\u001b[0m             )\n\u001b[1;32m     45\u001b[0m         \u001b[0mkwargs\u001b[0m\u001b[0;34m.\u001b[0m\u001b[0mupdate\u001b[0m\u001b[0;34m(\u001b[0m\u001b[0;34m{\u001b[0m\u001b[0mk\u001b[0m\u001b[0;34m:\u001b[0m \u001b[0marg\u001b[0m \u001b[0;32mfor\u001b[0m \u001b[0mk\u001b[0m\u001b[0;34m,\u001b[0m \u001b[0marg\u001b[0m \u001b[0;32min\u001b[0m \u001b[0mzip\u001b[0m\u001b[0;34m(\u001b[0m\u001b[0msig\u001b[0m\u001b[0;34m.\u001b[0m\u001b[0mparameters\u001b[0m\u001b[0;34m,\u001b[0m \u001b[0margs\u001b[0m\u001b[0;34m)\u001b[0m\u001b[0;34m}\u001b[0m\u001b[0;34m)\u001b[0m\u001b[0;34m\u001b[0m\u001b[0;34m\u001b[0m\u001b[0m\n\u001b[0;32m---> 46\u001b[0;31m         \u001b[0;32mreturn\u001b[0m \u001b[0mf\u001b[0m\u001b[0;34m(\u001b[0m\u001b[0;34m**\u001b[0m\u001b[0mkwargs\u001b[0m\u001b[0;34m)\u001b[0m\u001b[0;34m\u001b[0m\u001b[0;34m\u001b[0m\u001b[0m\n\u001b[0m\u001b[1;32m     47\u001b[0m     \u001b[0;32mreturn\u001b[0m \u001b[0minner_f\u001b[0m\u001b[0;34m\u001b[0m\u001b[0;34m\u001b[0m\u001b[0m\n\u001b[1;32m     48\u001b[0m \u001b[0;34m\u001b[0m\u001b[0m\n",
      "\u001b[0;32m/opt/homebrew/anaconda3/lib/python3.8/site-packages/seaborn/categorical.py\u001b[0m in \u001b[0;36mswarmplot\u001b[0;34m(x, y, hue, data, order, hue_order, dodge, orient, color, palette, size, edgecolor, linewidth, ax, **kwargs)\u001b[0m\n\u001b[1;32m   3014\u001b[0m                        linewidth=linewidth))\n\u001b[1;32m   3015\u001b[0m \u001b[0;34m\u001b[0m\u001b[0m\n\u001b[0;32m-> 3016\u001b[0;31m     \u001b[0mplotter\u001b[0m\u001b[0;34m.\u001b[0m\u001b[0mplot\u001b[0m\u001b[0;34m(\u001b[0m\u001b[0max\u001b[0m\u001b[0;34m,\u001b[0m \u001b[0mkwargs\u001b[0m\u001b[0;34m)\u001b[0m\u001b[0;34m\u001b[0m\u001b[0;34m\u001b[0m\u001b[0m\n\u001b[0m\u001b[1;32m   3017\u001b[0m     \u001b[0;32mreturn\u001b[0m \u001b[0max\u001b[0m\u001b[0;34m\u001b[0m\u001b[0;34m\u001b[0m\u001b[0m\n\u001b[1;32m   3018\u001b[0m \u001b[0;34m\u001b[0m\u001b[0m\n",
      "\u001b[0;32m/opt/homebrew/anaconda3/lib/python3.8/site-packages/seaborn/categorical.py\u001b[0m in \u001b[0;36mplot\u001b[0;34m(self, ax, kws)\u001b[0m\n\u001b[1;32m   1418\u001b[0m     \u001b[0;32mdef\u001b[0m \u001b[0mplot\u001b[0m\u001b[0;34m(\u001b[0m\u001b[0mself\u001b[0m\u001b[0;34m,\u001b[0m \u001b[0max\u001b[0m\u001b[0;34m,\u001b[0m \u001b[0mkws\u001b[0m\u001b[0;34m)\u001b[0m\u001b[0;34m:\u001b[0m\u001b[0;34m\u001b[0m\u001b[0;34m\u001b[0m\u001b[0m\n\u001b[1;32m   1419\u001b[0m         \u001b[0;34m\"\"\"Make the full plot.\"\"\"\u001b[0m\u001b[0;34m\u001b[0m\u001b[0;34m\u001b[0m\u001b[0m\n\u001b[0;32m-> 1420\u001b[0;31m         \u001b[0mself\u001b[0m\u001b[0;34m.\u001b[0m\u001b[0mdraw_swarmplot\u001b[0m\u001b[0;34m(\u001b[0m\u001b[0max\u001b[0m\u001b[0;34m,\u001b[0m \u001b[0mkws\u001b[0m\u001b[0;34m)\u001b[0m\u001b[0;34m\u001b[0m\u001b[0;34m\u001b[0m\u001b[0m\n\u001b[0m\u001b[1;32m   1421\u001b[0m         \u001b[0mself\u001b[0m\u001b[0;34m.\u001b[0m\u001b[0madd_legend_data\u001b[0m\u001b[0;34m(\u001b[0m\u001b[0max\u001b[0m\u001b[0;34m)\u001b[0m\u001b[0;34m\u001b[0m\u001b[0;34m\u001b[0m\u001b[0m\n\u001b[1;32m   1422\u001b[0m         \u001b[0mself\u001b[0m\u001b[0;34m.\u001b[0m\u001b[0mannotate_axes\u001b[0m\u001b[0;34m(\u001b[0m\u001b[0max\u001b[0m\u001b[0;34m)\u001b[0m\u001b[0;34m\u001b[0m\u001b[0;34m\u001b[0m\u001b[0m\n",
      "\u001b[0;32m/opt/homebrew/anaconda3/lib/python3.8/site-packages/seaborn/categorical.py\u001b[0m in \u001b[0;36mdraw_swarmplot\u001b[0;34m(self, ax, kws)\u001b[0m\n\u001b[1;32m   1414\u001b[0m         \u001b[0;32mfor\u001b[0m \u001b[0mcenter\u001b[0m\u001b[0;34m,\u001b[0m \u001b[0mswarm\u001b[0m \u001b[0;32min\u001b[0m \u001b[0mzip\u001b[0m\u001b[0;34m(\u001b[0m\u001b[0mcenters\u001b[0m\u001b[0;34m,\u001b[0m \u001b[0mswarms\u001b[0m\u001b[0;34m)\u001b[0m\u001b[0;34m:\u001b[0m\u001b[0;34m\u001b[0m\u001b[0;34m\u001b[0m\u001b[0m\n\u001b[1;32m   1415\u001b[0m             \u001b[0;32mif\u001b[0m \u001b[0mswarm\u001b[0m\u001b[0;34m.\u001b[0m\u001b[0mget_offsets\u001b[0m\u001b[0;34m(\u001b[0m\u001b[0;34m)\u001b[0m\u001b[0;34m.\u001b[0m\u001b[0msize\u001b[0m\u001b[0;34m:\u001b[0m\u001b[0;34m\u001b[0m\u001b[0;34m\u001b[0m\u001b[0m\n\u001b[0;32m-> 1416\u001b[0;31m                 \u001b[0mself\u001b[0m\u001b[0;34m.\u001b[0m\u001b[0mswarm_points\u001b[0m\u001b[0;34m(\u001b[0m\u001b[0max\u001b[0m\u001b[0;34m,\u001b[0m \u001b[0mswarm\u001b[0m\u001b[0;34m,\u001b[0m \u001b[0mcenter\u001b[0m\u001b[0;34m,\u001b[0m \u001b[0mwidth\u001b[0m\u001b[0;34m,\u001b[0m \u001b[0ms\u001b[0m\u001b[0;34m,\u001b[0m \u001b[0;34m**\u001b[0m\u001b[0mkws\u001b[0m\u001b[0;34m)\u001b[0m\u001b[0;34m\u001b[0m\u001b[0;34m\u001b[0m\u001b[0m\n\u001b[0m\u001b[1;32m   1417\u001b[0m \u001b[0;34m\u001b[0m\u001b[0m\n\u001b[1;32m   1418\u001b[0m     \u001b[0;32mdef\u001b[0m \u001b[0mplot\u001b[0m\u001b[0;34m(\u001b[0m\u001b[0mself\u001b[0m\u001b[0;34m,\u001b[0m \u001b[0max\u001b[0m\u001b[0;34m,\u001b[0m \u001b[0mkws\u001b[0m\u001b[0;34m)\u001b[0m\u001b[0;34m:\u001b[0m\u001b[0;34m\u001b[0m\u001b[0;34m\u001b[0m\u001b[0m\n",
      "\u001b[0;32m/opt/homebrew/anaconda3/lib/python3.8/site-packages/seaborn/categorical.py\u001b[0m in \u001b[0;36mswarm_points\u001b[0;34m(self, ax, points, center, width, s, **kws)\u001b[0m\n\u001b[1;32m   1316\u001b[0m \u001b[0;34m\u001b[0m\u001b[0m\n\u001b[1;32m   1317\u001b[0m         \u001b[0;31m# Do the beeswarm in point coordinates\u001b[0m\u001b[0;34m\u001b[0m\u001b[0;34m\u001b[0m\u001b[0;34m\u001b[0m\u001b[0m\n\u001b[0;32m-> 1318\u001b[0;31m         \u001b[0mnew_xy\u001b[0m \u001b[0;34m=\u001b[0m \u001b[0mself\u001b[0m\u001b[0;34m.\u001b[0m\u001b[0mbeeswarm\u001b[0m\u001b[0;34m(\u001b[0m\u001b[0morig_xy\u001b[0m\u001b[0;34m,\u001b[0m \u001b[0md\u001b[0m\u001b[0;34m)\u001b[0m\u001b[0;34m\u001b[0m\u001b[0;34m\u001b[0m\u001b[0m\n\u001b[0m\u001b[1;32m   1319\u001b[0m \u001b[0;34m\u001b[0m\u001b[0m\n\u001b[1;32m   1320\u001b[0m         \u001b[0;31m# Transform the point coordinates back to data coordinates\u001b[0m\u001b[0;34m\u001b[0m\u001b[0;34m\u001b[0m\u001b[0;34m\u001b[0m\u001b[0m\n",
      "\u001b[0;32m/opt/homebrew/anaconda3/lib/python3.8/site-packages/seaborn/categorical.py\u001b[0m in \u001b[0;36mbeeswarm\u001b[0;34m(self, orig_xy, d)\u001b[0m\n\u001b[1;32m   1268\u001b[0m \u001b[0;34m\u001b[0m\u001b[0m\n\u001b[1;32m   1269\u001b[0m             \u001b[0;31m# Find the first candidate that does not overlap any neighbours\u001b[0m\u001b[0;34m\u001b[0m\u001b[0;34m\u001b[0m\u001b[0;34m\u001b[0m\u001b[0m\n\u001b[0;32m-> 1270\u001b[0;31m             new_xy_i = self.first_non_overlapping_candidate(candidates,\n\u001b[0m\u001b[1;32m   1271\u001b[0m                                                             neighbors, d)\n\u001b[1;32m   1272\u001b[0m \u001b[0;34m\u001b[0m\u001b[0m\n",
      "\u001b[0;32m/opt/homebrew/anaconda3/lib/python3.8/site-packages/seaborn/categorical.py\u001b[0m in \u001b[0;36mfirst_non_overlapping_candidate\u001b[0;34m(self, candidates, neighbors, d)\u001b[0m\n\u001b[1;32m   1233\u001b[0m             \u001b[0;31m# and any of the neighbours has to be at least\u001b[0m\u001b[0;34m\u001b[0m\u001b[0;34m\u001b[0m\u001b[0;34m\u001b[0m\u001b[0m\n\u001b[1;32m   1234\u001b[0m             \u001b[0;31m# square of the diameter\u001b[0m\u001b[0;34m\u001b[0m\u001b[0;34m\u001b[0m\u001b[0;34m\u001b[0m\u001b[0m\n\u001b[0;32m-> 1235\u001b[0;31m             \u001b[0mgood_candidate\u001b[0m \u001b[0;34m=\u001b[0m \u001b[0mnp\u001b[0m\u001b[0;34m.\u001b[0m\u001b[0mall\u001b[0m\u001b[0;34m(\u001b[0m\u001b[0msq_distances\u001b[0m \u001b[0;34m>=\u001b[0m \u001b[0md_square\u001b[0m\u001b[0;34m)\u001b[0m\u001b[0;34m\u001b[0m\u001b[0;34m\u001b[0m\u001b[0m\n\u001b[0m\u001b[1;32m   1236\u001b[0m \u001b[0;34m\u001b[0m\u001b[0m\n\u001b[1;32m   1237\u001b[0m             \u001b[0;32mif\u001b[0m \u001b[0mgood_candidate\u001b[0m\u001b[0;34m:\u001b[0m\u001b[0;34m\u001b[0m\u001b[0;34m\u001b[0m\u001b[0m\n",
      "\u001b[0;31mKeyboardInterrupt\u001b[0m: "
     ]
    },
    {
     "data": {
      "image/png": "[encoded data removed]",
      "text/plain": [
       "<Figure size 288x288 with 1 Axes>"
      ]
     },
     "metadata": {
      "needs_background": "light"
     },
     "output_type": "display_data"
    }
   ],
   "source": [
    "explore.explore_bivariate(train, 'churn', cat_vars_w_o_target, quant_vars)"
   ]
  },
  {
   "cell_type": "markdown",
   "id": "5da36676",
   "metadata": {},
   "source": [
    "#### Takeaways"
   ]
  },
  {
   "cell_type": "markdown",
   "id": "9f5a0a8a",
   "metadata": {},
   "source": [
    "### Multivariate Stats & Analysis"
   ]
  },
  {
   "cell_type": "markdown",
   "id": "2dd273ec",
   "metadata": {},
   "source": [
    "Looking at a categorical target variable, color will represent the target, and then plot two features, x and y.\n",
    "\n",
    "Use our function, explore_multivariate(train, target, cat_vars, quant_vars) to generate the following: \n",
    "- 2 grid plots (swarmplot and violinplot) of categorical variables x quantitative variables\n",
    "- a Pairplot plotting each unique pair of quantitative variables\n",
    "- a single swarmplot visualizing the values of each quantitative variable\n",
    "\n",
    "For all of these, color represents the target variable."
   ]
  },
  {
   "cell_type": "code",
   "execution_count": null,
   "id": "3bc5b9e7",
   "metadata": {},
   "outputs": [],
   "source": [
    "target = 'churn'\n",
    "\n",
    "explore.explore_multivariate(train, target, cat_vars, quant_vars)"
   ]
  },
  {
   "cell_type": "markdown",
   "id": "53bb4a07",
   "metadata": {},
   "source": [
    "#### Takeaways\n"
   ]
  },
  {
   "cell_type": "code",
   "execution_count": 51,
   "id": "0a61269a",
   "metadata": {},
   "outputs": [
    {
     "data": {
      "text/plain": [
       "<AxesSubplot:xlabel='tenure', ylabel='Density'>"
      ]
     },
     "execution_count": 51,
     "metadata": {},
     "output_type": "execute_result"
    },
    {
     "data": {
      "image/png": "[encoded data removed]",
      "text/plain": [
       "<Figure size 432x288 with 1 Axes>"
      ]
     },
     "metadata": {
      "needs_background": "light"
     },
     "output_type": "display_data"
    }
   ],
   "source": [
    "import seaborn as sns\n",
    "\n",
    "sns.distplot(df.tenure)"
   ]
  },
  {
   "cell_type": "markdown",
   "id": "b32cc978",
   "metadata": {},
   "source": [
    "# Modeling and Evaluation\n",
    "\n",
    "Plan -> Acquire -> Prepare -> Explore -> <span style='background :skyblue' > MODEL & EVALUATE </span>-> Deliver\n",
    "\n",
    "In Your Notebook\n",
    "\n",
    "You are required to establish a baseline accuracy to determine if having a model is better than no model and train and compare at least 3 different models. Document these steps well.\n",
    "\n",
    "Train (fit, transform, evaluate) multiple models, varying the algorithm and/or hyperparameters you use.\n",
    "\n",
    "Compare evaluation metrics across all the models you train and select the ones you want to evaluate using your validate dataframe.\n",
    "\n",
    "Feature Selection (optional): Are there any variables that seem to provide limited to no additional information? If so, remove them.\n",
    "\n",
    "Based on the evaluation of your models using the train and validate datasets, choose your best model that you will try with your test data, once.\n",
    "\n",
    "Test the final model on your out-of-sample data (the testing dataset), summarize the performance, interpret and document your results.\n",
    "\n"
   ]
  },
  {
   "cell_type": "markdown",
   "id": "5d649046",
   "metadata": {},
   "source": [
    "### Setup the baseline"
   ]
  },
  {
   "cell_type": "code",
   "execution_count": 68,
   "id": "22dae4a9",
   "metadata": {},
   "outputs": [
    {
     "data": {
      "text/plain": [
       "0    23134\n",
       "1     8319\n",
       "Name: churn, dtype: int64"
      ]
     },
     "execution_count": 68,
     "metadata": {},
     "output_type": "execute_result"
    }
   ],
   "source": [
    "#The most frequenly observed outcome will be our baseline\n",
    "train.churn.value_counts()"
   ]
  },
  {
   "cell_type": "code",
   "execution_count": 69,
   "id": "e805fb89",
   "metadata": {},
   "outputs": [],
   "source": [
    "#Create the  baseline\n",
    "#Because the majority did not churn, we will use 0 as our baseline\n",
    "train['baseline_pred'] = 0"
   ]
  },
  {
   "cell_type": "code",
   "execution_count": 70,
   "id": "de5b208f",
   "metadata": {},
   "outputs": [
    {
     "name": "stdout",
     "output_type": "stream",
     "text": [
      "The baseline accuracy is: 73.55%\n"
     ]
    }
   ],
   "source": [
    "#Establish baseline accuracy\n",
    "baseline_accuracy = (train.churn == train.baseline_pred).mean()\n",
    "print(f'The baseline accuracy is: {baseline_accuracy:.2%}')"
   ]
  },
  {
   "cell_type": "markdown",
   "id": "eddafdfc",
   "metadata": {},
   "source": [
    "### Decision Tree Model"
   ]
  },
  {
   "cell_type": "code",
   "execution_count": null,
   "id": "8a380115",
   "metadata": {},
   "outputs": [],
   "source": []
  },
  {
   "cell_type": "markdown",
   "id": "4963b261",
   "metadata": {},
   "source": [
    "### Random Forest Model\n",
    "   "
   ]
  },
  {
   "cell_type": "code",
   "execution_count": null,
   "id": "21ec87a9",
   "metadata": {},
   "outputs": [],
   "source": []
  },
  {
   "cell_type": "markdown",
   "id": "a61c1a72",
   "metadata": {},
   "source": [
    "### K - Nearest Neighbors Model"
   ]
  },
  {
   "cell_type": "code",
   "execution_count": null,
   "id": "ba90c951",
   "metadata": {},
   "outputs": [],
   "source": []
  },
  {
   "cell_type": "markdown",
   "id": "46a96a77",
   "metadata": {},
   "source": [
    "### Logistic Regression Model"
   ]
  },
  {
   "cell_type": "code",
   "execution_count": null,
   "id": "f07312bf",
   "metadata": {},
   "outputs": [],
   "source": []
  },
  {
   "cell_type": "code",
   "execution_count": null,
   "id": "2fd84cc3",
   "metadata": {},
   "outputs": [],
   "source": []
  },
  {
   "cell_type": "markdown",
   "id": "07904568",
   "metadata": {},
   "source": [
    "# Delivery\n",
    "\n",
    "Plan -> Acquire -> Prepare -> Explore -> Model & Evaluate -> <span style='background :skyblue' > DELIVER </span>\n",
    "\n",
    "Introduce yourself and your project goals at the very beginning of your notebook walkthrough.\n",
    "\n",
    "Summarize your findings at the beginning like you would for an Executive Summary. Just because you don't have a slide deck for this presentation, doesn't mean you throw out everything you learned from Storytelling.\n",
    "\n",
    "Walk us through the analysis you did to answer our questions and that lead to your findings. Relationships should be visualized and takeaways documented. Please clearly call out the questions and answers you are analyzing as well as offer insights and recommendations based on your findings.\n",
    "\n",
    "For example: If you find that month-to-month customers churn more, we won't be surprised, but Telco is not getting rid of that plan. The fact that customers churn is not because they can; it's because they can and they are motivated to do so. We want your insights into why they are motivated to do so. We realize you will not be able to do a full causal experiment, but we would like to see some solid evidence of your conclusions.\n",
    "\n",
    "Finish with key takeaways, recommendations, and next steps and be prepared to answer questions from the data science team about your project.\n",
    "\n",
    "Remember you have a time limit of 5 minutes for your presentation. Make sure you practice your notebook walkthrough keeping this time limit in mind; it will go by very quickly."
   ]
  },
  {
   "cell_type": "code",
   "execution_count": null,
   "id": "2a38e68c",
   "metadata": {},
   "outputs": [],
   "source": []
  }
 ],
 "metadata": {
  "kernelspec": {
   "display_name": "Python 3",
   "language": "python",
   "name": "python3"
  },
  "language_info": {
   "codemirror_mode": {
    "name": "ipython",
    "version": 3
   },
   "file_extension": ".py",
   "mimetype": "text/x-python",
   "name": "python",
   "nbconvert_exporter": "python",
   "pygments_lexer": "ipython3",
   "version": "3.8.8"
  }
 },
 "nbformat": 4,
 "nbformat_minor": 5
}
